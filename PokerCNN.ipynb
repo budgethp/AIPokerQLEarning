{
 "cells": [
  {
   "cell_type": "code",
   "execution_count": 37,
   "id": "779b5894",
   "metadata": {},
   "outputs": [
    {
     "name": "stdout",
     "output_type": "stream",
     "text": [
      "Running verification test...\n",
      "Verification test passed!\n",
      "\n",
      "Training on: cpu\n"
     ]
    },
    {
     "name": "stderr",
     "output_type": "stream",
     "text": [
      "Training:   0%|          | 120/100000 [00:00<01:23, 1193.73it/s]"
     ]
    },
    {
     "name": "stdout",
     "output_type": "stream",
     "text": [
      "Memory: 0/2000\n",
      "\n",
      "Episode 0:\n",
      "Epsilon: 1.000\n",
      "Memory sizes: [1, 1, 1, 0]\n",
      "Recent rewards: [-1.0, -1.0, -1.0, 0]\n",
      "\n",
      "Episode 100:\n",
      "Epsilon: 1.000\n",
      "Memory sizes: [176, 150, 136, 127]\n",
      "Recent rewards: [-0.2835671203177035, -0.43962533374235563, -0.21535415460696097, -0.2685120217605624]\n",
      "\n",
      "Episode 200:\n",
      "Epsilon: 1.000\n",
      "Memory sizes: [350, 307, 268, 246]\n",
      "Recent rewards: [-0.24547684626103516, -0.37558375679293454, -0.1236592679834844, -0.28768312171111204]\n"
     ]
    },
    {
     "name": "stderr",
     "output_type": "stream",
     "text": [
      "Training:   1%|          | 562/100000 [00:00<01:08, 1450.39it/s]"
     ]
    },
    {
     "name": "stdout",
     "output_type": "stream",
     "text": [
      "\n",
      "Episode 300:\n",
      "Epsilon: 1.000\n",
      "Memory sizes: [528, 475, 410, 360]\n",
      "Recent rewards: [-0.31601362658221777, -0.3805114699967569, -0.3771781699716142, -0.16912944371801156]\n",
      "Memory: 500/2000\n",
      "Memory: 500/2000\n",
      "\n",
      "Episode 400:\n",
      "Epsilon: 1.000\n",
      "Memory sizes: [710, 650, 543, 475]\n",
      "Recent rewards: [-0.32319567811434824, -0.25442585120242583, -0.15606609644936192, -0.07525045109737986]\n",
      "Memory: 500/2000\n",
      "\n",
      "Episode 500:\n",
      "Epsilon: 1.000\n",
      "Memory sizes: [880, 812, 677, 597]\n",
      "Recent rewards: [-0.29391647048292335, -0.2803341963693716, -0.22767782769508543, -0.1865788938485174]\n",
      "\n",
      "Episode 600:\n",
      "Epsilon: 1.000\n",
      "Memory sizes: [1054, 978, 812, 712]\n",
      "Recent rewards: [-0.4265148816386582, -0.34784616568629617, -0.26305948829642556, -0.24911458981862847]\n"
     ]
    },
    {
     "name": "stderr",
     "output_type": "stream",
     "text": [
      "Training:   1%|          | 870/100000 [00:00<01:06, 1498.82it/s]"
     ]
    },
    {
     "name": "stdout",
     "output_type": "stream",
     "text": [
      "\n",
      "Episode 700:\n",
      "Epsilon: 1.000\n",
      "Memory sizes: [1218, 1133, 942, 846]\n",
      "Recent rewards: [-0.28940459042651767, -0.33455209729165813, -0.30281174182110715, -0.2989318681834574]\n",
      "Memory: 1000/2000\n",
      "\n",
      "Episode 800:\n",
      "Epsilon: 1.000\n",
      "Memory sizes: [1393, 1291, 1078, 978]\n",
      "Recent rewards: [-0.3618462636121841, -0.21501417003274648, -0.2807646651370355, -0.2642766104228425]\n",
      "Memory: 1500/2000\n",
      "\n",
      "Episode 900:\n",
      "Epsilon: 1.000\n",
      "Memory sizes: [1558, 1449, 1212, 1112]\n",
      "Recent rewards: [-0.20393512160836635, -0.33500831102559653, -0.37384393845970765, -0.09773100809415668]\n",
      "Memory: 1500/2000\n",
      "\n",
      "Episode 1000:\n",
      "Epsilon: 1.000\n",
      "Memory sizes: [1732, 1609, 1354, 1236]\n",
      "Recent rewards: [-0.3476254634632883, -0.24731037855996604, -0.21649440308512136, -0.2253757847369241]\n"
     ]
    },
    {
     "name": "stderr",
     "output_type": "stream",
     "text": [
      "Training:   1%|          | 1028/100000 [00:00<01:05, 1517.76it/s]"
     ]
    },
    {
     "name": "stdout",
     "output_type": "stream",
     "text": [
      "\n",
      "Episode 1100:\n",
      "Epsilon: 1.000\n",
      "Memory sizes: [1918, 1765, 1482, 1354]\n",
      "Recent rewards: [-0.27960219472178294, -0.36880611550902587, -0.2895756642506906, -0.25048648585761685]\n",
      "Memory: 1500/2000\n"
     ]
    },
    {
     "name": "stderr",
     "output_type": "stream",
     "text": [
      "Training:   1%|          | 1180/100000 [00:01<02:19, 706.55it/s] "
     ]
    },
    {
     "name": "stdout",
     "output_type": "stream",
     "text": [
      "\n",
      "Episode 1200:\n",
      "Epsilon: 0.974\n",
      "Memory sizes: [2087, 1922, 1615, 1478]\n",
      "Recent rewards: [-0.3264895067634702, -0.19267645515360246, -0.2677291687756614, -0.28744965814760204]\n",
      "Memory: 1500/2000\n",
      "Memory: 1500/2000\n",
      "Memory: 1500/2000\n"
     ]
    },
    {
     "name": "stderr",
     "output_type": "stream",
     "text": [
      "Training:   1%|▏         | 1294/100000 [00:03<08:42, 188.84it/s]"
     ]
    },
    {
     "name": "stdout",
     "output_type": "stream",
     "text": [
      "\n",
      "Episode 1300:\n",
      "Epsilon: 0.927\n",
      "Memory sizes: [2260, 2088, 1752, 1604]\n",
      "Recent rewards: [-0.23308506352297645, -0.30736048114111947, -0.22220643699755968, -0.03489882532582139]\n"
     ]
    },
    {
     "name": "stderr",
     "output_type": "stream",
     "text": [
      "Training:   1%|▏         | 1375/100000 [00:04<14:49, 110.84it/s]"
     ]
    },
    {
     "name": "stdout",
     "output_type": "stream",
     "text": [
      "\n",
      "Episode 1400:\n",
      "Epsilon: 0.882\n",
      "Memory sizes: [2444, 2242, 1891, 1734]\n",
      "Recent rewards: [-0.22391366890510647, -0.2824386521963604, -0.33514089885627735, -0.166491014912517]\n"
     ]
    },
    {
     "name": "stderr",
     "output_type": "stream",
     "text": [
      "Training:   2%|▏         | 1503/100000 [00:08<26:19, 62.35it/s] "
     ]
    },
    {
     "name": "stdout",
     "output_type": "stream",
     "text": [
      "\n",
      "Episode 1500:\n",
      "Epsilon: 0.839\n",
      "Memory sizes: [2624, 2404, 2034, 1877]\n",
      "Recent rewards: [-0.08327226631611256, -0.22700922777201346, -0.2104278360202834, -0.3237377879862008]\n"
     ]
    },
    {
     "name": "stderr",
     "output_type": "stream",
     "text": [
      "Training:   2%|▏         | 1603/100000 [00:12<1:02:05, 26.41it/s]"
     ]
    },
    {
     "name": "stdout",
     "output_type": "stream",
     "text": [
      "\n",
      "Episode 1600:\n",
      "Epsilon: 0.798\n",
      "Memory sizes: [2831, 2583, 2181, 2029]\n",
      "Recent rewards: [-0.49145941982130403, -0.2695689552213015, -0.1395969243985637, -0.37829357323642543]\n"
     ]
    },
    {
     "name": "stderr",
     "output_type": "stream",
     "text": [
      "Training:   2%|▏         | 1705/100000 [00:16<1:14:41, 21.93it/s]"
     ]
    },
    {
     "name": "stdout",
     "output_type": "stream",
     "text": [
      "\n",
      "Episode 1700:\n",
      "Epsilon: 0.759\n",
      "Memory sizes: [3016, 2769, 2321, 2164]\n",
      "Recent rewards: [-0.27338461533301794, -0.3051621281379756, -0.27234405302361536, -0.1799847209678949]\n"
     ]
    },
    {
     "name": "stderr",
     "output_type": "stream",
     "text": [
      "Training:   2%|▏         | 1804/100000 [00:21<1:21:43, 20.03it/s]"
     ]
    },
    {
     "name": "stdout",
     "output_type": "stream",
     "text": [
      "\n",
      "Episode 1800:\n",
      "Epsilon: 0.722\n",
      "Memory sizes: [3230, 2977, 2470, 2315]\n",
      "Recent rewards: [-0.36604237163044145, -0.5391049842729541, -0.28635069735596574, -0.11394495776966206]\n"
     ]
    },
    {
     "name": "stderr",
     "output_type": "stream",
     "text": [
      "Training:   2%|▏         | 1903/100000 [00:26<1:18:16, 20.89it/s]"
     ]
    },
    {
     "name": "stdout",
     "output_type": "stream",
     "text": [
      "\n",
      "Episode 1900:\n",
      "Epsilon: 0.687\n",
      "Memory sizes: [3421, 3161, 2613, 2453]\n",
      "Recent rewards: [-0.1944148559206447, -0.5041607096476217, -0.15180220561883817, -0.2396936954522512]\n"
     ]
    },
    {
     "name": "stderr",
     "output_type": "stream",
     "text": [
      "Training:   2%|▏         | 2003/100000 [00:31<1:19:27, 20.56it/s]"
     ]
    },
    {
     "name": "stdout",
     "output_type": "stream",
     "text": [
      "\n",
      "Episode 2000:\n",
      "Epsilon: 0.653\n",
      "Memory sizes: [3631, 3355, 2777, 2596]\n",
      "Recent rewards: [-0.200240556049637, -0.5103816109996021, -0.1926049326403218, -0.3655244375267334]\n"
     ]
    },
    {
     "name": "stderr",
     "output_type": "stream",
     "text": [
      "Training:   2%|▏         | 2103/100000 [00:36<1:19:48, 20.45it/s]"
     ]
    },
    {
     "name": "stdout",
     "output_type": "stream",
     "text": [
      "\n",
      "Episode 2100:\n",
      "Epsilon: 0.621\n",
      "Memory sizes: [3867, 3554, 2954, 2753]\n",
      "Recent rewards: [-0.2647954540511758, -0.2973621080250785, -0.24670377199207846, -0.2696511468166271]\n"
     ]
    },
    {
     "name": "stderr",
     "output_type": "stream",
     "text": [
      "Training:   2%|▏         | 2204/100000 [00:41<1:24:13, 19.35it/s]"
     ]
    },
    {
     "name": "stdout",
     "output_type": "stream",
     "text": [
      "\n",
      "Episode 2200:\n",
      "Epsilon: 0.591\n",
      "Memory sizes: [4087, 3752, 3103, 2884]\n",
      "Recent rewards: [-0.41756434847312657, -0.4032662702957067, -0.24399258205172433, -0.26325517851240915]\n"
     ]
    },
    {
     "name": "stderr",
     "output_type": "stream",
     "text": [
      "Training:   2%|▏         | 2303/100000 [00:46<1:29:25, 18.21it/s]"
     ]
    },
    {
     "name": "stdout",
     "output_type": "stream",
     "text": [
      "\n",
      "Episode 2300:\n",
      "Epsilon: 0.562\n",
      "Memory sizes: [4322, 3959, 3267, 3034]\n",
      "Recent rewards: [-0.3155008457876444, -0.2541197334180426, -0.30431017190442017, -0.13484575785844133]\n"
     ]
    },
    {
     "name": "stderr",
     "output_type": "stream",
     "text": [
      "Training:   2%|▏         | 2403/100000 [00:51<1:18:27, 20.73it/s]"
     ]
    },
    {
     "name": "stdout",
     "output_type": "stream",
     "text": [
      "\n",
      "Episode 2400:\n",
      "Epsilon: 0.535\n",
      "Memory sizes: [4569, 4188, 3450, 3201]\n",
      "Recent rewards: [-0.38216948050204486, -0.34180346665685835, -0.21660377970183792, -0.29802924050844526]\n"
     ]
    },
    {
     "name": "stderr",
     "output_type": "stream",
     "text": [
      "Training:   3%|▎         | 2503/100000 [00:56<1:25:00, 19.11it/s]"
     ]
    },
    {
     "name": "stdout",
     "output_type": "stream",
     "text": [
      "\n",
      "Episode 2500:\n",
      "Epsilon: 0.509\n",
      "Memory sizes: [4813, 4416, 3630, 3344]\n",
      "Recent rewards: [-0.3374433111066945, -0.25362431459953455, -0.08607810170561063, -0.35014452711053823]\n"
     ]
    },
    {
     "name": "stderr",
     "output_type": "stream",
     "text": [
      "Training:   3%|▎         | 2604/100000 [01:01<1:26:55, 18.67it/s]"
     ]
    },
    {
     "name": "stdout",
     "output_type": "stream",
     "text": [
      "\n",
      "Episode 2600:\n",
      "Epsilon: 0.484\n",
      "Memory sizes: [5057, 4655, 3837, 3515]\n",
      "Recent rewards: [-0.2906457097753207, -0.38735648974356607, -0.06261617235654085, -0.29217025221748577]\n"
     ]
    },
    {
     "name": "stderr",
     "output_type": "stream",
     "text": [
      "Training:   3%|▎         | 2703/100000 [01:07<1:49:06, 14.86it/s]"
     ]
    },
    {
     "name": "stdout",
     "output_type": "stream",
     "text": [
      "\n",
      "Episode 2700:\n",
      "Epsilon: 0.460\n",
      "Memory sizes: [5330, 4913, 4030, 3700]\n",
      "Recent rewards: [-0.383718875490892, -0.4138069514921534, -0.37733258961684407, -0.21916937436872996]\n"
     ]
    },
    {
     "name": "stderr",
     "output_type": "stream",
     "text": [
      "Training:   3%|▎         | 2803/100000 [01:13<1:29:42, 18.06it/s]"
     ]
    },
    {
     "name": "stdout",
     "output_type": "stream",
     "text": [
      "\n",
      "Episode 2800:\n",
      "Epsilon: 0.438\n",
      "Memory sizes: [5606, 5145, 4230, 3882]\n",
      "Recent rewards: [-0.3683601066256965, -0.3511310112481023, -0.19103357369712612, -0.19221884986418317]\n"
     ]
    },
    {
     "name": "stderr",
     "output_type": "stream",
     "text": [
      "Training:   3%|▎         | 2904/100000 [01:18<1:20:35, 20.08it/s]"
     ]
    },
    {
     "name": "stdout",
     "output_type": "stream",
     "text": [
      "\n",
      "Episode 2900:\n",
      "Epsilon: 0.416\n",
      "Memory sizes: [5875, 5391, 4475, 4091]\n",
      "Recent rewards: [-0.1764099548125012, -0.32314517842671575, -0.24818097495108574, -0.36734921135161713]\n"
     ]
    },
    {
     "name": "stderr",
     "output_type": "stream",
     "text": [
      "Training:   3%|▎         | 3004/100000 [01:23<1:21:47, 19.77it/s]"
     ]
    },
    {
     "name": "stdout",
     "output_type": "stream",
     "text": [
      "\n",
      "Episode 3000:\n",
      "Epsilon: 0.396\n",
      "Memory sizes: [6153, 5660, 4706, 4276]\n",
      "Recent rewards: [-0.3627874950329391, -0.4351187593191617, -0.2942249464581619, -0.282828440151485]\n"
     ]
    },
    {
     "name": "stderr",
     "output_type": "stream",
     "text": [
      "Training:   3%|▎         | 3105/100000 [01:28<1:21:25, 19.83it/s]"
     ]
    },
    {
     "name": "stdout",
     "output_type": "stream",
     "text": [
      "\n",
      "Episode 3100:\n",
      "Epsilon: 0.377\n",
      "Memory sizes: [6425, 5913, 4934, 4454]\n",
      "Recent rewards: [-0.43387715402264954, -0.3068267730622457, -0.24235121722422498, -0.15833357098271628]\n"
     ]
    },
    {
     "name": "stderr",
     "output_type": "stream",
     "text": [
      "Training:   3%|▎         | 3204/100000 [01:33<1:21:29, 19.80it/s]"
     ]
    },
    {
     "name": "stdout",
     "output_type": "stream",
     "text": [
      "\n",
      "Episode 3200:\n",
      "Epsilon: 0.358\n",
      "Memory sizes: [6703, 6164, 5144, 4651]\n",
      "Recent rewards: [-0.19146902126376297, -0.2812320333718852, -0.27176717755597724, -0.22259918433794706]\n"
     ]
    },
    {
     "name": "stderr",
     "output_type": "stream",
     "text": [
      "Training:   3%|▎         | 3305/100000 [01:38<1:25:29, 18.85it/s]"
     ]
    },
    {
     "name": "stdout",
     "output_type": "stream",
     "text": [
      "\n",
      "Episode 3300:\n",
      "Epsilon: 0.341\n",
      "Memory sizes: [7026, 6474, 5392, 4855]\n",
      "Recent rewards: [-0.2915810469311666, -0.3568358898489666, -0.2855146849930058, -0.22710097575926688]\n"
     ]
    },
    {
     "name": "stderr",
     "output_type": "stream",
     "text": [
      "Training:   3%|▎         | 3403/100000 [01:44<1:25:44, 18.78it/s]"
     ]
    },
    {
     "name": "stdout",
     "output_type": "stream",
     "text": [
      "\n",
      "Episode 3400:\n",
      "Epsilon: 0.324\n",
      "Memory sizes: [7353, 6792, 5620, 5087]\n",
      "Recent rewards: [-0.2704530469187152, -0.299627422713823, -0.24275192662085884, -0.3952012341014168]\n"
     ]
    },
    {
     "name": "stderr",
     "output_type": "stream",
     "text": [
      "Training:   4%|▎         | 3502/100000 [01:49<1:24:55, 18.94it/s]"
     ]
    },
    {
     "name": "stdout",
     "output_type": "stream",
     "text": [
      "\n",
      "Episode 3500:\n",
      "Epsilon: 0.308\n",
      "Memory sizes: [7666, 7105, 5873, 5346]\n",
      "Recent rewards: [-0.31625063690744987, -0.3792127169457602, -0.335411789501808, -0.18566310567466254]\n"
     ]
    },
    {
     "name": "stderr",
     "output_type": "stream",
     "text": [
      "Training:   4%|▎         | 3603/100000 [01:54<1:28:06, 18.23it/s]"
     ]
    },
    {
     "name": "stdout",
     "output_type": "stream",
     "text": [
      "\n",
      "Episode 3600:\n",
      "Epsilon: 0.293\n",
      "Memory sizes: [7984, 7441, 6127, 5565]\n",
      "Recent rewards: [-0.2792486799719242, -0.33948836974506996, -0.15958445346387354, -0.2882501535330917]\n"
     ]
    },
    {
     "name": "stderr",
     "output_type": "stream",
     "text": [
      "Training:   4%|▎         | 3704/100000 [01:59<1:21:08, 19.78it/s]"
     ]
    },
    {
     "name": "stdout",
     "output_type": "stream",
     "text": [
      "\n",
      "Episode 3700:\n",
      "Epsilon: 0.279\n",
      "Memory sizes: [8299, 7771, 6402, 5788]\n",
      "Recent rewards: [-0.28289198335954086, -0.2773052643467697, -0.2500677981012581, -0.14836110891913332]\n"
     ]
    },
    {
     "name": "stderr",
     "output_type": "stream",
     "text": [
      "Training:   4%|▍         | 3805/100000 [02:05<1:23:08, 19.29it/s]"
     ]
    },
    {
     "name": "stdout",
     "output_type": "stream",
     "text": [
      "\n",
      "Episode 3800:\n",
      "Epsilon: 0.265\n",
      "Memory sizes: [8705, 8143, 6697, 5989]\n",
      "Recent rewards: [-0.22423399393999183, -0.3292260877588138, -0.2823871537101397, -0.277548557528661]\n"
     ]
    },
    {
     "name": "stderr",
     "output_type": "stream",
     "text": [
      "Training:   4%|▍         | 3903/100000 [02:10<1:24:10, 19.03it/s]"
     ]
    },
    {
     "name": "stdout",
     "output_type": "stream",
     "text": [
      "\n",
      "Episode 3900:\n",
      "Epsilon: 0.252\n",
      "Memory sizes: [9093, 8497, 6995, 6219]\n",
      "Recent rewards: [-0.37248585741186646, -0.2348225159955963, -0.4382698703888105, -0.14760734765246944]\n"
     ]
    },
    {
     "name": "stderr",
     "output_type": "stream",
     "text": [
      "Training:   4%|▍         | 4005/100000 [02:16<1:23:49, 19.08it/s]"
     ]
    },
    {
     "name": "stdout",
     "output_type": "stream",
     "text": [
      "\n",
      "Episode 4000:\n",
      "Epsilon: 0.240\n",
      "Memory sizes: [9487, 8838, 7273, 6426]\n",
      "Recent rewards: [-0.2465561591074717, -0.2921165747363447, -0.3744834388156295, -0.25058085866380914]\n"
     ]
    },
    {
     "name": "stderr",
     "output_type": "stream",
     "text": [
      "Training:   4%|▍         | 4102/100000 [02:21<1:22:09, 19.46it/s]"
     ]
    },
    {
     "name": "stdout",
     "output_type": "stream",
     "text": [
      "\n",
      "Episode 4100:\n",
      "Epsilon: 0.228\n",
      "Memory sizes: [9858, 9152, 7571, 6621]\n",
      "Recent rewards: [-0.1085640702858977, -0.43451004609473876, -0.33906348523175694, -0.2701972977999214]\n"
     ]
    },
    {
     "name": "stderr",
     "output_type": "stream",
     "text": [
      "Training:   4%|▍         | 4204/100000 [02:27<1:27:14, 18.30it/s]"
     ]
    },
    {
     "name": "stdout",
     "output_type": "stream",
     "text": [
      "\n",
      "Episode 4200:\n",
      "Epsilon: 0.217\n",
      "Memory sizes: [10258, 9500, 7884, 6835]\n",
      "Recent rewards: [-0.2872497925462969, -0.3368257266032926, -0.2534046736550844, -0.22692394290538043]\n"
     ]
    },
    {
     "name": "stderr",
     "output_type": "stream",
     "text": [
      "Training:   4%|▍         | 4305/100000 [02:32<1:24:02, 18.98it/s]"
     ]
    },
    {
     "name": "stdout",
     "output_type": "stream",
     "text": [
      "\n",
      "Episode 4300:\n",
      "Epsilon: 0.207\n",
      "Memory sizes: [10547, 9845, 8181, 7061]\n",
      "Recent rewards: [-0.2684941447756382, -0.1770995481676353, -0.4772034887953512, -0.2445788453859954]\n"
     ]
    },
    {
     "name": "stderr",
     "output_type": "stream",
     "text": [
      "Training:   4%|▍         | 4405/100000 [02:38<1:20:51, 19.70it/s]"
     ]
    },
    {
     "name": "stdout",
     "output_type": "stream",
     "text": [
      "\n",
      "Episode 4400:\n",
      "Epsilon: 0.197\n",
      "Memory sizes: [10957, 10190, 8471, 7243]\n",
      "Recent rewards: [-0.22163657601731754, -0.2079755879458019, -0.41130491023182786, -0.09008618739891366]\n"
     ]
    },
    {
     "name": "stderr",
     "output_type": "stream",
     "text": [
      "Training:   5%|▍         | 4503/100000 [02:43<1:19:41, 19.97it/s]"
     ]
    },
    {
     "name": "stdout",
     "output_type": "stream",
     "text": [
      "\n",
      "Episode 4500:\n",
      "Epsilon: 0.187\n",
      "Memory sizes: [11283, 10523, 8748, 7474]\n",
      "Recent rewards: [-0.3535221929686466, -0.22267817248911342, -0.2992505529479932, -0.2096728374641731]\n"
     ]
    },
    {
     "name": "stderr",
     "output_type": "stream",
     "text": [
      "Training:   5%|▍         | 4605/100000 [02:48<1:22:56, 19.17it/s]"
     ]
    },
    {
     "name": "stdout",
     "output_type": "stream",
     "text": [
      "\n",
      "Episode 4600:\n",
      "Epsilon: 0.178\n",
      "Memory sizes: [11677, 10855, 9080, 7691]\n",
      "Recent rewards: [-0.32232375942814045, -0.07724298898145734, -0.47826349275710867, -0.09849547247957323]\n"
     ]
    },
    {
     "name": "stderr",
     "output_type": "stream",
     "text": [
      "Training:   5%|▍         | 4703/100000 [02:53<1:23:29, 19.02it/s]"
     ]
    },
    {
     "name": "stdout",
     "output_type": "stream",
     "text": [
      "\n",
      "Episode 4700:\n",
      "Epsilon: 0.169\n",
      "Memory sizes: [12060, 11146, 9392, 7933]\n",
      "Recent rewards: [-0.24504856095083113, -0.3482989981845078, -0.2798395768572428, -0.12012931282807314]\n"
     ]
    },
    {
     "name": "stderr",
     "output_type": "stream",
     "text": [
      "Training:   5%|▍         | 4803/100000 [02:58<1:22:35, 19.21it/s]"
     ]
    },
    {
     "name": "stdout",
     "output_type": "stream",
     "text": [
      "\n",
      "Episode 4800:\n",
      "Epsilon: 0.161\n",
      "Memory sizes: [12425, 11460, 9687, 8124]\n",
      "Recent rewards: [-0.20808905025515906, -0.26594988421527554, -0.3453090964750843, -0.06280714243902955]\n"
     ]
    },
    {
     "name": "stderr",
     "output_type": "stream",
     "text": [
      "Training:   5%|▍         | 4903/100000 [03:04<1:22:27, 19.22it/s]"
     ]
    },
    {
     "name": "stdout",
     "output_type": "stream",
     "text": [
      "\n",
      "Episode 4900:\n",
      "Epsilon: 0.153\n",
      "Memory sizes: [12801, 11768, 9957, 8306]\n",
      "Recent rewards: [-0.45832487205377825, -0.2713493959613324, -0.2564227639345985, -0.11411047240157197]\n"
     ]
    },
    {
     "name": "stderr",
     "output_type": "stream",
     "text": [
      "Training:   5%|▌         | 5004/100000 [03:09<1:24:04, 18.83it/s]"
     ]
    },
    {
     "name": "stdout",
     "output_type": "stream",
     "text": [
      "\n",
      "Episode 5000:\n",
      "Epsilon: 0.146\n",
      "Memory sizes: [13155, 12090, 10286, 8521]\n",
      "Recent rewards: [-0.32016480047741114, -0.2754647451172233, -0.3542962091882207, -0.1755672542428929]\n"
     ]
    },
    {
     "name": "stderr",
     "output_type": "stream",
     "text": [
      "Training:   5%|▌         | 5102/100000 [03:14<1:23:52, 18.86it/s]"
     ]
    },
    {
     "name": "stdout",
     "output_type": "stream",
     "text": [
      "\n",
      "Episode 5100:\n",
      "Epsilon: 0.139\n",
      "Memory sizes: [13505, 12365, 10566, 8729]\n",
      "Recent rewards: [-0.3585592162072297, -0.29267355079429974, -0.07892377517920698, -0.08909681444941231]\n"
     ]
    },
    {
     "name": "stderr",
     "output_type": "stream",
     "text": [
      "Training:   5%|▌         | 5203/100000 [03:20<1:25:59, 18.37it/s]"
     ]
    },
    {
     "name": "stdout",
     "output_type": "stream",
     "text": [
      "\n",
      "Episode 5200:\n",
      "Epsilon: 0.132\n",
      "Memory sizes: [13861, 12686, 10872, 8960]\n",
      "Recent rewards: [-0.3403973315324303, -0.16867402526185374, -0.2012477626819306, -0.10521691840409166]\n"
     ]
    },
    {
     "name": "stderr",
     "output_type": "stream",
     "text": [
      "Training:   5%|▌         | 5303/100000 [03:25<1:25:55, 18.37it/s]"
     ]
    },
    {
     "name": "stdout",
     "output_type": "stream",
     "text": [
      "\n",
      "Episode 5300:\n",
      "Epsilon: 0.125\n",
      "Memory sizes: [14306, 12969, 11258, 9214]\n",
      "Recent rewards: [-0.15964175253725454, -0.25175826908540844, -0.41386090962487443, -0.1154291535295011]\n"
     ]
    },
    {
     "name": "stderr",
     "output_type": "stream",
     "text": [
      "Training:   5%|▌         | 5403/100000 [03:30<1:22:24, 19.13it/s]"
     ]
    },
    {
     "name": "stdout",
     "output_type": "stream",
     "text": [
      "\n",
      "Episode 5400:\n",
      "Epsilon: 0.119\n",
      "Memory sizes: [14676, 13212, 11605, 9480]\n",
      "Recent rewards: [-0.33336007171518495, -0.12269947435589879, -0.2821530635715456, -0.1558348271356166]\n"
     ]
    },
    {
     "name": "stderr",
     "output_type": "stream",
     "text": [
      "Training:   6%|▌         | 5504/100000 [03:36<1:27:27, 18.01it/s]"
     ]
    },
    {
     "name": "stdout",
     "output_type": "stream",
     "text": [
      "\n",
      "Episode 5500:\n",
      "Epsilon: 0.113\n",
      "Memory sizes: [15077, 13424, 11936, 9782]\n",
      "Recent rewards: [-0.3002832852967787, -0.14469413777180815, -0.15260472818232876, -0.1451173217800241]\n"
     ]
    },
    {
     "name": "stderr",
     "output_type": "stream",
     "text": [
      "Training:   6%|▌         | 5604/100000 [03:42<1:35:16, 16.51it/s]"
     ]
    },
    {
     "name": "stdout",
     "output_type": "stream",
     "text": [
      "\n",
      "Episode 5600:\n",
      "Epsilon: 0.108\n",
      "Memory sizes: [15403, 13753, 12237, 10063]\n",
      "Recent rewards: [-0.2886431931620097, -0.21297648743902614, -0.2654607701865606, -0.3439720853699007]\n"
     ]
    },
    {
     "name": "stderr",
     "output_type": "stream",
     "text": [
      "Training:   6%|▌         | 5704/100000 [03:47<1:18:18, 20.07it/s]"
     ]
    },
    {
     "name": "stdout",
     "output_type": "stream",
     "text": [
      "\n",
      "Episode 5700:\n",
      "Epsilon: 0.103\n",
      "Memory sizes: [15832, 13993, 12555, 10423]\n",
      "Recent rewards: [-0.22792653908937144, -0.269504580756329, -0.10176661160105556, -0.25074765912368435]\n"
     ]
    },
    {
     "name": "stderr",
     "output_type": "stream",
     "text": [
      "Training:   6%|▌         | 5803/100000 [03:52<1:26:06, 18.23it/s]"
     ]
    },
    {
     "name": "stdout",
     "output_type": "stream",
     "text": [
      "\n",
      "Episode 5800:\n",
      "Epsilon: 0.100\n",
      "Memory sizes: [16245, 14276, 12831, 10692]\n",
      "Recent rewards: [-0.43641816457962856, -0.34049239791792874, -0.22784866649173807, 0.0017340748813005349]\n"
     ]
    },
    {
     "name": "stderr",
     "output_type": "stream",
     "text": [
      "Training:   6%|▌         | 5903/100000 [03:58<1:30:03, 17.41it/s]"
     ]
    },
    {
     "name": "stdout",
     "output_type": "stream",
     "text": [
      "\n",
      "Episode 5900:\n",
      "Epsilon: 0.100\n",
      "Memory sizes: [16631, 14563, 13157, 10960]\n",
      "Recent rewards: [-0.2551386027512954, -0.29018376928399386, -0.2607604749549772, -0.11387926098401488]\n"
     ]
    },
    {
     "name": "stderr",
     "output_type": "stream",
     "text": [
      "Training:   6%|▌         | 6004/100000 [04:03<1:25:16, 18.37it/s]"
     ]
    },
    {
     "name": "stdout",
     "output_type": "stream",
     "text": [
      "\n",
      "Episode 6000:\n",
      "Epsilon: 0.100\n",
      "Memory sizes: [16993, 14839, 13491, 11237]\n",
      "Recent rewards: [-0.32274838228021807, -0.1821056363510434, -0.17118548079669652, -0.07569572974144893]\n"
     ]
    },
    {
     "name": "stderr",
     "output_type": "stream",
     "text": [
      "Training:   6%|▌         | 6104/100000 [04:09<1:31:12, 17.16it/s]"
     ]
    },
    {
     "name": "stdout",
     "output_type": "stream",
     "text": [
      "\n",
      "Episode 6100:\n",
      "Epsilon: 0.100\n",
      "Memory sizes: [17405, 15099, 13841, 11502]\n",
      "Recent rewards: [-0.3373877227669202, -0.1600548539541981, -0.25276216029380993, -0.0622110341089454]\n"
     ]
    },
    {
     "name": "stderr",
     "output_type": "stream",
     "text": [
      "Training:   6%|▌         | 6205/100000 [04:15<1:28:03, 17.75it/s]"
     ]
    },
    {
     "name": "stdout",
     "output_type": "stream",
     "text": [
      "\n",
      "Episode 6200:\n",
      "Epsilon: 0.100\n",
      "Memory sizes: [17828, 15257, 14214, 11863]\n",
      "Recent rewards: [-0.39212031765044814, -0.10632905009136469, -0.2646069859769345, -0.06536886554279832]\n"
     ]
    },
    {
     "name": "stderr",
     "output_type": "stream",
     "text": [
      "Training:   6%|▋         | 6304/100000 [04:20<1:21:19, 19.20it/s]"
     ]
    },
    {
     "name": "stdout",
     "output_type": "stream",
     "text": [
      "\n",
      "Episode 6300:\n",
      "Epsilon: 0.100\n",
      "Memory sizes: [18197, 15438, 14597, 12174]\n",
      "Recent rewards: [-0.32619731956667974, -0.04383641032200911, -0.2961034947664305, -0.021489937604720656]\n"
     ]
    },
    {
     "name": "stderr",
     "output_type": "stream",
     "text": [
      "Training:   6%|▋         | 6404/100000 [04:25<1:19:02, 19.73it/s]"
     ]
    },
    {
     "name": "stdout",
     "output_type": "stream",
     "text": [
      "\n",
      "Episode 6400:\n",
      "Epsilon: 0.100\n",
      "Memory sizes: [18571, 15635, 14953, 12499]\n",
      "Recent rewards: [-0.122889787365354, -0.13845093739593273, -0.4450318072013751, -0.10718341761969147]\n"
     ]
    },
    {
     "name": "stderr",
     "output_type": "stream",
     "text": [
      "Training:   7%|▋         | 6505/100000 [04:31<1:17:52, 20.01it/s]"
     ]
    },
    {
     "name": "stdout",
     "output_type": "stream",
     "text": [
      "\n",
      "Episode 6500:\n",
      "Epsilon: 0.100\n",
      "Memory sizes: [18930, 15814, 15253, 12782]\n",
      "Recent rewards: [-0.5108655824882203, -0.06523857445687815, -0.053332493011627236, -0.1308289085659768]\n"
     ]
    },
    {
     "name": "stderr",
     "output_type": "stream",
     "text": [
      "Training:   7%|▋         | 6604/100000 [04:36<1:18:54, 19.73it/s]"
     ]
    },
    {
     "name": "stdout",
     "output_type": "stream",
     "text": [
      "\n",
      "Episode 6600:\n",
      "Epsilon: 0.100\n",
      "Memory sizes: [19295, 15996, 15610, 13051]\n",
      "Recent rewards: [-0.36485003735935095, -0.06064980186543077, -0.39922556748908006, -0.13646697113896236]\n"
     ]
    },
    {
     "name": "stderr",
     "output_type": "stream",
     "text": [
      "Training:   7%|▋         | 6703/100000 [04:41<1:23:51, 18.54it/s]"
     ]
    },
    {
     "name": "stdout",
     "output_type": "stream",
     "text": [
      "\n",
      "Episode 6700:\n",
      "Epsilon: 0.100\n",
      "Memory sizes: [19698, 16143, 15949, 13376]\n",
      "Recent rewards: [-0.18921129660505198, -0.12001153681894103, -0.24912732680440622, -0.13951534051752743]\n"
     ]
    },
    {
     "name": "stderr",
     "output_type": "stream",
     "text": [
      "Training:   7%|▋         | 6803/100000 [04:47<1:23:59, 18.49it/s]"
     ]
    },
    {
     "name": "stdout",
     "output_type": "stream",
     "text": [
      "\n",
      "Episode 6800:\n",
      "Epsilon: 0.100\n",
      "Memory sizes: [20000, 16326, 16296, 13702]\n",
      "Recent rewards: [-0.18116517967334256, -0.18527302288523187, -0.28066400976969896, -0.08355555309940797]\n"
     ]
    },
    {
     "name": "stderr",
     "output_type": "stream",
     "text": [
      "Training:   7%|▋         | 6903/100000 [04:53<1:34:02, 16.50it/s]"
     ]
    },
    {
     "name": "stdout",
     "output_type": "stream",
     "text": [
      "\n",
      "Episode 6900:\n",
      "Epsilon: 0.100\n",
      "Memory sizes: [20000, 16542, 16633, 14068]\n",
      "Recent rewards: [-0.16325414417725712, -0.14837752683373562, -0.3228894104178737, -0.07945997428419477]\n"
     ]
    },
    {
     "name": "stderr",
     "output_type": "stream",
     "text": [
      "Training:   7%|▋         | 7003/100000 [04:59<1:26:10, 17.99it/s]"
     ]
    },
    {
     "name": "stdout",
     "output_type": "stream",
     "text": [
      "\n",
      "Episode 7000:\n",
      "Epsilon: 0.100\n",
      "Memory sizes: [20000, 16762, 16983, 14316]\n",
      "Recent rewards: [-0.16089186341316655, -0.06481962968238228, -0.13627064717941065, 0.007685994331792401]\n"
     ]
    },
    {
     "name": "stderr",
     "output_type": "stream",
     "text": [
      "Training:   7%|▋         | 7104/100000 [05:05<1:20:43, 19.18it/s]"
     ]
    },
    {
     "name": "stdout",
     "output_type": "stream",
     "text": [
      "\n",
      "Episode 7100:\n",
      "Epsilon: 0.100\n",
      "Memory sizes: [20000, 16970, 17283, 14560]\n",
      "Recent rewards: [-0.18298438266583883, -0.2524719565197171, -0.3354054620597886, -0.029669459437077793]\n"
     ]
    },
    {
     "name": "stderr",
     "output_type": "stream",
     "text": [
      "Training:   7%|▋         | 7203/100000 [05:10<1:25:07, 18.17it/s]"
     ]
    },
    {
     "name": "stdout",
     "output_type": "stream",
     "text": [
      "\n",
      "Episode 7200:\n",
      "Epsilon: 0.100\n",
      "Memory sizes: [20000, 17203, 17597, 14805]\n",
      "Recent rewards: [-0.11882914339235448, -0.20058198010526515, -0.3300070600309863, 0.01999262114378047]\n"
     ]
    },
    {
     "name": "stderr",
     "output_type": "stream",
     "text": [
      "Training:   7%|▋         | 7304/100000 [05:16<1:23:27, 18.51it/s]"
     ]
    },
    {
     "name": "stdout",
     "output_type": "stream",
     "text": [
      "\n",
      "Episode 7300:\n",
      "Epsilon: 0.100\n",
      "Memory sizes: [20000, 17437, 17895, 15071]\n",
      "Recent rewards: [-0.3259092743496808, -0.2204346110047773, -0.17291124846031944, -0.1880997011598546]\n"
     ]
    },
    {
     "name": "stderr",
     "output_type": "stream",
     "text": [
      "Training:   7%|▋         | 7404/100000 [05:21<1:23:11, 18.55it/s]"
     ]
    },
    {
     "name": "stdout",
     "output_type": "stream",
     "text": [
      "\n",
      "Episode 7400:\n",
      "Epsilon: 0.100\n",
      "Memory sizes: [20000, 17663, 18227, 15358]\n",
      "Recent rewards: [-0.23926814155378626, -0.24077806661572773, -0.23208797625114055, -0.08087709837072365]\n"
     ]
    },
    {
     "name": "stderr",
     "output_type": "stream",
     "text": [
      "Training:   8%|▊         | 7503/100000 [05:26<1:24:20, 18.28it/s]"
     ]
    },
    {
     "name": "stdout",
     "output_type": "stream",
     "text": [
      "\n",
      "Episode 7500:\n",
      "Epsilon: 0.100\n",
      "Memory sizes: [20000, 17868, 18513, 15618]\n",
      "Recent rewards: [-0.2504348194122406, -0.10819012763860501, -0.2123630681351171, 0.003313788884887372]\n"
     ]
    },
    {
     "name": "stderr",
     "output_type": "stream",
     "text": [
      "Training:   8%|▊         | 7604/100000 [05:32<1:20:15, 19.19it/s]"
     ]
    },
    {
     "name": "stdout",
     "output_type": "stream",
     "text": [
      "\n",
      "Episode 7600:\n",
      "Epsilon: 0.100\n",
      "Memory sizes: [20000, 18084, 18798, 15845]\n",
      "Recent rewards: [-0.26855394150508527, -0.1142605816531375, -0.3920522358368191, -0.011097877334293826]\n"
     ]
    },
    {
     "name": "stderr",
     "output_type": "stream",
     "text": [
      "Training:   8%|▊         | 7704/100000 [05:37<1:23:23, 18.45it/s]"
     ]
    },
    {
     "name": "stdout",
     "output_type": "stream",
     "text": [
      "\n",
      "Episode 7700:\n",
      "Epsilon: 0.100\n",
      "Memory sizes: [20000, 18308, 19085, 16055]\n",
      "Recent rewards: [-0.25948361672911074, -0.24227593650952067, 0.003636365241860043, -0.037940372205071654]\n"
     ]
    },
    {
     "name": "stderr",
     "output_type": "stream",
     "text": [
      "Training:   8%|▊         | 7802/100000 [05:43<1:27:05, 17.64it/s]"
     ]
    },
    {
     "name": "stdout",
     "output_type": "stream",
     "text": [
      "\n",
      "Episode 7800:\n",
      "Epsilon: 0.100\n",
      "Memory sizes: [20000, 18547, 19405, 16303]\n",
      "Recent rewards: [-0.16479995293653013, -0.18265128393484953, -0.19185313913718374, -0.020423194439770996]\n"
     ]
    },
    {
     "name": "stderr",
     "output_type": "stream",
     "text": [
      "Training:   8%|▊         | 7903/100000 [05:48<1:27:54, 17.46it/s]"
     ]
    },
    {
     "name": "stdout",
     "output_type": "stream",
     "text": [
      "\n",
      "Episode 7900:\n",
      "Epsilon: 0.100\n",
      "Memory sizes: [20000, 18728, 19714, 16543]\n",
      "Recent rewards: [-0.1992453390779967, -0.15467695968542114, -0.19125957644916874, -0.03534889740300338]\n"
     ]
    },
    {
     "name": "stderr",
     "output_type": "stream",
     "text": [
      "Training:   8%|▊         | 8004/100000 [05:54<1:20:37, 19.02it/s]"
     ]
    },
    {
     "name": "stdout",
     "output_type": "stream",
     "text": [
      "\n",
      "Episode 8000:\n",
      "Epsilon: 0.100\n",
      "Memory sizes: [20000, 18949, 19977, 16730]\n",
      "Recent rewards: [-0.11453685608368123, -0.23482799392974216, -0.21358430404377518, 0.043783923405291005]\n"
     ]
    },
    {
     "name": "stderr",
     "output_type": "stream",
     "text": [
      "Training:   8%|▊         | 8103/100000 [05:59<1:24:21, 18.16it/s]"
     ]
    },
    {
     "name": "stdout",
     "output_type": "stream",
     "text": [
      "\n",
      "Episode 8100:\n",
      "Epsilon: 0.100\n",
      "Memory sizes: [20000, 19180, 20000, 16968]\n",
      "Recent rewards: [-0.2243049381012678, -0.1123220873938104, -0.2734975382370372, 0.037602194289604055]\n"
     ]
    },
    {
     "name": "stderr",
     "output_type": "stream",
     "text": [
      "Training:   8%|▊         | 8204/100000 [06:04<1:18:16, 19.55it/s]"
     ]
    },
    {
     "name": "stdout",
     "output_type": "stream",
     "text": [
      "\n",
      "Episode 8200:\n",
      "Epsilon: 0.100\n",
      "Memory sizes: [20000, 19375, 20000, 17155]\n",
      "Recent rewards: [-0.10502953656955841, -0.20934723574887193, -0.1523230060997695, -0.05475678577833957]\n"
     ]
    },
    {
     "name": "stderr",
     "output_type": "stream",
     "text": [
      "Training:   8%|▊         | 8305/100000 [06:10<1:21:34, 18.73it/s]"
     ]
    },
    {
     "name": "stdout",
     "output_type": "stream",
     "text": [
      "\n",
      "Episode 8300:\n",
      "Epsilon: 0.100\n",
      "Memory sizes: [20000, 19574, 20000, 17368]\n",
      "Recent rewards: [-0.12219938040522912, -0.14653892236181576, -0.21383759119842072, -0.025396498755962595]\n"
     ]
    },
    {
     "name": "stderr",
     "output_type": "stream",
     "text": [
      "Training:   8%|▊         | 8405/100000 [06:16<1:22:07, 18.59it/s]"
     ]
    },
    {
     "name": "stdout",
     "output_type": "stream",
     "text": [
      "\n",
      "Episode 8400:\n",
      "Epsilon: 0.100\n",
      "Memory sizes: [20000, 19783, 20000, 17580]\n",
      "Recent rewards: [0.047213602298567574, -0.10787760052972159, -0.30850421397942823, -0.08149212590740124]\n"
     ]
    },
    {
     "name": "stderr",
     "output_type": "stream",
     "text": [
      "Training:   9%|▊         | 8505/100000 [06:21<1:19:16, 19.23it/s]"
     ]
    },
    {
     "name": "stdout",
     "output_type": "stream",
     "text": [
      "\n",
      "Episode 8500:\n",
      "Epsilon: 0.100\n",
      "Memory sizes: [20000, 19921, 20000, 17823]\n",
      "Recent rewards: [-0.005882522866310063, -0.048657668762418796, -0.4138778539950648, -0.022043405585669335]\n"
     ]
    },
    {
     "name": "stderr",
     "output_type": "stream",
     "text": [
      "Training:   9%|▊         | 8603/100000 [06:26<1:20:33, 18.91it/s]"
     ]
    },
    {
     "name": "stdout",
     "output_type": "stream",
     "text": [
      "\n",
      "Episode 8600:\n",
      "Epsilon: 0.100\n",
      "Memory sizes: [20000, 20000, 20000, 18021]\n",
      "Recent rewards: [-0.30894773243259027, 0.014906559605791798, -0.24107900699192958, 0.045158120116919234]\n"
     ]
    },
    {
     "name": "stderr",
     "output_type": "stream",
     "text": [
      "Training:   9%|▊         | 8704/100000 [06:32<1:19:01, 19.25it/s]"
     ]
    },
    {
     "name": "stdout",
     "output_type": "stream",
     "text": [
      "\n",
      "Episode 8700:\n",
      "Epsilon: 0.100\n",
      "Memory sizes: [20000, 20000, 20000, 18287]\n",
      "Recent rewards: [-0.09900451154969829, -0.07394213848976013, -0.21724468799444252, -0.1830176021227684]\n"
     ]
    },
    {
     "name": "stderr",
     "output_type": "stream",
     "text": [
      "Training:   9%|▉         | 8804/100000 [06:37<1:26:28, 17.58it/s]"
     ]
    },
    {
     "name": "stdout",
     "output_type": "stream",
     "text": [
      "\n",
      "Episode 8800:\n",
      "Epsilon: 0.100\n",
      "Memory sizes: [20000, 20000, 20000, 18466]\n",
      "Recent rewards: [-0.21367003731328935, -0.06665378851122927, -0.24155697737731396, -0.002277867072109403]\n"
     ]
    },
    {
     "name": "stderr",
     "output_type": "stream",
     "text": [
      "Training:   9%|▉         | 8905/100000 [06:42<1:16:52, 19.75it/s]"
     ]
    },
    {
     "name": "stdout",
     "output_type": "stream",
     "text": [
      "\n",
      "Episode 8900:\n",
      "Epsilon: 0.100\n",
      "Memory sizes: [20000, 20000, 20000, 18726]\n",
      "Recent rewards: [-0.15418518777383008, -0.02284147979069762, -0.4035311938412714, -0.048479603934280587]\n"
     ]
    },
    {
     "name": "stderr",
     "output_type": "stream",
     "text": [
      "Training:   9%|▉         | 9004/100000 [06:47<1:18:54, 19.22it/s]"
     ]
    },
    {
     "name": "stdout",
     "output_type": "stream",
     "text": [
      "\n",
      "Episode 9000:\n",
      "Epsilon: 0.100\n",
      "Memory sizes: [20000, 20000, 20000, 18936]\n",
      "Recent rewards: [-0.2548169320348573, -0.09809086860435107, -0.16977763559262857, 0.054148304996793566]\n"
     ]
    },
    {
     "name": "stderr",
     "output_type": "stream",
     "text": [
      "Training:   9%|▉         | 9104/100000 [06:53<1:20:08, 18.90it/s]"
     ]
    },
    {
     "name": "stdout",
     "output_type": "stream",
     "text": [
      "\n",
      "Episode 9100:\n",
      "Epsilon: 0.100\n",
      "Memory sizes: [20000, 20000, 20000, 19178]\n",
      "Recent rewards: [-0.17431053803543514, -0.23922724014043453, -0.2599750835381998, 0.02508120591139127]\n"
     ]
    },
    {
     "name": "stderr",
     "output_type": "stream",
     "text": [
      "Training:   9%|▉         | 9204/100000 [06:58<1:24:06, 17.99it/s]"
     ]
    },
    {
     "name": "stdout",
     "output_type": "stream",
     "text": [
      "\n",
      "Episode 9200:\n",
      "Epsilon: 0.100\n",
      "Memory sizes: [20000, 20000, 20000, 19458]\n",
      "Recent rewards: [-0.3701606979420671, -0.1562317369179901, -0.1963415166758228, -0.08608585183513057]\n"
     ]
    },
    {
     "name": "stderr",
     "output_type": "stream",
     "text": [
      "Training:   9%|▉         | 9304/100000 [07:04<1:23:27, 18.11it/s]"
     ]
    },
    {
     "name": "stdout",
     "output_type": "stream",
     "text": [
      "\n",
      "Episode 9300:\n",
      "Epsilon: 0.100\n",
      "Memory sizes: [20000, 20000, 20000, 19780]\n",
      "Recent rewards: [-0.31744632877667606, -0.167229950791967, -0.29183222798445047, -0.022302405922389815]\n"
     ]
    },
    {
     "name": "stderr",
     "output_type": "stream",
     "text": [
      "Training:   9%|▉         | 9404/100000 [07:09<1:21:17, 18.58it/s]"
     ]
    },
    {
     "name": "stdout",
     "output_type": "stream",
     "text": [
      "\n",
      "Episode 9400:\n",
      "Epsilon: 0.100\n",
      "Memory sizes: [20000, 20000, 20000, 20000]\n",
      "Recent rewards: [-0.2485740438280437, -0.08010994295937288, -0.18856946006303096, -0.19078606039992566]\n"
     ]
    },
    {
     "name": "stderr",
     "output_type": "stream",
     "text": [
      "Training:  10%|▉         | 9504/100000 [07:15<1:24:48, 17.78it/s]"
     ]
    },
    {
     "name": "stdout",
     "output_type": "stream",
     "text": [
      "\n",
      "Episode 9500:\n",
      "Epsilon: 0.100\n",
      "Memory sizes: [20000, 20000, 20000, 20000]\n",
      "Recent rewards: [-0.26164014987545037, -0.27509223616771655, -0.30860404346645304, -0.045022971863942524]\n"
     ]
    },
    {
     "name": "stderr",
     "output_type": "stream",
     "text": [
      "Training:  10%|▉         | 9604/100000 [07:20<1:20:03, 18.82it/s]"
     ]
    },
    {
     "name": "stdout",
     "output_type": "stream",
     "text": [
      "\n",
      "Episode 9600:\n",
      "Epsilon: 0.100\n",
      "Memory sizes: [20000, 20000, 20000, 20000]\n",
      "Recent rewards: [-0.07037822927704125, -0.22102842041986764, -0.4709109057653677, -0.08554145487557908]\n"
     ]
    },
    {
     "name": "stderr",
     "output_type": "stream",
     "text": [
      "Training:  10%|▉         | 9703/100000 [07:25<1:18:31, 19.16it/s]"
     ]
    },
    {
     "name": "stdout",
     "output_type": "stream",
     "text": [
      "\n",
      "Episode 9700:\n",
      "Epsilon: 0.100\n",
      "Memory sizes: [20000, 20000, 20000, 20000]\n",
      "Recent rewards: [-0.2737997483331042, -0.20850882077139132, -0.2636577786308193, -0.0198864665963624]\n"
     ]
    },
    {
     "name": "stderr",
     "output_type": "stream",
     "text": [
      "Training:  10%|▉         | 9803/100000 [07:31<1:18:27, 19.16it/s]"
     ]
    },
    {
     "name": "stdout",
     "output_type": "stream",
     "text": [
      "\n",
      "Episode 9800:\n",
      "Epsilon: 0.100\n",
      "Memory sizes: [20000, 20000, 20000, 20000]\n",
      "Recent rewards: [-0.18328569111410445, -0.13279333740223698, -0.2666268572922254, -0.05573055509172844]\n"
     ]
    },
    {
     "name": "stderr",
     "output_type": "stream",
     "text": [
      "Training:  10%|▉         | 9903/100000 [07:36<1:19:06, 18.98it/s]"
     ]
    },
    {
     "name": "stdout",
     "output_type": "stream",
     "text": [
      "\n",
      "Episode 9900:\n",
      "Epsilon: 0.100\n",
      "Memory sizes: [20000, 20000, 20000, 20000]\n",
      "Recent rewards: [-0.34753111535224446, -0.2938045987255955, -0.2190184888191697, -0.05867909253190289]\n"
     ]
    },
    {
     "name": "stderr",
     "output_type": "stream",
     "text": [
      "Training:  10%|█         | 10003/100000 [07:41<1:21:17, 18.45it/s]"
     ]
    },
    {
     "name": "stdout",
     "output_type": "stream",
     "text": [
      "\n",
      "Episode 10000:\n",
      "Epsilon: 0.100\n",
      "Memory sizes: [20000, 20000, 20000, 20000]\n",
      "Recent rewards: [-0.12534529829520116, -0.27271776796314384, -0.15288503988692015, -0.15151551153316678]\n",
      "Checkpoint saved at episode 10000\n"
     ]
    },
    {
     "name": "stderr",
     "output_type": "stream",
     "text": [
      "Training:  10%|█         | 10104/100000 [07:47<1:18:04, 19.19it/s]"
     ]
    },
    {
     "name": "stdout",
     "output_type": "stream",
     "text": [
      "\n",
      "Episode 10100:\n",
      "Epsilon: 0.100\n",
      "Memory sizes: [20000, 20000, 20000, 20000]\n",
      "Recent rewards: [-0.10624657253125136, -0.2465066469080797, -0.28343672845576184, -0.021652443484159976]\n"
     ]
    },
    {
     "name": "stderr",
     "output_type": "stream",
     "text": [
      "Training:  10%|█         | 10204/100000 [07:52<1:20:34, 18.57it/s]"
     ]
    },
    {
     "name": "stdout",
     "output_type": "stream",
     "text": [
      "\n",
      "Episode 10200:\n",
      "Epsilon: 0.100\n",
      "Memory sizes: [20000, 20000, 20000, 20000]\n",
      "Recent rewards: [-0.17843107459848295, -0.2156235385068345, -0.36058519623767465, -0.03953845303423744]\n"
     ]
    },
    {
     "name": "stderr",
     "output_type": "stream",
     "text": [
      "Training:  10%|█         | 10305/100000 [07:58<1:18:24, 19.07it/s]"
     ]
    },
    {
     "name": "stdout",
     "output_type": "stream",
     "text": [
      "\n",
      "Episode 10300:\n",
      "Epsilon: 0.100\n",
      "Memory sizes: [20000, 20000, 20000, 20000]\n",
      "Recent rewards: [-0.17247078177852845, -0.08091558850102651, -0.41588223491400533, -0.23523142177631762]\n"
     ]
    },
    {
     "name": "stderr",
     "output_type": "stream",
     "text": [
      "Training:  10%|█         | 10404/100000 [08:03<1:19:38, 18.75it/s]"
     ]
    },
    {
     "name": "stdout",
     "output_type": "stream",
     "text": [
      "\n",
      "Episode 10400:\n",
      "Epsilon: 0.100\n",
      "Memory sizes: [20000, 20000, 20000, 20000]\n",
      "Recent rewards: [-0.24983188954643687, -0.1920523788807897, -0.44881866328393566, -0.07759070389600094]\n"
     ]
    },
    {
     "name": "stderr",
     "output_type": "stream",
     "text": [
      "Training:  11%|█         | 10503/100000 [08:08<1:20:21, 18.56it/s]"
     ]
    },
    {
     "name": "stdout",
     "output_type": "stream",
     "text": [
      "\n",
      "Episode 10500:\n",
      "Epsilon: 0.100\n",
      "Memory sizes: [20000, 20000, 20000, 20000]\n",
      "Recent rewards: [-0.21170128847863787, -0.1890441462993789, -0.3432664279015845, -0.1346648189829839]\n"
     ]
    },
    {
     "name": "stderr",
     "output_type": "stream",
     "text": [
      "Training:  11%|█         | 10603/100000 [08:14<1:23:15, 17.90it/s]"
     ]
    },
    {
     "name": "stdout",
     "output_type": "stream",
     "text": [
      "\n",
      "Episode 10600:\n",
      "Epsilon: 0.100\n",
      "Memory sizes: [20000, 20000, 20000, 20000]\n",
      "Recent rewards: [-0.21350607405203553, -0.1161221089851065, -0.30178622702690966, 0.006198909841099613]\n"
     ]
    },
    {
     "name": "stderr",
     "output_type": "stream",
     "text": [
      "Training:  11%|█         | 10703/100000 [08:19<1:22:03, 18.14it/s]"
     ]
    },
    {
     "name": "stdout",
     "output_type": "stream",
     "text": [
      "\n",
      "Episode 10700:\n",
      "Epsilon: 0.100\n",
      "Memory sizes: [20000, 20000, 20000, 20000]\n",
      "Recent rewards: [-0.1580306372933644, -0.25311937397257434, -0.2887083893167167, -0.14588553159911866]\n"
     ]
    },
    {
     "name": "stderr",
     "output_type": "stream",
     "text": [
      "Training:  11%|█         | 10803/100000 [08:25<1:22:39, 17.99it/s]"
     ]
    },
    {
     "name": "stdout",
     "output_type": "stream",
     "text": [
      "\n",
      "Episode 10800:\n",
      "Epsilon: 0.100\n",
      "Memory sizes: [20000, 20000, 20000, 20000]\n",
      "Recent rewards: [-0.09969327609242028, -0.3200309801350452, -0.4454052050503692, -0.12232329119993139]\n"
     ]
    },
    {
     "name": "stderr",
     "output_type": "stream",
     "text": [
      "Training:  11%|█         | 10903/100000 [08:31<1:19:57, 18.57it/s]"
     ]
    },
    {
     "name": "stdout",
     "output_type": "stream",
     "text": [
      "\n",
      "Episode 10900:\n",
      "Epsilon: 0.100\n",
      "Memory sizes: [20000, 20000, 20000, 20000]\n",
      "Recent rewards: [-0.06263803604151165, -0.27288164098758133, -0.3883326356539204, -0.15230866346910008]\n"
     ]
    },
    {
     "name": "stderr",
     "output_type": "stream",
     "text": [
      "Training:  11%|█         | 11003/100000 [08:36<1:20:42, 18.38it/s]"
     ]
    },
    {
     "name": "stdout",
     "output_type": "stream",
     "text": [
      "\n",
      "Episode 11000:\n",
      "Epsilon: 0.100\n",
      "Memory sizes: [20000, 20000, 20000, 20000]\n",
      "Recent rewards: [-0.17609880816484805, -0.22973228897456885, -0.2089303005188485, -0.051688169804512955]\n"
     ]
    },
    {
     "name": "stderr",
     "output_type": "stream",
     "text": [
      "Training:  11%|█         | 11103/100000 [08:42<1:23:47, 17.68it/s]"
     ]
    },
    {
     "name": "stdout",
     "output_type": "stream",
     "text": [
      "\n",
      "Episode 11100:\n",
      "Epsilon: 0.100\n",
      "Memory sizes: [20000, 20000, 20000, 20000]\n",
      "Recent rewards: [-0.27522449414498795, -0.1659370382073681, -0.36973211566512637, -0.0363318514651519]\n"
     ]
    },
    {
     "name": "stderr",
     "output_type": "stream",
     "text": [
      "Training:  11%|█         | 11203/100000 [08:48<1:20:42, 18.34it/s]"
     ]
    },
    {
     "name": "stdout",
     "output_type": "stream",
     "text": [
      "\n",
      "Episode 11200:\n",
      "Epsilon: 0.100\n",
      "Memory sizes: [20000, 20000, 20000, 20000]\n",
      "Recent rewards: [-0.2672171497097924, -0.2082737869005296, -0.31005112873845897, -0.0035266479847346]\n"
     ]
    },
    {
     "name": "stderr",
     "output_type": "stream",
     "text": [
      "Training:  11%|█▏        | 11303/100000 [08:53<1:23:26, 17.72it/s]"
     ]
    },
    {
     "name": "stdout",
     "output_type": "stream",
     "text": [
      "\n",
      "Episode 11300:\n",
      "Epsilon: 0.100\n",
      "Memory sizes: [20000, 20000, 20000, 20000]\n",
      "Recent rewards: [-0.2736812260336537, -0.24295692585211312, -0.3640128496919136, -0.08302088829967706]\n"
     ]
    },
    {
     "name": "stderr",
     "output_type": "stream",
     "text": [
      "Training:  11%|█▏        | 11403/100000 [08:58<1:25:50, 17.20it/s]"
     ]
    },
    {
     "name": "stdout",
     "output_type": "stream",
     "text": [
      "\n",
      "Episode 11400:\n",
      "Epsilon: 0.100\n",
      "Memory sizes: [20000, 20000, 20000, 20000]\n",
      "Recent rewards: [-0.31904188947059514, -0.25542545199917116, -0.4594796747043878, -0.00022202185628521055]\n"
     ]
    },
    {
     "name": "stderr",
     "output_type": "stream",
     "text": [
      "Training:  12%|█▏        | 11504/100000 [09:04<1:18:54, 18.69it/s]"
     ]
    },
    {
     "name": "stdout",
     "output_type": "stream",
     "text": [
      "\n",
      "Episode 11500:\n",
      "Epsilon: 0.100\n",
      "Memory sizes: [20000, 20000, 20000, 20000]\n",
      "Recent rewards: [-0.36744535302697334, -0.22447337071801265, -0.3659143321502155, 0.11300363724619027]\n"
     ]
    },
    {
     "name": "stderr",
     "output_type": "stream",
     "text": [
      "Training:  12%|█▏        | 11603/100000 [09:09<1:23:39, 17.61it/s]"
     ]
    },
    {
     "name": "stdout",
     "output_type": "stream",
     "text": [
      "\n",
      "Episode 11600:\n",
      "Epsilon: 0.100\n",
      "Memory sizes: [20000, 20000, 20000, 20000]\n",
      "Recent rewards: [-0.1606413745034194, -0.24818509459435553, -0.3143035945644228, -0.04451030816177929]\n"
     ]
    },
    {
     "name": "stderr",
     "output_type": "stream",
     "text": [
      "Training:  12%|█▏        | 11704/100000 [09:15<1:19:27, 18.52it/s]"
     ]
    },
    {
     "name": "stdout",
     "output_type": "stream",
     "text": [
      "\n",
      "Episode 11700:\n",
      "Epsilon: 0.100\n",
      "Memory sizes: [20000, 20000, 20000, 20000]\n",
      "Recent rewards: [-0.11320571032758554, -0.17727341945811137, -0.49847125808028764, -0.11225385616143307]\n"
     ]
    },
    {
     "name": "stderr",
     "output_type": "stream",
     "text": [
      "Training:  12%|█▏        | 11803/100000 [09:20<1:21:53, 17.95it/s]"
     ]
    },
    {
     "name": "stdout",
     "output_type": "stream",
     "text": [
      "\n",
      "Episode 11800:\n",
      "Epsilon: 0.100\n",
      "Memory sizes: [20000, 20000, 20000, 20000]\n",
      "Recent rewards: [-0.3520760969854922, -0.2219483441040543, -0.24700225316143437, -0.12224024972132912]\n"
     ]
    },
    {
     "name": "stderr",
     "output_type": "stream",
     "text": [
      "Training:  12%|█▏        | 11904/100000 [09:26<1:22:15, 17.85it/s]"
     ]
    },
    {
     "name": "stdout",
     "output_type": "stream",
     "text": [
      "\n",
      "Episode 11900:\n",
      "Epsilon: 0.100\n",
      "Memory sizes: [20000, 20000, 20000, 20000]\n",
      "Recent rewards: [-0.005091373437216078, -0.2357051610339476, -0.4771088036780932, -0.09615237619775358]\n"
     ]
    },
    {
     "name": "stderr",
     "output_type": "stream",
     "text": [
      "Training:  12%|█▏        | 12004/100000 [09:31<1:21:02, 18.10it/s]"
     ]
    },
    {
     "name": "stdout",
     "output_type": "stream",
     "text": [
      "\n",
      "Episode 12000:\n",
      "Epsilon: 0.100\n",
      "Memory sizes: [20000, 20000, 20000, 20000]\n",
      "Recent rewards: [-0.4003133513166859, -0.3689591713125733, -0.274830085081446, -0.15235341573820427]\n"
     ]
    },
    {
     "name": "stderr",
     "output_type": "stream",
     "text": [
      "Training:  12%|█▏        | 12104/100000 [09:37<1:18:28, 18.67it/s]"
     ]
    },
    {
     "name": "stdout",
     "output_type": "stream",
     "text": [
      "\n",
      "Episode 12100:\n",
      "Epsilon: 0.100\n",
      "Memory sizes: [20000, 20000, 20000, 20000]\n",
      "Recent rewards: [-0.2891003026429955, -0.256417919840456, -0.4191181157931094, -0.08616134817366743]\n"
     ]
    },
    {
     "name": "stderr",
     "output_type": "stream",
     "text": [
      "Training:  12%|█▏        | 12204/100000 [09:42<1:28:29, 16.54it/s]"
     ]
    },
    {
     "name": "stdout",
     "output_type": "stream",
     "text": [
      "\n",
      "Episode 12200:\n",
      "Epsilon: 0.100\n",
      "Memory sizes: [20000, 20000, 20000, 20000]\n",
      "Recent rewards: [-0.22618220612864368, -0.22886493637626087, -0.44773861746578086, -0.17357615439113527]\n"
     ]
    },
    {
     "name": "stderr",
     "output_type": "stream",
     "text": [
      "Training:  12%|█▏        | 12304/100000 [09:48<1:26:44, 16.85it/s]"
     ]
    },
    {
     "name": "stdout",
     "output_type": "stream",
     "text": [
      "\n",
      "Episode 12300:\n",
      "Epsilon: 0.100\n",
      "Memory sizes: [20000, 20000, 20000, 20000]\n",
      "Recent rewards: [-0.2927754135370428, -0.3677918403082392, -0.23936376107828466, -0.16911077149866915]\n"
     ]
    },
    {
     "name": "stderr",
     "output_type": "stream",
     "text": [
      "Training:  12%|█▏        | 12404/100000 [09:54<1:20:23, 18.16it/s]"
     ]
    },
    {
     "name": "stdout",
     "output_type": "stream",
     "text": [
      "\n",
      "Episode 12400:\n",
      "Epsilon: 0.100\n",
      "Memory sizes: [20000, 20000, 20000, 20000]\n",
      "Recent rewards: [-0.340332428100951, -0.19462078112935408, -0.27122730345710605, -0.13618154683266684]\n"
     ]
    },
    {
     "name": "stderr",
     "output_type": "stream",
     "text": [
      "Training:  13%|█▎        | 12504/100000 [09:59<1:20:22, 18.14it/s]"
     ]
    },
    {
     "name": "stdout",
     "output_type": "stream",
     "text": [
      "\n",
      "Episode 12500:\n",
      "Epsilon: 0.100\n",
      "Memory sizes: [20000, 20000, 20000, 20000]\n",
      "Recent rewards: [-0.2095465230439876, -0.2569937671750873, -0.36408563526342386, -0.07443327702541831]\n"
     ]
    },
    {
     "name": "stderr",
     "output_type": "stream",
     "text": [
      "Training:  13%|█▎        | 12604/100000 [10:05<1:21:56, 17.77it/s]"
     ]
    },
    {
     "name": "stdout",
     "output_type": "stream",
     "text": [
      "\n",
      "Episode 12600:\n",
      "Epsilon: 0.100\n",
      "Memory sizes: [20000, 20000, 20000, 20000]\n",
      "Recent rewards: [-0.28632975547347383, -0.2819975884916697, -0.21416978792484417, -0.10770915775040578]\n"
     ]
    },
    {
     "name": "stderr",
     "output_type": "stream",
     "text": [
      "Training:  13%|█▎        | 12704/100000 [10:10<1:19:20, 18.34it/s]"
     ]
    },
    {
     "name": "stdout",
     "output_type": "stream",
     "text": [
      "\n",
      "Episode 12700:\n",
      "Epsilon: 0.100\n",
      "Memory sizes: [20000, 20000, 20000, 20000]\n",
      "Recent rewards: [-0.13761048747998883, -0.1959571977313416, -0.31872820900822285, -0.19155515210529436]\n"
     ]
    },
    {
     "name": "stderr",
     "output_type": "stream",
     "text": [
      "Training:  13%|█▎        | 12804/100000 [10:16<1:19:31, 18.27it/s]"
     ]
    },
    {
     "name": "stdout",
     "output_type": "stream",
     "text": [
      "\n",
      "Episode 12800:\n",
      "Epsilon: 0.100\n",
      "Memory sizes: [20000, 20000, 20000, 20000]\n",
      "Recent rewards: [-0.1572694199913123, -0.17937547627972333, -0.4364511357342717, -0.05143887344880186]\n"
     ]
    },
    {
     "name": "stderr",
     "output_type": "stream",
     "text": [
      "Training:  13%|█▎        | 12905/100000 [10:21<1:17:51, 18.64it/s]"
     ]
    },
    {
     "name": "stdout",
     "output_type": "stream",
     "text": [
      "\n",
      "Episode 12900:\n",
      "Epsilon: 0.100\n",
      "Memory sizes: [20000, 20000, 20000, 20000]\n",
      "Recent rewards: [-0.1424143193902151, -0.247889338154514, -0.25634826782595305, -0.24703039414458738]\n"
     ]
    },
    {
     "name": "stderr",
     "output_type": "stream",
     "text": [
      "Training:  13%|█▎        | 13003/100000 [10:27<1:17:37, 18.68it/s]"
     ]
    },
    {
     "name": "stdout",
     "output_type": "stream",
     "text": [
      "\n",
      "Episode 13000:\n",
      "Epsilon: 0.100\n",
      "Memory sizes: [20000, 20000, 20000, 20000]\n",
      "Recent rewards: [-0.2239475884677705, -0.2549136280586659, -0.47169523848999945, -0.07205036340395503]\n"
     ]
    },
    {
     "name": "stderr",
     "output_type": "stream",
     "text": [
      "Training:  13%|█▎        | 13103/100000 [10:32<1:16:36, 18.90it/s]"
     ]
    },
    {
     "name": "stdout",
     "output_type": "stream",
     "text": [
      "\n",
      "Episode 13100:\n",
      "Epsilon: 0.100\n",
      "Memory sizes: [20000, 20000, 20000, 20000]\n",
      "Recent rewards: [-0.2353582923539565, -0.31806601850604554, -0.21796581198818799, -0.0625667866872084]\n"
     ]
    },
    {
     "name": "stderr",
     "output_type": "stream",
     "text": [
      "Training:  13%|█▎        | 13203/100000 [10:38<1:22:56, 17.44it/s]"
     ]
    },
    {
     "name": "stdout",
     "output_type": "stream",
     "text": [
      "\n",
      "Episode 13200:\n",
      "Epsilon: 0.100\n",
      "Memory sizes: [20000, 20000, 20000, 20000]\n",
      "Recent rewards: [-0.17796720665808757, -0.1702522159737005, -0.4114953373609023, -0.015388613808628352]\n"
     ]
    },
    {
     "name": "stderr",
     "output_type": "stream",
     "text": [
      "Training:  13%|█▎        | 13303/100000 [10:43<1:18:43, 18.35it/s]"
     ]
    },
    {
     "name": "stdout",
     "output_type": "stream",
     "text": [
      "\n",
      "Episode 13300:\n",
      "Epsilon: 0.100\n",
      "Memory sizes: [20000, 20000, 20000, 20000]\n",
      "Recent rewards: [-0.21962146551387643, -0.31340914232356426, -0.2836125227934001, -0.14382938938571235]\n"
     ]
    },
    {
     "name": "stderr",
     "output_type": "stream",
     "text": [
      "Training:  13%|█▎        | 13404/100000 [10:49<1:20:04, 18.03it/s]"
     ]
    },
    {
     "name": "stdout",
     "output_type": "stream",
     "text": [
      "\n",
      "Episode 13400:\n",
      "Epsilon: 0.100\n",
      "Memory sizes: [20000, 20000, 20000, 20000]\n",
      "Recent rewards: [-0.136807433397618, -0.44193748672266897, -0.31948557985787596, -0.08637508835897706]\n"
     ]
    },
    {
     "name": "stderr",
     "output_type": "stream",
     "text": [
      "Training:  14%|█▎        | 13504/100000 [10:54<1:16:22, 18.87it/s]"
     ]
    },
    {
     "name": "stdout",
     "output_type": "stream",
     "text": [
      "\n",
      "Episode 13500:\n",
      "Epsilon: 0.100\n",
      "Memory sizes: [20000, 20000, 20000, 20000]\n",
      "Recent rewards: [-0.3513944633695543, -0.2695108415239048, -0.31329550758403224, -0.19387363908713462]\n"
     ]
    },
    {
     "name": "stderr",
     "output_type": "stream",
     "text": [
      "Training:  14%|█▎        | 13604/100000 [11:00<1:19:57, 18.01it/s]"
     ]
    },
    {
     "name": "stdout",
     "output_type": "stream",
     "text": [
      "\n",
      "Episode 13600:\n",
      "Epsilon: 0.100\n",
      "Memory sizes: [20000, 20000, 20000, 20000]\n",
      "Recent rewards: [-0.2507734501820412, -0.27022467102767, -0.3849345898022101, -0.07951372437789515]\n"
     ]
    },
    {
     "name": "stderr",
     "output_type": "stream",
     "text": [
      "Training:  14%|█▎        | 13704/100000 [11:05<1:20:35, 17.85it/s]"
     ]
    },
    {
     "name": "stdout",
     "output_type": "stream",
     "text": [
      "\n",
      "Episode 13700:\n",
      "Epsilon: 0.100\n",
      "Memory sizes: [20000, 20000, 20000, 20000]\n",
      "Recent rewards: [-0.27046828165780296, -0.30301325482862657, -0.47329740063669445, -0.11390478572978069]\n"
     ]
    },
    {
     "name": "stderr",
     "output_type": "stream",
     "text": [
      "Training:  14%|█▍        | 13804/100000 [11:11<1:18:29, 18.30it/s]"
     ]
    },
    {
     "name": "stdout",
     "output_type": "stream",
     "text": [
      "\n",
      "Episode 13800:\n",
      "Epsilon: 0.100\n",
      "Memory sizes: [20000, 20000, 20000, 20000]\n",
      "Recent rewards: [-0.21258513903758988, -0.2019622731834253, -0.4967867201431489, -0.002816252455312679]\n"
     ]
    },
    {
     "name": "stderr",
     "output_type": "stream",
     "text": [
      "Training:  14%|█▍        | 13904/100000 [11:16<1:19:18, 18.09it/s]"
     ]
    },
    {
     "name": "stdout",
     "output_type": "stream",
     "text": [
      "\n",
      "Episode 13900:\n",
      "Epsilon: 0.100\n",
      "Memory sizes: [20000, 20000, 20000, 20000]\n",
      "Recent rewards: [-0.11216143022681457, -0.3015268124940739, -0.44925135597947374, -0.09475017368977377]\n"
     ]
    },
    {
     "name": "stderr",
     "output_type": "stream",
     "text": [
      "Training:  14%|█▍        | 14003/100000 [11:22<1:18:52, 18.17it/s]"
     ]
    },
    {
     "name": "stdout",
     "output_type": "stream",
     "text": [
      "\n",
      "Episode 14000:\n",
      "Epsilon: 0.100\n",
      "Memory sizes: [20000, 20000, 20000, 20000]\n",
      "Recent rewards: [-0.19524766090494747, -0.2577446592749144, -0.3582619807668443, -0.04176077034610464]\n"
     ]
    },
    {
     "name": "stderr",
     "output_type": "stream",
     "text": [
      "Training:  14%|█▍        | 14104/100000 [11:27<1:19:49, 17.93it/s]"
     ]
    },
    {
     "name": "stdout",
     "output_type": "stream",
     "text": [
      "\n",
      "Episode 14100:\n",
      "Epsilon: 0.100\n",
      "Memory sizes: [20000, 20000, 20000, 20000]\n",
      "Recent rewards: [-0.19095193688968515, -0.2235966079029378, -0.32241098467658114, -0.10513352514994315]\n"
     ]
    },
    {
     "name": "stderr",
     "output_type": "stream",
     "text": [
      "Training:  14%|█▍        | 14203/100000 [11:33<1:19:00, 18.10it/s]"
     ]
    },
    {
     "name": "stdout",
     "output_type": "stream",
     "text": [
      "\n",
      "Episode 14200:\n",
      "Epsilon: 0.100\n",
      "Memory sizes: [20000, 20000, 20000, 20000]\n",
      "Recent rewards: [-0.13912029508933452, -0.17135180185114862, -0.5081725195162557, -0.10867257953246719]\n"
     ]
    },
    {
     "name": "stderr",
     "output_type": "stream",
     "text": [
      "Training:  14%|█▍        | 14304/100000 [11:38<1:18:04, 18.29it/s]"
     ]
    },
    {
     "name": "stdout",
     "output_type": "stream",
     "text": [
      "\n",
      "Episode 14300:\n",
      "Epsilon: 0.100\n",
      "Memory sizes: [20000, 20000, 20000, 20000]\n",
      "Recent rewards: [-0.2975421581726261, -0.11507429870368885, -0.4850160729072098, -0.10403141633708848]\n"
     ]
    },
    {
     "name": "stderr",
     "output_type": "stream",
     "text": [
      "Training:  14%|█▍        | 14403/100000 [11:43<1:16:30, 18.65it/s]"
     ]
    },
    {
     "name": "stdout",
     "output_type": "stream",
     "text": [
      "\n",
      "Episode 14400:\n",
      "Epsilon: 0.100\n",
      "Memory sizes: [20000, 20000, 20000, 20000]\n",
      "Recent rewards: [-0.22563837338283968, -0.2892935054825344, -0.2711980540707711, -0.12385488422840382]\n"
     ]
    },
    {
     "name": "stderr",
     "output_type": "stream",
     "text": [
      "Training:  15%|█▍        | 14503/100000 [11:49<1:17:02, 18.50it/s]"
     ]
    },
    {
     "name": "stdout",
     "output_type": "stream",
     "text": [
      "\n",
      "Episode 14500:\n",
      "Epsilon: 0.100\n",
      "Memory sizes: [20000, 20000, 20000, 20000]\n",
      "Recent rewards: [-0.3505654101621717, -0.2422375554477645, -0.49482514329610977, -0.021856108184471784]\n"
     ]
    },
    {
     "name": "stderr",
     "output_type": "stream",
     "text": [
      "Training:  15%|█▍        | 14604/100000 [11:54<1:17:12, 18.43it/s]"
     ]
    },
    {
     "name": "stdout",
     "output_type": "stream",
     "text": [
      "\n",
      "Episode 14600:\n",
      "Epsilon: 0.100\n",
      "Memory sizes: [20000, 20000, 20000, 20000]\n",
      "Recent rewards: [-0.09178629371697504, -0.16755862019435316, -0.48067279032426585, -0.15623156916251976]\n"
     ]
    },
    {
     "name": "stderr",
     "output_type": "stream",
     "text": [
      "Training:  15%|█▍        | 14704/100000 [12:00<1:18:37, 18.08it/s]"
     ]
    },
    {
     "name": "stdout",
     "output_type": "stream",
     "text": [
      "\n",
      "Episode 14700:\n",
      "Epsilon: 0.100\n",
      "Memory sizes: [20000, 20000, 20000, 20000]\n",
      "Recent rewards: [-0.1333424265315556, -0.21746778730812824, -0.514419487815665, -0.04255037770091841]\n"
     ]
    },
    {
     "name": "stderr",
     "output_type": "stream",
     "text": [
      "Training:  15%|█▍        | 14804/100000 [12:05<1:21:59, 17.32it/s]"
     ]
    },
    {
     "name": "stdout",
     "output_type": "stream",
     "text": [
      "\n",
      "Episode 14800:\n",
      "Epsilon: 0.100\n",
      "Memory sizes: [20000, 20000, 20000, 20000]\n",
      "Recent rewards: [-0.15814186432670777, -0.10855913978872284, -0.3429803836383573, -0.1741900193724326]\n"
     ]
    },
    {
     "name": "stderr",
     "output_type": "stream",
     "text": [
      "Training:  15%|█▍        | 14904/100000 [12:11<1:20:14, 17.68it/s]"
     ]
    },
    {
     "name": "stdout",
     "output_type": "stream",
     "text": [
      "\n",
      "Episode 14900:\n",
      "Epsilon: 0.100\n",
      "Memory sizes: [20000, 20000, 20000, 20000]\n",
      "Recent rewards: [-0.2476057068690269, -0.3074924880911376, -0.3253437085205221, -0.001143830986499653]\n"
     ]
    },
    {
     "name": "stderr",
     "output_type": "stream",
     "text": [
      "Training:  15%|█▌        | 15004/100000 [12:16<1:18:09, 18.12it/s]"
     ]
    },
    {
     "name": "stdout",
     "output_type": "stream",
     "text": [
      "\n",
      "Episode 15000:\n",
      "Epsilon: 0.100\n",
      "Memory sizes: [20000, 20000, 20000, 20000]\n",
      "Recent rewards: [-0.19102996618280219, -0.2207358300842996, -0.5308144562160103, 0.036289355385327064]\n"
     ]
    },
    {
     "name": "stderr",
     "output_type": "stream",
     "text": [
      "Training:  15%|█▌        | 15104/100000 [12:22<1:22:49, 17.08it/s]"
     ]
    },
    {
     "name": "stdout",
     "output_type": "stream",
     "text": [
      "\n",
      "Episode 15100:\n",
      "Epsilon: 0.100\n",
      "Memory sizes: [20000, 20000, 20000, 20000]\n",
      "Recent rewards: [-0.06886169483234993, -0.23766512060361264, -0.3077696531198426, -0.16065104109720096]\n"
     ]
    },
    {
     "name": "stderr",
     "output_type": "stream",
     "text": [
      "Training:  15%|█▌        | 15204/100000 [12:28<1:18:33, 17.99it/s]"
     ]
    },
    {
     "name": "stdout",
     "output_type": "stream",
     "text": [
      "\n",
      "Episode 15200:\n",
      "Epsilon: 0.100\n",
      "Memory sizes: [20000, 20000, 20000, 20000]\n",
      "Recent rewards: [-0.3203016503453152, -0.04018678770419487, -0.4829527614348519, 0.06394997589336376]\n"
     ]
    },
    {
     "name": "stderr",
     "output_type": "stream",
     "text": [
      "Training:  15%|█▌        | 15303/100000 [12:33<1:18:29, 17.99it/s]"
     ]
    },
    {
     "name": "stdout",
     "output_type": "stream",
     "text": [
      "\n",
      "Episode 15300:\n",
      "Epsilon: 0.100\n",
      "Memory sizes: [20000, 20000, 20000, 20000]\n",
      "Recent rewards: [-0.22070485864660333, -0.15566067128962227, -0.4086741792763885, -0.15430815114607097]\n"
     ]
    },
    {
     "name": "stderr",
     "output_type": "stream",
     "text": [
      "Training:  15%|█▌        | 15403/100000 [12:39<1:25:52, 16.42it/s]"
     ]
    },
    {
     "name": "stdout",
     "output_type": "stream",
     "text": [
      "\n",
      "Episode 15400:\n",
      "Epsilon: 0.100\n",
      "Memory sizes: [20000, 20000, 20000, 20000]\n",
      "Recent rewards: [-0.1847038102706831, -0.22444796364185443, -0.3755131194674613, 0.06335775779831765]\n"
     ]
    },
    {
     "name": "stderr",
     "output_type": "stream",
     "text": [
      "Training:  16%|█▌        | 15505/100000 [12:45<1:14:47, 18.83it/s]"
     ]
    },
    {
     "name": "stdout",
     "output_type": "stream",
     "text": [
      "\n",
      "Episode 15500:\n",
      "Epsilon: 0.100\n",
      "Memory sizes: [20000, 20000, 20000, 20000]\n",
      "Recent rewards: [-0.13022497865933147, -0.2870522770570291, -0.4626453959305181, -0.0742349781857956]\n"
     ]
    },
    {
     "name": "stderr",
     "output_type": "stream",
     "text": [
      "Training:  16%|█▌        | 15603/100000 [12:50<1:14:39, 18.84it/s]"
     ]
    },
    {
     "name": "stdout",
     "output_type": "stream",
     "text": [
      "\n",
      "Episode 15600:\n",
      "Epsilon: 0.100\n",
      "Memory sizes: [20000, 20000, 20000, 20000]\n",
      "Recent rewards: [-0.29750235471689335, -0.12740867638764444, -0.6204064567469171, 0.03660570608573139]\n"
     ]
    },
    {
     "name": "stderr",
     "output_type": "stream",
     "text": [
      "Training:  16%|█▌        | 15703/100000 [12:56<1:20:35, 17.43it/s]"
     ]
    },
    {
     "name": "stdout",
     "output_type": "stream",
     "text": [
      "\n",
      "Episode 15700:\n",
      "Epsilon: 0.100\n",
      "Memory sizes: [20000, 20000, 20000, 20000]\n",
      "Recent rewards: [-0.2478633296376048, -0.22027190517416806, -0.36641000916546523, -0.19392442400615562]\n"
     ]
    },
    {
     "name": "stderr",
     "output_type": "stream",
     "text": [
      "Training:  16%|█▌        | 15804/100000 [13:01<1:16:34, 18.32it/s]"
     ]
    },
    {
     "name": "stdout",
     "output_type": "stream",
     "text": [
      "\n",
      "Episode 15800:\n",
      "Epsilon: 0.100\n",
      "Memory sizes: [20000, 20000, 20000, 20000]\n",
      "Recent rewards: [0.013652731933245798, -0.31180387675558363, -0.47388105591312235, -0.14056601963261905]\n"
     ]
    },
    {
     "name": "stderr",
     "output_type": "stream",
     "text": [
      "Training:  16%|█▌        | 15904/100000 [13:07<1:17:24, 18.10it/s]"
     ]
    },
    {
     "name": "stdout",
     "output_type": "stream",
     "text": [
      "\n",
      "Episode 15900:\n",
      "Epsilon: 0.100\n",
      "Memory sizes: [20000, 20000, 20000, 20000]\n",
      "Recent rewards: [-0.2055112128100547, -0.14730521935043212, -0.5259091476211452, -0.052916045080886535]\n"
     ]
    },
    {
     "name": "stderr",
     "output_type": "stream",
     "text": [
      "Training:  16%|█▌        | 16004/100000 [13:12<1:19:16, 17.66it/s]"
     ]
    },
    {
     "name": "stdout",
     "output_type": "stream",
     "text": [
      "\n",
      "Episode 16000:\n",
      "Epsilon: 0.100\n",
      "Memory sizes: [20000, 20000, 20000, 20000]\n",
      "Recent rewards: [-0.3202170434821017, -0.1738922996436959, -0.5211022474601225, -0.12017748414350318]\n"
     ]
    },
    {
     "name": "stderr",
     "output_type": "stream",
     "text": [
      "Training:  16%|█▌        | 16104/100000 [13:18<1:14:31, 18.76it/s]"
     ]
    },
    {
     "name": "stdout",
     "output_type": "stream",
     "text": [
      "\n",
      "Episode 16100:\n",
      "Epsilon: 0.100\n",
      "Memory sizes: [20000, 20000, 20000, 20000]\n",
      "Recent rewards: [-0.09719476003962589, -0.07212641699275936, -0.31492082201979205, -0.22184513103360406]\n"
     ]
    },
    {
     "name": "stderr",
     "output_type": "stream",
     "text": [
      "Training:  16%|█▌        | 16203/100000 [13:23<1:13:48, 18.92it/s]"
     ]
    },
    {
     "name": "stdout",
     "output_type": "stream",
     "text": [
      "\n",
      "Episode 16200:\n",
      "Epsilon: 0.100\n",
      "Memory sizes: [20000, 20000, 20000, 20000]\n",
      "Recent rewards: [-0.30203325279864357, -0.07739587346815312, -0.5040736088770297, -0.11959093814201952]\n"
     ]
    },
    {
     "name": "stderr",
     "output_type": "stream",
     "text": [
      "Training:  16%|█▋        | 16303/100000 [13:29<1:17:27, 18.01it/s]"
     ]
    },
    {
     "name": "stdout",
     "output_type": "stream",
     "text": [
      "\n",
      "Episode 16300:\n",
      "Epsilon: 0.100\n",
      "Memory sizes: [20000, 20000, 20000, 20000]\n",
      "Recent rewards: [-0.20733972063390382, -0.1330282677124867, -0.3890583866985895, -0.1968699410145046]\n"
     ]
    },
    {
     "name": "stderr",
     "output_type": "stream",
     "text": [
      "Training:  16%|█▋        | 16404/100000 [13:34<1:16:24, 18.24it/s]"
     ]
    },
    {
     "name": "stdout",
     "output_type": "stream",
     "text": [
      "\n",
      "Episode 16400:\n",
      "Epsilon: 0.100\n",
      "Memory sizes: [20000, 20000, 20000, 20000]\n",
      "Recent rewards: [-0.26135445219824033, -0.20016333877255493, -0.44771273686748997, -0.017598501068514124]\n"
     ]
    },
    {
     "name": "stderr",
     "output_type": "stream",
     "text": [
      "Training:  17%|█▋        | 16504/100000 [13:40<1:16:40, 18.15it/s]"
     ]
    },
    {
     "name": "stdout",
     "output_type": "stream",
     "text": [
      "\n",
      "Episode 16500:\n",
      "Epsilon: 0.100\n",
      "Memory sizes: [20000, 20000, 20000, 20000]\n",
      "Recent rewards: [-0.30822598315536637, -0.1375121539015105, -0.44941640783595155, -0.06876179039112956]\n"
     ]
    },
    {
     "name": "stderr",
     "output_type": "stream",
     "text": [
      "Training:  17%|█▋        | 16604/100000 [13:46<1:17:11, 18.01it/s]"
     ]
    },
    {
     "name": "stdout",
     "output_type": "stream",
     "text": [
      "\n",
      "Episode 16600:\n",
      "Epsilon: 0.100\n",
      "Memory sizes: [20000, 20000, 20000, 20000]\n",
      "Recent rewards: [-0.2640184956292099, 0.0063994820118052995, -0.4870936532673894, 0.03942096705359826]\n"
     ]
    },
    {
     "name": "stderr",
     "output_type": "stream",
     "text": [
      "Training:  17%|█▋        | 16705/100000 [13:51<1:13:39, 18.85it/s]"
     ]
    },
    {
     "name": "stdout",
     "output_type": "stream",
     "text": [
      "\n",
      "Episode 16700:\n",
      "Epsilon: 0.100\n",
      "Memory sizes: [20000, 20000, 20000, 20000]\n",
      "Recent rewards: [-0.2579001267264443, -0.09620558517053583, -0.5757022716835312, -0.03256464048587951]\n"
     ]
    },
    {
     "name": "stderr",
     "output_type": "stream",
     "text": [
      "Training:  17%|█▋        | 16803/100000 [13:56<1:15:47, 18.29it/s]"
     ]
    },
    {
     "name": "stdout",
     "output_type": "stream",
     "text": [
      "\n",
      "Episode 16800:\n",
      "Epsilon: 0.100\n",
      "Memory sizes: [20000, 20000, 20000, 20000]\n",
      "Recent rewards: [-0.21798720892386217, -0.12256800696057857, -0.30818235677129807, -0.07376161237902282]\n"
     ]
    },
    {
     "name": "stderr",
     "output_type": "stream",
     "text": [
      "Training:  17%|█▋        | 16903/100000 [14:02<1:14:16, 18.65it/s]"
     ]
    },
    {
     "name": "stdout",
     "output_type": "stream",
     "text": [
      "\n",
      "Episode 16900:\n",
      "Epsilon: 0.100\n",
      "Memory sizes: [20000, 20000, 20000, 20000]\n",
      "Recent rewards: [-0.41529370241237934, -0.07712282597200285, -0.46488144055317826, 0.07256062863927674]\n"
     ]
    },
    {
     "name": "stderr",
     "output_type": "stream",
     "text": [
      "Training:  17%|█▋        | 17003/100000 [14:07<1:17:34, 17.83it/s]"
     ]
    },
    {
     "name": "stdout",
     "output_type": "stream",
     "text": [
      "\n",
      "Episode 17000:\n",
      "Epsilon: 0.100\n",
      "Memory sizes: [20000, 20000, 20000, 20000]\n",
      "Recent rewards: [-0.04470518812307158, -0.08549593146041609, -0.46368218645977166, -0.007831434635206547]\n"
     ]
    },
    {
     "name": "stderr",
     "output_type": "stream",
     "text": [
      "Training:  17%|█▋        | 17103/100000 [14:13<1:13:41, 18.75it/s]"
     ]
    },
    {
     "name": "stdout",
     "output_type": "stream",
     "text": [
      "\n",
      "Episode 17100:\n",
      "Epsilon: 0.100\n",
      "Memory sizes: [20000, 20000, 20000, 20000]\n",
      "Recent rewards: [-0.33451478774043125, -0.040331311780046813, -0.40777581493295545, 0.0347851045209966]\n"
     ]
    },
    {
     "name": "stderr",
     "output_type": "stream",
     "text": [
      "Training:  17%|█▋        | 17203/100000 [14:19<1:24:50, 16.27it/s]"
     ]
    },
    {
     "name": "stdout",
     "output_type": "stream",
     "text": [
      "\n",
      "Episode 17200:\n",
      "Epsilon: 0.100\n",
      "Memory sizes: [20000, 20000, 20000, 20000]\n",
      "Recent rewards: [-0.27516044946951274, -0.09875590092554579, -0.3630582495614799, -0.15404682835300829]\n"
     ]
    },
    {
     "name": "stderr",
     "output_type": "stream",
     "text": [
      "Training:  17%|█▋        | 17303/100000 [14:25<1:17:16, 17.84it/s]"
     ]
    },
    {
     "name": "stdout",
     "output_type": "stream",
     "text": [
      "\n",
      "Episode 17300:\n",
      "Epsilon: 0.100\n",
      "Memory sizes: [20000, 20000, 20000, 20000]\n",
      "Recent rewards: [-0.19881668573836994, -0.08834744934705065, -0.43875744168222275, -0.09987389392996095]\n"
     ]
    },
    {
     "name": "stderr",
     "output_type": "stream",
     "text": [
      "Training:  17%|█▋        | 17403/100000 [14:31<1:21:46, 16.84it/s]"
     ]
    },
    {
     "name": "stdout",
     "output_type": "stream",
     "text": [
      "\n",
      "Episode 17400:\n",
      "Epsilon: 0.100\n",
      "Memory sizes: [20000, 20000, 20000, 20000]\n",
      "Recent rewards: [-0.21816902859236964, -0.13446709702947815, -0.5166224069234668, -0.02676758226326855]\n"
     ]
    },
    {
     "name": "stderr",
     "output_type": "stream",
     "text": [
      "Training:  18%|█▊        | 17503/100000 [14:36<1:15:31, 18.21it/s]"
     ]
    },
    {
     "name": "stdout",
     "output_type": "stream",
     "text": [
      "\n",
      "Episode 17500:\n",
      "Epsilon: 0.100\n",
      "Memory sizes: [20000, 20000, 20000, 20000]\n",
      "Recent rewards: [-0.2530695757933117, -0.25665758235622466, -0.3696792188610823, -0.07731070707397934]\n"
     ]
    },
    {
     "name": "stderr",
     "output_type": "stream",
     "text": [
      "Training:  18%|█▊        | 17603/100000 [14:42<1:15:20, 18.23it/s]"
     ]
    },
    {
     "name": "stdout",
     "output_type": "stream",
     "text": [
      "\n",
      "Episode 17600:\n",
      "Epsilon: 0.100\n",
      "Memory sizes: [20000, 20000, 20000, 20000]\n",
      "Recent rewards: [-0.24380133010245447, -0.21762997234044015, -0.5478474493322417, 0.01871950050940245]\n"
     ]
    },
    {
     "name": "stderr",
     "output_type": "stream",
     "text": [
      "Training:  18%|█▊        | 17703/100000 [14:47<1:12:54, 18.81it/s]"
     ]
    },
    {
     "name": "stdout",
     "output_type": "stream",
     "text": [
      "\n",
      "Episode 17700:\n",
      "Epsilon: 0.100\n",
      "Memory sizes: [20000, 20000, 20000, 20000]\n",
      "Recent rewards: [-0.08247824479083725, -0.2523862432290535, -0.4173967931898836, -0.050598837997228745]\n"
     ]
    },
    {
     "name": "stderr",
     "output_type": "stream",
     "text": [
      "Training:  18%|█▊        | 17803/100000 [14:53<1:13:23, 18.67it/s]"
     ]
    },
    {
     "name": "stdout",
     "output_type": "stream",
     "text": [
      "\n",
      "Episode 17800:\n",
      "Epsilon: 0.100\n",
      "Memory sizes: [20000, 20000, 20000, 20000]\n",
      "Recent rewards: [-0.1239972402617469, -0.09146419707081341, -0.4555791467505789, -0.015407072510079733]\n"
     ]
    },
    {
     "name": "stderr",
     "output_type": "stream",
     "text": [
      "Training:  18%|█▊        | 17903/100000 [14:58<1:13:40, 18.57it/s]"
     ]
    },
    {
     "name": "stdout",
     "output_type": "stream",
     "text": [
      "\n",
      "Episode 17900:\n",
      "Epsilon: 0.100\n",
      "Memory sizes: [20000, 20000, 20000, 20000]\n",
      "Recent rewards: [-0.199871215722157, -0.05576333600101134, -0.524285074462441, -0.1458887393536507]\n"
     ]
    },
    {
     "name": "stderr",
     "output_type": "stream",
     "text": [
      "Training:  18%|█▊        | 18003/100000 [15:04<1:15:54, 18.00it/s]"
     ]
    },
    {
     "name": "stdout",
     "output_type": "stream",
     "text": [
      "\n",
      "Episode 18000:\n",
      "Epsilon: 0.100\n",
      "Memory sizes: [20000, 20000, 20000, 20000]\n",
      "Recent rewards: [-0.18855009512397872, 0.0033581120842447543, -0.5903776464741841, -0.2589100291791025]\n"
     ]
    },
    {
     "name": "stderr",
     "output_type": "stream",
     "text": [
      "Training:  18%|█▊        | 18103/100000 [15:09<1:09:20, 19.68it/s]"
     ]
    },
    {
     "name": "stdout",
     "output_type": "stream",
     "text": [
      "\n",
      "Episode 18100:\n",
      "Epsilon: 0.100\n",
      "Memory sizes: [20000, 20000, 20000, 20000]\n",
      "Recent rewards: [-0.08453391984856884, -0.2065923683746643, -0.4140064889248635, -0.09900280861087905]\n"
     ]
    },
    {
     "name": "stderr",
     "output_type": "stream",
     "text": [
      "Training:  18%|█▊        | 18204/100000 [15:15<1:14:52, 18.21it/s]"
     ]
    },
    {
     "name": "stdout",
     "output_type": "stream",
     "text": [
      "\n",
      "Episode 18200:\n",
      "Epsilon: 0.100\n",
      "Memory sizes: [20000, 20000, 20000, 20000]\n",
      "Recent rewards: [-0.22765398946556242, -0.12663715674882026, -0.5531264870720409, -0.00671318467087627]\n"
     ]
    },
    {
     "name": "stderr",
     "output_type": "stream",
     "text": [
      "Training:  18%|█▊        | 18303/100000 [15:20<1:15:21, 18.07it/s]"
     ]
    },
    {
     "name": "stdout",
     "output_type": "stream",
     "text": [
      "\n",
      "Episode 18300:\n",
      "Epsilon: 0.100\n",
      "Memory sizes: [20000, 20000, 20000, 20000]\n",
      "Recent rewards: [-0.32141797255315135, -0.12208940872554909, -0.5490098827181573, 0.1033613256790821]\n"
     ]
    },
    {
     "name": "stderr",
     "output_type": "stream",
     "text": [
      "Training:  18%|█▊        | 18403/100000 [15:26<1:15:24, 18.03it/s]"
     ]
    },
    {
     "name": "stdout",
     "output_type": "stream",
     "text": [
      "\n",
      "Episode 18400:\n",
      "Epsilon: 0.100\n",
      "Memory sizes: [20000, 20000, 20000, 20000]\n",
      "Recent rewards: [-0.16231940191543617, -0.20483551110331635, -0.3686248022040889, -0.07515280821108826]\n"
     ]
    },
    {
     "name": "stderr",
     "output_type": "stream",
     "text": [
      "Training:  19%|█▊        | 18503/100000 [15:31<1:21:30, 16.67it/s]"
     ]
    },
    {
     "name": "stdout",
     "output_type": "stream",
     "text": [
      "\n",
      "Episode 18500:\n",
      "Epsilon: 0.100\n",
      "Memory sizes: [20000, 20000, 20000, 20000]\n",
      "Recent rewards: [-0.3370865711504796, -0.10812347565630563, -0.5084544661845389, 0.047126763387112136]\n"
     ]
    },
    {
     "name": "stderr",
     "output_type": "stream",
     "text": [
      "Training:  19%|█▊        | 18603/100000 [15:37<1:13:38, 18.42it/s]"
     ]
    },
    {
     "name": "stdout",
     "output_type": "stream",
     "text": [
      "\n",
      "Episode 18600:\n",
      "Epsilon: 0.100\n",
      "Memory sizes: [20000, 20000, 20000, 20000]\n",
      "Recent rewards: [-0.031963745411123366, -0.07187500000000001, -0.3052883493536834, -0.12111199817501912]\n"
     ]
    },
    {
     "name": "stderr",
     "output_type": "stream",
     "text": [
      "Training:  19%|█▊        | 18703/100000 [15:42<1:13:35, 18.41it/s]"
     ]
    },
    {
     "name": "stdout",
     "output_type": "stream",
     "text": [
      "\n",
      "Episode 18700:\n",
      "Epsilon: 0.100\n",
      "Memory sizes: [20000, 20000, 20000, 20000]\n",
      "Recent rewards: [-0.0994599859901816, -0.1151932471592059, -0.4319388953946532, -0.11730736844056641]\n"
     ]
    },
    {
     "name": "stderr",
     "output_type": "stream",
     "text": [
      "Training:  19%|█▉        | 18803/100000 [15:48<1:17:16, 17.51it/s]"
     ]
    },
    {
     "name": "stdout",
     "output_type": "stream",
     "text": [
      "\n",
      "Episode 18800:\n",
      "Epsilon: 0.100\n",
      "Memory sizes: [20000, 20000, 20000, 20000]\n",
      "Recent rewards: [-0.09023336108296824, -0.11198547660146309, -0.5191222865617996, 0.1790101075736959]\n"
     ]
    },
    {
     "name": "stderr",
     "output_type": "stream",
     "text": [
      "Training:  19%|█▉        | 18903/100000 [15:54<1:16:07, 17.76it/s]"
     ]
    },
    {
     "name": "stdout",
     "output_type": "stream",
     "text": [
      "\n",
      "Episode 18900:\n",
      "Epsilon: 0.100\n",
      "Memory sizes: [20000, 20000, 20000, 20000]\n",
      "Recent rewards: [-0.06569194320604382, -0.19343002476153162, -0.48815452537055215, -0.04202554265941552]\n"
     ]
    },
    {
     "name": "stderr",
     "output_type": "stream",
     "text": [
      "Training:  19%|█▉        | 19003/100000 [15:59<1:16:21, 17.68it/s]"
     ]
    },
    {
     "name": "stdout",
     "output_type": "stream",
     "text": [
      "\n",
      "Episode 19000:\n",
      "Epsilon: 0.100\n",
      "Memory sizes: [20000, 20000, 20000, 20000]\n",
      "Recent rewards: [-0.2199836905544937, -0.09690326932146645, -0.338239972681212, -0.14772740326696476]\n"
     ]
    },
    {
     "name": "stderr",
     "output_type": "stream",
     "text": [
      "Training:  19%|█▉        | 19103/100000 [16:05<1:14:16, 18.15it/s]"
     ]
    },
    {
     "name": "stdout",
     "output_type": "stream",
     "text": [
      "\n",
      "Episode 19100:\n",
      "Epsilon: 0.100\n",
      "Memory sizes: [20000, 20000, 20000, 20000]\n",
      "Recent rewards: [-0.08763553700319061, -0.09261080209816284, -0.4349016814362662, -0.18654264620663683]\n"
     ]
    },
    {
     "name": "stderr",
     "output_type": "stream",
     "text": [
      "Training:  19%|█▉        | 19203/100000 [16:11<1:12:28, 18.58it/s]"
     ]
    },
    {
     "name": "stdout",
     "output_type": "stream",
     "text": [
      "\n",
      "Episode 19200:\n",
      "Epsilon: 0.100\n",
      "Memory sizes: [20000, 20000, 20000, 20000]\n",
      "Recent rewards: [-0.14861334987269856, -0.18229873709232206, -0.4161112754621964, 0.03749893817321524]\n"
     ]
    },
    {
     "name": "stderr",
     "output_type": "stream",
     "text": [
      "Training:  19%|█▉        | 19304/100000 [16:16<1:22:23, 16.32it/s]"
     ]
    },
    {
     "name": "stdout",
     "output_type": "stream",
     "text": [
      "\n",
      "Episode 19300:\n",
      "Epsilon: 0.100\n",
      "Memory sizes: [20000, 20000, 20000, 20000]\n",
      "Recent rewards: [-0.2648583877345394, -0.10945075844282824, -0.5969811026179193, 0.1108431205320231]\n"
     ]
    },
    {
     "name": "stderr",
     "output_type": "stream",
     "text": [
      "Training:  19%|█▉        | 19404/100000 [16:22<1:12:34, 18.51it/s]"
     ]
    },
    {
     "name": "stdout",
     "output_type": "stream",
     "text": [
      "\n",
      "Episode 19400:\n",
      "Epsilon: 0.100\n",
      "Memory sizes: [20000, 20000, 20000, 20000]\n",
      "Recent rewards: [-0.24983448166412392, -0.11462503963604913, -0.3803319045163513, 0.08812603721036798]\n"
     ]
    },
    {
     "name": "stderr",
     "output_type": "stream",
     "text": [
      "Training:  20%|█▉        | 19505/100000 [16:27<1:10:05, 19.14it/s]"
     ]
    },
    {
     "name": "stdout",
     "output_type": "stream",
     "text": [
      "\n",
      "Episode 19500:\n",
      "Epsilon: 0.100\n",
      "Memory sizes: [20000, 20000, 20000, 20000]\n",
      "Recent rewards: [-0.22295817633682635, -0.14284230399074926, -0.5791461105016285, -0.010411038902349184]\n"
     ]
    },
    {
     "name": "stderr",
     "output_type": "stream",
     "text": [
      "Training:  20%|█▉        | 19605/100000 [16:32<1:11:05, 18.85it/s]"
     ]
    },
    {
     "name": "stdout",
     "output_type": "stream",
     "text": [
      "\n",
      "Episode 19600:\n",
      "Epsilon: 0.100\n",
      "Memory sizes: [20000, 20000, 20000, 20000]\n",
      "Recent rewards: [-0.11837720791657333, -0.1259401485292532, -0.611817295877038, -0.001833653154951196]\n"
     ]
    },
    {
     "name": "stderr",
     "output_type": "stream",
     "text": [
      "Training:  20%|█▉        | 19704/100000 [16:38<1:15:23, 17.75it/s]"
     ]
    },
    {
     "name": "stdout",
     "output_type": "stream",
     "text": [
      "\n",
      "Episode 19700:\n",
      "Epsilon: 0.100\n",
      "Memory sizes: [20000, 20000, 20000, 20000]\n",
      "Recent rewards: [-0.21723477151835596, -0.054487065396256563, -0.4866591724346566, -0.013872375405206853]\n"
     ]
    },
    {
     "name": "stderr",
     "output_type": "stream",
     "text": [
      "Training:  20%|█▉        | 19804/100000 [16:43<1:14:27, 17.95it/s]"
     ]
    },
    {
     "name": "stdout",
     "output_type": "stream",
     "text": [
      "\n",
      "Episode 19800:\n",
      "Epsilon: 0.100\n",
      "Memory sizes: [20000, 20000, 20000, 20000]\n",
      "Recent rewards: [-0.10628945636847162, -0.11288423327372059, -0.6103393401251727, 0.18306333864573754]\n"
     ]
    },
    {
     "name": "stderr",
     "output_type": "stream",
     "text": [
      "Training:  20%|█▉        | 19905/100000 [16:49<1:08:15, 19.56it/s]"
     ]
    },
    {
     "name": "stdout",
     "output_type": "stream",
     "text": [
      "\n",
      "Episode 19900:\n",
      "Epsilon: 0.100\n",
      "Memory sizes: [20000, 20000, 20000, 20000]\n",
      "Recent rewards: [-0.10411313049864543, -0.09657791435958366, -0.4461548281895468, -0.14654595007653706]\n"
     ]
    },
    {
     "name": "stderr",
     "output_type": "stream",
     "text": [
      "Training:  20%|██        | 20004/100000 [16:54<1:14:16, 17.95it/s]"
     ]
    },
    {
     "name": "stdout",
     "output_type": "stream",
     "text": [
      "\n",
      "Episode 20000:\n",
      "Epsilon: 0.100\n",
      "Memory sizes: [20000, 20000, 20000, 20000]\n",
      "Recent rewards: [-0.18075851195653306, -0.09780339556897227, -0.5756104581072907, -0.10566177493399569]\n",
      "Checkpoint saved at episode 20000\n"
     ]
    },
    {
     "name": "stderr",
     "output_type": "stream",
     "text": [
      "Training:  20%|██        | 20103/100000 [17:00<1:12:32, 18.36it/s]"
     ]
    },
    {
     "name": "stdout",
     "output_type": "stream",
     "text": [
      "\n",
      "Episode 20100:\n",
      "Epsilon: 0.100\n",
      "Memory sizes: [20000, 20000, 20000, 20000]\n",
      "Recent rewards: [-0.05995516640548175, -0.10805255384900994, -0.5678560579298744, -0.17444609722528384]\n"
     ]
    },
    {
     "name": "stderr",
     "output_type": "stream",
     "text": [
      "Training:  20%|██        | 20204/100000 [17:05<1:11:50, 18.51it/s]"
     ]
    },
    {
     "name": "stdout",
     "output_type": "stream",
     "text": [
      "\n",
      "Episode 20200:\n",
      "Epsilon: 0.100\n",
      "Memory sizes: [20000, 20000, 20000, 20000]\n",
      "Recent rewards: [-0.2247737946834907, -0.1346683035582557, -0.39007728834892347, 0.014898569604638449]\n"
     ]
    },
    {
     "name": "stderr",
     "output_type": "stream",
     "text": [
      "Training:  20%|██        | 20304/100000 [17:11<1:23:06, 15.98it/s]"
     ]
    },
    {
     "name": "stdout",
     "output_type": "stream",
     "text": [
      "\n",
      "Episode 20300:\n",
      "Epsilon: 0.100\n",
      "Memory sizes: [20000, 20000, 20000, 20000]\n",
      "Recent rewards: [-0.056578799999791166, -0.20005751431895566, -0.5966085101155654, -0.0946003798460053]\n"
     ]
    },
    {
     "name": "stderr",
     "output_type": "stream",
     "text": [
      "Training:  20%|██        | 20404/100000 [17:17<1:14:48, 17.73it/s]"
     ]
    },
    {
     "name": "stdout",
     "output_type": "stream",
     "text": [
      "\n",
      "Episode 20400:\n",
      "Epsilon: 0.100\n",
      "Memory sizes: [20000, 20000, 20000, 20000]\n",
      "Recent rewards: [-0.09810687915032217, -0.11154328729673138, -0.5086531942615696, -0.0674639744981348]\n"
     ]
    },
    {
     "name": "stderr",
     "output_type": "stream",
     "text": [
      "Training:  21%|██        | 20503/100000 [17:22<1:14:24, 17.81it/s]"
     ]
    },
    {
     "name": "stdout",
     "output_type": "stream",
     "text": [
      "\n",
      "Episode 20500:\n",
      "Epsilon: 0.100\n",
      "Memory sizes: [20000, 20000, 20000, 20000]\n",
      "Recent rewards: [-0.11385419191905541, -0.09095533957778262, -0.5463566737648097, -0.06220650560859176]\n"
     ]
    },
    {
     "name": "stderr",
     "output_type": "stream",
     "text": [
      "Training:  21%|██        | 20605/100000 [17:27<1:11:34, 18.49it/s]"
     ]
    },
    {
     "name": "stdout",
     "output_type": "stream",
     "text": [
      "\n",
      "Episode 20600:\n",
      "Epsilon: 0.100\n",
      "Memory sizes: [20000, 20000, 20000, 20000]\n",
      "Recent rewards: [-0.25749708305940766, -0.17779625618004935, -0.601263238884667, -0.0975998307730697]\n"
     ]
    },
    {
     "name": "stderr",
     "output_type": "stream",
     "text": [
      "Training:  21%|██        | 20703/100000 [17:33<1:12:11, 18.31it/s]"
     ]
    },
    {
     "name": "stdout",
     "output_type": "stream",
     "text": [
      "\n",
      "Episode 20700:\n",
      "Epsilon: 0.100\n",
      "Memory sizes: [20000, 20000, 20000, 20000]\n",
      "Recent rewards: [-0.23520127680052588, -0.024116262301240053, -0.5124082486078412, 0.009080529853944728]\n"
     ]
    },
    {
     "name": "stderr",
     "output_type": "stream",
     "text": [
      "Training:  21%|██        | 20803/100000 [17:38<1:09:09, 19.09it/s]"
     ]
    },
    {
     "name": "stdout",
     "output_type": "stream",
     "text": [
      "\n",
      "Episode 20800:\n",
      "Epsilon: 0.100\n",
      "Memory sizes: [20000, 20000, 20000, 20000]\n",
      "Recent rewards: [-0.21687931888187947, -0.04373896628594791, -0.5024661284136079, 0.014996836699341771]\n"
     ]
    },
    {
     "name": "stderr",
     "output_type": "stream",
     "text": [
      "Training:  21%|██        | 20904/100000 [17:44<1:18:03, 16.89it/s]"
     ]
    },
    {
     "name": "stdout",
     "output_type": "stream",
     "text": [
      "\n",
      "Episode 20900:\n",
      "Epsilon: 0.100\n",
      "Memory sizes: [20000, 20000, 20000, 20000]\n",
      "Recent rewards: [-0.28636072830866954, -0.061161890243072746, -0.4085209457797044, 0.04662818242160431]\n"
     ]
    },
    {
     "name": "stderr",
     "output_type": "stream",
     "text": [
      "Training:  21%|██        | 21003/100000 [17:49<1:12:31, 18.15it/s]"
     ]
    },
    {
     "name": "stdout",
     "output_type": "stream",
     "text": [
      "\n",
      "Episode 21000:\n",
      "Epsilon: 0.100\n",
      "Memory sizes: [20000, 20000, 20000, 20000]\n",
      "Recent rewards: [-0.10278382642719293, -0.008558367131174319, -0.5093899313365637, -0.09128113466669413]\n"
     ]
    },
    {
     "name": "stderr",
     "output_type": "stream",
     "text": [
      "Training:  21%|██        | 21103/100000 [17:55<1:11:56, 18.28it/s]"
     ]
    },
    {
     "name": "stdout",
     "output_type": "stream",
     "text": [
      "\n",
      "Episode 21100:\n",
      "Epsilon: 0.100\n",
      "Memory sizes: [20000, 20000, 20000, 20000]\n",
      "Recent rewards: [-0.17689731949515758, -0.11107114354366104, -0.48840272020287, -0.12812518011088675]\n"
     ]
    },
    {
     "name": "stderr",
     "output_type": "stream",
     "text": [
      "Training:  21%|██        | 21204/100000 [18:00<1:09:50, 18.80it/s]"
     ]
    },
    {
     "name": "stdout",
     "output_type": "stream",
     "text": [
      "\n",
      "Episode 21200:\n",
      "Epsilon: 0.100\n",
      "Memory sizes: [20000, 20000, 20000, 20000]\n",
      "Recent rewards: [-0.24347287175311083, -0.04354456284707156, -0.5818539668691521, 0.041012981041555596]\n"
     ]
    },
    {
     "name": "stderr",
     "output_type": "stream",
     "text": [
      "Training:  21%|██▏       | 21303/100000 [18:05<1:07:05, 19.55it/s]"
     ]
    },
    {
     "name": "stdout",
     "output_type": "stream",
     "text": [
      "\n",
      "Episode 21300:\n",
      "Epsilon: 0.100\n",
      "Memory sizes: [20000, 20000, 20000, 20000]\n",
      "Recent rewards: [-0.26046097251134676, -0.0828962562914943, -0.48842455737380647, 0.1342843924698106]\n"
     ]
    },
    {
     "name": "stderr",
     "output_type": "stream",
     "text": [
      "Training:  21%|██▏       | 21404/100000 [18:11<1:09:35, 18.82it/s]"
     ]
    },
    {
     "name": "stdout",
     "output_type": "stream",
     "text": [
      "\n",
      "Episode 21400:\n",
      "Epsilon: 0.100\n",
      "Memory sizes: [20000, 20000, 20000, 20000]\n",
      "Recent rewards: [-0.2757184424894803, -0.023583368189173504, -0.5376633088254135, 0.11860789945215205]\n"
     ]
    },
    {
     "name": "stderr",
     "output_type": "stream",
     "text": [
      "Training:  22%|██▏       | 21504/100000 [18:16<1:11:27, 18.31it/s]"
     ]
    },
    {
     "name": "stdout",
     "output_type": "stream",
     "text": [
      "\n",
      "Episode 21500:\n",
      "Epsilon: 0.100\n",
      "Memory sizes: [20000, 20000, 20000, 20000]\n",
      "Recent rewards: [-0.20024726213028957, -0.06517362553011591, -0.6372656248994992, 0.030018779625377995]\n"
     ]
    },
    {
     "name": "stderr",
     "output_type": "stream",
     "text": [
      "Training:  22%|██▏       | 21604/100000 [18:21<1:08:15, 19.14it/s]"
     ]
    },
    {
     "name": "stdout",
     "output_type": "stream",
     "text": [
      "\n",
      "Episode 21600:\n",
      "Epsilon: 0.100\n",
      "Memory sizes: [20000, 20000, 20000, 20000]\n",
      "Recent rewards: [-0.3436171694427388, -0.12652274060673666, -0.47448793592717164, 0.06452657109671275]\n"
     ]
    },
    {
     "name": "stderr",
     "output_type": "stream",
     "text": [
      "Training:  22%|██▏       | 21704/100000 [18:27<1:08:10, 19.14it/s]"
     ]
    },
    {
     "name": "stdout",
     "output_type": "stream",
     "text": [
      "\n",
      "Episode 21700:\n",
      "Epsilon: 0.100\n",
      "Memory sizes: [20000, 20000, 20000, 20000]\n",
      "Recent rewards: [-0.26108352386973, -0.15036239921468755, -0.5603088096909413, -0.011272510254596165]\n"
     ]
    },
    {
     "name": "stderr",
     "output_type": "stream",
     "text": [
      "Training:  22%|██▏       | 21804/100000 [18:32<1:08:38, 18.99it/s]"
     ]
    },
    {
     "name": "stdout",
     "output_type": "stream",
     "text": [
      "\n",
      "Episode 21800:\n",
      "Epsilon: 0.100\n",
      "Memory sizes: [20000, 20000, 20000, 20000]\n",
      "Recent rewards: [-0.22817124635992964, -0.09079612908405726, -0.6684832195727659, 0.1312986544386257]\n"
     ]
    },
    {
     "name": "stderr",
     "output_type": "stream",
     "text": [
      "Training:  22%|██▏       | 21902/100000 [18:38<1:27:50, 14.82it/s]"
     ]
    },
    {
     "name": "stdout",
     "output_type": "stream",
     "text": [
      "\n",
      "Episode 21900:\n",
      "Epsilon: 0.100\n",
      "Memory sizes: [20000, 20000, 20000, 20000]\n",
      "Recent rewards: [-0.22470688888023, -0.13457574154042062, -0.47901371026648876, -0.06697770206462765]\n"
     ]
    },
    {
     "name": "stderr",
     "output_type": "stream",
     "text": [
      "Training:  22%|██▏       | 22004/100000 [18:43<1:12:39, 17.89it/s]"
     ]
    },
    {
     "name": "stdout",
     "output_type": "stream",
     "text": [
      "\n",
      "Episode 22000:\n",
      "Epsilon: 0.100\n",
      "Memory sizes: [20000, 20000, 20000, 20000]\n",
      "Recent rewards: [-0.16972980153803982, -0.214701507862043, -0.6279581855369287, 0.02704187657336001]\n"
     ]
    },
    {
     "name": "stderr",
     "output_type": "stream",
     "text": [
      "Training:  22%|██▏       | 22104/100000 [18:49<1:13:04, 17.77it/s]"
     ]
    },
    {
     "name": "stdout",
     "output_type": "stream",
     "text": [
      "\n",
      "Episode 22100:\n",
      "Epsilon: 0.100\n",
      "Memory sizes: [20000, 20000, 20000, 20000]\n",
      "Recent rewards: [-0.27838702135045496, -0.0933355825049648, -0.5295877645298717, 0.10882646350335883]\n"
     ]
    },
    {
     "name": "stderr",
     "output_type": "stream",
     "text": [
      "Training:  22%|██▏       | 22204/100000 [18:54<1:08:43, 18.87it/s]"
     ]
    },
    {
     "name": "stdout",
     "output_type": "stream",
     "text": [
      "\n",
      "Episode 22200:\n",
      "Epsilon: 0.100\n",
      "Memory sizes: [20000, 20000, 20000, 20000]\n",
      "Recent rewards: [-0.25642554554392594, -0.06823980862154158, -0.5463936297264219, 0.052456365695991825]\n"
     ]
    },
    {
     "name": "stderr",
     "output_type": "stream",
     "text": [
      "Training:  22%|██▏       | 22303/100000 [19:00<1:14:48, 17.31it/s]"
     ]
    },
    {
     "name": "stdout",
     "output_type": "stream",
     "text": [
      "\n",
      "Episode 22300:\n",
      "Epsilon: 0.100\n",
      "Memory sizes: [20000, 20000, 20000, 20000]\n",
      "Recent rewards: [-0.1857940654064577, -0.07739409217635645, -0.5340273584949236, 0.04343412351335816]\n"
     ]
    },
    {
     "name": "stderr",
     "output_type": "stream",
     "text": [
      "Training:  22%|██▏       | 22403/100000 [19:05<1:12:53, 17.74it/s]"
     ]
    },
    {
     "name": "stdout",
     "output_type": "stream",
     "text": [
      "\n",
      "Episode 22400:\n",
      "Epsilon: 0.100\n",
      "Memory sizes: [20000, 20000, 20000, 20000]\n",
      "Recent rewards: [-0.3970659408118894, -0.08468568099426743, -0.44829519289287245, -0.029435059874004903]\n"
     ]
    },
    {
     "name": "stderr",
     "output_type": "stream",
     "text": [
      "Training:  23%|██▎       | 22503/100000 [19:11<1:09:54, 18.48it/s]"
     ]
    },
    {
     "name": "stdout",
     "output_type": "stream",
     "text": [
      "\n",
      "Episode 22500:\n",
      "Epsilon: 0.100\n",
      "Memory sizes: [20000, 20000, 20000, 20000]\n",
      "Recent rewards: [-0.2639977558162643, -0.11534702202094646, -0.38715958340448337, -0.06155386568103476]\n"
     ]
    },
    {
     "name": "stderr",
     "output_type": "stream",
     "text": [
      "Training:  23%|██▎       | 22604/100000 [19:16<1:09:27, 18.57it/s]"
     ]
    },
    {
     "name": "stdout",
     "output_type": "stream",
     "text": [
      "\n",
      "Episode 22600:\n",
      "Epsilon: 0.100\n",
      "Memory sizes: [20000, 20000, 20000, 20000]\n",
      "Recent rewards: [-0.2598745049465053, -0.09775414377794546, -0.37266414280922794, -0.06187218638537106]\n"
     ]
    },
    {
     "name": "stderr",
     "output_type": "stream",
     "text": [
      "Training:  23%|██▎       | 22703/100000 [19:22<1:08:47, 18.73it/s]"
     ]
    },
    {
     "name": "stdout",
     "output_type": "stream",
     "text": [
      "\n",
      "Episode 22700:\n",
      "Epsilon: 0.100\n",
      "Memory sizes: [20000, 20000, 20000, 20000]\n",
      "Recent rewards: [-0.141498914562672, -0.11876126368815278, -0.39317736736410014, 0.10194609019423728]\n"
     ]
    },
    {
     "name": "stderr",
     "output_type": "stream",
     "text": [
      "Training:  23%|██▎       | 22804/100000 [19:27<1:09:52, 18.41it/s]"
     ]
    },
    {
     "name": "stdout",
     "output_type": "stream",
     "text": [
      "\n",
      "Episode 22800:\n",
      "Epsilon: 0.100\n",
      "Memory sizes: [20000, 20000, 20000, 20000]\n",
      "Recent rewards: [-0.25953082115914017, -0.11321048991993343, -0.504743725585814, 0.0348821855755626]\n"
     ]
    },
    {
     "name": "stderr",
     "output_type": "stream",
     "text": [
      "Training:  23%|██▎       | 22904/100000 [19:32<1:10:49, 18.14it/s]"
     ]
    },
    {
     "name": "stdout",
     "output_type": "stream",
     "text": [
      "\n",
      "Episode 22900:\n",
      "Epsilon: 0.100\n",
      "Memory sizes: [20000, 20000, 20000, 20000]\n",
      "Recent rewards: [-0.14834618839241015, -0.08774408197949829, -0.5543558974409423, -0.0564293911760282]\n"
     ]
    },
    {
     "name": "stderr",
     "output_type": "stream",
     "text": [
      "Training:  23%|██▎       | 23003/100000 [19:38<1:09:03, 18.58it/s]"
     ]
    },
    {
     "name": "stdout",
     "output_type": "stream",
     "text": [
      "\n",
      "Episode 23000:\n",
      "Epsilon: 0.100\n",
      "Memory sizes: [20000, 20000, 20000, 20000]\n",
      "Recent rewards: [-0.2838188663490899, -0.004987471818522399, -0.6210897538009027, -0.05647440447975374]\n"
     ]
    },
    {
     "name": "stderr",
     "output_type": "stream",
     "text": [
      "Training:  23%|██▎       | 23104/100000 [19:43<1:09:38, 18.40it/s]"
     ]
    },
    {
     "name": "stdout",
     "output_type": "stream",
     "text": [
      "\n",
      "Episode 23100:\n",
      "Epsilon: 0.100\n",
      "Memory sizes: [20000, 20000, 20000, 20000]\n",
      "Recent rewards: [-0.4150061432914543, -0.1332241303018212, -0.5858324016904886, -0.05871281005289454]\n"
     ]
    },
    {
     "name": "stderr",
     "output_type": "stream",
     "text": [
      "Training:  23%|██▎       | 23204/100000 [19:49<1:09:11, 18.50it/s]"
     ]
    },
    {
     "name": "stdout",
     "output_type": "stream",
     "text": [
      "\n",
      "Episode 23200:\n",
      "Epsilon: 0.100\n",
      "Memory sizes: [20000, 20000, 20000, 20000]\n",
      "Recent rewards: [-0.3551817715960663, -0.1010733807000257, -0.504328129813885, 0.05603072612576934]\n"
     ]
    },
    {
     "name": "stderr",
     "output_type": "stream",
     "text": [
      "Training:  23%|██▎       | 23304/100000 [19:54<1:08:04, 18.78it/s]"
     ]
    },
    {
     "name": "stdout",
     "output_type": "stream",
     "text": [
      "\n",
      "Episode 23300:\n",
      "Epsilon: 0.100\n",
      "Memory sizes: [20000, 20000, 20000, 20000]\n",
      "Recent rewards: [-0.3507144277516624, -0.11605120540384338, -0.4478987639818765, 0.010792792667333595]\n"
     ]
    },
    {
     "name": "stderr",
     "output_type": "stream",
     "text": [
      "Training:  23%|██▎       | 23403/100000 [20:00<1:11:17, 17.91it/s]"
     ]
    },
    {
     "name": "stdout",
     "output_type": "stream",
     "text": [
      "\n",
      "Episode 23400:\n",
      "Epsilon: 0.100\n",
      "Memory sizes: [20000, 20000, 20000, 20000]\n",
      "Recent rewards: [-0.1898750487360038, -0.04555114848300865, -0.4883826298707716, -0.034371263750163285]\n"
     ]
    },
    {
     "name": "stderr",
     "output_type": "stream",
     "text": [
      "Training:  24%|██▎       | 23503/100000 [20:06<1:09:51, 18.25it/s]"
     ]
    },
    {
     "name": "stdout",
     "output_type": "stream",
     "text": [
      "\n",
      "Episode 23500:\n",
      "Epsilon: 0.100\n",
      "Memory sizes: [20000, 20000, 20000, 20000]\n",
      "Recent rewards: [-0.3508657136365996, -0.10041839464586236, -0.41811772695792454, -0.11753484696602018]\n"
     ]
    },
    {
     "name": "stderr",
     "output_type": "stream",
     "text": [
      "Training:  24%|██▎       | 23603/100000 [20:11<1:21:39, 15.59it/s]"
     ]
    },
    {
     "name": "stdout",
     "output_type": "stream",
     "text": [
      "\n",
      "Episode 23600:\n",
      "Epsilon: 0.100\n",
      "Memory sizes: [20000, 20000, 20000, 20000]\n",
      "Recent rewards: [-0.33856397948611006, -0.05904477552464123, -0.5296763748443538, -0.036853003564010715]\n"
     ]
    },
    {
     "name": "stderr",
     "output_type": "stream",
     "text": [
      "Training:  24%|██▎       | 23704/100000 [20:17<1:09:38, 18.26it/s]"
     ]
    },
    {
     "name": "stdout",
     "output_type": "stream",
     "text": [
      "\n",
      "Episode 23700:\n",
      "Epsilon: 0.100\n",
      "Memory sizes: [20000, 20000, 20000, 20000]\n",
      "Recent rewards: [-0.35067671091211416, -0.11633277489381275, -0.4506676580997792, 0.036276582136033714]\n"
     ]
    },
    {
     "name": "stderr",
     "output_type": "stream",
     "text": [
      "Training:  24%|██▍       | 23803/100000 [20:22<1:16:30, 16.60it/s]"
     ]
    },
    {
     "name": "stdout",
     "output_type": "stream",
     "text": [
      "\n",
      "Episode 23800:\n",
      "Epsilon: 0.100\n",
      "Memory sizes: [20000, 20000, 20000, 20000]\n",
      "Recent rewards: [-0.3552124613971752, -0.15077844372352775, -0.3225539256511818, -0.12065212312391273]\n"
     ]
    },
    {
     "name": "stderr",
     "output_type": "stream",
     "text": [
      "Training:  24%|██▍       | 23904/100000 [20:28<1:17:21, 16.39it/s]"
     ]
    },
    {
     "name": "stdout",
     "output_type": "stream",
     "text": [
      "\n",
      "Episode 23900:\n",
      "Epsilon: 0.100\n",
      "Memory sizes: [20000, 20000, 20000, 20000]\n",
      "Recent rewards: [-0.2766225627853242, -0.11093533191844601, -0.2925646185214502, -0.07036458590666203]\n"
     ]
    },
    {
     "name": "stderr",
     "output_type": "stream",
     "text": [
      "Training:  24%|██▍       | 24004/100000 [20:33<1:04:36, 19.60it/s]"
     ]
    },
    {
     "name": "stdout",
     "output_type": "stream",
     "text": [
      "\n",
      "Episode 24000:\n",
      "Epsilon: 0.100\n",
      "Memory sizes: [20000, 20000, 20000, 20000]\n",
      "Recent rewards: [-0.1654183323780056, -0.1799766363652669, -0.2947954240192154, -0.14018213712448951]\n"
     ]
    },
    {
     "name": "stderr",
     "output_type": "stream",
     "text": [
      "Training:  24%|██▍       | 24104/100000 [20:39<1:08:36, 18.44it/s]"
     ]
    },
    {
     "name": "stdout",
     "output_type": "stream",
     "text": [
      "\n",
      "Episode 24100:\n",
      "Epsilon: 0.100\n",
      "Memory sizes: [20000, 20000, 20000, 20000]\n",
      "Recent rewards: [-0.2388229339248399, -0.10296020787825054, -0.2780993387435278, -0.21091377584504012]\n"
     ]
    },
    {
     "name": "stderr",
     "output_type": "stream",
     "text": [
      "Training:  24%|██▍       | 24204/100000 [20:44<1:06:28, 19.00it/s]"
     ]
    },
    {
     "name": "stdout",
     "output_type": "stream",
     "text": [
      "\n",
      "Episode 24200:\n",
      "Epsilon: 0.100\n",
      "Memory sizes: [20000, 20000, 20000, 20000]\n",
      "Recent rewards: [-0.18498358936258966, -0.1180786424631434, -0.47839500322362094, -0.2332301462599279]\n"
     ]
    },
    {
     "name": "stderr",
     "output_type": "stream",
     "text": [
      "Training:  24%|██▍       | 24304/100000 [20:50<1:06:36, 18.94it/s]"
     ]
    },
    {
     "name": "stdout",
     "output_type": "stream",
     "text": [
      "\n",
      "Episode 24300:\n",
      "Epsilon: 0.100\n",
      "Memory sizes: [20000, 20000, 20000, 20000]\n",
      "Recent rewards: [-0.32166131234367185, -0.04372007978213075, -0.4634224756275569, -0.2805343688315753]\n"
     ]
    },
    {
     "name": "stderr",
     "output_type": "stream",
     "text": [
      "Training:  24%|██▍       | 24403/100000 [20:55<1:11:32, 17.61it/s]"
     ]
    },
    {
     "name": "stdout",
     "output_type": "stream",
     "text": [
      "\n",
      "Episode 24400:\n",
      "Epsilon: 0.100\n",
      "Memory sizes: [20000, 20000, 20000, 20000]\n",
      "Recent rewards: [-0.1562946007489078, -0.1727353555826855, -0.497501444780549, -0.13662522070960978]\n"
     ]
    },
    {
     "name": "stderr",
     "output_type": "stream",
     "text": [
      "Training:  25%|██▍       | 24503/100000 [21:01<1:12:57, 17.25it/s]"
     ]
    },
    {
     "name": "stdout",
     "output_type": "stream",
     "text": [
      "\n",
      "Episode 24500:\n",
      "Epsilon: 0.100\n",
      "Memory sizes: [20000, 20000, 20000, 20000]\n",
      "Recent rewards: [-0.32927773816588607, -0.06492245150922915, -0.48513999553071474, -0.1853641702067915]\n"
     ]
    },
    {
     "name": "stderr",
     "output_type": "stream",
     "text": [
      "Training:  25%|██▍       | 24604/100000 [21:06<1:06:16, 18.96it/s]"
     ]
    },
    {
     "name": "stdout",
     "output_type": "stream",
     "text": [
      "\n",
      "Episode 24600:\n",
      "Epsilon: 0.100\n",
      "Memory sizes: [20000, 20000, 20000, 20000]\n",
      "Recent rewards: [-0.3885957889691602, -0.023947843135996204, -0.4380793909747298, -0.09529179384561352]\n"
     ]
    },
    {
     "name": "stderr",
     "output_type": "stream",
     "text": [
      "Training:  25%|██▍       | 24704/100000 [21:12<1:05:03, 19.29it/s]"
     ]
    },
    {
     "name": "stdout",
     "output_type": "stream",
     "text": [
      "\n",
      "Episode 24700:\n",
      "Epsilon: 0.100\n",
      "Memory sizes: [20000, 20000, 20000, 20000]\n",
      "Recent rewards: [-0.17289546129673586, -0.12945863639474747, -0.3867506476526262, -0.2149823577420753]\n"
     ]
    },
    {
     "name": "stderr",
     "output_type": "stream",
     "text": [
      "Training:  25%|██▍       | 24803/100000 [21:17<1:15:00, 16.71it/s]"
     ]
    },
    {
     "name": "stdout",
     "output_type": "stream",
     "text": [
      "\n",
      "Episode 24800:\n",
      "Epsilon: 0.100\n",
      "Memory sizes: [20000, 20000, 20000, 20000]\n",
      "Recent rewards: [-0.24989667146314481, -0.10525220837617365, -0.30570328787920686, 0.07207263514550148]\n"
     ]
    },
    {
     "name": "stderr",
     "output_type": "stream",
     "text": [
      "Training:  25%|██▍       | 24903/100000 [21:23<1:05:01, 19.25it/s]"
     ]
    },
    {
     "name": "stdout",
     "output_type": "stream",
     "text": [
      "\n",
      "Episode 24900:\n",
      "Epsilon: 0.100\n",
      "Memory sizes: [20000, 20000, 20000, 20000]\n",
      "Recent rewards: [-0.26961469833501356, -0.04446627877387498, -0.4171160987573181, -0.03764468266055017]\n"
     ]
    },
    {
     "name": "stderr",
     "output_type": "stream",
     "text": [
      "Training:  25%|██▌       | 25005/100000 [21:28<1:04:34, 19.35it/s]"
     ]
    },
    {
     "name": "stdout",
     "output_type": "stream",
     "text": [
      "\n",
      "Episode 25000:\n",
      "Epsilon: 0.100\n",
      "Memory sizes: [20000, 20000, 20000, 20000]\n",
      "Recent rewards: [-0.11140632422233265, -0.10794484743358684, -0.47189976876648315, -0.17896793673526845]\n"
     ]
    },
    {
     "name": "stderr",
     "output_type": "stream",
     "text": [
      "Training:  25%|██▌       | 25103/100000 [21:33<1:03:47, 19.57it/s]"
     ]
    },
    {
     "name": "stdout",
     "output_type": "stream",
     "text": [
      "\n",
      "Episode 25100:\n",
      "Epsilon: 0.100\n",
      "Memory sizes: [20000, 20000, 20000, 20000]\n",
      "Recent rewards: [-0.259264975087316, -0.10801329165666615, -0.40976004793183995, -0.058735478188641395]\n"
     ]
    },
    {
     "name": "stderr",
     "output_type": "stream",
     "text": [
      "Training:  25%|██▌       | 25203/100000 [21:38<1:03:41, 19.57it/s]"
     ]
    },
    {
     "name": "stdout",
     "output_type": "stream",
     "text": [
      "\n",
      "Episode 25200:\n",
      "Epsilon: 0.100\n",
      "Memory sizes: [20000, 20000, 20000, 20000]\n",
      "Recent rewards: [-0.1905189004117369, -0.17088394908280397, -0.3685511840938592, -0.31264363147364]\n"
     ]
    },
    {
     "name": "stderr",
     "output_type": "stream",
     "text": [
      "Training:  25%|██▌       | 25304/100000 [21:44<1:04:51, 19.20it/s]"
     ]
    },
    {
     "name": "stdout",
     "output_type": "stream",
     "text": [
      "\n",
      "Episode 25300:\n",
      "Epsilon: 0.100\n",
      "Memory sizes: [20000, 20000, 20000, 20000]\n",
      "Recent rewards: [-0.2796178473553335, -0.0742054821986978, -0.4348533435686187, -0.27155083535699204]\n"
     ]
    },
    {
     "name": "stderr",
     "output_type": "stream",
     "text": [
      "Training:  25%|██▌       | 25404/100000 [21:49<1:04:46, 19.20it/s]"
     ]
    },
    {
     "name": "stdout",
     "output_type": "stream",
     "text": [
      "\n",
      "Episode 25400:\n",
      "Epsilon: 0.100\n",
      "Memory sizes: [20000, 20000, 20000, 20000]\n",
      "Recent rewards: [-0.12727979463980701, -0.08804268898370843, -0.5157904622931695, -0.09000037016139155]\n"
     ]
    },
    {
     "name": "stderr",
     "output_type": "stream",
     "text": [
      "Training:  26%|██▌       | 25504/100000 [21:54<1:04:51, 19.15it/s]"
     ]
    },
    {
     "name": "stdout",
     "output_type": "stream",
     "text": [
      "\n",
      "Episode 25500:\n",
      "Epsilon: 0.100\n",
      "Memory sizes: [20000, 20000, 20000, 20000]\n",
      "Recent rewards: [-0.1825859944403346, -0.14591672665266453, -0.47957178868497957, -0.2716692764674223]\n"
     ]
    },
    {
     "name": "stderr",
     "output_type": "stream",
     "text": [
      "Training:  26%|██▌       | 25603/100000 [22:00<1:06:19, 18.70it/s]"
     ]
    },
    {
     "name": "stdout",
     "output_type": "stream",
     "text": [
      "\n",
      "Episode 25600:\n",
      "Epsilon: 0.100\n",
      "Memory sizes: [20000, 20000, 20000, 20000]\n",
      "Recent rewards: [-0.1669353567756448, -0.143604358915148, -0.3539164019562373, -0.146821718821816]\n"
     ]
    },
    {
     "name": "stderr",
     "output_type": "stream",
     "text": [
      "Training:  26%|██▌       | 25703/100000 [22:05<1:08:40, 18.03it/s]"
     ]
    },
    {
     "name": "stdout",
     "output_type": "stream",
     "text": [
      "\n",
      "Episode 25700:\n",
      "Epsilon: 0.100\n",
      "Memory sizes: [20000, 20000, 20000, 20000]\n",
      "Recent rewards: [-0.3598861123967604, -0.10647099172547976, -0.34746301561349496, -0.22213153757039839]\n"
     ]
    },
    {
     "name": "stderr",
     "output_type": "stream",
     "text": [
      "Training:  26%|██▌       | 25804/100000 [22:11<1:07:32, 18.31it/s]"
     ]
    },
    {
     "name": "stdout",
     "output_type": "stream",
     "text": [
      "\n",
      "Episode 25800:\n",
      "Epsilon: 0.100\n",
      "Memory sizes: [20000, 20000, 20000, 20000]\n",
      "Recent rewards: [-0.25627784243443885, -0.23401833742314934, -0.35810931377558775, -0.24065809870047086]\n"
     ]
    },
    {
     "name": "stderr",
     "output_type": "stream",
     "text": [
      "Training:  26%|██▌       | 25903/100000 [22:16<1:13:24, 16.82it/s]"
     ]
    },
    {
     "name": "stdout",
     "output_type": "stream",
     "text": [
      "\n",
      "Episode 25900:\n",
      "Epsilon: 0.100\n",
      "Memory sizes: [20000, 20000, 20000, 20000]\n",
      "Recent rewards: [-0.09539317562483786, -0.19891043557955332, -0.43160935042905463, -0.2002167191115999]\n"
     ]
    },
    {
     "name": "stderr",
     "output_type": "stream",
     "text": [
      "Training:  26%|██▌       | 26003/100000 [22:22<1:14:17, 16.60it/s]"
     ]
    },
    {
     "name": "stdout",
     "output_type": "stream",
     "text": [
      "\n",
      "Episode 26000:\n",
      "Epsilon: 0.100\n",
      "Memory sizes: [20000, 20000, 20000, 20000]\n",
      "Recent rewards: [-0.3286557247145647, -0.1421102810501032, -0.17183140227345425, -0.27045496254447654]\n"
     ]
    },
    {
     "name": "stderr",
     "output_type": "stream",
     "text": [
      "Training:  26%|██▌       | 26103/100000 [22:28<1:09:58, 17.60it/s]"
     ]
    },
    {
     "name": "stdout",
     "output_type": "stream",
     "text": [
      "\n",
      "Episode 26100:\n",
      "Epsilon: 0.100\n",
      "Memory sizes: [20000, 20000, 20000, 20000]\n",
      "Recent rewards: [-0.29167934321651323, -0.11904286369863479, -0.4278608076413659, -0.16120031952065975]\n"
     ]
    },
    {
     "name": "stderr",
     "output_type": "stream",
     "text": [
      "Training:  26%|██▌       | 26203/100000 [22:33<1:05:22, 18.81it/s]"
     ]
    },
    {
     "name": "stdout",
     "output_type": "stream",
     "text": [
      "\n",
      "Episode 26200:\n",
      "Epsilon: 0.100\n",
      "Memory sizes: [20000, 20000, 20000, 20000]\n",
      "Recent rewards: [-0.35415251298097994, -0.10229759223077918, -0.34650479597406153, -0.15087113313384146]\n"
     ]
    },
    {
     "name": "stderr",
     "output_type": "stream",
     "text": [
      "Training:  26%|██▋       | 26305/100000 [22:39<1:06:49, 18.38it/s]"
     ]
    },
    {
     "name": "stdout",
     "output_type": "stream",
     "text": [
      "\n",
      "Episode 26300:\n",
      "Epsilon: 0.100\n",
      "Memory sizes: [20000, 20000, 20000, 20000]\n",
      "Recent rewards: [-0.3646098404649149, -0.08028442234235492, -0.29472170572972206, -0.22765406454410528]\n"
     ]
    },
    {
     "name": "stderr",
     "output_type": "stream",
     "text": [
      "Training:  26%|██▋       | 26403/100000 [22:45<1:15:01, 16.35it/s]"
     ]
    },
    {
     "name": "stdout",
     "output_type": "stream",
     "text": [
      "\n",
      "Episode 26400:\n",
      "Epsilon: 0.100\n",
      "Memory sizes: [20000, 20000, 20000, 20000]\n",
      "Recent rewards: [-0.161191278466928, -0.15950707560366548, -0.39219613316417123, -0.23287777864634035]\n"
     ]
    },
    {
     "name": "stderr",
     "output_type": "stream",
     "text": [
      "Training:  27%|██▋       | 26505/100000 [22:50<1:06:49, 18.33it/s]"
     ]
    },
    {
     "name": "stdout",
     "output_type": "stream",
     "text": [
      "\n",
      "Episode 26500:\n",
      "Epsilon: 0.100\n",
      "Memory sizes: [20000, 20000, 20000, 20000]\n",
      "Recent rewards: [-0.07133699246900903, -0.18089895318739888, -0.42512860392010693, -0.2834286016611942]\n"
     ]
    },
    {
     "name": "stderr",
     "output_type": "stream",
     "text": [
      "Training:  27%|██▋       | 26604/100000 [22:56<1:08:55, 17.75it/s]"
     ]
    },
    {
     "name": "stdout",
     "output_type": "stream",
     "text": [
      "\n",
      "Episode 26600:\n",
      "Epsilon: 0.100\n",
      "Memory sizes: [20000, 20000, 20000, 20000]\n",
      "Recent rewards: [-0.21580756992779512, -0.1895253525777646, -0.44087663017550716, -0.3571457932870178]\n"
     ]
    },
    {
     "name": "stderr",
     "output_type": "stream",
     "text": [
      "Training:  27%|██▋       | 26703/100000 [23:01<1:04:58, 18.80it/s]"
     ]
    },
    {
     "name": "stdout",
     "output_type": "stream",
     "text": [
      "\n",
      "Episode 26700:\n",
      "Epsilon: 0.100\n",
      "Memory sizes: [20000, 20000, 20000, 20000]\n",
      "Recent rewards: [-0.2828640306315575, -0.14460819589887058, -0.4190933653142956, -0.1423208045024053]\n"
     ]
    },
    {
     "name": "stderr",
     "output_type": "stream",
     "text": [
      "Training:  27%|██▋       | 26804/100000 [23:07<1:09:49, 17.47it/s]"
     ]
    },
    {
     "name": "stdout",
     "output_type": "stream",
     "text": [
      "\n",
      "Episode 26800:\n",
      "Epsilon: 0.100\n",
      "Memory sizes: [20000, 20000, 20000, 20000]\n",
      "Recent rewards: [-0.23978822416657303, -0.1030330556976276, -0.5485785330508541, -0.10012823217195496]\n"
     ]
    },
    {
     "name": "stderr",
     "output_type": "stream",
     "text": [
      "Training:  27%|██▋       | 26904/100000 [23:13<1:09:31, 17.52it/s]"
     ]
    },
    {
     "name": "stdout",
     "output_type": "stream",
     "text": [
      "\n",
      "Episode 26900:\n",
      "Epsilon: 0.100\n",
      "Memory sizes: [20000, 20000, 20000, 20000]\n",
      "Recent rewards: [-0.27938861679003013, -0.13566878017010536, -0.3226177468660865, -0.286033135849024]\n"
     ]
    },
    {
     "name": "stderr",
     "output_type": "stream",
     "text": [
      "Training:  27%|██▋       | 27004/100000 [23:18<1:11:50, 16.93it/s]"
     ]
    },
    {
     "name": "stdout",
     "output_type": "stream",
     "text": [
      "\n",
      "Episode 27000:\n",
      "Epsilon: 0.100\n",
      "Memory sizes: [20000, 20000, 20000, 20000]\n",
      "Recent rewards: [-0.2553083136673112, -0.12455133429886482, -0.4890484156361014, -0.08965396202774426]\n"
     ]
    },
    {
     "name": "stderr",
     "output_type": "stream",
     "text": [
      "Training:  27%|██▋       | 27104/100000 [23:24<1:09:30, 17.48it/s]"
     ]
    },
    {
     "name": "stdout",
     "output_type": "stream",
     "text": [
      "\n",
      "Episode 27100:\n",
      "Epsilon: 0.100\n",
      "Memory sizes: [20000, 20000, 20000, 20000]\n",
      "Recent rewards: [-0.3179468066546923, -0.15428103690273084, -0.33016733394223785, -0.2114030064351181]\n"
     ]
    },
    {
     "name": "stderr",
     "output_type": "stream",
     "text": [
      "Training:  27%|██▋       | 27204/100000 [23:29<1:06:47, 18.16it/s]"
     ]
    },
    {
     "name": "stdout",
     "output_type": "stream",
     "text": [
      "\n",
      "Episode 27200:\n",
      "Epsilon: 0.100\n",
      "Memory sizes: [20000, 20000, 20000, 20000]\n",
      "Recent rewards: [-0.2532489338776458, -0.03189925733929562, -0.3925314768643443, -0.21973183352022915]\n"
     ]
    },
    {
     "name": "stderr",
     "output_type": "stream",
     "text": [
      "Training:  27%|██▋       | 27304/100000 [23:35<1:07:10, 18.04it/s]"
     ]
    },
    {
     "name": "stdout",
     "output_type": "stream",
     "text": [
      "\n",
      "Episode 27300:\n",
      "Epsilon: 0.100\n",
      "Memory sizes: [20000, 20000, 20000, 20000]\n",
      "Recent rewards: [-0.5033858726781513, -0.06711846356891804, -0.3936933617668485, -0.11398392179191892]\n"
     ]
    },
    {
     "name": "stderr",
     "output_type": "stream",
     "text": [
      "Training:  27%|██▋       | 27404/100000 [23:41<1:05:21, 18.51it/s]"
     ]
    },
    {
     "name": "stdout",
     "output_type": "stream",
     "text": [
      "\n",
      "Episode 27400:\n",
      "Epsilon: 0.100\n",
      "Memory sizes: [20000, 20000, 20000, 20000]\n",
      "Recent rewards: [-0.27023710398949674, -0.09845453151851981, -0.42849842734220767, -0.23088582645365707]\n"
     ]
    },
    {
     "name": "stderr",
     "output_type": "stream",
     "text": [
      "Training:  28%|██▊       | 27504/100000 [23:46<1:08:20, 17.68it/s]"
     ]
    },
    {
     "name": "stdout",
     "output_type": "stream",
     "text": [
      "\n",
      "Episode 27500:\n",
      "Epsilon: 0.100\n",
      "Memory sizes: [20000, 20000, 20000, 20000]\n",
      "Recent rewards: [-0.24815598412620207, -0.10546357173128146, -0.3785536159063789, -0.32771614187596737]\n"
     ]
    },
    {
     "name": "stderr",
     "output_type": "stream",
     "text": [
      "Training:  28%|██▊       | 27604/100000 [23:52<1:07:52, 17.78it/s]"
     ]
    },
    {
     "name": "stdout",
     "output_type": "stream",
     "text": [
      "\n",
      "Episode 27600:\n",
      "Epsilon: 0.100\n",
      "Memory sizes: [20000, 20000, 20000, 20000]\n",
      "Recent rewards: [-0.2978611006887846, -0.17233500562342388, -0.37407494642300376, -0.19189272453842032]\n"
     ]
    },
    {
     "name": "stderr",
     "output_type": "stream",
     "text": [
      "Training:  28%|██▊       | 27703/100000 [23:58<1:15:53, 15.88it/s]"
     ]
    },
    {
     "name": "stdout",
     "output_type": "stream",
     "text": [
      "\n",
      "Episode 27700:\n",
      "Epsilon: 0.100\n",
      "Memory sizes: [20000, 20000, 20000, 20000]\n",
      "Recent rewards: [-0.2822695408944393, -0.08366762551796297, -0.34021520232797847, -0.21117224227368467]\n"
     ]
    },
    {
     "name": "stderr",
     "output_type": "stream",
     "text": [
      "Training:  28%|██▊       | 27803/100000 [24:03<1:11:06, 16.92it/s]"
     ]
    },
    {
     "name": "stdout",
     "output_type": "stream",
     "text": [
      "\n",
      "Episode 27800:\n",
      "Epsilon: 0.100\n",
      "Memory sizes: [20000, 20000, 20000, 20000]\n",
      "Recent rewards: [-0.2864626763912039, -0.0715949311391812, -0.39697743177212386, -0.2422550275085534]\n"
     ]
    },
    {
     "name": "stderr",
     "output_type": "stream",
     "text": [
      "Training:  28%|██▊       | 27903/100000 [24:09<1:02:59, 19.08it/s]"
     ]
    },
    {
     "name": "stdout",
     "output_type": "stream",
     "text": [
      "\n",
      "Episode 27900:\n",
      "Epsilon: 0.100\n",
      "Memory sizes: [20000, 20000, 20000, 20000]\n",
      "Recent rewards: [-0.31894546433648985, -0.12168388880391313, -0.45527374771576995, -0.12092821246697141]\n"
     ]
    },
    {
     "name": "stderr",
     "output_type": "stream",
     "text": [
      "Training:  28%|██▊       | 28004/100000 [24:15<1:18:52, 15.21it/s]"
     ]
    },
    {
     "name": "stdout",
     "output_type": "stream",
     "text": [
      "\n",
      "Episode 28000:\n",
      "Epsilon: 0.100\n",
      "Memory sizes: [20000, 20000, 20000, 20000]\n",
      "Recent rewards: [-0.44652535720517794, -0.032594813413175966, -0.37420377883023886, -0.08800328056342437]\n"
     ]
    },
    {
     "name": "stderr",
     "output_type": "stream",
     "text": [
      "Training:  28%|██▊       | 28103/100000 [24:21<1:14:58, 15.98it/s]"
     ]
    },
    {
     "name": "stdout",
     "output_type": "stream",
     "text": [
      "\n",
      "Episode 28100:\n",
      "Epsilon: 0.100\n",
      "Memory sizes: [20000, 20000, 20000, 20000]\n",
      "Recent rewards: [-0.35259852512219925, -0.09261458993475553, -0.472135956777186, -0.1823466153276728]\n"
     ]
    },
    {
     "name": "stderr",
     "output_type": "stream",
     "text": [
      "Training:  28%|██▊       | 28203/100000 [24:27<1:19:13, 15.10it/s]"
     ]
    },
    {
     "name": "stdout",
     "output_type": "stream",
     "text": [
      "\n",
      "Episode 28200:\n",
      "Epsilon: 0.100\n",
      "Memory sizes: [20000, 20000, 20000, 20000]\n",
      "Recent rewards: [-0.13149379688960525, -0.1777075562387972, -0.48008101299666733, -0.1785976482757981]\n"
     ]
    },
    {
     "name": "stderr",
     "output_type": "stream",
     "text": [
      "Training:  28%|██▊       | 28303/100000 [24:33<1:07:41, 17.65it/s]"
     ]
    },
    {
     "name": "stdout",
     "output_type": "stream",
     "text": [
      "\n",
      "Episode 28300:\n",
      "Epsilon: 0.100\n",
      "Memory sizes: [20000, 20000, 20000, 20000]\n",
      "Recent rewards: [-0.2807886443815338, -0.1373606832681956, -0.2899683028977462, -0.2725024352667493]\n"
     ]
    },
    {
     "name": "stderr",
     "output_type": "stream",
     "text": [
      "Training:  28%|██▊       | 28403/100000 [24:39<1:21:34, 14.63it/s]"
     ]
    },
    {
     "name": "stdout",
     "output_type": "stream",
     "text": [
      "\n",
      "Episode 28400:\n",
      "Epsilon: 0.100\n",
      "Memory sizes: [20000, 20000, 20000, 20000]\n",
      "Recent rewards: [-0.3128871948417536, -0.06871241284042022, -0.3178775595358099, -0.35309814877680024]\n"
     ]
    },
    {
     "name": "stderr",
     "output_type": "stream",
     "text": [
      "Training:  29%|██▊       | 28503/100000 [24:45<1:11:46, 16.60it/s]"
     ]
    },
    {
     "name": "stdout",
     "output_type": "stream",
     "text": [
      "\n",
      "Episode 28500:\n",
      "Epsilon: 0.100\n",
      "Memory sizes: [20000, 20000, 20000, 20000]\n",
      "Recent rewards: [-0.34786866839514147, -0.0602404507755341, -0.4283106411066118, -0.18295271263786322]\n"
     ]
    },
    {
     "name": "stderr",
     "output_type": "stream",
     "text": [
      "Training:  29%|██▊       | 28603/100000 [24:51<1:19:38, 14.94it/s]"
     ]
    },
    {
     "name": "stdout",
     "output_type": "stream",
     "text": [
      "\n",
      "Episode 28600:\n",
      "Epsilon: 0.100\n",
      "Memory sizes: [20000, 20000, 20000, 20000]\n",
      "Recent rewards: [-0.22485260460946258, -0.14424733034244075, -0.511192614052072, -0.1677217154172572]\n"
     ]
    },
    {
     "name": "stderr",
     "output_type": "stream",
     "text": [
      "Training:  29%|██▊       | 28703/100000 [24:57<1:08:27, 17.36it/s]"
     ]
    },
    {
     "name": "stdout",
     "output_type": "stream",
     "text": [
      "\n",
      "Episode 28700:\n",
      "Epsilon: 0.100\n",
      "Memory sizes: [20000, 20000, 20000, 20000]\n",
      "Recent rewards: [-0.37260696900834084, -0.026368090291094055, -0.48961385808472185, -0.20851509949814623]\n"
     ]
    },
    {
     "name": "stderr",
     "output_type": "stream",
     "text": [
      "Training:  29%|██▉       | 28804/100000 [25:02<1:03:23, 18.72it/s]"
     ]
    },
    {
     "name": "stdout",
     "output_type": "stream",
     "text": [
      "\n",
      "Episode 28800:\n",
      "Epsilon: 0.100\n",
      "Memory sizes: [20000, 20000, 20000, 20000]\n",
      "Recent rewards: [-0.15384362171326327, -0.0026040079721752264, -0.30570328665543445, -0.4131612630403779]\n"
     ]
    },
    {
     "name": "stderr",
     "output_type": "stream",
     "text": [
      "Training:  29%|██▉       | 28904/100000 [25:08<1:02:41, 18.90it/s]"
     ]
    },
    {
     "name": "stdout",
     "output_type": "stream",
     "text": [
      "\n",
      "Episode 28900:\n",
      "Epsilon: 0.100\n",
      "Memory sizes: [20000, 20000, 20000, 20000]\n",
      "Recent rewards: [-0.17973369959992816, -0.13933036892908318, -0.391904851147358, -0.25116667585022756]\n"
     ]
    },
    {
     "name": "stderr",
     "output_type": "stream",
     "text": [
      "Training:  29%|██▉       | 29004/100000 [25:13<1:03:05, 18.76it/s]"
     ]
    },
    {
     "name": "stdout",
     "output_type": "stream",
     "text": [
      "\n",
      "Episode 29000:\n",
      "Epsilon: 0.100\n",
      "Memory sizes: [20000, 20000, 20000, 20000]\n",
      "Recent rewards: [-0.3362973765584586, -0.064585303456896, -0.4344996285896432, -0.20158289591230727]\n"
     ]
    },
    {
     "name": "stderr",
     "output_type": "stream",
     "text": [
      "Training:  29%|██▉       | 29104/100000 [25:19<1:02:00, 19.06it/s]"
     ]
    },
    {
     "name": "stdout",
     "output_type": "stream",
     "text": [
      "\n",
      "Episode 29100:\n",
      "Epsilon: 0.100\n",
      "Memory sizes: [20000, 20000, 20000, 20000]\n",
      "Recent rewards: [-0.22727174524112667, -0.16163265563266754, -0.471814629876019, -0.14410925504836472]\n"
     ]
    },
    {
     "name": "stderr",
     "output_type": "stream",
     "text": [
      "Training:  29%|██▉       | 29204/100000 [25:24<1:03:41, 18.53it/s]"
     ]
    },
    {
     "name": "stdout",
     "output_type": "stream",
     "text": [
      "\n",
      "Episode 29200:\n",
      "Epsilon: 0.100\n",
      "Memory sizes: [20000, 20000, 20000, 20000]\n",
      "Recent rewards: [-0.2870093093606791, -0.12412277215221819, -0.311237488024832, -0.21273152214609165]\n"
     ]
    },
    {
     "name": "stderr",
     "output_type": "stream",
     "text": [
      "Training:  29%|██▉       | 29302/100000 [25:29<1:01:38, 19.12it/s]"
     ]
    },
    {
     "name": "stdout",
     "output_type": "stream",
     "text": [
      "\n",
      "Episode 29300:\n",
      "Epsilon: 0.100\n",
      "Memory sizes: [20000, 20000, 20000, 20000]\n",
      "Recent rewards: [-0.33121811855875377, -0.12803571709333386, -0.3876847232713021, -0.36702039290343147]\n"
     ]
    },
    {
     "name": "stderr",
     "output_type": "stream",
     "text": [
      "Training:  29%|██▉       | 29404/100000 [25:35<1:05:38, 17.93it/s]"
     ]
    },
    {
     "name": "stdout",
     "output_type": "stream",
     "text": [
      "\n",
      "Episode 29400:\n",
      "Epsilon: 0.100\n",
      "Memory sizes: [20000, 20000, 20000, 20000]\n",
      "Recent rewards: [-0.1289950655990857, -0.14600205235509947, -0.40686390198336525, -0.38932525241558946]\n"
     ]
    },
    {
     "name": "stderr",
     "output_type": "stream",
     "text": [
      "Training:  30%|██▉       | 29504/100000 [25:41<1:02:48, 18.71it/s]"
     ]
    },
    {
     "name": "stdout",
     "output_type": "stream",
     "text": [
      "\n",
      "Episode 29500:\n",
      "Epsilon: 0.100\n",
      "Memory sizes: [20000, 20000, 20000, 20000]\n",
      "Recent rewards: [-0.02319701409785153, -0.07945627482894278, -0.4547143168583615, -0.3806478732454094]\n"
     ]
    },
    {
     "name": "stderr",
     "output_type": "stream",
     "text": [
      "Training:  30%|██▉       | 29604/100000 [25:46<1:01:51, 18.97it/s]"
     ]
    },
    {
     "name": "stdout",
     "output_type": "stream",
     "text": [
      "\n",
      "Episode 29600:\n",
      "Epsilon: 0.100\n",
      "Memory sizes: [20000, 20000, 20000, 20000]\n",
      "Recent rewards: [-0.24545103395179177, -0.07748445785424667, -0.2355845363786257, -0.44384698443345644]\n"
     ]
    },
    {
     "name": "stderr",
     "output_type": "stream",
     "text": [
      "Training:  30%|██▉       | 29704/100000 [25:51<1:02:40, 18.70it/s]"
     ]
    },
    {
     "name": "stdout",
     "output_type": "stream",
     "text": [
      "\n",
      "Episode 29700:\n",
      "Epsilon: 0.100\n",
      "Memory sizes: [20000, 20000, 20000, 20000]\n",
      "Recent rewards: [-0.28905746415378747, -0.060343582741682875, -0.33486425288549976, -0.36154260368923535]\n"
     ]
    },
    {
     "name": "stderr",
     "output_type": "stream",
     "text": [
      "Training:  30%|██▉       | 29803/100000 [25:57<1:05:40, 17.81it/s]"
     ]
    },
    {
     "name": "stdout",
     "output_type": "stream",
     "text": [
      "\n",
      "Episode 29800:\n",
      "Epsilon: 0.100\n",
      "Memory sizes: [20000, 20000, 20000, 20000]\n",
      "Recent rewards: [-0.08982948256758685, -0.0645255917628059, -0.4094479018866639, -0.3377446455438776]\n"
     ]
    },
    {
     "name": "stderr",
     "output_type": "stream",
     "text": [
      "Training:  30%|██▉       | 29903/100000 [26:02<1:04:49, 18.02it/s]"
     ]
    },
    {
     "name": "stdout",
     "output_type": "stream",
     "text": [
      "\n",
      "Episode 29900:\n",
      "Epsilon: 0.100\n",
      "Memory sizes: [20000, 20000, 20000, 20000]\n",
      "Recent rewards: [-0.04021278124997149, -0.08970046538489262, -0.4100862665064933, -0.26343090198911556]\n"
     ]
    },
    {
     "name": "stderr",
     "output_type": "stream",
     "text": [
      "Training:  30%|███       | 30004/100000 [26:08<1:01:54, 18.85it/s]"
     ]
    },
    {
     "name": "stdout",
     "output_type": "stream",
     "text": [
      "\n",
      "Episode 30000:\n",
      "Epsilon: 0.100\n",
      "Memory sizes: [20000, 20000, 20000, 20000]\n",
      "Recent rewards: [-0.10670200871966777, -0.1339993803146667, -0.3676667097914732, -0.529549700297013]\n",
      "Checkpoint saved at episode 30000\n"
     ]
    },
    {
     "name": "stderr",
     "output_type": "stream",
     "text": [
      "Training:  30%|███       | 30104/100000 [26:13<1:10:16, 16.58it/s]"
     ]
    },
    {
     "name": "stdout",
     "output_type": "stream",
     "text": [
      "\n",
      "Episode 30100:\n",
      "Epsilon: 0.100\n",
      "Memory sizes: [20000, 20000, 20000, 20000]\n",
      "Recent rewards: [-0.12497410514774504, -0.195369884807061, -0.3918028240447428, -0.41730206796342356]\n"
     ]
    },
    {
     "name": "stderr",
     "output_type": "stream",
     "text": [
      "Training:  30%|███       | 30204/100000 [26:19<1:01:34, 18.89it/s]"
     ]
    },
    {
     "name": "stdout",
     "output_type": "stream",
     "text": [
      "\n",
      "Episode 30200:\n",
      "Epsilon: 0.100\n",
      "Memory sizes: [20000, 20000, 20000, 20000]\n",
      "Recent rewards: [0.05372070072272188, -0.2542403710311507, -0.3594729638329504, -0.45710076926598925]\n"
     ]
    },
    {
     "name": "stderr",
     "output_type": "stream",
     "text": [
      "Training:  30%|███       | 30304/100000 [26:24<1:01:36, 18.86it/s]"
     ]
    },
    {
     "name": "stdout",
     "output_type": "stream",
     "text": [
      "\n",
      "Episode 30300:\n",
      "Epsilon: 0.100\n",
      "Memory sizes: [20000, 20000, 20000, 20000]\n",
      "Recent rewards: [-0.0032766367762928255, -0.13232942442827564, -0.4201729204843875, -0.48591326896584763]\n"
     ]
    },
    {
     "name": "stderr",
     "output_type": "stream",
     "text": [
      "Training:  30%|███       | 30403/100000 [26:29<1:03:50, 18.17it/s]"
     ]
    },
    {
     "name": "stdout",
     "output_type": "stream",
     "text": [
      "\n",
      "Episode 30400:\n",
      "Epsilon: 0.100\n",
      "Memory sizes: [20000, 20000, 20000, 20000]\n",
      "Recent rewards: [0.027444332483884764, -0.12321821261048192, -0.4984588018411802, -0.3624000141081798]\n"
     ]
    },
    {
     "name": "stderr",
     "output_type": "stream",
     "text": [
      "Training:  31%|███       | 30503/100000 [26:35<1:09:12, 16.74it/s]"
     ]
    },
    {
     "name": "stdout",
     "output_type": "stream",
     "text": [
      "\n",
      "Episode 30500:\n",
      "Epsilon: 0.100\n",
      "Memory sizes: [20000, 20000, 20000, 20000]\n",
      "Recent rewards: [-0.21746096418250666, -0.17319457167208044, -0.32473580063669133, -0.2940474488023607]\n"
     ]
    },
    {
     "name": "stderr",
     "output_type": "stream",
     "text": [
      "Training:  31%|███       | 30604/100000 [26:41<1:03:42, 18.16it/s]"
     ]
    },
    {
     "name": "stdout",
     "output_type": "stream",
     "text": [
      "\n",
      "Episode 30600:\n",
      "Epsilon: 0.100\n",
      "Memory sizes: [20000, 20000, 20000, 20000]\n",
      "Recent rewards: [-0.15964267899529727, -0.21761990357175964, -0.31412909226358615, -0.2956069371271087]\n"
     ]
    },
    {
     "name": "stderr",
     "output_type": "stream",
     "text": [
      "Training:  31%|███       | 30703/100000 [26:46<1:03:59, 18.05it/s]"
     ]
    },
    {
     "name": "stdout",
     "output_type": "stream",
     "text": [
      "\n",
      "Episode 30700:\n",
      "Epsilon: 0.100\n",
      "Memory sizes: [20000, 20000, 20000, 20000]\n",
      "Recent rewards: [0.010261613448515497, -0.2839285160774996, -0.48834805345969906, -0.40569529118205183]\n"
     ]
    },
    {
     "name": "stderr",
     "output_type": "stream",
     "text": [
      "Training:  31%|███       | 30803/100000 [26:51<1:00:22, 19.10it/s]"
     ]
    },
    {
     "name": "stdout",
     "output_type": "stream",
     "text": [
      "\n",
      "Episode 30800:\n",
      "Epsilon: 0.100\n",
      "Memory sizes: [20000, 20000, 20000, 20000]\n",
      "Recent rewards: [-0.003442910202891186, -0.14345659821559642, -0.4041894293270023, -0.4389991528596157]\n"
     ]
    },
    {
     "name": "stderr",
     "output_type": "stream",
     "text": [
      "Training:  31%|███       | 30903/100000 [26:57<1:03:40, 18.09it/s]"
     ]
    },
    {
     "name": "stdout",
     "output_type": "stream",
     "text": [
      "\n",
      "Episode 30900:\n",
      "Epsilon: 0.100\n",
      "Memory sizes: [20000, 20000, 20000, 20000]\n",
      "Recent rewards: [0.01614708044099566, -0.3160316794423973, -0.2740625758842867, -0.5181115651408692]\n"
     ]
    },
    {
     "name": "stderr",
     "output_type": "stream",
     "text": [
      "Training:  31%|███       | 31003/100000 [27:02<1:05:39, 17.51it/s]"
     ]
    },
    {
     "name": "stdout",
     "output_type": "stream",
     "text": [
      "\n",
      "Episode 31000:\n",
      "Epsilon: 0.100\n",
      "Memory sizes: [20000, 20000, 20000, 20000]\n",
      "Recent rewards: [-0.1654002021184619, -0.20360785048286242, -0.4306134080782416, -0.2683101903992673]\n"
     ]
    },
    {
     "name": "stderr",
     "output_type": "stream",
     "text": [
      "Training:  31%|███       | 31103/100000 [27:08<1:06:47, 17.19it/s]"
     ]
    },
    {
     "name": "stdout",
     "output_type": "stream",
     "text": [
      "\n",
      "Episode 31100:\n",
      "Epsilon: 0.100\n",
      "Memory sizes: [20000, 20000, 20000, 20000]\n",
      "Recent rewards: [0.005710249978241615, -0.2085358834269481, -0.4197991903892811, -0.3518330298165433]\n"
     ]
    },
    {
     "name": "stderr",
     "output_type": "stream",
     "text": [
      "Training:  31%|███       | 31204/100000 [27:13<1:05:38, 17.47it/s]"
     ]
    },
    {
     "name": "stdout",
     "output_type": "stream",
     "text": [
      "\n",
      "Episode 31200:\n",
      "Epsilon: 0.100\n",
      "Memory sizes: [20000, 20000, 20000, 20000]\n",
      "Recent rewards: [-0.2445576901821451, -0.06935934832650954, -0.14081206420816778, -0.3285712019948203]\n"
     ]
    },
    {
     "name": "stderr",
     "output_type": "stream",
     "text": [
      "Training:  31%|███▏      | 31304/100000 [27:19<1:02:57, 18.19it/s]"
     ]
    },
    {
     "name": "stdout",
     "output_type": "stream",
     "text": [
      "\n",
      "Episode 31300:\n",
      "Epsilon: 0.100\n",
      "Memory sizes: [20000, 20000, 20000, 20000]\n",
      "Recent rewards: [-0.08997863398142762, -0.23256161284650653, -0.3891508980455811, -0.2921843560556031]\n"
     ]
    },
    {
     "name": "stderr",
     "output_type": "stream",
     "text": [
      "Training:  31%|███▏      | 31405/100000 [27:24<59:41, 19.15it/s]  "
     ]
    },
    {
     "name": "stdout",
     "output_type": "stream",
     "text": [
      "\n",
      "Episode 31400:\n",
      "Epsilon: 0.100\n",
      "Memory sizes: [20000, 20000, 20000, 20000]\n",
      "Recent rewards: [-0.08155147844498532, -0.10121812747778446, -0.48413411689779984, -0.22820167133866548]\n"
     ]
    },
    {
     "name": "stderr",
     "output_type": "stream",
     "text": [
      "Training:  32%|███▏      | 31504/100000 [27:30<1:02:57, 18.13it/s]"
     ]
    },
    {
     "name": "stdout",
     "output_type": "stream",
     "text": [
      "\n",
      "Episode 31500:\n",
      "Epsilon: 0.100\n",
      "Memory sizes: [20000, 20000, 20000, 20000]\n",
      "Recent rewards: [0.055363607334764336, -0.22154229591768412, -0.39963912243794364, -0.3969862489551168]\n"
     ]
    },
    {
     "name": "stderr",
     "output_type": "stream",
     "text": [
      "Training:  32%|███▏      | 31604/100000 [27:36<1:00:25, 18.87it/s]"
     ]
    },
    {
     "name": "stdout",
     "output_type": "stream",
     "text": [
      "\n",
      "Episode 31600:\n",
      "Epsilon: 0.100\n",
      "Memory sizes: [20000, 20000, 20000, 20000]\n",
      "Recent rewards: [-0.24769408649924593, -0.2244669275723689, -0.4045803030035311, -0.08902803711678228]\n"
     ]
    },
    {
     "name": "stderr",
     "output_type": "stream",
     "text": [
      "Training:  32%|███▏      | 31704/100000 [27:41<1:01:12, 18.60it/s]"
     ]
    },
    {
     "name": "stdout",
     "output_type": "stream",
     "text": [
      "\n",
      "Episode 31700:\n",
      "Epsilon: 0.100\n",
      "Memory sizes: [20000, 20000, 20000, 20000]\n",
      "Recent rewards: [0.061903885402360116, -0.21444439733677403, -0.5233893730911051, -0.47249421904326633]\n"
     ]
    },
    {
     "name": "stderr",
     "output_type": "stream",
     "text": [
      "Training:  32%|███▏      | 31803/100000 [27:46<1:00:21, 18.83it/s]"
     ]
    },
    {
     "name": "stdout",
     "output_type": "stream",
     "text": [
      "\n",
      "Episode 31800:\n",
      "Epsilon: 0.100\n",
      "Memory sizes: [20000, 20000, 20000, 20000]\n",
      "Recent rewards: [-0.1115523882370371, -0.10718225934444804, -0.2742600116731317, -0.389311622235394]\n"
     ]
    },
    {
     "name": "stderr",
     "output_type": "stream",
     "text": [
      "Training:  32%|███▏      | 31903/100000 [27:52<1:01:05, 18.58it/s]"
     ]
    },
    {
     "name": "stdout",
     "output_type": "stream",
     "text": [
      "\n",
      "Episode 31900:\n",
      "Epsilon: 0.100\n",
      "Memory sizes: [20000, 20000, 20000, 20000]\n",
      "Recent rewards: [0.0024257971964888668, -0.06845261747947948, -0.2785593622255004, -0.5212935150002574]\n"
     ]
    },
    {
     "name": "stderr",
     "output_type": "stream",
     "text": [
      "Training:  32%|███▏      | 32005/100000 [27:57<59:52, 18.93it/s]  "
     ]
    },
    {
     "name": "stdout",
     "output_type": "stream",
     "text": [
      "\n",
      "Episode 32000:\n",
      "Epsilon: 0.100\n",
      "Memory sizes: [20000, 20000, 20000, 20000]\n",
      "Recent rewards: [-0.043999518733294496, -0.2054561106785632, -0.2820165746836999, -0.4290227073251568]\n"
     ]
    },
    {
     "name": "stderr",
     "output_type": "stream",
     "text": [
      "Training:  32%|███▏      | 32103/100000 [28:03<1:01:58, 18.26it/s]"
     ]
    },
    {
     "name": "stdout",
     "output_type": "stream",
     "text": [
      "\n",
      "Episode 32100:\n",
      "Epsilon: 0.100\n",
      "Memory sizes: [20000, 20000, 20000, 20000]\n",
      "Recent rewards: [-0.10270210141351654, -0.0030794225449150563, -0.4042670999907251, -0.5473535474529119]\n"
     ]
    },
    {
     "name": "stderr",
     "output_type": "stream",
     "text": [
      "Training:  32%|███▏      | 32203/100000 [28:08<1:00:33, 18.66it/s]"
     ]
    },
    {
     "name": "stdout",
     "output_type": "stream",
     "text": [
      "\n",
      "Episode 32200:\n",
      "Epsilon: 0.100\n",
      "Memory sizes: [20000, 20000, 20000, 20000]\n",
      "Recent rewards: [-0.0194690956964189, -0.0928164841551657, -0.3739953166020322, -0.30646311743521004]\n"
     ]
    },
    {
     "name": "stderr",
     "output_type": "stream",
     "text": [
      "Training:  32%|███▏      | 32304/100000 [28:14<1:03:04, 17.89it/s]"
     ]
    },
    {
     "name": "stdout",
     "output_type": "stream",
     "text": [
      "\n",
      "Episode 32300:\n",
      "Epsilon: 0.100\n",
      "Memory sizes: [20000, 20000, 20000, 20000]\n",
      "Recent rewards: [-0.12780205026631244, -0.25178128055642124, -0.33601648532581413, -0.45935502073905904]\n"
     ]
    },
    {
     "name": "stderr",
     "output_type": "stream",
     "text": [
      "Training:  32%|███▏      | 32404/100000 [28:19<1:01:05, 18.44it/s]"
     ]
    },
    {
     "name": "stdout",
     "output_type": "stream",
     "text": [
      "\n",
      "Episode 32400:\n",
      "Epsilon: 0.100\n",
      "Memory sizes: [20000, 20000, 20000, 20000]\n",
      "Recent rewards: [0.01517501325903933, -0.10084816612659823, -0.3088507194449267, -0.34273497684157384]\n"
     ]
    },
    {
     "name": "stderr",
     "output_type": "stream",
     "text": [
      "Training:  33%|███▎      | 32504/100000 [28:24<1:02:16, 18.06it/s]"
     ]
    },
    {
     "name": "stdout",
     "output_type": "stream",
     "text": [
      "\n",
      "Episode 32500:\n",
      "Epsilon: 0.100\n",
      "Memory sizes: [20000, 20000, 20000, 20000]\n",
      "Recent rewards: [0.04241816189693534, -0.2888906532479806, -0.37923125504895805, -0.3140307018154602]\n"
     ]
    },
    {
     "name": "stderr",
     "output_type": "stream",
     "text": [
      "Training:  33%|███▎      | 32604/100000 [28:30<1:01:03, 18.40it/s]"
     ]
    },
    {
     "name": "stdout",
     "output_type": "stream",
     "text": [
      "\n",
      "Episode 32600:\n",
      "Epsilon: 0.100\n",
      "Memory sizes: [20000, 20000, 20000, 20000]\n",
      "Recent rewards: [0.11919767776620749, -0.08385227842831391, -0.28553458901344714, -0.42238723603764]\n"
     ]
    },
    {
     "name": "stderr",
     "output_type": "stream",
     "text": [
      "Training:  33%|███▎      | 32703/100000 [28:35<1:01:14, 18.31it/s]"
     ]
    },
    {
     "name": "stdout",
     "output_type": "stream",
     "text": [
      "\n",
      "Episode 32700:\n",
      "Epsilon: 0.100\n",
      "Memory sizes: [20000, 20000, 20000, 20000]\n",
      "Recent rewards: [0.022064954784427222, -0.16157154675332783, -0.28083650918149605, -0.38736949620998506]\n"
     ]
    },
    {
     "name": "stderr",
     "output_type": "stream",
     "text": [
      "Training:  33%|███▎      | 32803/100000 [28:41<1:01:18, 18.27it/s]"
     ]
    },
    {
     "name": "stdout",
     "output_type": "stream",
     "text": [
      "\n",
      "Episode 32800:\n",
      "Epsilon: 0.100\n",
      "Memory sizes: [20000, 20000, 20000, 20000]\n",
      "Recent rewards: [-0.12279951676772459, -0.20287283629373307, -0.43639780520429666, -0.2507630865859195]\n"
     ]
    },
    {
     "name": "stderr",
     "output_type": "stream",
     "text": [
      "Training:  33%|███▎      | 32903/100000 [28:46<1:01:41, 18.13it/s]"
     ]
    },
    {
     "name": "stdout",
     "output_type": "stream",
     "text": [
      "\n",
      "Episode 32900:\n",
      "Epsilon: 0.100\n",
      "Memory sizes: [20000, 20000, 20000, 20000]\n",
      "Recent rewards: [-0.22795752179033296, -0.24165382291818804, -0.37468036211059447, -0.2654963457838826]\n"
     ]
    },
    {
     "name": "stderr",
     "output_type": "stream",
     "text": [
      "Training:  33%|███▎      | 33003/100000 [28:52<1:00:52, 18.34it/s]"
     ]
    },
    {
     "name": "stdout",
     "output_type": "stream",
     "text": [
      "\n",
      "Episode 33000:\n",
      "Epsilon: 0.100\n",
      "Memory sizes: [20000, 20000, 20000, 20000]\n",
      "Recent rewards: [-0.22125649859815824, -0.08161178805194927, -0.3730086761739496, -0.3037744470707413]\n"
     ]
    },
    {
     "name": "stderr",
     "output_type": "stream",
     "text": [
      "Training:  33%|███▎      | 33103/100000 [28:57<58:55, 18.92it/s]  "
     ]
    },
    {
     "name": "stdout",
     "output_type": "stream",
     "text": [
      "\n",
      "Episode 33100:\n",
      "Epsilon: 0.100\n",
      "Memory sizes: [20000, 20000, 20000, 20000]\n",
      "Recent rewards: [-0.09789759259612092, -0.22610526335615713, -0.16413982446887446, -0.2805600380430589]\n"
     ]
    },
    {
     "name": "stderr",
     "output_type": "stream",
     "text": [
      "Training:  33%|███▎      | 33203/100000 [29:03<59:11, 18.81it/s]  "
     ]
    },
    {
     "name": "stdout",
     "output_type": "stream",
     "text": [
      "\n",
      "Episode 33200:\n",
      "Epsilon: 0.100\n",
      "Memory sizes: [20000, 20000, 20000, 20000]\n",
      "Recent rewards: [-0.08885342689137993, -0.15419156550365531, -0.29673586725572393, -0.33354425078488426]\n"
     ]
    },
    {
     "name": "stderr",
     "output_type": "stream",
     "text": [
      "Training:  33%|███▎      | 33303/100000 [29:09<1:20:47, 13.76it/s]"
     ]
    },
    {
     "name": "stdout",
     "output_type": "stream",
     "text": [
      "\n",
      "Episode 33300:\n",
      "Epsilon: 0.100\n",
      "Memory sizes: [20000, 20000, 20000, 20000]\n",
      "Recent rewards: [-0.16237947239129644, -0.18271936623524496, -0.2183421640623275, -0.3153833915657856]\n"
     ]
    },
    {
     "name": "stderr",
     "output_type": "stream",
     "text": [
      "Training:  33%|███▎      | 33404/100000 [29:14<57:16, 19.38it/s]  "
     ]
    },
    {
     "name": "stdout",
     "output_type": "stream",
     "text": [
      "\n",
      "Episode 33400:\n",
      "Epsilon: 0.100\n",
      "Memory sizes: [20000, 20000, 20000, 20000]\n",
      "Recent rewards: [-0.14733428655044423, -0.08220356588384232, -0.24254840563402538, -0.47441772671133625]\n"
     ]
    },
    {
     "name": "stderr",
     "output_type": "stream",
     "text": [
      "Training:  34%|███▎      | 33504/100000 [29:19<58:59, 18.79it/s]  "
     ]
    },
    {
     "name": "stdout",
     "output_type": "stream",
     "text": [
      "\n",
      "Episode 33500:\n",
      "Epsilon: 0.100\n",
      "Memory sizes: [20000, 20000, 20000, 20000]\n",
      "Recent rewards: [0.1092103111168481, -0.16730289460314118, -0.4027248418321527, -0.510270288141327]\n"
     ]
    },
    {
     "name": "stderr",
     "output_type": "stream",
     "text": [
      "Training:  34%|███▎      | 33603/100000 [29:25<57:59, 19.08it/s]  "
     ]
    },
    {
     "name": "stdout",
     "output_type": "stream",
     "text": [
      "\n",
      "Episode 33600:\n",
      "Epsilon: 0.100\n",
      "Memory sizes: [20000, 20000, 20000, 20000]\n",
      "Recent rewards: [-0.16954757983200758, -0.15098122187286916, -0.5137796239161017, -0.007328060407720925]\n"
     ]
    },
    {
     "name": "stderr",
     "output_type": "stream",
     "text": [
      "Training:  34%|███▎      | 33704/100000 [29:30<57:03, 19.37it/s]  "
     ]
    },
    {
     "name": "stdout",
     "output_type": "stream",
     "text": [
      "\n",
      "Episode 33700:\n",
      "Epsilon: 0.100\n",
      "Memory sizes: [20000, 20000, 20000, 20000]\n",
      "Recent rewards: [0.06298821062153757, -0.28199378387846563, -0.2974069329401498, -0.0962392095530801]\n"
     ]
    },
    {
     "name": "stderr",
     "output_type": "stream",
     "text": [
      "Training:  34%|███▍      | 33805/100000 [29:35<58:20, 18.91it/s]  "
     ]
    },
    {
     "name": "stdout",
     "output_type": "stream",
     "text": [
      "\n",
      "Episode 33800:\n",
      "Epsilon: 0.100\n",
      "Memory sizes: [20000, 20000, 20000, 20000]\n",
      "Recent rewards: [-0.149918583070166, -0.12517534513753087, -0.547464124375955, -0.21870440677064756]\n"
     ]
    },
    {
     "name": "stderr",
     "output_type": "stream",
     "text": [
      "Training:  34%|███▍      | 33903/100000 [29:41<1:07:15, 16.38it/s]"
     ]
    },
    {
     "name": "stdout",
     "output_type": "stream",
     "text": [
      "\n",
      "Episode 33900:\n",
      "Epsilon: 0.100\n",
      "Memory sizes: [20000, 20000, 20000, 20000]\n",
      "Recent rewards: [0.036022047276014914, -0.12340864629653392, -0.271379332135317, -0.4585960483240424]\n"
     ]
    },
    {
     "name": "stderr",
     "output_type": "stream",
     "text": [
      "Training:  34%|███▍      | 34003/100000 [29:47<1:04:43, 17.00it/s]"
     ]
    },
    {
     "name": "stdout",
     "output_type": "stream",
     "text": [
      "\n",
      "Episode 34000:\n",
      "Epsilon: 0.100\n",
      "Memory sizes: [20000, 20000, 20000, 20000]\n",
      "Recent rewards: [-0.10721706124284484, -0.3044992346129352, -0.4620043836794764, -0.0956090812918883]\n"
     ]
    },
    {
     "name": "stderr",
     "output_type": "stream",
     "text": [
      "Training:  34%|███▍      | 34103/100000 [29:52<1:09:02, 15.91it/s]"
     ]
    },
    {
     "name": "stdout",
     "output_type": "stream",
     "text": [
      "\n",
      "Episode 34100:\n",
      "Epsilon: 0.100\n",
      "Memory sizes: [20000, 20000, 20000, 20000]\n",
      "Recent rewards: [-0.010602964884009523, -0.24463052340034314, -0.3884856255935613, -0.23498888746736457]\n"
     ]
    },
    {
     "name": "stderr",
     "output_type": "stream",
     "text": [
      "Training:  34%|███▍      | 34203/100000 [29:58<1:03:01, 17.40it/s]"
     ]
    },
    {
     "name": "stdout",
     "output_type": "stream",
     "text": [
      "\n",
      "Episode 34200:\n",
      "Epsilon: 0.100\n",
      "Memory sizes: [20000, 20000, 20000, 20000]\n",
      "Recent rewards: [-0.00315444749728631, -0.21263800766928587, -0.32899030798845763, -0.14548031020846786]\n"
     ]
    },
    {
     "name": "stderr",
     "output_type": "stream",
     "text": [
      "Training:  34%|███▍      | 34303/100000 [30:04<1:01:14, 17.88it/s]"
     ]
    },
    {
     "name": "stdout",
     "output_type": "stream",
     "text": [
      "\n",
      "Episode 34300:\n",
      "Epsilon: 0.100\n",
      "Memory sizes: [20000, 20000, 20000, 20000]\n",
      "Recent rewards: [0.007853269763336055, -0.21318987885326104, -0.2870404859457533, -0.261083399941449]\n"
     ]
    },
    {
     "name": "stderr",
     "output_type": "stream",
     "text": [
      "Training:  34%|███▍      | 34403/100000 [30:09<57:09, 19.13it/s]  "
     ]
    },
    {
     "name": "stdout",
     "output_type": "stream",
     "text": [
      "\n",
      "Episode 34400:\n",
      "Epsilon: 0.100\n",
      "Memory sizes: [20000, 20000, 20000, 20000]\n",
      "Recent rewards: [-0.05006251479461797, -0.26060195067854347, -0.31602460095601487, -0.3959006448530528]\n"
     ]
    },
    {
     "name": "stderr",
     "output_type": "stream",
     "text": [
      "Training:  35%|███▍      | 34504/100000 [30:15<58:54, 18.53it/s]  "
     ]
    },
    {
     "name": "stdout",
     "output_type": "stream",
     "text": [
      "\n",
      "Episode 34500:\n",
      "Epsilon: 0.100\n",
      "Memory sizes: [20000, 20000, 20000, 20000]\n",
      "Recent rewards: [-0.25743150387689584, -0.16567941150166926, -0.36062727537624745, -0.16541452960698066]\n"
     ]
    },
    {
     "name": "stderr",
     "output_type": "stream",
     "text": [
      "Training:  35%|███▍      | 34603/100000 [30:20<55:38, 19.59it/s]"
     ]
    },
    {
     "name": "stdout",
     "output_type": "stream",
     "text": [
      "\n",
      "Episode 34600:\n",
      "Epsilon: 0.100\n",
      "Memory sizes: [20000, 20000, 20000, 20000]\n",
      "Recent rewards: [-0.09857888009286739, -0.2500320611686593, -0.16152957639735008, -0.25710473700761294]\n"
     ]
    },
    {
     "name": "stderr",
     "output_type": "stream",
     "text": [
      "Training:  35%|███▍      | 34702/100000 [30:25<56:42, 19.19it/s]"
     ]
    },
    {
     "name": "stdout",
     "output_type": "stream",
     "text": [
      "\n",
      "Episode 34700:\n",
      "Epsilon: 0.100\n",
      "Memory sizes: [20000, 20000, 20000, 20000]\n",
      "Recent rewards: [0.050073541631884926, -0.2022225482098003, -0.34637620959041754, -0.4042267395875995]\n"
     ]
    },
    {
     "name": "stderr",
     "output_type": "stream",
     "text": [
      "Training:  35%|███▍      | 34804/100000 [30:31<1:04:40, 16.80it/s]"
     ]
    },
    {
     "name": "stdout",
     "output_type": "stream",
     "text": [
      "\n",
      "Episode 34800:\n",
      "Epsilon: 0.100\n",
      "Memory sizes: [20000, 20000, 20000, 20000]\n",
      "Recent rewards: [-0.09693406450685367, -0.2077701917375604, -0.39412423400601926, -0.32085724296315227]\n"
     ]
    },
    {
     "name": "stderr",
     "output_type": "stream",
     "text": [
      "Training:  35%|███▍      | 34903/100000 [30:36<57:03, 19.02it/s]  "
     ]
    },
    {
     "name": "stdout",
     "output_type": "stream",
     "text": [
      "\n",
      "Episode 34900:\n",
      "Epsilon: 0.100\n",
      "Memory sizes: [20000, 20000, 20000, 20000]\n",
      "Recent rewards: [-0.1025523925403379, -0.1176652321398072, -0.3742357644566752, -0.30060273043205216]\n"
     ]
    },
    {
     "name": "stderr",
     "output_type": "stream",
     "text": [
      "Training:  35%|███▌      | 35003/100000 [30:41<56:45, 19.08it/s]"
     ]
    },
    {
     "name": "stdout",
     "output_type": "stream",
     "text": [
      "\n",
      "Episode 35000:\n",
      "Epsilon: 0.100\n",
      "Memory sizes: [20000, 20000, 20000, 20000]\n",
      "Recent rewards: [-0.09384242961636974, -0.11318807237639451, -0.2804305638834712, -0.3162576592958476]\n"
     ]
    },
    {
     "name": "stderr",
     "output_type": "stream",
     "text": [
      "Training:  35%|███▌      | 35103/100000 [30:47<1:00:27, 17.89it/s]"
     ]
    },
    {
     "name": "stdout",
     "output_type": "stream",
     "text": [
      "\n",
      "Episode 35100:\n",
      "Epsilon: 0.100\n",
      "Memory sizes: [20000, 20000, 20000, 20000]\n",
      "Recent rewards: [-0.11767021052637623, -0.2648238508608005, -0.1384615989252938, -0.15849261918552743]\n"
     ]
    },
    {
     "name": "stderr",
     "output_type": "stream",
     "text": [
      "Training:  35%|███▌      | 35203/100000 [30:52<57:24, 18.81it/s]  "
     ]
    },
    {
     "name": "stdout",
     "output_type": "stream",
     "text": [
      "\n",
      "Episode 35200:\n",
      "Epsilon: 0.100\n",
      "Memory sizes: [20000, 20000, 20000, 20000]\n",
      "Recent rewards: [0.08115119723730208, -0.21485505959183812, -0.4175767534844564, -0.0646586811701133]\n"
     ]
    },
    {
     "name": "stderr",
     "output_type": "stream",
     "text": [
      "Training:  35%|███▌      | 35303/100000 [30:57<57:39, 18.70it/s]"
     ]
    },
    {
     "name": "stdout",
     "output_type": "stream",
     "text": [
      "\n",
      "Episode 35300:\n",
      "Epsilon: 0.100\n",
      "Memory sizes: [20000, 20000, 20000, 20000]\n",
      "Recent rewards: [-0.09086733030386743, -0.2926949672803813, -0.4414877718774286, -0.22042117801609135]\n"
     ]
    },
    {
     "name": "stderr",
     "output_type": "stream",
     "text": [
      "Training:  35%|███▌      | 35404/100000 [31:03<57:32, 18.71it/s]  "
     ]
    },
    {
     "name": "stdout",
     "output_type": "stream",
     "text": [
      "\n",
      "Episode 35400:\n",
      "Epsilon: 0.100\n",
      "Memory sizes: [20000, 20000, 20000, 20000]\n",
      "Recent rewards: [-0.086053287341123, -0.20428407387245467, -0.15639348548265872, -0.3392656438010216]\n"
     ]
    },
    {
     "name": "stderr",
     "output_type": "stream",
     "text": [
      "Training:  36%|███▌      | 35503/100000 [31:08<57:06, 18.82it/s]"
     ]
    },
    {
     "name": "stdout",
     "output_type": "stream",
     "text": [
      "\n",
      "Episode 35500:\n",
      "Epsilon: 0.100\n",
      "Memory sizes: [20000, 20000, 20000, 20000]\n",
      "Recent rewards: [-0.22071474696911708, -0.3918821029540645, -0.28542169812190965, -0.1840099483669334]\n"
     ]
    },
    {
     "name": "stderr",
     "output_type": "stream",
     "text": [
      "Training:  36%|███▌      | 35603/100000 [31:14<58:25, 18.37it/s]  "
     ]
    },
    {
     "name": "stdout",
     "output_type": "stream",
     "text": [
      "\n",
      "Episode 35600:\n",
      "Epsilon: 0.100\n",
      "Memory sizes: [20000, 20000, 20000, 20000]\n",
      "Recent rewards: [-0.005246166819676142, -0.23641792883993176, -0.4111673078294756, -0.10638707567483947]\n"
     ]
    },
    {
     "name": "stderr",
     "output_type": "stream",
     "text": [
      "Training:  36%|███▌      | 35704/100000 [31:19<56:36, 18.93it/s]  "
     ]
    },
    {
     "name": "stdout",
     "output_type": "stream",
     "text": [
      "\n",
      "Episode 35700:\n",
      "Epsilon: 0.100\n",
      "Memory sizes: [20000, 20000, 20000, 20000]\n",
      "Recent rewards: [-0.15549044705093926, -0.23783066989781843, -0.2279998967188599, -0.2809173060105921]\n"
     ]
    },
    {
     "name": "stderr",
     "output_type": "stream",
     "text": [
      "Training:  36%|███▌      | 35802/100000 [31:24<56:01, 19.10it/s]"
     ]
    },
    {
     "name": "stdout",
     "output_type": "stream",
     "text": [
      "\n",
      "Episode 35800:\n",
      "Epsilon: 0.100\n",
      "Memory sizes: [20000, 20000, 20000, 20000]\n",
      "Recent rewards: [-0.08309230899914312, -0.21906883852955084, -0.3499466456003054, -0.12558417852471032]\n"
     ]
    },
    {
     "name": "stderr",
     "output_type": "stream",
     "text": [
      "Training:  36%|███▌      | 35903/100000 [31:30<56:43, 18.83it/s]  "
     ]
    },
    {
     "name": "stdout",
     "output_type": "stream",
     "text": [
      "\n",
      "Episode 35900:\n",
      "Epsilon: 0.100\n",
      "Memory sizes: [20000, 20000, 20000, 20000]\n",
      "Recent rewards: [-0.010623200280719329, -0.24864238072053785, -0.23181601503693394, -0.2609819818108166]\n"
     ]
    },
    {
     "name": "stderr",
     "output_type": "stream",
     "text": [
      "Training:  36%|███▌      | 36002/100000 [31:35<56:57, 18.72it/s]  "
     ]
    },
    {
     "name": "stdout",
     "output_type": "stream",
     "text": [
      "\n",
      "Episode 36000:\n",
      "Epsilon: 0.100\n",
      "Memory sizes: [20000, 20000, 20000, 20000]\n",
      "Recent rewards: [-0.11679382443710845, -0.18552109795077373, -0.22409205480655991, -0.381049516879713]\n"
     ]
    },
    {
     "name": "stderr",
     "output_type": "stream",
     "text": [
      "Training:  36%|███▌      | 36104/100000 [31:41<55:45, 19.10it/s]"
     ]
    },
    {
     "name": "stdout",
     "output_type": "stream",
     "text": [
      "\n",
      "Episode 36100:\n",
      "Epsilon: 0.100\n",
      "Memory sizes: [20000, 20000, 20000, 20000]\n",
      "Recent rewards: [0.07212733321831646, -0.21501276341861328, -0.46614326054731187, -0.22649651698217807]\n"
     ]
    },
    {
     "name": "stderr",
     "output_type": "stream",
     "text": [
      "Training:  36%|███▌      | 36204/100000 [31:46<57:06, 18.62it/s]"
     ]
    },
    {
     "name": "stdout",
     "output_type": "stream",
     "text": [
      "\n",
      "Episode 36200:\n",
      "Epsilon: 0.100\n",
      "Memory sizes: [20000, 20000, 20000, 20000]\n",
      "Recent rewards: [-0.15596491273660354, -0.19873091069006052, -0.3181495205266563, -0.17250803494633185]\n"
     ]
    },
    {
     "name": "stderr",
     "output_type": "stream",
     "text": [
      "Training:  36%|███▋      | 36303/100000 [31:51<55:59, 18.96it/s]"
     ]
    },
    {
     "name": "stdout",
     "output_type": "stream",
     "text": [
      "\n",
      "Episode 36300:\n",
      "Epsilon: 0.100\n",
      "Memory sizes: [20000, 20000, 20000, 20000]\n",
      "Recent rewards: [-0.17880804830700087, -0.13085150749382066, -0.3233286159080293, -0.19368201083618772]\n"
     ]
    },
    {
     "name": "stderr",
     "output_type": "stream",
     "text": [
      "Training:  36%|███▋      | 36404/100000 [31:57<54:33, 19.43it/s]"
     ]
    },
    {
     "name": "stdout",
     "output_type": "stream",
     "text": [
      "\n",
      "Episode 36400:\n",
      "Epsilon: 0.100\n",
      "Memory sizes: [20000, 20000, 20000, 20000]\n",
      "Recent rewards: [-0.15839759622234253, -0.1900478094840163, -0.3614824385476308, -0.26808350753214205]\n"
     ]
    },
    {
     "name": "stderr",
     "output_type": "stream",
     "text": [
      "Training:  37%|███▋      | 36504/100000 [32:02<57:38, 18.36it/s]"
     ]
    },
    {
     "name": "stdout",
     "output_type": "stream",
     "text": [
      "\n",
      "Episode 36500:\n",
      "Epsilon: 0.100\n",
      "Memory sizes: [20000, 20000, 20000, 20000]\n",
      "Recent rewards: [-0.1768400270092675, -0.09606363669572097, -0.24062333159311636, -0.25624022219298065]\n"
     ]
    },
    {
     "name": "stderr",
     "output_type": "stream",
     "text": [
      "Training:  37%|███▋      | 36604/100000 [32:07<57:23, 18.41it/s]"
     ]
    },
    {
     "name": "stdout",
     "output_type": "stream",
     "text": [
      "\n",
      "Episode 36600:\n",
      "Epsilon: 0.100\n",
      "Memory sizes: [20000, 20000, 20000, 20000]\n",
      "Recent rewards: [-0.13199987183530693, -0.26178247965395945, -0.18677094869630356, -0.34215596345656507]\n"
     ]
    },
    {
     "name": "stderr",
     "output_type": "stream",
     "text": [
      "Training:  37%|███▋      | 36703/100000 [32:13<58:51, 17.93it/s]  "
     ]
    },
    {
     "name": "stdout",
     "output_type": "stream",
     "text": [
      "\n",
      "Episode 36700:\n",
      "Epsilon: 0.100\n",
      "Memory sizes: [20000, 20000, 20000, 20000]\n",
      "Recent rewards: [-0.09537674891371369, -0.23115247001603126, -0.130447924643566, -0.19241008634886048]\n"
     ]
    },
    {
     "name": "stderr",
     "output_type": "stream",
     "text": [
      "Training:  37%|███▋      | 36803/100000 [32:19<1:00:17, 17.47it/s]"
     ]
    },
    {
     "name": "stdout",
     "output_type": "stream",
     "text": [
      "\n",
      "Episode 36800:\n",
      "Epsilon: 0.100\n",
      "Memory sizes: [20000, 20000, 20000, 20000]\n",
      "Recent rewards: [-0.050746990366066044, -0.15831348295211875, -0.3344341679232203, -0.3007840863328175]\n"
     ]
    },
    {
     "name": "stderr",
     "output_type": "stream",
     "text": [
      "Training:  37%|███▋      | 36904/100000 [32:24<58:37, 17.94it/s]  "
     ]
    },
    {
     "name": "stdout",
     "output_type": "stream",
     "text": [
      "\n",
      "Episode 36900:\n",
      "Epsilon: 0.100\n",
      "Memory sizes: [20000, 20000, 20000, 20000]\n",
      "Recent rewards: [-0.14294923875769838, -0.2576369869676382, -0.22267794166020088, -0.16113211525306861]\n"
     ]
    },
    {
     "name": "stderr",
     "output_type": "stream",
     "text": [
      "Training:  37%|███▋      | 37003/100000 [32:30<59:15, 17.72it/s]  "
     ]
    },
    {
     "name": "stdout",
     "output_type": "stream",
     "text": [
      "\n",
      "Episode 37000:\n",
      "Epsilon: 0.100\n",
      "Memory sizes: [20000, 20000, 20000, 20000]\n",
      "Recent rewards: [-0.17074500449477995, -0.257736341129082, -0.38875658480086533, -0.20847578650567006]\n"
     ]
    },
    {
     "name": "stderr",
     "output_type": "stream",
     "text": [
      "Training:  37%|███▋      | 37103/100000 [32:36<57:23, 18.26it/s]  "
     ]
    },
    {
     "name": "stdout",
     "output_type": "stream",
     "text": [
      "\n",
      "Episode 37100:\n",
      "Epsilon: 0.100\n",
      "Memory sizes: [20000, 20000, 20000, 20000]\n",
      "Recent rewards: [-0.3362485647863711, -0.25049335365673714, -0.1859536007900321, -0.08519437307350268]\n"
     ]
    },
    {
     "name": "stderr",
     "output_type": "stream",
     "text": [
      "Training:  37%|███▋      | 37204/100000 [32:42<57:48, 18.10it/s]  "
     ]
    },
    {
     "name": "stdout",
     "output_type": "stream",
     "text": [
      "\n",
      "Episode 37200:\n",
      "Epsilon: 0.100\n",
      "Memory sizes: [20000, 20000, 20000, 20000]\n",
      "Recent rewards: [-0.18394628316811099, -0.16537034740765313, -0.21267994614106545, -0.2852418162267337]\n"
     ]
    },
    {
     "name": "stderr",
     "output_type": "stream",
     "text": [
      "Training:  37%|███▋      | 37304/100000 [32:47<56:29, 18.50it/s]  "
     ]
    },
    {
     "name": "stdout",
     "output_type": "stream",
     "text": [
      "\n",
      "Episode 37300:\n",
      "Epsilon: 0.100\n",
      "Memory sizes: [20000, 20000, 20000, 20000]\n",
      "Recent rewards: [-0.12274810473773655, -0.23313282861335405, -0.11319588871241512, -0.40863087301194967]\n"
     ]
    },
    {
     "name": "stderr",
     "output_type": "stream",
     "text": [
      "Training:  37%|███▋      | 37404/100000 [32:53<58:03, 17.97it/s]  "
     ]
    },
    {
     "name": "stdout",
     "output_type": "stream",
     "text": [
      "\n",
      "Episode 37400:\n",
      "Epsilon: 0.100\n",
      "Memory sizes: [20000, 20000, 20000, 20000]\n",
      "Recent rewards: [-0.09458105384672448, -0.21507275375930032, -0.27367866535421415, -0.2720547800080416]\n"
     ]
    },
    {
     "name": "stderr",
     "output_type": "stream",
     "text": [
      "Training:  38%|███▊      | 37504/100000 [32:58<54:32, 19.10it/s]  "
     ]
    },
    {
     "name": "stdout",
     "output_type": "stream",
     "text": [
      "\n",
      "Episode 37500:\n",
      "Epsilon: 0.100\n",
      "Memory sizes: [20000, 20000, 20000, 20000]\n",
      "Recent rewards: [-0.15476134230328215, -0.2852964727736958, -0.07160657147711195, -0.17222723671786075]\n"
     ]
    },
    {
     "name": "stderr",
     "output_type": "stream",
     "text": [
      "Training:  38%|███▊      | 37603/100000 [33:04<54:11, 19.19it/s]"
     ]
    },
    {
     "name": "stdout",
     "output_type": "stream",
     "text": [
      "\n",
      "Episode 37600:\n",
      "Epsilon: 0.100\n",
      "Memory sizes: [20000, 20000, 20000, 20000]\n",
      "Recent rewards: [-0.1385723183398062, -0.14709937843632223, -0.30209706578971285, -0.28956471649078175]\n"
     ]
    },
    {
     "name": "stderr",
     "output_type": "stream",
     "text": [
      "Training:  38%|███▊      | 37704/100000 [33:09<54:04, 19.20it/s]"
     ]
    },
    {
     "name": "stdout",
     "output_type": "stream",
     "text": [
      "\n",
      "Episode 37700:\n",
      "Epsilon: 0.100\n",
      "Memory sizes: [20000, 20000, 20000, 20000]\n",
      "Recent rewards: [-0.16865658576016035, -0.20060656534277715, -0.18726667514159623, -0.14603399165980696]\n"
     ]
    },
    {
     "name": "stderr",
     "output_type": "stream",
     "text": [
      "Training:  38%|███▊      | 37803/100000 [33:14<55:16, 18.75it/s]  "
     ]
    },
    {
     "name": "stdout",
     "output_type": "stream",
     "text": [
      "\n",
      "Episode 37800:\n",
      "Epsilon: 0.100\n",
      "Memory sizes: [20000, 20000, 20000, 20000]\n",
      "Recent rewards: [-0.16154682440292042, -0.2405623099950624, -0.41894956629624636, -0.14287239558389808]\n"
     ]
    },
    {
     "name": "stderr",
     "output_type": "stream",
     "text": [
      "Training:  38%|███▊      | 37904/100000 [33:20<56:10, 18.42it/s]"
     ]
    },
    {
     "name": "stdout",
     "output_type": "stream",
     "text": [
      "\n",
      "Episode 37900:\n",
      "Epsilon: 0.100\n",
      "Memory sizes: [20000, 20000, 20000, 20000]\n",
      "Recent rewards: [-0.1921506038280311, -0.22105155205446267, -0.2468217009429703, -0.3447636069652063]\n"
     ]
    },
    {
     "name": "stderr",
     "output_type": "stream",
     "text": [
      "Training:  38%|███▊      | 38004/100000 [33:25<56:48, 18.19it/s]"
     ]
    },
    {
     "name": "stdout",
     "output_type": "stream",
     "text": [
      "\n",
      "Episode 38000:\n",
      "Epsilon: 0.100\n",
      "Memory sizes: [20000, 20000, 20000, 20000]\n",
      "Recent rewards: [-0.019951972925624575, -0.22589481151580926, -0.20014199968645832, -0.30002710348057304]\n"
     ]
    },
    {
     "name": "stderr",
     "output_type": "stream",
     "text": [
      "Training:  38%|███▊      | 38104/100000 [33:30<53:59, 19.11it/s]"
     ]
    },
    {
     "name": "stdout",
     "output_type": "stream",
     "text": [
      "\n",
      "Episode 38100:\n",
      "Epsilon: 0.100\n",
      "Memory sizes: [20000, 20000, 20000, 20000]\n",
      "Recent rewards: [-0.18536786911824507, -0.1505735865381865, -0.10162707882953095, -0.19307009068735922]\n"
     ]
    },
    {
     "name": "stderr",
     "output_type": "stream",
     "text": [
      "Training:  38%|███▊      | 38203/100000 [33:36<1:01:57, 16.62it/s]"
     ]
    },
    {
     "name": "stdout",
     "output_type": "stream",
     "text": [
      "\n",
      "Episode 38200:\n",
      "Epsilon: 0.100\n",
      "Memory sizes: [20000, 20000, 20000, 20000]\n",
      "Recent rewards: [-0.2182756329873506, -0.21198792167921104, -0.29711412278491495, -0.32076421779388886]\n"
     ]
    },
    {
     "name": "stderr",
     "output_type": "stream",
     "text": [
      "Training:  38%|███▊      | 38303/100000 [33:42<55:29, 18.53it/s]  "
     ]
    },
    {
     "name": "stdout",
     "output_type": "stream",
     "text": [
      "\n",
      "Episode 38300:\n",
      "Epsilon: 0.100\n",
      "Memory sizes: [20000, 20000, 20000, 20000]\n",
      "Recent rewards: [-0.27593055501937286, -0.11837165377110334, -0.22778109089866377, -0.27229571340573716]\n"
     ]
    },
    {
     "name": "stderr",
     "output_type": "stream",
     "text": [
      "Training:  38%|███▊      | 38405/100000 [33:47<54:01, 19.00it/s]"
     ]
    },
    {
     "name": "stdout",
     "output_type": "stream",
     "text": [
      "\n",
      "Episode 38400:\n",
      "Epsilon: 0.100\n",
      "Memory sizes: [20000, 20000, 20000, 20000]\n",
      "Recent rewards: [-0.32182903352929754, -0.33092260571875975, -0.12168223339387381, -0.14481953780189374]\n"
     ]
    },
    {
     "name": "stderr",
     "output_type": "stream",
     "text": [
      "Training:  39%|███▊      | 38503/100000 [33:52<58:14, 17.60it/s]"
     ]
    },
    {
     "name": "stdout",
     "output_type": "stream",
     "text": [
      "\n",
      "Episode 38500:\n",
      "Epsilon: 0.100\n",
      "Memory sizes: [20000, 20000, 20000, 20000]\n",
      "Recent rewards: [-0.07406992853145294, -0.2421467411232438, -0.19627382303060728, -0.19896702600467595]\n"
     ]
    },
    {
     "name": "stderr",
     "output_type": "stream",
     "text": [
      "Training:  39%|███▊      | 38603/100000 [33:58<1:00:11, 17.00it/s]"
     ]
    },
    {
     "name": "stdout",
     "output_type": "stream",
     "text": [
      "\n",
      "Episode 38600:\n",
      "Epsilon: 0.100\n",
      "Memory sizes: [20000, 20000, 20000, 20000]\n",
      "Recent rewards: [-0.13541589292024558, -0.13673022961218526, -0.2113763265645563, -0.3492990752988867]\n"
     ]
    },
    {
     "name": "stderr",
     "output_type": "stream",
     "text": [
      "Training:  39%|███▊      | 38703/100000 [34:04<55:15, 18.49it/s]  "
     ]
    },
    {
     "name": "stdout",
     "output_type": "stream",
     "text": [
      "\n",
      "Episode 38700:\n",
      "Epsilon: 0.100\n",
      "Memory sizes: [20000, 20000, 20000, 20000]\n",
      "Recent rewards: [-0.09099724730230957, -0.2150262849890662, -0.27122127602839485, -0.21731292003803587]\n"
     ]
    },
    {
     "name": "stderr",
     "output_type": "stream",
     "text": [
      "Training:  39%|███▉      | 38803/100000 [34:09<1:07:15, 15.16it/s]"
     ]
    },
    {
     "name": "stdout",
     "output_type": "stream",
     "text": [
      "\n",
      "Episode 38800:\n",
      "Epsilon: 0.100\n",
      "Memory sizes: [20000, 20000, 20000, 20000]\n",
      "Recent rewards: [-0.1483759250691151, -0.25944713115890117, -0.12622629256478418, -0.24508534092146558]\n"
     ]
    },
    {
     "name": "stderr",
     "output_type": "stream",
     "text": [
      "Training:  39%|███▉      | 38904/100000 [34:15<54:21, 18.73it/s]  "
     ]
    },
    {
     "name": "stdout",
     "output_type": "stream",
     "text": [
      "\n",
      "Episode 38900:\n",
      "Epsilon: 0.100\n",
      "Memory sizes: [20000, 20000, 20000, 20000]\n",
      "Recent rewards: [-0.2624214006741699, -0.2601499638011159, -0.25777384141071713, -0.25021174359873016]\n"
     ]
    },
    {
     "name": "stderr",
     "output_type": "stream",
     "text": [
      "Training:  39%|███▉      | 39004/100000 [34:20<59:05, 17.20it/s]"
     ]
    },
    {
     "name": "stdout",
     "output_type": "stream",
     "text": [
      "\n",
      "Episode 39000:\n",
      "Epsilon: 0.100\n",
      "Memory sizes: [20000, 20000, 20000, 20000]\n",
      "Recent rewards: [-0.3341164613604583, -0.21711728699966135, 0.020557465811292114, -0.2571566430596385]\n"
     ]
    },
    {
     "name": "stderr",
     "output_type": "stream",
     "text": [
      "Training:  39%|███▉      | 39104/100000 [34:26<52:32, 19.32it/s]  "
     ]
    },
    {
     "name": "stdout",
     "output_type": "stream",
     "text": [
      "\n",
      "Episode 39100:\n",
      "Epsilon: 0.100\n",
      "Memory sizes: [20000, 20000, 20000, 20000]\n",
      "Recent rewards: [-0.16824594751860952, -0.14211490428709378, -0.22779324077749244, -0.20376877173347682]\n"
     ]
    },
    {
     "name": "stderr",
     "output_type": "stream",
     "text": [
      "Training:  39%|███▉      | 39203/100000 [34:31<52:39, 19.24it/s]"
     ]
    },
    {
     "name": "stdout",
     "output_type": "stream",
     "text": [
      "\n",
      "Episode 39200:\n",
      "Epsilon: 0.100\n",
      "Memory sizes: [20000, 20000, 20000, 20000]\n",
      "Recent rewards: [-0.2772024956495469, -0.15808308422316408, -0.3136312008805436, -0.24436550499049037]\n"
     ]
    },
    {
     "name": "stderr",
     "output_type": "stream",
     "text": [
      "Training:  39%|███▉      | 39305/100000 [34:37<55:09, 18.34it/s]"
     ]
    },
    {
     "name": "stdout",
     "output_type": "stream",
     "text": [
      "\n",
      "Episode 39300:\n",
      "Epsilon: 0.100\n",
      "Memory sizes: [20000, 20000, 20000, 20000]\n",
      "Recent rewards: [-0.04425952612201079, -0.1420223671970166, -0.19331286706269218, -0.2227983009729647]\n"
     ]
    },
    {
     "name": "stderr",
     "output_type": "stream",
     "text": [
      "Training:  39%|███▉      | 39404/100000 [34:42<55:06, 18.32it/s]"
     ]
    },
    {
     "name": "stdout",
     "output_type": "stream",
     "text": [
      "\n",
      "Episode 39400:\n",
      "Epsilon: 0.100\n",
      "Memory sizes: [20000, 20000, 20000, 20000]\n",
      "Recent rewards: [-0.3719405642827954, -0.24741234303012521, -0.23828885626711752, -0.18661012310810224]\n"
     ]
    },
    {
     "name": "stderr",
     "output_type": "stream",
     "text": [
      "Training:  40%|███▉      | 39504/100000 [34:48<51:41, 19.51it/s]"
     ]
    },
    {
     "name": "stdout",
     "output_type": "stream",
     "text": [
      "\n",
      "Episode 39500:\n",
      "Epsilon: 0.100\n",
      "Memory sizes: [20000, 20000, 20000, 20000]\n",
      "Recent rewards: [0.011020145376316246, -0.12897331515211158, -0.37481378053472186, -0.30480301837510326]\n"
     ]
    },
    {
     "name": "stderr",
     "output_type": "stream",
     "text": [
      "Training:  40%|███▉      | 39603/100000 [34:53<54:56, 18.32it/s]"
     ]
    },
    {
     "name": "stdout",
     "output_type": "stream",
     "text": [
      "\n",
      "Episode 39600:\n",
      "Epsilon: 0.100\n",
      "Memory sizes: [20000, 20000, 20000, 20000]\n",
      "Recent rewards: [-0.10398943624913576, -0.38640415167313125, -0.23276951104593138, -0.2870200945133336]\n"
     ]
    },
    {
     "name": "stderr",
     "output_type": "stream",
     "text": [
      "Training:  40%|███▉      | 39703/100000 [34:58<57:02, 17.62it/s]  "
     ]
    },
    {
     "name": "stdout",
     "output_type": "stream",
     "text": [
      "\n",
      "Episode 39700:\n",
      "Epsilon: 0.100\n",
      "Memory sizes: [20000, 20000, 20000, 20000]\n",
      "Recent rewards: [-0.19006082941495933, -0.207213261316325, -0.1883159270983421, -0.3563151401252898]\n"
     ]
    },
    {
     "name": "stderr",
     "output_type": "stream",
     "text": [
      "Training:  40%|███▉      | 39803/100000 [35:04<55:22, 18.12it/s]  "
     ]
    },
    {
     "name": "stdout",
     "output_type": "stream",
     "text": [
      "\n",
      "Episode 39800:\n",
      "Epsilon: 0.100\n",
      "Memory sizes: [20000, 20000, 20000, 20000]\n",
      "Recent rewards: [-0.12754967568396725, -0.22805852711224034, -0.12541537064213734, -0.14390664660527666]\n"
     ]
    },
    {
     "name": "stderr",
     "output_type": "stream",
     "text": [
      "Training:  40%|███▉      | 39903/100000 [35:09<55:19, 18.11it/s]"
     ]
    },
    {
     "name": "stdout",
     "output_type": "stream",
     "text": [
      "\n",
      "Episode 39900:\n",
      "Epsilon: 0.100\n",
      "Memory sizes: [20000, 20000, 20000, 20000]\n",
      "Recent rewards: [-0.16527321218194974, -0.07431496358914179, -0.2677678715552938, -0.2592330214694102]\n"
     ]
    },
    {
     "name": "stderr",
     "output_type": "stream",
     "text": [
      "Training:  40%|████      | 40003/100000 [35:15<59:43, 16.74it/s]"
     ]
    },
    {
     "name": "stdout",
     "output_type": "stream",
     "text": [
      "\n",
      "Episode 40000:\n",
      "Epsilon: 0.100\n",
      "Memory sizes: [20000, 20000, 20000, 20000]\n",
      "Recent rewards: [-0.28001841674715416, -0.142044075140394, -0.17624210301418056, -0.253437024210486]\n",
      "Checkpoint saved at episode 40000\n"
     ]
    },
    {
     "name": "stderr",
     "output_type": "stream",
     "text": [
      "Training:  40%|████      | 40104/100000 [35:20<54:20, 18.37it/s]"
     ]
    },
    {
     "name": "stdout",
     "output_type": "stream",
     "text": [
      "\n",
      "Episode 40100:\n",
      "Epsilon: 0.100\n",
      "Memory sizes: [20000, 20000, 20000, 20000]\n",
      "Recent rewards: [-0.2858220381239937, -0.21945963419824704, -0.11427491796651491, -0.13775542523616105]\n"
     ]
    },
    {
     "name": "stderr",
     "output_type": "stream",
     "text": [
      "Training:  40%|████      | 40204/100000 [35:26<52:04, 19.14it/s]"
     ]
    },
    {
     "name": "stdout",
     "output_type": "stream",
     "text": [
      "\n",
      "Episode 40200:\n",
      "Epsilon: 0.100\n",
      "Memory sizes: [20000, 20000, 20000, 20000]\n",
      "Recent rewards: [-0.14449594574872374, -0.2193352721076499, -0.13708594752464134, -0.17030962362007437]\n"
     ]
    },
    {
     "name": "stderr",
     "output_type": "stream",
     "text": [
      "Training:  40%|████      | 40303/100000 [35:31<52:37, 18.91it/s]"
     ]
    },
    {
     "name": "stdout",
     "output_type": "stream",
     "text": [
      "\n",
      "Episode 40300:\n",
      "Epsilon: 0.100\n",
      "Memory sizes: [20000, 20000, 20000, 20000]\n",
      "Recent rewards: [-0.2240710771088044, -0.2423040639695197, -0.3422520914236336, -0.23126034130071557]\n"
     ]
    },
    {
     "name": "stderr",
     "output_type": "stream",
     "text": [
      "Training:  40%|████      | 40403/100000 [35:36<54:36, 18.19it/s]"
     ]
    },
    {
     "name": "stdout",
     "output_type": "stream",
     "text": [
      "\n",
      "Episode 40400:\n",
      "Epsilon: 0.100\n",
      "Memory sizes: [20000, 20000, 20000, 20000]\n",
      "Recent rewards: [-0.1705762017962781, -0.23263883484067602, -0.31061425393844944, -0.2801416378838944]\n"
     ]
    },
    {
     "name": "stderr",
     "output_type": "stream",
     "text": [
      "Training:  41%|████      | 40504/100000 [35:41<52:46, 18.79it/s]"
     ]
    },
    {
     "name": "stdout",
     "output_type": "stream",
     "text": [
      "\n",
      "Episode 40500:\n",
      "Epsilon: 0.100\n",
      "Memory sizes: [20000, 20000, 20000, 20000]\n",
      "Recent rewards: [-0.24238307501988024, -0.24121282172051128, -0.29508267095808705, -0.24385993612992088]\n"
     ]
    },
    {
     "name": "stderr",
     "output_type": "stream",
     "text": [
      "Training:  41%|████      | 40603/100000 [35:47<52:58, 18.69it/s]"
     ]
    },
    {
     "name": "stdout",
     "output_type": "stream",
     "text": [
      "\n",
      "Episode 40600:\n",
      "Epsilon: 0.100\n",
      "Memory sizes: [20000, 20000, 20000, 20000]\n",
      "Recent rewards: [-0.2212722700899871, -0.039317280163692264, -0.26513212436766637, -0.2041288612705027]\n"
     ]
    },
    {
     "name": "stderr",
     "output_type": "stream",
     "text": [
      "Training:  41%|████      | 40704/100000 [35:53<54:54, 18.00it/s]  "
     ]
    },
    {
     "name": "stdout",
     "output_type": "stream",
     "text": [
      "\n",
      "Episode 40700:\n",
      "Epsilon: 0.100\n",
      "Memory sizes: [20000, 20000, 20000, 20000]\n",
      "Recent rewards: [-0.23562416656602306, -0.2582536055270944, -0.1755189382173089, -0.17312814572636864]\n"
     ]
    },
    {
     "name": "stderr",
     "output_type": "stream",
     "text": [
      "Training:  41%|████      | 40805/100000 [35:58<51:09, 19.29it/s]"
     ]
    },
    {
     "name": "stdout",
     "output_type": "stream",
     "text": [
      "\n",
      "Episode 40800:\n",
      "Epsilon: 0.100\n",
      "Memory sizes: [20000, 20000, 20000, 20000]\n",
      "Recent rewards: [-0.11691295454236035, -0.22831747604840616, -0.23995116934675165, -0.2582297903424773]\n"
     ]
    },
    {
     "name": "stderr",
     "output_type": "stream",
     "text": [
      "Training:  41%|████      | 40904/100000 [36:03<53:03, 18.56it/s]"
     ]
    },
    {
     "name": "stdout",
     "output_type": "stream",
     "text": [
      "\n",
      "Episode 40900:\n",
      "Epsilon: 0.100\n",
      "Memory sizes: [20000, 20000, 20000, 20000]\n",
      "Recent rewards: [-0.18806757347734887, -0.31198982193784347, -0.11861723407994054, -0.15962681043613025]\n"
     ]
    },
    {
     "name": "stderr",
     "output_type": "stream",
     "text": [
      "Training:  41%|████      | 41003/100000 [36:09<56:56, 17.27it/s]"
     ]
    },
    {
     "name": "stdout",
     "output_type": "stream",
     "text": [
      "\n",
      "Episode 41000:\n",
      "Epsilon: 0.100\n",
      "Memory sizes: [20000, 20000, 20000, 20000]\n",
      "Recent rewards: [-0.2459202946757081, -0.20128428551476435, -0.4128031774390405, -0.28692881135082293]\n"
     ]
    },
    {
     "name": "stderr",
     "output_type": "stream",
     "text": [
      "Training:  41%|████      | 41103/100000 [36:14<53:23, 18.38it/s]"
     ]
    },
    {
     "name": "stdout",
     "output_type": "stream",
     "text": [
      "\n",
      "Episode 41100:\n",
      "Epsilon: 0.100\n",
      "Memory sizes: [20000, 20000, 20000, 20000]\n",
      "Recent rewards: [-0.19904724660314543, -0.34154154302309775, -0.1836224905337978, -0.21155518166146361]\n"
     ]
    },
    {
     "name": "stderr",
     "output_type": "stream",
     "text": [
      "Training:  41%|████      | 41203/100000 [36:19<53:26, 18.34it/s]"
     ]
    },
    {
     "name": "stdout",
     "output_type": "stream",
     "text": [
      "\n",
      "Episode 41200:\n",
      "Epsilon: 0.100\n",
      "Memory sizes: [20000, 20000, 20000, 20000]\n",
      "Recent rewards: [-0.07095029767458284, -0.2791881097617886, -0.21454548382568916, -0.20006473961071983]\n"
     ]
    },
    {
     "name": "stderr",
     "output_type": "stream",
     "text": [
      "Training:  41%|████▏     | 41303/100000 [36:25<54:31, 17.94it/s]  "
     ]
    },
    {
     "name": "stdout",
     "output_type": "stream",
     "text": [
      "\n",
      "Episode 41300:\n",
      "Epsilon: 0.100\n",
      "Memory sizes: [20000, 20000, 20000, 20000]\n",
      "Recent rewards: [-0.27658330806123255, -0.2662897593429454, -0.23926783499384116, -0.1712118130429224]\n"
     ]
    },
    {
     "name": "stderr",
     "output_type": "stream",
     "text": [
      "Training:  41%|████▏     | 41405/100000 [36:31<50:31, 19.33it/s]"
     ]
    },
    {
     "name": "stdout",
     "output_type": "stream",
     "text": [
      "\n",
      "Episode 41400:\n",
      "Epsilon: 0.100\n",
      "Memory sizes: [20000, 20000, 20000, 20000]\n",
      "Recent rewards: [-0.005891366057508233, -0.3400458713209085, -0.32459911094323723, -0.34132819366081224]\n"
     ]
    },
    {
     "name": "stderr",
     "output_type": "stream",
     "text": [
      "Training:  42%|████▏     | 41504/100000 [36:36<51:19, 18.99it/s]"
     ]
    },
    {
     "name": "stdout",
     "output_type": "stream",
     "text": [
      "\n",
      "Episode 41500:\n",
      "Epsilon: 0.100\n",
      "Memory sizes: [20000, 20000, 20000, 20000]\n",
      "Recent rewards: [-0.1821724461172613, -0.20750462381981408, -0.2907930762300188, -0.2595750932899959]\n"
     ]
    },
    {
     "name": "stderr",
     "output_type": "stream",
     "text": [
      "Training:  42%|████▏     | 41603/100000 [36:41<48:27, 20.09it/s]"
     ]
    },
    {
     "name": "stdout",
     "output_type": "stream",
     "text": [
      "\n",
      "Episode 41600:\n",
      "Epsilon: 0.100\n",
      "Memory sizes: [20000, 20000, 20000, 20000]\n",
      "Recent rewards: [-0.16636249576522538, -0.35379635314505087, -0.11934689024795767, -0.22663897278208758]\n"
     ]
    },
    {
     "name": "stderr",
     "output_type": "stream",
     "text": [
      "Training:  42%|████▏     | 41703/100000 [36:46<49:36, 19.58it/s]"
     ]
    },
    {
     "name": "stdout",
     "output_type": "stream",
     "text": [
      "\n",
      "Episode 41700:\n",
      "Epsilon: 0.100\n",
      "Memory sizes: [20000, 20000, 20000, 20000]\n",
      "Recent rewards: [-0.15230644687616424, -0.2551263278371636, -0.04030773732610898, -0.24156317341830874]\n"
     ]
    },
    {
     "name": "stderr",
     "output_type": "stream",
     "text": [
      "Training:  42%|████▏     | 41804/100000 [36:51<48:27, 20.02it/s]"
     ]
    },
    {
     "name": "stdout",
     "output_type": "stream",
     "text": [
      "\n",
      "Episode 41800:\n",
      "Epsilon: 0.100\n",
      "Memory sizes: [20000, 20000, 20000, 20000]\n",
      "Recent rewards: [-0.09720411403661572, -0.21196918702468082, -0.3337590253170989, -0.33953199045992233]\n"
     ]
    },
    {
     "name": "stderr",
     "output_type": "stream",
     "text": [
      "Training:  42%|████▏     | 41905/100000 [36:56<49:42, 19.48it/s]"
     ]
    },
    {
     "name": "stdout",
     "output_type": "stream",
     "text": [
      "\n",
      "Episode 41900:\n",
      "Epsilon: 0.100\n",
      "Memory sizes: [20000, 20000, 20000, 20000]\n",
      "Recent rewards: [-0.27934966114499915, -0.21046311272988022, -0.295365566036885, -0.28311466755577813]\n"
     ]
    },
    {
     "name": "stderr",
     "output_type": "stream",
     "text": [
      "Training:  42%|████▏     | 42005/100000 [37:02<50:21, 19.19it/s]"
     ]
    },
    {
     "name": "stdout",
     "output_type": "stream",
     "text": [
      "\n",
      "Episode 42000:\n",
      "Epsilon: 0.100\n",
      "Memory sizes: [20000, 20000, 20000, 20000]\n",
      "Recent rewards: [-0.32361457415451267, -0.2260048906143531, -0.1532432960770489, -0.29053062759096665]\n"
     ]
    },
    {
     "name": "stderr",
     "output_type": "stream",
     "text": [
      "Training:  42%|████▏     | 42105/100000 [37:07<49:57, 19.31it/s]"
     ]
    },
    {
     "name": "stdout",
     "output_type": "stream",
     "text": [
      "\n",
      "Episode 42100:\n",
      "Epsilon: 0.100\n",
      "Memory sizes: [20000, 20000, 20000, 20000]\n",
      "Recent rewards: [-0.191889891089503, -0.2752110623796098, -0.188312802470946, -0.344082001006308]\n"
     ]
    },
    {
     "name": "stderr",
     "output_type": "stream",
     "text": [
      "Training:  42%|████▏     | 42203/100000 [37:12<57:04, 16.88it/s]  "
     ]
    },
    {
     "name": "stdout",
     "output_type": "stream",
     "text": [
      "\n",
      "Episode 42200:\n",
      "Epsilon: 0.100\n",
      "Memory sizes: [20000, 20000, 20000, 20000]\n",
      "Recent rewards: [-0.27320189952593654, -0.23039782090442376, -0.2570724171934627, -0.3455933210014763]\n"
     ]
    },
    {
     "name": "stderr",
     "output_type": "stream",
     "text": [
      "Training:  42%|████▏     | 42303/100000 [37:18<51:24, 18.70it/s]"
     ]
    },
    {
     "name": "stdout",
     "output_type": "stream",
     "text": [
      "\n",
      "Episode 42300:\n",
      "Epsilon: 0.100\n",
      "Memory sizes: [20000, 20000, 20000, 20000]\n",
      "Recent rewards: [-0.24519837231868571, -0.2073833596229172, -0.31876512040301713, -0.40420559580660176]\n"
     ]
    },
    {
     "name": "stderr",
     "output_type": "stream",
     "text": [
      "Training:  42%|████▏     | 42404/100000 [37:23<49:13, 19.50it/s]"
     ]
    },
    {
     "name": "stdout",
     "output_type": "stream",
     "text": [
      "\n",
      "Episode 42400:\n",
      "Epsilon: 0.100\n",
      "Memory sizes: [20000, 20000, 20000, 20000]\n",
      "Recent rewards: [-0.09594733416925799, -0.2521686141860424, -0.25830529666096297, -0.36365629309353414]\n"
     ]
    },
    {
     "name": "stderr",
     "output_type": "stream",
     "text": [
      "Training:  43%|████▎     | 42503/100000 [37:28<49:36, 19.31it/s]"
     ]
    },
    {
     "name": "stdout",
     "output_type": "stream",
     "text": [
      "\n",
      "Episode 42500:\n",
      "Epsilon: 0.100\n",
      "Memory sizes: [20000, 20000, 20000, 20000]\n",
      "Recent rewards: [-0.03765134167331825, -0.20499438314939591, -0.38534409164141875, -0.23518232299832284]\n"
     ]
    },
    {
     "name": "stderr",
     "output_type": "stream",
     "text": [
      "Training:  43%|████▎     | 42603/100000 [37:34<51:05, 18.73it/s]  "
     ]
    },
    {
     "name": "stdout",
     "output_type": "stream",
     "text": [
      "\n",
      "Episode 42600:\n",
      "Epsilon: 0.100\n",
      "Memory sizes: [20000, 20000, 20000, 20000]\n",
      "Recent rewards: [-0.09855538385529491, -0.3372586361249884, -0.19720985920984738, -0.27109684675092044]\n"
     ]
    },
    {
     "name": "stderr",
     "output_type": "stream",
     "text": [
      "Training:  43%|████▎     | 42704/100000 [37:39<49:58, 19.11it/s]"
     ]
    },
    {
     "name": "stdout",
     "output_type": "stream",
     "text": [
      "\n",
      "Episode 42700:\n",
      "Epsilon: 0.100\n",
      "Memory sizes: [20000, 20000, 20000, 20000]\n",
      "Recent rewards: [-0.10088447423031942, -0.197032385624639, -0.313425881626567, -0.2171526890930661]\n"
     ]
    },
    {
     "name": "stderr",
     "output_type": "stream",
     "text": [
      "Training:  43%|████▎     | 42804/100000 [37:44<47:38, 20.01it/s]"
     ]
    },
    {
     "name": "stdout",
     "output_type": "stream",
     "text": [
      "\n",
      "Episode 42800:\n",
      "Epsilon: 0.100\n",
      "Memory sizes: [20000, 20000, 20000, 20000]\n",
      "Recent rewards: [-0.34775194313081653, -0.20952169619263764, -0.350433659177989, -0.19466858431125206]\n"
     ]
    },
    {
     "name": "stderr",
     "output_type": "stream",
     "text": [
      "Training:  43%|████▎     | 42904/100000 [37:49<48:58, 19.43it/s]"
     ]
    },
    {
     "name": "stdout",
     "output_type": "stream",
     "text": [
      "\n",
      "Episode 42900:\n",
      "Epsilon: 0.100\n",
      "Memory sizes: [20000, 20000, 20000, 20000]\n",
      "Recent rewards: [-0.27749143494025463, -0.21684933385305136, -0.27565627625554584, -0.2909888456847488]\n"
     ]
    },
    {
     "name": "stderr",
     "output_type": "stream",
     "text": [
      "Training:  43%|████▎     | 43005/100000 [37:54<48:11, 19.71it/s]"
     ]
    },
    {
     "name": "stdout",
     "output_type": "stream",
     "text": [
      "\n",
      "Episode 43000:\n",
      "Epsilon: 0.100\n",
      "Memory sizes: [20000, 20000, 20000, 20000]\n",
      "Recent rewards: [-0.18018649454754293, -0.2709417366135582, -0.31456541241093944, -0.31627380470044825]\n"
     ]
    },
    {
     "name": "stderr",
     "output_type": "stream",
     "text": [
      "Training:  43%|████▎     | 43104/100000 [38:00<48:13, 19.66it/s]"
     ]
    },
    {
     "name": "stdout",
     "output_type": "stream",
     "text": [
      "\n",
      "Episode 43100:\n",
      "Epsilon: 0.100\n",
      "Memory sizes: [20000, 20000, 20000, 20000]\n",
      "Recent rewards: [-0.3747941485233909, -0.20245553754816745, -0.21208443608742591, -0.2317080127258525]\n"
     ]
    },
    {
     "name": "stderr",
     "output_type": "stream",
     "text": [
      "Training:  43%|████▎     | 43202/100000 [38:05<46:30, 20.36it/s]"
     ]
    },
    {
     "name": "stdout",
     "output_type": "stream",
     "text": [
      "\n",
      "Episode 43200:\n",
      "Epsilon: 0.100\n",
      "Memory sizes: [20000, 20000, 20000, 20000]\n",
      "Recent rewards: [-0.265080058354311, -0.13476549561789913, -0.27309584139848164, -0.27629386292619607]\n"
     ]
    },
    {
     "name": "stderr",
     "output_type": "stream",
     "text": [
      "Training:  43%|████▎     | 43303/100000 [38:10<47:28, 19.90it/s]"
     ]
    },
    {
     "name": "stdout",
     "output_type": "stream",
     "text": [
      "\n",
      "Episode 43300:\n",
      "Epsilon: 0.100\n",
      "Memory sizes: [20000, 20000, 20000, 20000]\n",
      "Recent rewards: [-0.14907653867592435, -0.3547251854157107, -0.07858947375886789, -0.19915509719116795]\n"
     ]
    },
    {
     "name": "stderr",
     "output_type": "stream",
     "text": [
      "Training:  43%|████▎     | 43403/100000 [38:15<52:44, 17.88it/s]"
     ]
    },
    {
     "name": "stdout",
     "output_type": "stream",
     "text": [
      "\n",
      "Episode 43400:\n",
      "Epsilon: 0.100\n",
      "Memory sizes: [20000, 20000, 20000, 20000]\n",
      "Recent rewards: [-0.0953783707426113, -0.25592556658301346, -0.33208313802836953, -0.3196384801329683]\n"
     ]
    },
    {
     "name": "stderr",
     "output_type": "stream",
     "text": [
      "Training:  44%|████▎     | 43505/100000 [38:20<48:09, 19.55it/s]"
     ]
    },
    {
     "name": "stdout",
     "output_type": "stream",
     "text": [
      "\n",
      "Episode 43500:\n",
      "Epsilon: 0.100\n",
      "Memory sizes: [20000, 20000, 20000, 20000]\n",
      "Recent rewards: [-0.0830581897125281, -0.23229154216665734, -0.17917519353296996, -0.1037253226231233]\n"
     ]
    },
    {
     "name": "stderr",
     "output_type": "stream",
     "text": [
      "Training:  44%|████▎     | 43604/100000 [38:26<48:37, 19.33it/s]"
     ]
    },
    {
     "name": "stdout",
     "output_type": "stream",
     "text": [
      "\n",
      "Episode 43600:\n",
      "Epsilon: 0.100\n",
      "Memory sizes: [20000, 20000, 20000, 20000]\n",
      "Recent rewards: [-0.14261080244185753, -0.3860518913409278, -0.25301451524831436, -0.29142010624165154]\n"
     ]
    },
    {
     "name": "stderr",
     "output_type": "stream",
     "text": [
      "Training:  44%|████▎     | 43703/100000 [38:31<48:46, 19.24it/s]"
     ]
    },
    {
     "name": "stdout",
     "output_type": "stream",
     "text": [
      "\n",
      "Episode 43700:\n",
      "Epsilon: 0.100\n",
      "Memory sizes: [20000, 20000, 20000, 20000]\n",
      "Recent rewards: [-0.21949672843056145, -0.0005543150847453626, -0.5107808051780599, -0.3553170322855494]\n"
     ]
    },
    {
     "name": "stderr",
     "output_type": "stream",
     "text": [
      "Training:  44%|████▍     | 43804/100000 [38:36<47:16, 19.81it/s]"
     ]
    },
    {
     "name": "stdout",
     "output_type": "stream",
     "text": [
      "\n",
      "Episode 43800:\n",
      "Epsilon: 0.100\n",
      "Memory sizes: [20000, 20000, 20000, 20000]\n",
      "Recent rewards: [-0.06935341669653351, -0.28873175502552173, -0.2670424920863393, -0.17167917344860723]\n"
     ]
    },
    {
     "name": "stderr",
     "output_type": "stream",
     "text": [
      "Training:  44%|████▍     | 43904/100000 [38:41<48:43, 19.18it/s]"
     ]
    },
    {
     "name": "stdout",
     "output_type": "stream",
     "text": [
      "\n",
      "Episode 43900:\n",
      "Epsilon: 0.100\n",
      "Memory sizes: [20000, 20000, 20000, 20000]\n",
      "Recent rewards: [-0.2946789476318737, -0.31441191152029646, -0.27921879330587684, -0.22883888260786855]\n"
     ]
    },
    {
     "name": "stderr",
     "output_type": "stream",
     "text": [
      "Training:  44%|████▍     | 44003/100000 [38:47<50:35, 18.45it/s]"
     ]
    },
    {
     "name": "stdout",
     "output_type": "stream",
     "text": [
      "\n",
      "Episode 44000:\n",
      "Epsilon: 0.100\n",
      "Memory sizes: [20000, 20000, 20000, 20000]\n",
      "Recent rewards: [-0.22733025232097315, -0.21593839111760166, -0.39319660658088756, -0.2372748304544664]\n"
     ]
    },
    {
     "name": "stderr",
     "output_type": "stream",
     "text": [
      "Training:  44%|████▍     | 44103/100000 [38:52<48:21, 19.27it/s]"
     ]
    },
    {
     "name": "stdout",
     "output_type": "stream",
     "text": [
      "\n",
      "Episode 44100:\n",
      "Epsilon: 0.100\n",
      "Memory sizes: [20000, 20000, 20000, 20000]\n",
      "Recent rewards: [0.03639734032063133, -0.29180303024995413, -0.4705794749755323, -0.29427471399363303]\n"
     ]
    },
    {
     "name": "stderr",
     "output_type": "stream",
     "text": [
      "Training:  44%|████▍     | 44204/100000 [38:57<47:51, 19.43it/s]"
     ]
    },
    {
     "name": "stdout",
     "output_type": "stream",
     "text": [
      "\n",
      "Episode 44200:\n",
      "Epsilon: 0.100\n",
      "Memory sizes: [20000, 20000, 20000, 20000]\n",
      "Recent rewards: [-0.08384386613919755, -0.17808213136378373, -0.5066848908635331, -0.4189595726924484]\n"
     ]
    },
    {
     "name": "stderr",
     "output_type": "stream",
     "text": [
      "Training:  44%|████▍     | 44303/100000 [39:02<49:52, 18.61it/s]"
     ]
    },
    {
     "name": "stdout",
     "output_type": "stream",
     "text": [
      "\n",
      "Episode 44300:\n",
      "Epsilon: 0.100\n",
      "Memory sizes: [20000, 20000, 20000, 20000]\n",
      "Recent rewards: [-0.17620976462807683, -0.4007216976444501, -0.415701422636146, -0.09062495704292799]\n"
     ]
    },
    {
     "name": "stderr",
     "output_type": "stream",
     "text": [
      "Training:  44%|████▍     | 44404/100000 [39:08<49:35, 18.68it/s]"
     ]
    },
    {
     "name": "stdout",
     "output_type": "stream",
     "text": [
      "\n",
      "Episode 44400:\n",
      "Epsilon: 0.100\n",
      "Memory sizes: [20000, 20000, 20000, 20000]\n",
      "Recent rewards: [-0.2386398265719955, -0.25783903254104495, -0.23738050016107728, -0.24155272040619968]\n"
     ]
    },
    {
     "name": "stderr",
     "output_type": "stream",
     "text": [
      "Training:  45%|████▍     | 44504/100000 [39:13<50:52, 18.18it/s]"
     ]
    },
    {
     "name": "stdout",
     "output_type": "stream",
     "text": [
      "\n",
      "Episode 44500:\n",
      "Epsilon: 0.100\n",
      "Memory sizes: [20000, 20000, 20000, 20000]\n",
      "Recent rewards: [-0.1566673358433325, -0.18417184131949238, -0.27425663559432395, -0.3702265309922341]\n"
     ]
    },
    {
     "name": "stderr",
     "output_type": "stream",
     "text": [
      "Training:  45%|████▍     | 44604/100000 [39:18<50:02, 18.45it/s]"
     ]
    },
    {
     "name": "stdout",
     "output_type": "stream",
     "text": [
      "\n",
      "Episode 44600:\n",
      "Epsilon: 0.100\n",
      "Memory sizes: [20000, 20000, 20000, 20000]\n",
      "Recent rewards: [-0.22394298769730253, -0.18736767749651398, -0.39847747383494697, -0.41464163921020103]\n"
     ]
    },
    {
     "name": "stderr",
     "output_type": "stream",
     "text": [
      "Training:  45%|████▍     | 44704/100000 [39:24<48:30, 19.00it/s]"
     ]
    },
    {
     "name": "stdout",
     "output_type": "stream",
     "text": [
      "\n",
      "Episode 44700:\n",
      "Epsilon: 0.100\n",
      "Memory sizes: [20000, 20000, 20000, 20000]\n",
      "Recent rewards: [-0.19572009114838515, -0.31436942604521295, -0.229531881223731, -0.22607381159313117]\n"
     ]
    },
    {
     "name": "stderr",
     "output_type": "stream",
     "text": [
      "Training:  45%|████▍     | 44803/100000 [39:29<49:53, 18.44it/s]"
     ]
    },
    {
     "name": "stdout",
     "output_type": "stream",
     "text": [
      "\n",
      "Episode 44800:\n",
      "Epsilon: 0.100\n",
      "Memory sizes: [20000, 20000, 20000, 20000]\n",
      "Recent rewards: [-0.16226776560592884, -0.14667425040727367, -0.4141626518609253, -0.3020472800131145]\n"
     ]
    },
    {
     "name": "stderr",
     "output_type": "stream",
     "text": [
      "Training:  45%|████▍     | 44903/100000 [39:35<51:15, 17.91it/s]"
     ]
    },
    {
     "name": "stdout",
     "output_type": "stream",
     "text": [
      "\n",
      "Episode 44900:\n",
      "Epsilon: 0.100\n",
      "Memory sizes: [20000, 20000, 20000, 20000]\n",
      "Recent rewards: [-0.12350798386936092, -0.14144332314579705, -0.25154751790173924, -0.1766120837117656]\n"
     ]
    },
    {
     "name": "stderr",
     "output_type": "stream",
     "text": [
      "Training:  45%|████▌     | 45003/100000 [39:41<53:20, 17.18it/s]  "
     ]
    },
    {
     "name": "stdout",
     "output_type": "stream",
     "text": [
      "\n",
      "Episode 45000:\n",
      "Epsilon: 0.100\n",
      "Memory sizes: [20000, 20000, 20000, 20000]\n",
      "Recent rewards: [-0.3213247941814158, -0.10774156115198555, -0.3842951494613665, -0.40833315840918677]\n"
     ]
    },
    {
     "name": "stderr",
     "output_type": "stream",
     "text": [
      "Training:  45%|████▌     | 45103/100000 [39:46<51:52, 17.64it/s]  "
     ]
    },
    {
     "name": "stdout",
     "output_type": "stream",
     "text": [
      "\n",
      "Episode 45100:\n",
      "Epsilon: 0.100\n",
      "Memory sizes: [20000, 20000, 20000, 20000]\n",
      "Recent rewards: [-0.22489032944958584, -0.3093754482206304, -0.5051950182634465, -0.25457980619490506]\n"
     ]
    },
    {
     "name": "stderr",
     "output_type": "stream",
     "text": [
      "Training:  45%|████▌     | 45203/100000 [39:52<50:28, 18.09it/s]"
     ]
    },
    {
     "name": "stdout",
     "output_type": "stream",
     "text": [
      "\n",
      "Episode 45200:\n",
      "Epsilon: 0.100\n",
      "Memory sizes: [20000, 20000, 20000, 20000]\n",
      "Recent rewards: [-0.277120263020617, -0.287091079335076, -0.27566800646203843, -0.17580247434777907]\n"
     ]
    },
    {
     "name": "stderr",
     "output_type": "stream",
     "text": [
      "Training:  45%|████▌     | 45303/100000 [39:58<49:09, 18.55it/s]"
     ]
    },
    {
     "name": "stdout",
     "output_type": "stream",
     "text": [
      "\n",
      "Episode 45300:\n",
      "Epsilon: 0.100\n",
      "Memory sizes: [20000, 20000, 20000, 20000]\n",
      "Recent rewards: [-0.13027414581153013, -0.24435120203206784, -0.2651847954778679, -0.4570992242731633]\n"
     ]
    },
    {
     "name": "stderr",
     "output_type": "stream",
     "text": [
      "Training:  45%|████▌     | 45403/100000 [40:03<48:24, 18.79it/s]"
     ]
    },
    {
     "name": "stdout",
     "output_type": "stream",
     "text": [
      "\n",
      "Episode 45400:\n",
      "Epsilon: 0.100\n",
      "Memory sizes: [20000, 20000, 20000, 20000]\n",
      "Recent rewards: [-0.17008000485633165, -0.12847741544378163, -0.34854656002635814, -0.3073664744903378]\n"
     ]
    },
    {
     "name": "stderr",
     "output_type": "stream",
     "text": [
      "Training:  46%|████▌     | 45503/100000 [40:09<49:20, 18.41it/s]"
     ]
    },
    {
     "name": "stdout",
     "output_type": "stream",
     "text": [
      "\n",
      "Episode 45500:\n",
      "Epsilon: 0.100\n",
      "Memory sizes: [20000, 20000, 20000, 20000]\n",
      "Recent rewards: [-0.10571547909650557, -0.23373681584477496, -0.4677782343043544, -0.2957351069968637]\n"
     ]
    },
    {
     "name": "stderr",
     "output_type": "stream",
     "text": [
      "Training:  46%|████▌     | 45603/100000 [40:14<1:03:56, 14.18it/s]"
     ]
    },
    {
     "name": "stdout",
     "output_type": "stream",
     "text": [
      "\n",
      "Episode 45600:\n",
      "Epsilon: 0.100\n",
      "Memory sizes: [20000, 20000, 20000, 20000]\n",
      "Recent rewards: [-0.1933642481313873, -0.31882634133437177, -0.3944607027908403, -0.33364400753583495]\n"
     ]
    },
    {
     "name": "stderr",
     "output_type": "stream",
     "text": [
      "Training:  46%|████▌     | 45703/100000 [40:20<47:38, 18.99it/s]  "
     ]
    },
    {
     "name": "stdout",
     "output_type": "stream",
     "text": [
      "\n",
      "Episode 45700:\n",
      "Epsilon: 0.100\n",
      "Memory sizes: [20000, 20000, 20000, 20000]\n",
      "Recent rewards: [-0.2837461667387195, -0.22494060743952826, -0.4477564576335736, -0.3025452753566531]\n"
     ]
    },
    {
     "name": "stderr",
     "output_type": "stream",
     "text": [
      "Training:  46%|████▌     | 45804/100000 [40:25<47:29, 19.02it/s]"
     ]
    },
    {
     "name": "stdout",
     "output_type": "stream",
     "text": [
      "\n",
      "Episode 45800:\n",
      "Epsilon: 0.100\n",
      "Memory sizes: [20000, 20000, 20000, 20000]\n",
      "Recent rewards: [-0.337233146336825, -0.2556644408366094, -0.1932819912848953, -0.3593374708947852]\n"
     ]
    },
    {
     "name": "stderr",
     "output_type": "stream",
     "text": [
      "Training:  46%|████▌     | 45903/100000 [40:30<48:12, 18.70it/s]"
     ]
    },
    {
     "name": "stdout",
     "output_type": "stream",
     "text": [
      "\n",
      "Episode 45900:\n",
      "Epsilon: 0.100\n",
      "Memory sizes: [20000, 20000, 20000, 20000]\n",
      "Recent rewards: [-0.10612089910751939, -0.22815064905280885, -0.3490996526294415, -0.133321544932396]\n"
     ]
    },
    {
     "name": "stderr",
     "output_type": "stream",
     "text": [
      "Training:  46%|████▌     | 46004/100000 [40:36<48:35, 18.52it/s]"
     ]
    },
    {
     "name": "stdout",
     "output_type": "stream",
     "text": [
      "\n",
      "Episode 46000:\n",
      "Epsilon: 0.100\n",
      "Memory sizes: [20000, 20000, 20000, 20000]\n",
      "Recent rewards: [-0.009846127625304929, -0.20072853918352276, -0.47022196150813966, -0.3374785368682508]\n"
     ]
    },
    {
     "name": "stderr",
     "output_type": "stream",
     "text": [
      "Training:  46%|████▌     | 46104/100000 [40:41<49:43, 18.06it/s]"
     ]
    },
    {
     "name": "stdout",
     "output_type": "stream",
     "text": [
      "\n",
      "Episode 46100:\n",
      "Epsilon: 0.100\n",
      "Memory sizes: [20000, 20000, 20000, 20000]\n",
      "Recent rewards: [-0.25059620190656406, -0.06752298599824914, -0.41604143368879193, -0.43931715158243745]\n"
     ]
    },
    {
     "name": "stderr",
     "output_type": "stream",
     "text": [
      "Training:  46%|████▌     | 46204/100000 [40:47<48:31, 18.48it/s]"
     ]
    },
    {
     "name": "stdout",
     "output_type": "stream",
     "text": [
      "\n",
      "Episode 46200:\n",
      "Epsilon: 0.100\n",
      "Memory sizes: [20000, 20000, 20000, 20000]\n",
      "Recent rewards: [-0.13555370450812274, -0.18559754358732697, -0.38304767707368287, -0.43249970766267104]\n"
     ]
    },
    {
     "name": "stderr",
     "output_type": "stream",
     "text": [
      "Training:  46%|████▋     | 46304/100000 [40:52<48:01, 18.64it/s]"
     ]
    },
    {
     "name": "stdout",
     "output_type": "stream",
     "text": [
      "\n",
      "Episode 46300:\n",
      "Epsilon: 0.100\n",
      "Memory sizes: [20000, 20000, 20000, 20000]\n",
      "Recent rewards: [-0.28663934922538137, -0.20575140949883483, -0.2564776227223631, -0.36073082490060876]\n"
     ]
    },
    {
     "name": "stderr",
     "output_type": "stream",
     "text": [
      "Training:  46%|████▋     | 46404/100000 [40:58<48:44, 18.33it/s]"
     ]
    },
    {
     "name": "stdout",
     "output_type": "stream",
     "text": [
      "\n",
      "Episode 46400:\n",
      "Epsilon: 0.100\n",
      "Memory sizes: [20000, 20000, 20000, 20000]\n",
      "Recent rewards: [-0.20244385653356645, -0.20881602278979577, -0.42446487332011074, -0.21799078715079548]\n"
     ]
    },
    {
     "name": "stderr",
     "output_type": "stream",
     "text": [
      "Training:  47%|████▋     | 46504/100000 [41:03<52:34, 16.96it/s]"
     ]
    },
    {
     "name": "stdout",
     "output_type": "stream",
     "text": [
      "\n",
      "Episode 46500:\n",
      "Epsilon: 0.100\n",
      "Memory sizes: [20000, 20000, 20000, 20000]\n",
      "Recent rewards: [-0.04497579952841543, -0.2668858805401882, -0.5032580237830535, -0.23557887278987485]\n"
     ]
    },
    {
     "name": "stderr",
     "output_type": "stream",
     "text": [
      "Training:  47%|████▋     | 46604/100000 [41:09<50:16, 17.70it/s]"
     ]
    },
    {
     "name": "stdout",
     "output_type": "stream",
     "text": [
      "\n",
      "Episode 46600:\n",
      "Epsilon: 0.100\n",
      "Memory sizes: [20000, 20000, 20000, 20000]\n",
      "Recent rewards: [-0.18610511943110106, -0.19168835487408917, -0.4313169751391311, -0.2110929314773767]\n"
     ]
    },
    {
     "name": "stderr",
     "output_type": "stream",
     "text": [
      "Training:  47%|████▋     | 46703/100000 [41:14<50:08, 17.72it/s]"
     ]
    },
    {
     "name": "stdout",
     "output_type": "stream",
     "text": [
      "\n",
      "Episode 46700:\n",
      "Epsilon: 0.100\n",
      "Memory sizes: [20000, 20000, 20000, 20000]\n",
      "Recent rewards: [0.055951132481103096, -0.20854027772042677, -0.4606421845852507, -0.3511861749313553]\n"
     ]
    },
    {
     "name": "stderr",
     "output_type": "stream",
     "text": [
      "Training:  47%|████▋     | 46804/100000 [41:20<46:46, 18.96it/s]"
     ]
    },
    {
     "name": "stdout",
     "output_type": "stream",
     "text": [
      "\n",
      "Episode 46800:\n",
      "Epsilon: 0.100\n",
      "Memory sizes: [20000, 20000, 20000, 20000]\n",
      "Recent rewards: [-0.1064204778672165, -0.1547548686813349, -0.41980128195422906, -0.2785797335620395]\n"
     ]
    },
    {
     "name": "stderr",
     "output_type": "stream",
     "text": [
      "Training:  47%|████▋     | 46904/100000 [41:25<48:32, 18.23it/s]"
     ]
    },
    {
     "name": "stdout",
     "output_type": "stream",
     "text": [
      "\n",
      "Episode 46900:\n",
      "Epsilon: 0.100\n",
      "Memory sizes: [20000, 20000, 20000, 20000]\n",
      "Recent rewards: [-0.15135292243516504, -0.1583564737786462, -0.3692682781171587, -0.22995918415756608]\n"
     ]
    },
    {
     "name": "stderr",
     "output_type": "stream",
     "text": [
      "Training:  47%|████▋     | 47004/100000 [41:30<49:44, 17.76it/s]"
     ]
    },
    {
     "name": "stdout",
     "output_type": "stream",
     "text": [
      "\n",
      "Episode 47000:\n",
      "Epsilon: 0.100\n",
      "Memory sizes: [20000, 20000, 20000, 20000]\n",
      "Recent rewards: [-0.17740086667172442, -0.220590126377832, -0.3872650798340769, -0.2154041695144469]\n"
     ]
    },
    {
     "name": "stderr",
     "output_type": "stream",
     "text": [
      "Training:  47%|████▋     | 47102/100000 [41:35<46:12, 19.08it/s]"
     ]
    },
    {
     "name": "stdout",
     "output_type": "stream",
     "text": [
      "\n",
      "Episode 47100:\n",
      "Epsilon: 0.100\n",
      "Memory sizes: [20000, 20000, 20000, 20000]\n",
      "Recent rewards: [-0.08226404214730698, -0.21505586658821854, -0.2231667769770983, -0.4496735160968933]\n"
     ]
    },
    {
     "name": "stderr",
     "output_type": "stream",
     "text": [
      "Training:  47%|████▋     | 47204/100000 [41:41<46:20, 18.99it/s]"
     ]
    },
    {
     "name": "stdout",
     "output_type": "stream",
     "text": [
      "\n",
      "Episode 47200:\n",
      "Epsilon: 0.100\n",
      "Memory sizes: [20000, 20000, 20000, 20000]\n",
      "Recent rewards: [-0.10269955794279571, 0.013607170062077359, -0.4161001981877186, -0.31867048279989435]\n"
     ]
    },
    {
     "name": "stderr",
     "output_type": "stream",
     "text": [
      "Training:  47%|████▋     | 47303/100000 [41:46<48:56, 17.95it/s]"
     ]
    },
    {
     "name": "stdout",
     "output_type": "stream",
     "text": [
      "\n",
      "Episode 47300:\n",
      "Epsilon: 0.100\n",
      "Memory sizes: [20000, 20000, 20000, 20000]\n",
      "Recent rewards: [-0.23558542090395482, -0.2487602327359583, -0.40609473275135066, -0.2010125163579977]\n"
     ]
    },
    {
     "name": "stderr",
     "output_type": "stream",
     "text": [
      "Training:  47%|████▋     | 47404/100000 [41:51<45:36, 19.22it/s]"
     ]
    },
    {
     "name": "stdout",
     "output_type": "stream",
     "text": [
      "\n",
      "Episode 47400:\n",
      "Epsilon: 0.100\n",
      "Memory sizes: [20000, 20000, 20000, 20000]\n",
      "Recent rewards: [-0.2124216116490861, -0.09913886002561678, -0.5615158778394571, -0.17751464499772215]\n"
     ]
    },
    {
     "name": "stderr",
     "output_type": "stream",
     "text": [
      "Training:  48%|████▊     | 47503/100000 [41:57<50:45, 17.24it/s]"
     ]
    },
    {
     "name": "stdout",
     "output_type": "stream",
     "text": [
      "\n",
      "Episode 47500:\n",
      "Epsilon: 0.100\n",
      "Memory sizes: [20000, 20000, 20000, 20000]\n",
      "Recent rewards: [-0.2804251263346636, -0.16162575674142574, -0.3793652683558497, -0.19668141440016718]\n"
     ]
    },
    {
     "name": "stderr",
     "output_type": "stream",
     "text": [
      "Training:  48%|████▊     | 47603/100000 [42:03<51:53, 16.83it/s]  "
     ]
    },
    {
     "name": "stdout",
     "output_type": "stream",
     "text": [
      "\n",
      "Episode 47600:\n",
      "Epsilon: 0.100\n",
      "Memory sizes: [20000, 20000, 20000, 20000]\n",
      "Recent rewards: [-0.29814862971013384, -0.14405774211488173, -0.3363867995739991, -0.28625466470432687]\n"
     ]
    },
    {
     "name": "stderr",
     "output_type": "stream",
     "text": [
      "Training:  48%|████▊     | 47703/100000 [42:09<48:13, 18.08it/s]  "
     ]
    },
    {
     "name": "stdout",
     "output_type": "stream",
     "text": [
      "\n",
      "Episode 47700:\n",
      "Epsilon: 0.100\n",
      "Memory sizes: [20000, 20000, 20000, 20000]\n",
      "Recent rewards: [-0.25581768714814507, 0.035075170444769085, -0.3258081880807773, -0.2607718593435642]\n"
     ]
    },
    {
     "name": "stderr",
     "output_type": "stream",
     "text": [
      "Training:  48%|████▊     | 47803/100000 [42:15<52:36, 16.54it/s]  "
     ]
    },
    {
     "name": "stdout",
     "output_type": "stream",
     "text": [
      "\n",
      "Episode 47800:\n",
      "Epsilon: 0.100\n",
      "Memory sizes: [20000, 20000, 20000, 20000]\n",
      "Recent rewards: [-0.021788307171722077, -0.233366665483468, -0.276088405576525, -0.21733214233612508]\n"
     ]
    },
    {
     "name": "stderr",
     "output_type": "stream",
     "text": [
      "Training:  48%|████▊     | 47903/100000 [42:20<46:15, 18.77it/s]"
     ]
    },
    {
     "name": "stdout",
     "output_type": "stream",
     "text": [
      "\n",
      "Episode 47900:\n",
      "Epsilon: 0.100\n",
      "Memory sizes: [20000, 20000, 20000, 20000]\n",
      "Recent rewards: [0.007003890966138387, -0.13480055798598337, -0.5125007154575669, -0.4118313162449404]\n"
     ]
    },
    {
     "name": "stderr",
     "output_type": "stream",
     "text": [
      "Training:  48%|████▊     | 48003/100000 [42:25<48:18, 17.94it/s]"
     ]
    },
    {
     "name": "stdout",
     "output_type": "stream",
     "text": [
      "\n",
      "Episode 48000:\n",
      "Epsilon: 0.100\n",
      "Memory sizes: [20000, 20000, 20000, 20000]\n",
      "Recent rewards: [-0.09826664307330717, -0.18634817077156998, -0.4924947102885507, -0.34895631890206275]\n"
     ]
    },
    {
     "name": "stderr",
     "output_type": "stream",
     "text": [
      "Training:  48%|████▊     | 48104/100000 [42:31<48:00, 18.01it/s]"
     ]
    },
    {
     "name": "stdout",
     "output_type": "stream",
     "text": [
      "\n",
      "Episode 48100:\n",
      "Epsilon: 0.100\n",
      "Memory sizes: [20000, 20000, 20000, 20000]\n",
      "Recent rewards: [-0.20937832600513517, -0.12309945498416625, -0.290899135494503, -0.32556634547662466]\n"
     ]
    },
    {
     "name": "stderr",
     "output_type": "stream",
     "text": [
      "Training:  48%|████▊     | 48204/100000 [42:36<44:30, 19.40it/s]"
     ]
    },
    {
     "name": "stdout",
     "output_type": "stream",
     "text": [
      "\n",
      "Episode 48200:\n",
      "Epsilon: 0.100\n",
      "Memory sizes: [20000, 20000, 20000, 20000]\n",
      "Recent rewards: [-0.2142485770382543, -0.1709516511769168, -0.3762201204938985, -0.23036391606294174]\n"
     ]
    },
    {
     "name": "stderr",
     "output_type": "stream",
     "text": [
      "Training:  48%|████▊     | 48304/100000 [42:42<43:30, 19.80it/s]"
     ]
    },
    {
     "name": "stdout",
     "output_type": "stream",
     "text": [
      "\n",
      "Episode 48300:\n",
      "Epsilon: 0.100\n",
      "Memory sizes: [20000, 20000, 20000, 20000]\n",
      "Recent rewards: [-0.13045024241562367, -0.14735330267741178, -0.2959448779025066, -0.2992513254217924]\n"
     ]
    },
    {
     "name": "stderr",
     "output_type": "stream",
     "text": [
      "Training:  48%|████▊     | 48404/100000 [42:47<45:08, 19.05it/s]"
     ]
    },
    {
     "name": "stdout",
     "output_type": "stream",
     "text": [
      "\n",
      "Episode 48400:\n",
      "Epsilon: 0.100\n",
      "Memory sizes: [20000, 20000, 20000, 20000]\n",
      "Recent rewards: [-0.07304386926703868, -0.10190760299191667, -0.3671792586795298, -0.16679825269340307]\n"
     ]
    },
    {
     "name": "stderr",
     "output_type": "stream",
     "text": [
      "Training:  49%|████▊     | 48504/100000 [42:52<44:05, 19.47it/s]"
     ]
    },
    {
     "name": "stdout",
     "output_type": "stream",
     "text": [
      "\n",
      "Episode 48500:\n",
      "Epsilon: 0.100\n",
      "Memory sizes: [20000, 20000, 20000, 20000]\n",
      "Recent rewards: [-0.07141280137558297, -0.15651565739408002, -0.2872074265410601, -0.3731502726760861]\n"
     ]
    },
    {
     "name": "stderr",
     "output_type": "stream",
     "text": [
      "Training:  49%|████▊     | 48603/100000 [42:57<43:33, 19.66it/s]"
     ]
    },
    {
     "name": "stdout",
     "output_type": "stream",
     "text": [
      "\n",
      "Episode 48600:\n",
      "Epsilon: 0.100\n",
      "Memory sizes: [20000, 20000, 20000, 20000]\n",
      "Recent rewards: [-0.2947252803341748, -0.21982207751179822, -0.31015263817021493, -0.18980921337729043]\n"
     ]
    },
    {
     "name": "stderr",
     "output_type": "stream",
     "text": [
      "Training:  49%|████▊     | 48704/100000 [43:02<44:27, 19.23it/s]"
     ]
    },
    {
     "name": "stdout",
     "output_type": "stream",
     "text": [
      "\n",
      "Episode 48700:\n",
      "Epsilon: 0.100\n",
      "Memory sizes: [20000, 20000, 20000, 20000]\n",
      "Recent rewards: [-0.08853644232743026, -0.21194254123927314, -0.34981003330423177, -0.31146296774778254]\n"
     ]
    },
    {
     "name": "stderr",
     "output_type": "stream",
     "text": [
      "Training:  49%|████▉     | 48804/100000 [43:07<44:20, 19.25it/s]"
     ]
    },
    {
     "name": "stdout",
     "output_type": "stream",
     "text": [
      "\n",
      "Episode 48800:\n",
      "Epsilon: 0.100\n",
      "Memory sizes: [20000, 20000, 20000, 20000]\n",
      "Recent rewards: [-0.14516950933541758, -0.09370221090896141, -0.32118122749127004, -0.22801677730193073]\n"
     ]
    },
    {
     "name": "stderr",
     "output_type": "stream",
     "text": [
      "Training:  49%|████▉     | 48903/100000 [43:12<43:50, 19.42it/s]"
     ]
    },
    {
     "name": "stdout",
     "output_type": "stream",
     "text": [
      "\n",
      "Episode 48900:\n",
      "Epsilon: 0.100\n",
      "Memory sizes: [20000, 20000, 20000, 20000]\n",
      "Recent rewards: [-0.19589413245481094, -0.14698833858746244, -0.355377702918008, -0.11111069138127885]\n"
     ]
    },
    {
     "name": "stderr",
     "output_type": "stream",
     "text": [
      "Training:  49%|████▉     | 49005/100000 [43:18<46:12, 18.39it/s]"
     ]
    },
    {
     "name": "stdout",
     "output_type": "stream",
     "text": [
      "\n",
      "Episode 49000:\n",
      "Epsilon: 0.100\n",
      "Memory sizes: [20000, 20000, 20000, 20000]\n",
      "Recent rewards: [-0.30230016900760226, -0.13818401728027252, -0.2560662851165621, -0.2076572724071645]\n"
     ]
    },
    {
     "name": "stderr",
     "output_type": "stream",
     "text": [
      "Training:  49%|████▉     | 49104/100000 [43:23<43:44, 19.39it/s]"
     ]
    },
    {
     "name": "stdout",
     "output_type": "stream",
     "text": [
      "\n",
      "Episode 49100:\n",
      "Epsilon: 0.100\n",
      "Memory sizes: [20000, 20000, 20000, 20000]\n",
      "Recent rewards: [-0.06573302813770003, -0.110661436438973, -0.3502024778559013, -0.21978698044020006]\n"
     ]
    },
    {
     "name": "stderr",
     "output_type": "stream",
     "text": [
      "Training:  49%|████▉     | 49204/100000 [43:28<44:11, 19.16it/s]"
     ]
    },
    {
     "name": "stdout",
     "output_type": "stream",
     "text": [
      "\n",
      "Episode 49200:\n",
      "Epsilon: 0.100\n",
      "Memory sizes: [20000, 20000, 20000, 20000]\n",
      "Recent rewards: [-0.1946471122624759, -0.18689900248760086, -0.30836397325106263, -0.30010820147652195]\n"
     ]
    },
    {
     "name": "stderr",
     "output_type": "stream",
     "text": [
      "Training:  49%|████▉     | 49304/100000 [43:33<45:46, 18.46it/s]"
     ]
    },
    {
     "name": "stdout",
     "output_type": "stream",
     "text": [
      "\n",
      "Episode 49300:\n",
      "Epsilon: 0.100\n",
      "Memory sizes: [20000, 20000, 20000, 20000]\n",
      "Recent rewards: [-0.32089526388057565, -0.17909569173229645, -0.09209326923789268, -0.1921204927272896]\n"
     ]
    },
    {
     "name": "stderr",
     "output_type": "stream",
     "text": [
      "Training:  49%|████▉     | 49403/100000 [43:39<44:28, 18.96it/s]"
     ]
    },
    {
     "name": "stdout",
     "output_type": "stream",
     "text": [
      "\n",
      "Episode 49400:\n",
      "Epsilon: 0.100\n",
      "Memory sizes: [20000, 20000, 20000, 20000]\n",
      "Recent rewards: [-0.10911627746045706, -0.21323900184737035, -0.296444099695534, -0.27411862213956495]\n"
     ]
    },
    {
     "name": "stderr",
     "output_type": "stream",
     "text": [
      "Training:  50%|████▉     | 49503/100000 [43:44<46:57, 17.93it/s]"
     ]
    },
    {
     "name": "stdout",
     "output_type": "stream",
     "text": [
      "\n",
      "Episode 49500:\n",
      "Epsilon: 0.100\n",
      "Memory sizes: [20000, 20000, 20000, 20000]\n",
      "Recent rewards: [-0.282268061519902, -0.2850645772335444, -0.1966030438419221, -0.3664319311906884]\n"
     ]
    },
    {
     "name": "stderr",
     "output_type": "stream",
     "text": [
      "Training:  50%|████▉     | 49603/100000 [43:49<46:02, 18.25it/s]"
     ]
    },
    {
     "name": "stdout",
     "output_type": "stream",
     "text": [
      "\n",
      "Episode 49600:\n",
      "Epsilon: 0.100\n",
      "Memory sizes: [20000, 20000, 20000, 20000]\n",
      "Recent rewards: [-0.06048609881772756, -0.1890652066927252, -0.377264866624146, -0.3356468264281445]\n"
     ]
    },
    {
     "name": "stderr",
     "output_type": "stream",
     "text": [
      "Training:  50%|████▉     | 49703/100000 [43:54<42:35, 19.68it/s]"
     ]
    },
    {
     "name": "stdout",
     "output_type": "stream",
     "text": [
      "\n",
      "Episode 49700:\n",
      "Epsilon: 0.100\n",
      "Memory sizes: [20000, 20000, 20000, 20000]\n",
      "Recent rewards: [-0.19932104150336025, -0.032973041486970445, -0.38411180626823976, -0.24460369109767297]\n"
     ]
    },
    {
     "name": "stderr",
     "output_type": "stream",
     "text": [
      "Training:  50%|████▉     | 49804/100000 [44:00<43:00, 19.46it/s]"
     ]
    },
    {
     "name": "stdout",
     "output_type": "stream",
     "text": [
      "\n",
      "Episode 49800:\n",
      "Epsilon: 0.100\n",
      "Memory sizes: [20000, 20000, 20000, 20000]\n",
      "Recent rewards: [-0.306985861793679, -0.05704825613766236, -0.008110424589191072, -0.289905059250314]\n"
     ]
    },
    {
     "name": "stderr",
     "output_type": "stream",
     "text": [
      "Training:  50%|████▉     | 49904/100000 [44:05<44:51, 18.61it/s]"
     ]
    },
    {
     "name": "stdout",
     "output_type": "stream",
     "text": [
      "\n",
      "Episode 49900:\n",
      "Epsilon: 0.100\n",
      "Memory sizes: [20000, 20000, 20000, 20000]\n",
      "Recent rewards: [-0.1259437163510887, -0.1475791111528433, -0.2857627416440262, -0.2917774445059008]\n"
     ]
    },
    {
     "name": "stderr",
     "output_type": "stream",
     "text": [
      "Training:  50%|█████     | 50004/100000 [44:10<44:33, 18.70it/s]"
     ]
    },
    {
     "name": "stdout",
     "output_type": "stream",
     "text": [
      "\n",
      "Episode 50000:\n",
      "Epsilon: 0.100\n",
      "Memory sizes: [20000, 20000, 20000, 20000]\n",
      "Recent rewards: [-0.11983719189094018, -0.19358870795517208, -0.2707880384671494, -0.3043594306952985]\n",
      "Checkpoint saved at episode 50000\n"
     ]
    },
    {
     "name": "stderr",
     "output_type": "stream",
     "text": [
      "Training:  50%|█████     | 50103/100000 [44:15<42:20, 19.64it/s]"
     ]
    },
    {
     "name": "stdout",
     "output_type": "stream",
     "text": [
      "\n",
      "Episode 50100:\n",
      "Epsilon: 0.100\n",
      "Memory sizes: [20000, 20000, 20000, 20000]\n",
      "Recent rewards: [-0.07194051923744571, -0.17467237289711998, -0.36876986110108306, -0.2915890744400412]\n"
     ]
    },
    {
     "name": "stderr",
     "output_type": "stream",
     "text": [
      "Training:  50%|█████     | 50201/100000 [44:20<46:08, 17.99it/s]"
     ]
    },
    {
     "name": "stdout",
     "output_type": "stream",
     "text": [
      "\n",
      "Episode 50200:\n",
      "Epsilon: 0.100\n",
      "Memory sizes: [20000, 20000, 20000, 20000]\n",
      "Recent rewards: [-0.0891628729490626, -0.2251084587810113, -0.3274371449885628, -0.25196329453644606]\n"
     ]
    },
    {
     "name": "stderr",
     "output_type": "stream",
     "text": [
      "Training:  50%|█████     | 50303/100000 [44:26<46:11, 17.93it/s]"
     ]
    },
    {
     "name": "stdout",
     "output_type": "stream",
     "text": [
      "\n",
      "Episode 50300:\n",
      "Epsilon: 0.100\n",
      "Memory sizes: [20000, 20000, 20000, 20000]\n",
      "Recent rewards: [-0.017630154143767382, -0.21080210783937936, -0.23766744464731976, -0.23784503389368278]\n"
     ]
    },
    {
     "name": "stderr",
     "output_type": "stream",
     "text": [
      "Training:  50%|█████     | 50404/100000 [44:32<46:07, 17.92it/s]"
     ]
    },
    {
     "name": "stdout",
     "output_type": "stream",
     "text": [
      "\n",
      "Episode 50400:\n",
      "Epsilon: 0.100\n",
      "Memory sizes: [20000, 20000, 20000, 20000]\n",
      "Recent rewards: [-0.23754387060557763, -0.3161868709974043, -0.2518401760988725, -0.25930011015003607]\n"
     ]
    },
    {
     "name": "stderr",
     "output_type": "stream",
     "text": [
      "Training:  51%|█████     | 50504/100000 [44:38<47:17, 17.44it/s]"
     ]
    },
    {
     "name": "stdout",
     "output_type": "stream",
     "text": [
      "\n",
      "Episode 50500:\n",
      "Epsilon: 0.100\n",
      "Memory sizes: [20000, 20000, 20000, 20000]\n",
      "Recent rewards: [-0.08713181036380646, -0.20955950867326475, -0.30052950931401073, -0.33751355956633317]\n"
     ]
    },
    {
     "name": "stderr",
     "output_type": "stream",
     "text": [
      "Training:  51%|█████     | 50604/100000 [44:43<44:30, 18.49it/s]"
     ]
    },
    {
     "name": "stdout",
     "output_type": "stream",
     "text": [
      "\n",
      "Episode 50600:\n",
      "Epsilon: 0.100\n",
      "Memory sizes: [20000, 20000, 20000, 20000]\n",
      "Recent rewards: [-0.15646011166731022, -0.3272224002990211, -0.334624593904548, -0.33469546817839885]\n"
     ]
    },
    {
     "name": "stderr",
     "output_type": "stream",
     "text": [
      "Training:  51%|█████     | 50703/100000 [44:49<44:22, 18.51it/s]"
     ]
    },
    {
     "name": "stdout",
     "output_type": "stream",
     "text": [
      "\n",
      "Episode 50700:\n",
      "Epsilon: 0.100\n",
      "Memory sizes: [20000, 20000, 20000, 20000]\n",
      "Recent rewards: [-0.15273273374217028, -0.14193620942680946, -0.24532233281790955, -0.17306118230375742]\n"
     ]
    },
    {
     "name": "stderr",
     "output_type": "stream",
     "text": [
      "Training:  51%|█████     | 50803/100000 [44:54<46:04, 17.80it/s]"
     ]
    },
    {
     "name": "stdout",
     "output_type": "stream",
     "text": [
      "\n",
      "Episode 50800:\n",
      "Epsilon: 0.100\n",
      "Memory sizes: [20000, 20000, 20000, 20000]\n",
      "Recent rewards: [-0.14252823191038044, -0.18057717302312207, -0.3112232208468764, -0.3820726810381975]\n"
     ]
    },
    {
     "name": "stderr",
     "output_type": "stream",
     "text": [
      "Training:  51%|█████     | 50903/100000 [44:59<44:52, 18.23it/s]"
     ]
    },
    {
     "name": "stdout",
     "output_type": "stream",
     "text": [
      "\n",
      "Episode 50900:\n",
      "Epsilon: 0.100\n",
      "Memory sizes: [20000, 20000, 20000, 20000]\n",
      "Recent rewards: [-0.11915114234218907, -0.1510684755345599, -0.4014494598711898, -0.16602915203240648]\n"
     ]
    },
    {
     "name": "stderr",
     "output_type": "stream",
     "text": [
      "Training:  51%|█████     | 51003/100000 [45:05<44:32, 18.34it/s]"
     ]
    },
    {
     "name": "stdout",
     "output_type": "stream",
     "text": [
      "\n",
      "Episode 51000:\n",
      "Epsilon: 0.100\n",
      "Memory sizes: [20000, 20000, 20000, 20000]\n",
      "Recent rewards: [-0.14107876715775583, -0.2206227613037332, -0.25528575441708823, -0.20476395130227426]\n"
     ]
    },
    {
     "name": "stderr",
     "output_type": "stream",
     "text": [
      "Training:  51%|█████     | 51104/100000 [45:11<45:19, 17.98it/s]"
     ]
    },
    {
     "name": "stdout",
     "output_type": "stream",
     "text": [
      "\n",
      "Episode 51100:\n",
      "Epsilon: 0.100\n",
      "Memory sizes: [20000, 20000, 20000, 20000]\n",
      "Recent rewards: [-0.04750130799518221, -0.18530889584571233, -0.35110929314084666, -0.3915268907862869]\n"
     ]
    },
    {
     "name": "stderr",
     "output_type": "stream",
     "text": [
      "Training:  51%|█████     | 51204/100000 [45:16<44:31, 18.27it/s]"
     ]
    },
    {
     "name": "stdout",
     "output_type": "stream",
     "text": [
      "\n",
      "Episode 51200:\n",
      "Epsilon: 0.100\n",
      "Memory sizes: [20000, 20000, 20000, 20000]\n",
      "Recent rewards: [-0.08275654652713058, -0.29262407180524824, -0.1761191665371548, -0.23204222662484839]\n"
     ]
    },
    {
     "name": "stderr",
     "output_type": "stream",
     "text": [
      "Training:  51%|█████▏    | 51304/100000 [45:21<43:49, 18.52it/s]"
     ]
    },
    {
     "name": "stdout",
     "output_type": "stream",
     "text": [
      "\n",
      "Episode 51300:\n",
      "Epsilon: 0.100\n",
      "Memory sizes: [20000, 20000, 20000, 20000]\n",
      "Recent rewards: [-0.18297872039032728, -0.1475460790491773, -0.1284012797817822, -0.30504595170297394]\n"
     ]
    },
    {
     "name": "stderr",
     "output_type": "stream",
     "text": [
      "Training:  51%|█████▏    | 51405/100000 [45:27<44:00, 18.40it/s]"
     ]
    },
    {
     "name": "stdout",
     "output_type": "stream",
     "text": [
      "\n",
      "Episode 51400:\n",
      "Epsilon: 0.100\n",
      "Memory sizes: [20000, 20000, 20000, 20000]\n",
      "Recent rewards: [-0.14962407109010611, -0.2693896858534457, -0.21524728686938133, -0.3755055398296847]\n"
     ]
    },
    {
     "name": "stderr",
     "output_type": "stream",
     "text": [
      "Training:  52%|█████▏    | 51503/100000 [45:32<41:39, 19.40it/s]"
     ]
    },
    {
     "name": "stdout",
     "output_type": "stream",
     "text": [
      "\n",
      "Episode 51500:\n",
      "Epsilon: 0.100\n",
      "Memory sizes: [20000, 20000, 20000, 20000]\n",
      "Recent rewards: [-0.07709064568918798, -0.20281430714663665, -0.35134771290480055, -0.25388726837692943]\n"
     ]
    },
    {
     "name": "stderr",
     "output_type": "stream",
     "text": [
      "Training:  52%|█████▏    | 51603/100000 [45:37<44:34, 18.10it/s]"
     ]
    },
    {
     "name": "stdout",
     "output_type": "stream",
     "text": [
      "\n",
      "Episode 51600:\n",
      "Epsilon: 0.100\n",
      "Memory sizes: [20000, 20000, 20000, 20000]\n",
      "Recent rewards: [-0.15767917866493264, -0.1650341967137325, -0.3157515113482851, -0.2812103813790716]\n"
     ]
    },
    {
     "name": "stderr",
     "output_type": "stream",
     "text": [
      "Training:  52%|█████▏    | 51704/100000 [45:43<46:24, 17.35it/s]"
     ]
    },
    {
     "name": "stdout",
     "output_type": "stream",
     "text": [
      "\n",
      "Episode 51700:\n",
      "Epsilon: 0.100\n",
      "Memory sizes: [20000, 20000, 20000, 20000]\n",
      "Recent rewards: [-0.09684623925442183, -0.12461563913982865, -0.3137455413831146, -0.2685473083748022]\n"
     ]
    },
    {
     "name": "stderr",
     "output_type": "stream",
     "text": [
      "Training:  52%|█████▏    | 51805/100000 [45:49<44:34, 18.02it/s]"
     ]
    },
    {
     "name": "stdout",
     "output_type": "stream",
     "text": [
      "\n",
      "Episode 51800:\n",
      "Epsilon: 0.100\n",
      "Memory sizes: [20000, 20000, 20000, 20000]\n",
      "Recent rewards: [-0.22051431152826675, -0.2198952817447416, -0.27467828058867555, -0.15326617023252578]\n"
     ]
    },
    {
     "name": "stderr",
     "output_type": "stream",
     "text": [
      "Training:  52%|█████▏    | 51903/100000 [45:54<44:29, 18.02it/s]"
     ]
    },
    {
     "name": "stdout",
     "output_type": "stream",
     "text": [
      "\n",
      "Episode 51900:\n",
      "Epsilon: 0.100\n",
      "Memory sizes: [20000, 20000, 20000, 20000]\n",
      "Recent rewards: [-0.2348679199243911, -0.12160020823947526, -0.32777443747802015, -0.3174974272832224]\n"
     ]
    },
    {
     "name": "stderr",
     "output_type": "stream",
     "text": [
      "Training:  52%|█████▏    | 52003/100000 [45:59<45:00, 17.78it/s]"
     ]
    },
    {
     "name": "stdout",
     "output_type": "stream",
     "text": [
      "\n",
      "Episode 52000:\n",
      "Epsilon: 0.100\n",
      "Memory sizes: [20000, 20000, 20000, 20000]\n",
      "Recent rewards: [-0.04813325368611951, -0.14808284545751657, -0.4152409234387402, -0.23477076002767652]\n"
     ]
    },
    {
     "name": "stderr",
     "output_type": "stream",
     "text": [
      "Training:  52%|█████▏    | 52103/100000 [46:05<43:30, 18.35it/s]"
     ]
    },
    {
     "name": "stdout",
     "output_type": "stream",
     "text": [
      "\n",
      "Episode 52100:\n",
      "Epsilon: 0.100\n",
      "Memory sizes: [20000, 20000, 20000, 20000]\n",
      "Recent rewards: [-0.28652562061439973, -0.23536463570689853, -0.4287449138286937, -0.17669395407493538]\n"
     ]
    },
    {
     "name": "stderr",
     "output_type": "stream",
     "text": [
      "Training:  52%|█████▏    | 52204/100000 [46:11<42:59, 18.53it/s]"
     ]
    },
    {
     "name": "stdout",
     "output_type": "stream",
     "text": [
      "\n",
      "Episode 52200:\n",
      "Epsilon: 0.100\n",
      "Memory sizes: [20000, 20000, 20000, 20000]\n",
      "Recent rewards: [-0.15709132266194806, -0.14694920953211005, -0.42658546897566935, -0.14574963946492098]\n"
     ]
    },
    {
     "name": "stderr",
     "output_type": "stream",
     "text": [
      "Training:  52%|█████▏    | 52304/100000 [46:16<44:08, 18.01it/s]"
     ]
    },
    {
     "name": "stdout",
     "output_type": "stream",
     "text": [
      "\n",
      "Episode 52300:\n",
      "Epsilon: 0.100\n",
      "Memory sizes: [20000, 20000, 20000, 20000]\n",
      "Recent rewards: [-0.2597819740987847, -0.3530771966405593, -0.13866491924954055, -0.24519980233030148]\n"
     ]
    },
    {
     "name": "stderr",
     "output_type": "stream",
     "text": [
      "Training:  52%|█████▏    | 52403/100000 [46:22<42:15, 18.77it/s]"
     ]
    },
    {
     "name": "stdout",
     "output_type": "stream",
     "text": [
      "\n",
      "Episode 52400:\n",
      "Epsilon: 0.100\n",
      "Memory sizes: [20000, 20000, 20000, 20000]\n",
      "Recent rewards: [-0.15975270028443464, -0.21690320131270893, -0.39896183957219045, -0.21470328476242695]\n"
     ]
    },
    {
     "name": "stderr",
     "output_type": "stream",
     "text": [
      "Training:  53%|█████▎    | 52503/100000 [46:27<45:44, 17.31it/s]"
     ]
    },
    {
     "name": "stdout",
     "output_type": "stream",
     "text": [
      "\n",
      "Episode 52500:\n",
      "Epsilon: 0.100\n",
      "Memory sizes: [20000, 20000, 20000, 20000]\n",
      "Recent rewards: [-0.2656451981983963, -0.18888676402308646, -0.18984550836161213, -0.22966566015249554]\n"
     ]
    },
    {
     "name": "stderr",
     "output_type": "stream",
     "text": [
      "Training:  53%|█████▎    | 52603/100000 [46:33<43:36, 18.11it/s]"
     ]
    },
    {
     "name": "stdout",
     "output_type": "stream",
     "text": [
      "\n",
      "Episode 52600:\n",
      "Epsilon: 0.100\n",
      "Memory sizes: [20000, 20000, 20000, 20000]\n",
      "Recent rewards: [-0.21961799260251524, -0.18842280296590552, -0.5250597709300717, -0.1957056728895448]\n"
     ]
    },
    {
     "name": "stderr",
     "output_type": "stream",
     "text": [
      "Training:  53%|█████▎    | 52704/100000 [46:39<42:17, 18.64it/s]"
     ]
    },
    {
     "name": "stdout",
     "output_type": "stream",
     "text": [
      "\n",
      "Episode 52700:\n",
      "Epsilon: 0.100\n",
      "Memory sizes: [20000, 20000, 20000, 20000]\n",
      "Recent rewards: [-0.17334422908637362, -0.12072507272588989, -0.341418969747423, -0.2421790655666816]\n"
     ]
    },
    {
     "name": "stderr",
     "output_type": "stream",
     "text": [
      "Training:  53%|█████▎    | 52804/100000 [46:44<43:59, 17.88it/s]"
     ]
    },
    {
     "name": "stdout",
     "output_type": "stream",
     "text": [
      "\n",
      "Episode 52800:\n",
      "Epsilon: 0.100\n",
      "Memory sizes: [20000, 20000, 20000, 20000]\n",
      "Recent rewards: [-0.20205180384855093, -0.21167826684407984, -0.35747133100658496, -0.20805222832896486]\n"
     ]
    },
    {
     "name": "stderr",
     "output_type": "stream",
     "text": [
      "Training:  53%|█████▎    | 52904/100000 [46:50<43:39, 17.98it/s]  "
     ]
    },
    {
     "name": "stdout",
     "output_type": "stream",
     "text": [
      "\n",
      "Episode 52900:\n",
      "Epsilon: 0.100\n",
      "Memory sizes: [20000, 20000, 20000, 20000]\n",
      "Recent rewards: [-0.11201922424070748, -0.08827818029133269, -0.5085727813106264, -0.10467542957620538]\n"
     ]
    },
    {
     "name": "stderr",
     "output_type": "stream",
     "text": [
      "Training:  53%|█████▎    | 53003/100000 [46:55<42:43, 18.34it/s]"
     ]
    },
    {
     "name": "stdout",
     "output_type": "stream",
     "text": [
      "\n",
      "Episode 53000:\n",
      "Epsilon: 0.100\n",
      "Memory sizes: [20000, 20000, 20000, 20000]\n",
      "Recent rewards: [0.013564299038511828, -0.17585861299972458, -0.40282823416571534, -0.1456598900898548]\n"
     ]
    },
    {
     "name": "stderr",
     "output_type": "stream",
     "text": [
      "Training:  53%|█████▎    | 53103/100000 [47:01<46:31, 16.80it/s]"
     ]
    },
    {
     "name": "stdout",
     "output_type": "stream",
     "text": [
      "\n",
      "Episode 53100:\n",
      "Epsilon: 0.100\n",
      "Memory sizes: [20000, 20000, 20000, 20000]\n",
      "Recent rewards: [-0.2613696533044801, -0.21699496497242066, -0.48397083665977214, -0.11246672090972484]\n"
     ]
    },
    {
     "name": "stderr",
     "output_type": "stream",
     "text": [
      "Training:  53%|█████▎    | 53203/100000 [47:07<43:44, 17.83it/s]"
     ]
    },
    {
     "name": "stdout",
     "output_type": "stream",
     "text": [
      "\n",
      "Episode 53200:\n",
      "Epsilon: 0.100\n",
      "Memory sizes: [20000, 20000, 20000, 20000]\n",
      "Recent rewards: [-0.04606947221450202, -0.13335715213550264, -0.3409315768072506, -0.23502317021337774]\n"
     ]
    },
    {
     "name": "stderr",
     "output_type": "stream",
     "text": [
      "Training:  53%|█████▎    | 53303/100000 [47:12<44:49, 17.36it/s]"
     ]
    },
    {
     "name": "stdout",
     "output_type": "stream",
     "text": [
      "\n",
      "Episode 53300:\n",
      "Epsilon: 0.100\n",
      "Memory sizes: [20000, 20000, 20000, 20000]\n",
      "Recent rewards: [-0.22800799496027138, -0.036327460907111066, -0.30481527228249705, -0.19535909367093418]\n"
     ]
    },
    {
     "name": "stderr",
     "output_type": "stream",
     "text": [
      "Training:  53%|█████▎    | 53403/100000 [47:18<44:01, 17.64it/s]"
     ]
    },
    {
     "name": "stdout",
     "output_type": "stream",
     "text": [
      "\n",
      "Episode 53400:\n",
      "Epsilon: 0.100\n",
      "Memory sizes: [20000, 20000, 20000, 20000]\n",
      "Recent rewards: [-0.16505978592692394, -0.22593508710608579, -0.3918348695949219, -0.21457406243303473]\n"
     ]
    },
    {
     "name": "stderr",
     "output_type": "stream",
     "text": [
      "Training:  54%|█████▎    | 53504/100000 [47:24<41:18, 18.76it/s]"
     ]
    },
    {
     "name": "stdout",
     "output_type": "stream",
     "text": [
      "\n",
      "Episode 53500:\n",
      "Epsilon: 0.100\n",
      "Memory sizes: [20000, 20000, 20000, 20000]\n",
      "Recent rewards: [-0.22416574024590807, -0.20684406532972194, -0.5660541604797422, -0.14077823069332634]\n"
     ]
    },
    {
     "name": "stderr",
     "output_type": "stream",
     "text": [
      "Training:  54%|█████▎    | 53604/100000 [47:29<41:19, 18.71it/s]"
     ]
    },
    {
     "name": "stdout",
     "output_type": "stream",
     "text": [
      "\n",
      "Episode 53600:\n",
      "Epsilon: 0.100\n",
      "Memory sizes: [20000, 20000, 20000, 20000]\n",
      "Recent rewards: [-0.28894554684519985, -0.11229667534327825, -0.43460149589829955, -0.2409936620280472]\n"
     ]
    },
    {
     "name": "stderr",
     "output_type": "stream",
     "text": [
      "Training:  54%|█████▎    | 53704/100000 [47:35<46:03, 16.75it/s]"
     ]
    },
    {
     "name": "stdout",
     "output_type": "stream",
     "text": [
      "\n",
      "Episode 53700:\n",
      "Epsilon: 0.100\n",
      "Memory sizes: [20000, 20000, 20000, 20000]\n",
      "Recent rewards: [-0.30457031067957724, -0.18008184534951296, -0.40538469575896, -0.22585304275559992]\n"
     ]
    },
    {
     "name": "stderr",
     "output_type": "stream",
     "text": [
      "Training:  54%|█████▍    | 53804/100000 [47:40<42:11, 18.25it/s]"
     ]
    },
    {
     "name": "stdout",
     "output_type": "stream",
     "text": [
      "\n",
      "Episode 53800:\n",
      "Epsilon: 0.100\n",
      "Memory sizes: [20000, 20000, 20000, 20000]\n",
      "Recent rewards: [-0.0471882997664117, -0.26656537059839924, -0.4376710310294264, -0.20290848076954493]\n"
     ]
    },
    {
     "name": "stderr",
     "output_type": "stream",
     "text": [
      "Training:  54%|█████▍    | 53904/100000 [47:46<41:37, 18.46it/s]"
     ]
    },
    {
     "name": "stdout",
     "output_type": "stream",
     "text": [
      "\n",
      "Episode 53900:\n",
      "Epsilon: 0.100\n",
      "Memory sizes: [20000, 20000, 20000, 20000]\n",
      "Recent rewards: [-0.18527310229945912, -0.3236433977608876, -0.30157632615226837, -0.10064483868064211]\n"
     ]
    },
    {
     "name": "stderr",
     "output_type": "stream",
     "text": [
      "Training:  54%|█████▍    | 54004/100000 [47:51<44:18, 17.30it/s]"
     ]
    },
    {
     "name": "stdout",
     "output_type": "stream",
     "text": [
      "\n",
      "Episode 54000:\n",
      "Epsilon: 0.100\n",
      "Memory sizes: [20000, 20000, 20000, 20000]\n",
      "Recent rewards: [-0.2545536586907515, -0.08671759821294983, -0.3332880946658829, -0.21117835609939356]\n"
     ]
    },
    {
     "name": "stderr",
     "output_type": "stream",
     "text": [
      "Training:  54%|█████▍    | 54103/100000 [47:57<46:53, 16.31it/s]"
     ]
    },
    {
     "name": "stdout",
     "output_type": "stream",
     "text": [
      "\n",
      "Episode 54100:\n",
      "Epsilon: 0.100\n",
      "Memory sizes: [20000, 20000, 20000, 20000]\n",
      "Recent rewards: [-0.03761156772439318, -0.26069581823704796, -0.4166033509216341, -0.10890371889132655]\n"
     ]
    },
    {
     "name": "stderr",
     "output_type": "stream",
     "text": [
      "Training:  54%|█████▍    | 54203/100000 [48:03<41:24, 18.43it/s]"
     ]
    },
    {
     "name": "stdout",
     "output_type": "stream",
     "text": [
      "\n",
      "Episode 54200:\n",
      "Epsilon: 0.100\n",
      "Memory sizes: [20000, 20000, 20000, 20000]\n",
      "Recent rewards: [-0.14868792766486918, -0.15313212990232938, -0.26710791394991323, -0.3411075518532138]\n"
     ]
    },
    {
     "name": "stderr",
     "output_type": "stream",
     "text": [
      "Training:  54%|█████▍    | 54303/100000 [48:09<42:58, 17.73it/s]"
     ]
    },
    {
     "name": "stdout",
     "output_type": "stream",
     "text": [
      "\n",
      "Episode 54300:\n",
      "Epsilon: 0.100\n",
      "Memory sizes: [20000, 20000, 20000, 20000]\n",
      "Recent rewards: [-0.2033522139444818, -0.12345841172818967, -0.3570119815664781, -0.14696398761431495]\n"
     ]
    },
    {
     "name": "stderr",
     "output_type": "stream",
     "text": [
      "Training:  54%|█████▍    | 54403/100000 [48:14<43:26, 17.50it/s]"
     ]
    },
    {
     "name": "stdout",
     "output_type": "stream",
     "text": [
      "\n",
      "Episode 54400:\n",
      "Epsilon: 0.100\n",
      "Memory sizes: [20000, 20000, 20000, 20000]\n",
      "Recent rewards: [-0.14306071372406165, -0.17034220447028323, -0.4959028629511881, -0.18119688036133336]\n"
     ]
    },
    {
     "name": "stderr",
     "output_type": "stream",
     "text": [
      "Training:  55%|█████▍    | 54503/100000 [48:20<41:53, 18.10it/s]"
     ]
    },
    {
     "name": "stdout",
     "output_type": "stream",
     "text": [
      "\n",
      "Episode 54500:\n",
      "Epsilon: 0.100\n",
      "Memory sizes: [20000, 20000, 20000, 20000]\n",
      "Recent rewards: [-0.18494309816348473, -0.2722283051591793, -0.5563407396191113, -0.0323557482246043]\n"
     ]
    },
    {
     "name": "stderr",
     "output_type": "stream",
     "text": [
      "Training:  55%|█████▍    | 54604/100000 [48:26<41:25, 18.27it/s]"
     ]
    },
    {
     "name": "stdout",
     "output_type": "stream",
     "text": [
      "\n",
      "Episode 54600:\n",
      "Epsilon: 0.100\n",
      "Memory sizes: [20000, 20000, 20000, 20000]\n",
      "Recent rewards: [-0.016907096447673825, -0.31767298273324385, -0.36745394747271726, -0.22394091079055553]\n"
     ]
    },
    {
     "name": "stderr",
     "output_type": "stream",
     "text": [
      "Training:  55%|█████▍    | 54704/100000 [48:32<43:59, 17.16it/s]"
     ]
    },
    {
     "name": "stdout",
     "output_type": "stream",
     "text": [
      "\n",
      "Episode 54700:\n",
      "Epsilon: 0.100\n",
      "Memory sizes: [20000, 20000, 20000, 20000]\n",
      "Recent rewards: [-0.2080446341934324, -0.1424593687844798, -0.2978835772534161, -0.1635720824053901]\n"
     ]
    },
    {
     "name": "stderr",
     "output_type": "stream",
     "text": [
      "Training:  55%|█████▍    | 54804/100000 [48:37<44:42, 16.85it/s]"
     ]
    },
    {
     "name": "stdout",
     "output_type": "stream",
     "text": [
      "\n",
      "Episode 54800:\n",
      "Epsilon: 0.100\n",
      "Memory sizes: [20000, 20000, 20000, 20000]\n",
      "Recent rewards: [-0.09170827641617152, -0.13490073627452573, -0.43557717637029425, -0.11123060606913743]\n"
     ]
    },
    {
     "name": "stderr",
     "output_type": "stream",
     "text": [
      "Training:  55%|█████▍    | 54904/100000 [48:43<43:48, 17.16it/s]"
     ]
    },
    {
     "name": "stdout",
     "output_type": "stream",
     "text": [
      "\n",
      "Episode 54900:\n",
      "Epsilon: 0.100\n",
      "Memory sizes: [20000, 20000, 20000, 20000]\n",
      "Recent rewards: [-0.11530775142932187, -0.23819541489315532, -0.595957328700388, -0.16117507010813995]\n"
     ]
    },
    {
     "name": "stderr",
     "output_type": "stream",
     "text": [
      "Training:  55%|█████▌    | 55004/100000 [48:49<42:49, 17.51it/s]"
     ]
    },
    {
     "name": "stdout",
     "output_type": "stream",
     "text": [
      "\n",
      "Episode 55000:\n",
      "Epsilon: 0.100\n",
      "Memory sizes: [20000, 20000, 20000, 20000]\n",
      "Recent rewards: [-0.157891223295223, -0.0407648949828771, -0.4666009815501128, -0.176728494598613]\n"
     ]
    },
    {
     "name": "stderr",
     "output_type": "stream",
     "text": [
      "Training:  55%|█████▌    | 55104/100000 [48:55<42:20, 17.67it/s]"
     ]
    },
    {
     "name": "stdout",
     "output_type": "stream",
     "text": [
      "\n",
      "Episode 55100:\n",
      "Epsilon: 0.100\n",
      "Memory sizes: [20000, 20000, 20000, 20000]\n",
      "Recent rewards: [-0.1814287198681538, -0.09300576122390634, -0.4507863483623166, -0.10030783273555605]\n"
     ]
    },
    {
     "name": "stderr",
     "output_type": "stream",
     "text": [
      "Training:  55%|█████▌    | 55204/100000 [49:00<42:35, 17.53it/s]"
     ]
    },
    {
     "name": "stdout",
     "output_type": "stream",
     "text": [
      "\n",
      "Episode 55200:\n",
      "Epsilon: 0.100\n",
      "Memory sizes: [20000, 20000, 20000, 20000]\n",
      "Recent rewards: [-0.2901407708013259, -0.19761319693005416, -0.42770559555420884, -0.1778465212793464]\n"
     ]
    },
    {
     "name": "stderr",
     "output_type": "stream",
     "text": [
      "Training:  55%|█████▌    | 55304/100000 [49:06<44:21, 16.79it/s]"
     ]
    },
    {
     "name": "stdout",
     "output_type": "stream",
     "text": [
      "\n",
      "Episode 55300:\n",
      "Epsilon: 0.100\n",
      "Memory sizes: [20000, 20000, 20000, 20000]\n",
      "Recent rewards: [-0.14300785137116948, -0.17895295901269836, -0.4231703464149135, -0.1267589754202388]\n"
     ]
    },
    {
     "name": "stderr",
     "output_type": "stream",
     "text": [
      "Training:  55%|█████▌    | 55404/100000 [49:12<42:57, 17.30it/s]"
     ]
    },
    {
     "name": "stdout",
     "output_type": "stream",
     "text": [
      "\n",
      "Episode 55400:\n",
      "Epsilon: 0.100\n",
      "Memory sizes: [20000, 20000, 20000, 20000]\n",
      "Recent rewards: [-0.189383018998353, -0.1132501923250893, -0.39140166676957433, -0.13839404802044275]\n"
     ]
    },
    {
     "name": "stderr",
     "output_type": "stream",
     "text": [
      "Training:  56%|█████▌    | 55503/100000 [49:17<39:08, 18.95it/s]"
     ]
    },
    {
     "name": "stdout",
     "output_type": "stream",
     "text": [
      "\n",
      "Episode 55500:\n",
      "Epsilon: 0.100\n",
      "Memory sizes: [20000, 20000, 20000, 20000]\n",
      "Recent rewards: [-0.1432822479528867, -0.1972973744156139, -0.3417949252390868, -0.15323211317728766]\n"
     ]
    },
    {
     "name": "stderr",
     "output_type": "stream",
     "text": [
      "Training:  56%|█████▌    | 55604/100000 [49:23<38:22, 19.28it/s]"
     ]
    },
    {
     "name": "stdout",
     "output_type": "stream",
     "text": [
      "\n",
      "Episode 55600:\n",
      "Epsilon: 0.100\n",
      "Memory sizes: [20000, 20000, 20000, 20000]\n",
      "Recent rewards: [-0.11946573920943614, -0.33518146294408113, -0.3802777920101979, -0.12603765910606557]\n"
     ]
    },
    {
     "name": "stderr",
     "output_type": "stream",
     "text": [
      "Training:  56%|█████▌    | 55704/100000 [49:28<41:24, 17.83it/s]"
     ]
    },
    {
     "name": "stdout",
     "output_type": "stream",
     "text": [
      "\n",
      "Episode 55700:\n",
      "Epsilon: 0.100\n",
      "Memory sizes: [20000, 20000, 20000, 20000]\n",
      "Recent rewards: [-0.04744037630349243, -0.13628092196275607, -0.36597161264942607, -0.1779824799354371]\n"
     ]
    },
    {
     "name": "stderr",
     "output_type": "stream",
     "text": [
      "Training:  56%|█████▌    | 55804/100000 [49:33<39:09, 18.81it/s]"
     ]
    },
    {
     "name": "stdout",
     "output_type": "stream",
     "text": [
      "\n",
      "Episode 55800:\n",
      "Epsilon: 0.100\n",
      "Memory sizes: [20000, 20000, 20000, 20000]\n",
      "Recent rewards: [-0.21168211309598028, -0.1949840902982539, -0.41671183043926613, -0.18460818483554067]\n"
     ]
    },
    {
     "name": "stderr",
     "output_type": "stream",
     "text": [
      "Training:  56%|█████▌    | 55904/100000 [49:39<39:59, 18.38it/s]"
     ]
    },
    {
     "name": "stdout",
     "output_type": "stream",
     "text": [
      "\n",
      "Episode 55900:\n",
      "Epsilon: 0.100\n",
      "Memory sizes: [20000, 20000, 20000, 20000]\n",
      "Recent rewards: [-0.24240732300075152, -0.1509159937268849, -0.4068562076964397, -0.0293959771459961]\n"
     ]
    },
    {
     "name": "stderr",
     "output_type": "stream",
     "text": [
      "Training:  56%|█████▌    | 56004/100000 [49:44<38:29, 19.05it/s]"
     ]
    },
    {
     "name": "stdout",
     "output_type": "stream",
     "text": [
      "\n",
      "Episode 56000:\n",
      "Epsilon: 0.100\n",
      "Memory sizes: [20000, 20000, 20000, 20000]\n",
      "Recent rewards: [-0.15337466386016266, -0.14975200233419483, -0.3851730527263437, -0.07277092504465235]\n"
     ]
    },
    {
     "name": "stderr",
     "output_type": "stream",
     "text": [
      "Training:  56%|█████▌    | 56103/100000 [49:50<38:42, 18.90it/s]"
     ]
    },
    {
     "name": "stdout",
     "output_type": "stream",
     "text": [
      "\n",
      "Episode 56100:\n",
      "Epsilon: 0.100\n",
      "Memory sizes: [20000, 20000, 20000, 20000]\n",
      "Recent rewards: [-0.3278802607769274, -0.17103053390130568, -0.44361307998395483, 0.0064691459718325215]\n"
     ]
    },
    {
     "name": "stderr",
     "output_type": "stream",
     "text": [
      "Training:  56%|█████▌    | 56204/100000 [49:55<40:41, 17.94it/s]"
     ]
    },
    {
     "name": "stdout",
     "output_type": "stream",
     "text": [
      "\n",
      "Episode 56200:\n",
      "Epsilon: 0.100\n",
      "Memory sizes: [20000, 20000, 20000, 20000]\n",
      "Recent rewards: [-0.1338960414742522, -0.27519340585235547, -0.29861301738073887, -0.09571066231302088]\n"
     ]
    },
    {
     "name": "stderr",
     "output_type": "stream",
     "text": [
      "Training:  56%|█████▋    | 56304/100000 [50:00<39:47, 18.31it/s]"
     ]
    },
    {
     "name": "stdout",
     "output_type": "stream",
     "text": [
      "\n",
      "Episode 56300:\n",
      "Epsilon: 0.100\n",
      "Memory sizes: [20000, 20000, 20000, 20000]\n",
      "Recent rewards: [0.005536597214273664, -0.2573164273048309, -0.3400979068214635, -0.11945438402746816]\n"
     ]
    },
    {
     "name": "stderr",
     "output_type": "stream",
     "text": [
      "Training:  56%|█████▋    | 56403/100000 [50:06<38:33, 18.84it/s]"
     ]
    },
    {
     "name": "stdout",
     "output_type": "stream",
     "text": [
      "\n",
      "Episode 56400:\n",
      "Epsilon: 0.100\n",
      "Memory sizes: [20000, 20000, 20000, 20000]\n",
      "Recent rewards: [-0.10834335268641476, -0.22915998416944666, -0.4632828652320111, -0.0828083424134588]\n"
     ]
    },
    {
     "name": "stderr",
     "output_type": "stream",
     "text": [
      "Training:  57%|█████▋    | 56504/100000 [50:11<37:44, 19.21it/s]"
     ]
    },
    {
     "name": "stdout",
     "output_type": "stream",
     "text": [
      "\n",
      "Episode 56500:\n",
      "Epsilon: 0.100\n",
      "Memory sizes: [20000, 20000, 20000, 20000]\n",
      "Recent rewards: [-0.05269796264835765, -0.28838203827021947, -0.4933239465936715, -0.14031160229569162]\n"
     ]
    },
    {
     "name": "stderr",
     "output_type": "stream",
     "text": [
      "Training:  57%|█████▋    | 56605/100000 [50:16<37:05, 19.50it/s]"
     ]
    },
    {
     "name": "stdout",
     "output_type": "stream",
     "text": [
      "\n",
      "Episode 56600:\n",
      "Epsilon: 0.100\n",
      "Memory sizes: [20000, 20000, 20000, 20000]\n",
      "Recent rewards: [-0.19524437753316154, -0.2769945043685218, -0.5773912835376092, -0.11320619673367333]\n"
     ]
    },
    {
     "name": "stderr",
     "output_type": "stream",
     "text": [
      "Training:  57%|█████▋    | 56703/100000 [50:22<38:51, 18.57it/s]"
     ]
    },
    {
     "name": "stdout",
     "output_type": "stream",
     "text": [
      "\n",
      "Episode 56700:\n",
      "Epsilon: 0.100\n",
      "Memory sizes: [20000, 20000, 20000, 20000]\n",
      "Recent rewards: [-0.10383137241975511, -0.2835713780786087, -0.6029978900061698, -0.03505069785647163]\n"
     ]
    },
    {
     "name": "stderr",
     "output_type": "stream",
     "text": [
      "Training:  57%|█████▋    | 56804/100000 [50:27<39:24, 18.27it/s]"
     ]
    },
    {
     "name": "stdout",
     "output_type": "stream",
     "text": [
      "\n",
      "Episode 56800:\n",
      "Epsilon: 0.100\n",
      "Memory sizes: [20000, 20000, 20000, 20000]\n",
      "Recent rewards: [-0.16259272275329104, -0.23622550623473118, -0.5316680407488087, -0.08125892266618712]\n"
     ]
    },
    {
     "name": "stderr",
     "output_type": "stream",
     "text": [
      "Training:  57%|█████▋    | 56903/100000 [50:32<39:18, 18.27it/s]"
     ]
    },
    {
     "name": "stdout",
     "output_type": "stream",
     "text": [
      "\n",
      "Episode 56900:\n",
      "Epsilon: 0.100\n",
      "Memory sizes: [20000, 20000, 20000, 20000]\n",
      "Recent rewards: [-0.2534459732790847, -0.32916383836726104, -0.5517129429231674, -0.09119872462673523]\n"
     ]
    },
    {
     "name": "stderr",
     "output_type": "stream",
     "text": [
      "Training:  57%|█████▋    | 57005/100000 [50:38<37:23, 19.17it/s]"
     ]
    },
    {
     "name": "stdout",
     "output_type": "stream",
     "text": [
      "\n",
      "Episode 57000:\n",
      "Epsilon: 0.100\n",
      "Memory sizes: [20000, 20000, 20000, 20000]\n",
      "Recent rewards: [-0.17648067013277383, -0.2604105641899516, -0.48729365882487313, -0.1422008084229374]\n"
     ]
    },
    {
     "name": "stderr",
     "output_type": "stream",
     "text": [
      "Training:  57%|█████▋    | 57104/100000 [50:43<38:44, 18.46it/s]"
     ]
    },
    {
     "name": "stdout",
     "output_type": "stream",
     "text": [
      "\n",
      "Episode 57100:\n",
      "Epsilon: 0.100\n",
      "Memory sizes: [20000, 20000, 20000, 20000]\n",
      "Recent rewards: [-0.2171011615794914, -0.20276739015981882, -0.38004326676719846, -0.12673920058108837]\n"
     ]
    },
    {
     "name": "stderr",
     "output_type": "stream",
     "text": [
      "Training:  57%|█████▋    | 57204/100000 [50:48<39:23, 18.10it/s]"
     ]
    },
    {
     "name": "stdout",
     "output_type": "stream",
     "text": [
      "\n",
      "Episode 57200:\n",
      "Epsilon: 0.100\n",
      "Memory sizes: [20000, 20000, 20000, 20000]\n",
      "Recent rewards: [-0.11418271985277263, -0.27392028358853254, -0.6574781905036788, -0.07575654804633615]\n"
     ]
    },
    {
     "name": "stderr",
     "output_type": "stream",
     "text": [
      "Training:  57%|█████▋    | 57304/100000 [50:54<38:05, 18.68it/s]"
     ]
    },
    {
     "name": "stdout",
     "output_type": "stream",
     "text": [
      "\n",
      "Episode 57300:\n",
      "Epsilon: 0.100\n",
      "Memory sizes: [20000, 20000, 20000, 20000]\n",
      "Recent rewards: [-0.13292072204975308, -0.24594099881644013, -0.4545104009707086, -0.09797536102118447]\n"
     ]
    },
    {
     "name": "stderr",
     "output_type": "stream",
     "text": [
      "Training:  57%|█████▋    | 57403/100000 [50:59<37:30, 18.93it/s]"
     ]
    },
    {
     "name": "stdout",
     "output_type": "stream",
     "text": [
      "\n",
      "Episode 57400:\n",
      "Epsilon: 0.100\n",
      "Memory sizes: [20000, 20000, 20000, 20000]\n",
      "Recent rewards: [-0.03128975957875991, -0.1951589006296939, -0.5238235247844987, -0.05911255935533626]\n"
     ]
    },
    {
     "name": "stderr",
     "output_type": "stream",
     "text": [
      "Training:  58%|█████▊    | 57503/100000 [51:05<37:55, 18.67it/s]"
     ]
    },
    {
     "name": "stdout",
     "output_type": "stream",
     "text": [
      "\n",
      "Episode 57500:\n",
      "Epsilon: 0.100\n",
      "Memory sizes: [20000, 20000, 20000, 20000]\n",
      "Recent rewards: [-0.07608642378426418, -0.29624357346527297, -0.5617858768311766, -0.004610649858015835]\n"
     ]
    },
    {
     "name": "stderr",
     "output_type": "stream",
     "text": [
      "Training:  58%|█████▊    | 57604/100000 [51:10<38:11, 18.50it/s]"
     ]
    },
    {
     "name": "stdout",
     "output_type": "stream",
     "text": [
      "\n",
      "Episode 57600:\n",
      "Epsilon: 0.100\n",
      "Memory sizes: [20000, 20000, 20000, 20000]\n",
      "Recent rewards: [-0.010644510699016046, -0.25831770778589996, -0.44001912141117683, -0.06636775654247373]\n"
     ]
    },
    {
     "name": "stderr",
     "output_type": "stream",
     "text": [
      "Training:  58%|█████▊    | 57704/100000 [51:15<38:06, 18.50it/s]"
     ]
    },
    {
     "name": "stdout",
     "output_type": "stream",
     "text": [
      "\n",
      "Episode 57700:\n",
      "Epsilon: 0.100\n",
      "Memory sizes: [20000, 20000, 20000, 20000]\n",
      "Recent rewards: [-0.18161824734407706, -0.2896244344541565, -0.5083338221007779, -0.010457675880983609]\n"
     ]
    },
    {
     "name": "stderr",
     "output_type": "stream",
     "text": [
      "Training:  58%|█████▊    | 57804/100000 [51:21<37:57, 18.53it/s]"
     ]
    },
    {
     "name": "stdout",
     "output_type": "stream",
     "text": [
      "\n",
      "Episode 57800:\n",
      "Epsilon: 0.100\n",
      "Memory sizes: [20000, 20000, 20000, 20000]\n",
      "Recent rewards: [-0.13739297110310808, -0.2311341639023729, -0.4841822065782433, -0.10792585814399945]\n"
     ]
    },
    {
     "name": "stderr",
     "output_type": "stream",
     "text": [
      "Training:  58%|█████▊    | 57902/100000 [51:26<36:21, 19.29it/s]"
     ]
    },
    {
     "name": "stdout",
     "output_type": "stream",
     "text": [
      "\n",
      "Episode 57900:\n",
      "Epsilon: 0.100\n",
      "Memory sizes: [20000, 20000, 20000, 20000]\n",
      "Recent rewards: [-0.09867126543664863, -0.38219983519374706, -0.547910558089734, -0.11295833448102759]\n"
     ]
    },
    {
     "name": "stderr",
     "output_type": "stream",
     "text": [
      "Training:  58%|█████▊    | 58004/100000 [51:32<37:14, 18.79it/s]"
     ]
    },
    {
     "name": "stdout",
     "output_type": "stream",
     "text": [
      "\n",
      "Episode 58000:\n",
      "Epsilon: 0.100\n",
      "Memory sizes: [20000, 20000, 20000, 20000]\n",
      "Recent rewards: [-0.15367883251782571, -0.2447144275866424, -0.44206054044221593, -0.0038199960656567613]\n"
     ]
    },
    {
     "name": "stderr",
     "output_type": "stream",
     "text": [
      "Training:  58%|█████▊    | 58105/100000 [51:37<36:14, 19.27it/s]"
     ]
    },
    {
     "name": "stdout",
     "output_type": "stream",
     "text": [
      "\n",
      "Episode 58100:\n",
      "Epsilon: 0.100\n",
      "Memory sizes: [20000, 20000, 20000, 20000]\n",
      "Recent rewards: [-0.18714164575369943, -0.3235392439948586, -0.4503620093166725, -0.04604508386483136]\n"
     ]
    },
    {
     "name": "stderr",
     "output_type": "stream",
     "text": [
      "Training:  58%|█████▊    | 58204/100000 [51:42<36:53, 18.88it/s]"
     ]
    },
    {
     "name": "stdout",
     "output_type": "stream",
     "text": [
      "\n",
      "Episode 58200:\n",
      "Epsilon: 0.100\n",
      "Memory sizes: [20000, 20000, 20000, 20000]\n",
      "Recent rewards: [-0.01227995460758199, -0.2572976935199065, -0.464888648830055, -0.12224860867855884]\n"
     ]
    },
    {
     "name": "stderr",
     "output_type": "stream",
     "text": [
      "Training:  58%|█████▊    | 58303/100000 [51:48<38:01, 18.27it/s]"
     ]
    },
    {
     "name": "stdout",
     "output_type": "stream",
     "text": [
      "\n",
      "Episode 58300:\n",
      "Epsilon: 0.100\n",
      "Memory sizes: [20000, 20000, 20000, 20000]\n",
      "Recent rewards: [-0.13204908358960046, -0.3905985347594163, -0.49842586605471406, -0.012633279260196877]\n"
     ]
    },
    {
     "name": "stderr",
     "output_type": "stream",
     "text": [
      "Training:  58%|█████▊    | 58403/100000 [51:53<37:01, 18.72it/s]"
     ]
    },
    {
     "name": "stdout",
     "output_type": "stream",
     "text": [
      "\n",
      "Episode 58400:\n",
      "Epsilon: 0.100\n",
      "Memory sizes: [20000, 20000, 20000, 20000]\n",
      "Recent rewards: [-0.27500119042603466, -0.32536768983034925, -0.3516260281736478, -0.06845780828888431]\n"
     ]
    },
    {
     "name": "stderr",
     "output_type": "stream",
     "text": [
      "Training:  59%|█████▊    | 58504/100000 [51:58<38:30, 17.96it/s]"
     ]
    },
    {
     "name": "stdout",
     "output_type": "stream",
     "text": [
      "\n",
      "Episode 58500:\n",
      "Epsilon: 0.100\n",
      "Memory sizes: [20000, 20000, 20000, 20000]\n",
      "Recent rewards: [-0.1707876137836226, -0.31533449448543766, -0.4265486205433788, -0.0477549952839793]\n"
     ]
    },
    {
     "name": "stderr",
     "output_type": "stream",
     "text": [
      "Training:  59%|█████▊    | 58604/100000 [52:04<38:23, 17.97it/s]"
     ]
    },
    {
     "name": "stdout",
     "output_type": "stream",
     "text": [
      "\n",
      "Episode 58600:\n",
      "Epsilon: 0.100\n",
      "Memory sizes: [20000, 20000, 20000, 20000]\n",
      "Recent rewards: [-0.31519858011694163, -0.25439238315551305, -0.4714171955916246, -0.0645404661602143]\n"
     ]
    },
    {
     "name": "stderr",
     "output_type": "stream",
     "text": [
      "Training:  59%|█████▊    | 58704/100000 [52:10<38:33, 17.85it/s]"
     ]
    },
    {
     "name": "stdout",
     "output_type": "stream",
     "text": [
      "\n",
      "Episode 58700:\n",
      "Epsilon: 0.100\n",
      "Memory sizes: [20000, 20000, 20000, 20000]\n",
      "Recent rewards: [-0.3187262411277587, -0.22893677268299495, -0.5538741766862966, -0.1877774214447723]\n"
     ]
    },
    {
     "name": "stderr",
     "output_type": "stream",
     "text": [
      "Training:  59%|█████▉    | 58804/100000 [52:16<38:28, 17.85it/s]"
     ]
    },
    {
     "name": "stdout",
     "output_type": "stream",
     "text": [
      "\n",
      "Episode 58800:\n",
      "Epsilon: 0.100\n",
      "Memory sizes: [20000, 20000, 20000, 20000]\n",
      "Recent rewards: [-0.21508873250921173, -0.18764056363058246, -0.5319137954181218, -0.10068631416338031]\n"
     ]
    },
    {
     "name": "stderr",
     "output_type": "stream",
     "text": [
      "Training:  59%|█████▉    | 58903/100000 [52:21<38:37, 17.73it/s]"
     ]
    },
    {
     "name": "stdout",
     "output_type": "stream",
     "text": [
      "\n",
      "Episode 58900:\n",
      "Epsilon: 0.100\n",
      "Memory sizes: [20000, 20000, 20000, 20000]\n",
      "Recent rewards: [-0.1477066690123866, -0.10749459581966381, -0.42439043624363854, -0.11276468003352498]\n"
     ]
    },
    {
     "name": "stderr",
     "output_type": "stream",
     "text": [
      "Training:  59%|█████▉    | 59003/100000 [52:27<35:52, 19.05it/s]"
     ]
    },
    {
     "name": "stdout",
     "output_type": "stream",
     "text": [
      "\n",
      "Episode 59000:\n",
      "Epsilon: 0.100\n",
      "Memory sizes: [20000, 20000, 20000, 20000]\n",
      "Recent rewards: [-0.18753445904916596, -0.22568096387504066, -0.38570591384688113, -0.10259978066366625]\n"
     ]
    },
    {
     "name": "stderr",
     "output_type": "stream",
     "text": [
      "Training:  59%|█████▉    | 59103/100000 [52:33<36:41, 18.58it/s]"
     ]
    },
    {
     "name": "stdout",
     "output_type": "stream",
     "text": [
      "\n",
      "Episode 59100:\n",
      "Epsilon: 0.100\n",
      "Memory sizes: [20000, 20000, 20000, 20000]\n",
      "Recent rewards: [-0.22775864148055208, -0.2414008163337405, -0.5166411967331391, -0.00960775870041668]\n"
     ]
    },
    {
     "name": "stderr",
     "output_type": "stream",
     "text": [
      "Training:  59%|█████▉    | 59204/100000 [52:38<38:16, 17.76it/s]"
     ]
    },
    {
     "name": "stdout",
     "output_type": "stream",
     "text": [
      "\n",
      "Episode 59200:\n",
      "Epsilon: 0.100\n",
      "Memory sizes: [20000, 20000, 20000, 20000]\n",
      "Recent rewards: [-0.024820028198682027, -0.2502863645616291, -0.5485883120364947, -0.11885328292060243]\n"
     ]
    },
    {
     "name": "stderr",
     "output_type": "stream",
     "text": [
      "Training:  59%|█████▉    | 59303/100000 [52:43<34:54, 19.43it/s]"
     ]
    },
    {
     "name": "stdout",
     "output_type": "stream",
     "text": [
      "\n",
      "Episode 59300:\n",
      "Epsilon: 0.100\n",
      "Memory sizes: [20000, 20000, 20000, 20000]\n",
      "Recent rewards: [-0.11836040626007917, -0.2120673737448564, -0.5775420031201327, -0.0712754767496546]\n"
     ]
    },
    {
     "name": "stderr",
     "output_type": "stream",
     "text": [
      "Training:  59%|█████▉    | 59404/100000 [52:49<34:51, 19.41it/s]"
     ]
    },
    {
     "name": "stdout",
     "output_type": "stream",
     "text": [
      "\n",
      "Episode 59400:\n",
      "Epsilon: 0.100\n",
      "Memory sizes: [20000, 20000, 20000, 20000]\n",
      "Recent rewards: [-0.32241822922694363, -0.21999431686771354, -0.4351674055144046, -0.08892289352215535]\n"
     ]
    },
    {
     "name": "stderr",
     "output_type": "stream",
     "text": [
      "Training:  60%|█████▉    | 59505/100000 [52:54<37:15, 18.11it/s]"
     ]
    },
    {
     "name": "stdout",
     "output_type": "stream",
     "text": [
      "\n",
      "Episode 59500:\n",
      "Epsilon: 0.100\n",
      "Memory sizes: [20000, 20000, 20000, 20000]\n",
      "Recent rewards: [-0.15105125514168732, -0.24222713042643904, -0.4996896557637262, -0.16864671245339402]\n"
     ]
    },
    {
     "name": "stderr",
     "output_type": "stream",
     "text": [
      "Training:  60%|█████▉    | 59604/100000 [53:00<34:50, 19.33it/s]"
     ]
    },
    {
     "name": "stdout",
     "output_type": "stream",
     "text": [
      "\n",
      "Episode 59600:\n",
      "Epsilon: 0.100\n",
      "Memory sizes: [20000, 20000, 20000, 20000]\n",
      "Recent rewards: [-0.23279918223234802, -0.25756169390009637, -0.4001072088303175, -0.13968076299344115]\n"
     ]
    },
    {
     "name": "stderr",
     "output_type": "stream",
     "text": [
      "Training:  60%|█████▉    | 59705/100000 [53:05<34:21, 19.54it/s]"
     ]
    },
    {
     "name": "stdout",
     "output_type": "stream",
     "text": [
      "\n",
      "Episode 59700:\n",
      "Epsilon: 0.100\n",
      "Memory sizes: [20000, 20000, 20000, 20000]\n",
      "Recent rewards: [-0.2202811989806903, -0.241932084618994, -0.382461793339651, -0.15669842027799447]\n"
     ]
    },
    {
     "name": "stderr",
     "output_type": "stream",
     "text": [
      "Training:  60%|█████▉    | 59804/100000 [53:10<36:53, 18.16it/s]"
     ]
    },
    {
     "name": "stdout",
     "output_type": "stream",
     "text": [
      "\n",
      "Episode 59800:\n",
      "Epsilon: 0.100\n",
      "Memory sizes: [20000, 20000, 20000, 20000]\n",
      "Recent rewards: [-0.2001885180130779, -0.1691506643182043, -0.5077440084118137, -0.13332783935899062]\n"
     ]
    },
    {
     "name": "stderr",
     "output_type": "stream",
     "text": [
      "Training:  60%|█████▉    | 59904/100000 [53:16<35:22, 18.89it/s]"
     ]
    },
    {
     "name": "stdout",
     "output_type": "stream",
     "text": [
      "\n",
      "Episode 59900:\n",
      "Epsilon: 0.100\n",
      "Memory sizes: [20000, 20000, 20000, 20000]\n",
      "Recent rewards: [-0.18609959022677397, -0.1439502708954101, -0.35274843678232004, -0.0984588528715717]\n"
     ]
    },
    {
     "name": "stderr",
     "output_type": "stream",
     "text": [
      "Training:  60%|██████    | 60004/100000 [53:21<39:38, 16.82it/s]"
     ]
    },
    {
     "name": "stdout",
     "output_type": "stream",
     "text": [
      "\n",
      "Episode 60000:\n",
      "Epsilon: 0.100\n",
      "Memory sizes: [20000, 20000, 20000, 20000]\n",
      "Recent rewards: [-0.14961128721464872, -0.2827401176828864, -0.5537115628668992, -0.07744338509672331]\n",
      "Checkpoint saved at episode 60000\n"
     ]
    },
    {
     "name": "stderr",
     "output_type": "stream",
     "text": [
      "Training:  60%|██████    | 60104/100000 [53:27<36:13, 18.35it/s]"
     ]
    },
    {
     "name": "stdout",
     "output_type": "stream",
     "text": [
      "\n",
      "Episode 60100:\n",
      "Epsilon: 0.100\n",
      "Memory sizes: [20000, 20000, 20000, 20000]\n",
      "Recent rewards: [-0.23125753299174312, -0.2194827984914326, -0.5219984353783204, -0.09981806041731726]\n"
     ]
    },
    {
     "name": "stderr",
     "output_type": "stream",
     "text": [
      "Training:  60%|██████    | 60204/100000 [53:32<35:53, 18.48it/s]"
     ]
    },
    {
     "name": "stdout",
     "output_type": "stream",
     "text": [
      "\n",
      "Episode 60200:\n",
      "Epsilon: 0.100\n",
      "Memory sizes: [20000, 20000, 20000, 20000]\n",
      "Recent rewards: [-0.1789240793306932, -0.3147207140878326, -0.3909826598458156, -0.11395823984000984]\n"
     ]
    },
    {
     "name": "stderr",
     "output_type": "stream",
     "text": [
      "Training:  60%|██████    | 60304/100000 [53:38<36:01, 18.36it/s]"
     ]
    },
    {
     "name": "stdout",
     "output_type": "stream",
     "text": [
      "\n",
      "Episode 60300:\n",
      "Epsilon: 0.100\n",
      "Memory sizes: [20000, 20000, 20000, 20000]\n",
      "Recent rewards: [-0.015257416003002502, -0.15749303069990897, -0.6303914858123933, -0.1598413637016297]\n"
     ]
    },
    {
     "name": "stderr",
     "output_type": "stream",
     "text": [
      "Training:  60%|██████    | 60403/100000 [53:43<36:57, 17.86it/s]"
     ]
    },
    {
     "name": "stdout",
     "output_type": "stream",
     "text": [
      "\n",
      "Episode 60400:\n",
      "Epsilon: 0.100\n",
      "Memory sizes: [20000, 20000, 20000, 20000]\n",
      "Recent rewards: [-0.2535342435725465, -0.19256156495942622, -0.48317279719663875, -0.19861669397270185]\n"
     ]
    },
    {
     "name": "stderr",
     "output_type": "stream",
     "text": [
      "Training:  61%|██████    | 60503/100000 [53:49<38:19, 17.17it/s]"
     ]
    },
    {
     "name": "stdout",
     "output_type": "stream",
     "text": [
      "\n",
      "Episode 60500:\n",
      "Epsilon: 0.100\n",
      "Memory sizes: [20000, 20000, 20000, 20000]\n",
      "Recent rewards: [-0.12479117492892643, -0.1852762065381327, -0.3528648864364701, -0.10696236260321296]\n"
     ]
    },
    {
     "name": "stderr",
     "output_type": "stream",
     "text": [
      "Training:  61%|██████    | 60603/100000 [53:55<35:36, 18.44it/s]"
     ]
    },
    {
     "name": "stdout",
     "output_type": "stream",
     "text": [
      "\n",
      "Episode 60600:\n",
      "Epsilon: 0.100\n",
      "Memory sizes: [20000, 20000, 20000, 20000]\n",
      "Recent rewards: [-0.03337370051156806, -0.2119847508848342, -0.56286558407487, -0.08105511014195406]\n"
     ]
    },
    {
     "name": "stderr",
     "output_type": "stream",
     "text": [
      "Training:  61%|██████    | 60703/100000 [54:00<36:49, 17.79it/s]"
     ]
    },
    {
     "name": "stdout",
     "output_type": "stream",
     "text": [
      "\n",
      "Episode 60700:\n",
      "Epsilon: 0.100\n",
      "Memory sizes: [20000, 20000, 20000, 20000]\n",
      "Recent rewards: [-0.2805170538744515, -0.23698626969508627, -0.3736194459182999, -0.09234139091613158]\n"
     ]
    },
    {
     "name": "stderr",
     "output_type": "stream",
     "text": [
      "Training:  61%|██████    | 60805/100000 [54:06<34:48, 18.77it/s]"
     ]
    },
    {
     "name": "stdout",
     "output_type": "stream",
     "text": [
      "\n",
      "Episode 60800:\n",
      "Epsilon: 0.100\n",
      "Memory sizes: [20000, 20000, 20000, 20000]\n",
      "Recent rewards: [-0.057708914116629394, -0.176419948044287, -0.5506164585778792, -0.08724125276151229]\n"
     ]
    },
    {
     "name": "stderr",
     "output_type": "stream",
     "text": [
      "Training:  61%|██████    | 60904/100000 [54:11<35:29, 18.36it/s]"
     ]
    },
    {
     "name": "stdout",
     "output_type": "stream",
     "text": [
      "\n",
      "Episode 60900:\n",
      "Epsilon: 0.100\n",
      "Memory sizes: [20000, 20000, 20000, 20000]\n",
      "Recent rewards: [-0.20208376945953824, -0.09037218628399556, -0.37280563460193916, -0.13964510120852838]\n"
     ]
    },
    {
     "name": "stderr",
     "output_type": "stream",
     "text": [
      "Training:  61%|██████    | 61003/100000 [54:16<34:39, 18.75it/s]"
     ]
    },
    {
     "name": "stdout",
     "output_type": "stream",
     "text": [
      "\n",
      "Episode 61000:\n",
      "Epsilon: 0.100\n",
      "Memory sizes: [20000, 20000, 20000, 20000]\n",
      "Recent rewards: [-0.1959936101809786, -0.16014692010478287, -0.34127207590223285, -0.17221914675426894]\n"
     ]
    },
    {
     "name": "stderr",
     "output_type": "stream",
     "text": [
      "Training:  61%|██████    | 61103/100000 [54:22<40:47, 15.89it/s]"
     ]
    },
    {
     "name": "stdout",
     "output_type": "stream",
     "text": [
      "\n",
      "Episode 61100:\n",
      "Epsilon: 0.100\n",
      "Memory sizes: [20000, 20000, 20000, 20000]\n",
      "Recent rewards: [-0.10684592563816554, -0.3548751899674699, -0.4824306603689177, -0.22217874010319552]\n"
     ]
    },
    {
     "name": "stderr",
     "output_type": "stream",
     "text": [
      "Training:  61%|██████    | 61203/100000 [54:28<38:03, 16.99it/s]"
     ]
    },
    {
     "name": "stdout",
     "output_type": "stream",
     "text": [
      "\n",
      "Episode 61200:\n",
      "Epsilon: 0.100\n",
      "Memory sizes: [20000, 20000, 20000, 20000]\n",
      "Recent rewards: [-0.05030025299199737, -0.2439346048616162, -0.37592187153839496, -0.19824258200647807]\n"
     ]
    },
    {
     "name": "stderr",
     "output_type": "stream",
     "text": [
      "Training:  61%|██████▏   | 61303/100000 [54:34<36:54, 17.47it/s]"
     ]
    },
    {
     "name": "stdout",
     "output_type": "stream",
     "text": [
      "\n",
      "Episode 61300:\n",
      "Epsilon: 0.100\n",
      "Memory sizes: [20000, 20000, 20000, 20000]\n",
      "Recent rewards: [-0.07981018319241846, -0.2577497436850292, -0.3774631760495041, -0.21797610610576945]\n"
     ]
    },
    {
     "name": "stderr",
     "output_type": "stream",
     "text": [
      "Training:  61%|██████▏   | 61403/100000 [54:39<35:12, 18.27it/s]"
     ]
    },
    {
     "name": "stdout",
     "output_type": "stream",
     "text": [
      "\n",
      "Episode 61400:\n",
      "Epsilon: 0.100\n",
      "Memory sizes: [20000, 20000, 20000, 20000]\n",
      "Recent rewards: [-0.07221502984894544, -0.3300099938712536, -0.4787606751291444, 0.019584658322771852]\n"
     ]
    },
    {
     "name": "stderr",
     "output_type": "stream",
     "text": [
      "Training:  62%|██████▏   | 61503/100000 [54:45<35:27, 18.09it/s]"
     ]
    },
    {
     "name": "stdout",
     "output_type": "stream",
     "text": [
      "\n",
      "Episode 61500:\n",
      "Epsilon: 0.100\n",
      "Memory sizes: [20000, 20000, 20000, 20000]\n",
      "Recent rewards: [-0.18754540716235335, -0.26430401889166494, -0.5434459064189703, -0.06466104484796849]\n"
     ]
    },
    {
     "name": "stderr",
     "output_type": "stream",
     "text": [
      "Training:  62%|██████▏   | 61603/100000 [54:51<41:35, 15.39it/s]"
     ]
    },
    {
     "name": "stdout",
     "output_type": "stream",
     "text": [
      "\n",
      "Episode 61600:\n",
      "Epsilon: 0.100\n",
      "Memory sizes: [20000, 20000, 20000, 20000]\n",
      "Recent rewards: [-0.12827749344709005, -0.35417041038634595, -0.29365063789297124, -0.15717039141140568]\n"
     ]
    },
    {
     "name": "stderr",
     "output_type": "stream",
     "text": [
      "Training:  62%|██████▏   | 61703/100000 [54:57<36:14, 17.61it/s]"
     ]
    },
    {
     "name": "stdout",
     "output_type": "stream",
     "text": [
      "\n",
      "Episode 61700:\n",
      "Epsilon: 0.100\n",
      "Memory sizes: [20000, 20000, 20000, 20000]\n",
      "Recent rewards: [-0.1176613536863334, -0.34779822484481593, -0.41858507175194226, -0.12366088779527251]\n"
     ]
    },
    {
     "name": "stderr",
     "output_type": "stream",
     "text": [
      "Training:  62%|██████▏   | 61803/100000 [55:02<37:22, 17.03it/s]"
     ]
    },
    {
     "name": "stdout",
     "output_type": "stream",
     "text": [
      "\n",
      "Episode 61800:\n",
      "Epsilon: 0.100\n",
      "Memory sizes: [20000, 20000, 20000, 20000]\n",
      "Recent rewards: [-0.1789739803509704, -0.37528494109366933, -0.4216101179443602, -0.11694557381321984]\n"
     ]
    },
    {
     "name": "stderr",
     "output_type": "stream",
     "text": [
      "Training:  62%|██████▏   | 61903/100000 [55:09<36:39, 17.32it/s]"
     ]
    },
    {
     "name": "stdout",
     "output_type": "stream",
     "text": [
      "\n",
      "Episode 61900:\n",
      "Epsilon: 0.100\n",
      "Memory sizes: [20000, 20000, 20000, 20000]\n",
      "Recent rewards: [-0.27868084534079146, -0.2796031347467602, -0.5666507458016293, 0.02099858247755298]\n"
     ]
    },
    {
     "name": "stderr",
     "output_type": "stream",
     "text": [
      "Training:  62%|██████▏   | 62003/100000 [55:14<34:46, 18.21it/s]"
     ]
    },
    {
     "name": "stdout",
     "output_type": "stream",
     "text": [
      "\n",
      "Episode 62000:\n",
      "Epsilon: 0.100\n",
      "Memory sizes: [20000, 20000, 20000, 20000]\n",
      "Recent rewards: [-0.1776696689656817, -0.13765048226754292, -0.6154571138750571, -0.08262360808969252]\n"
     ]
    },
    {
     "name": "stderr",
     "output_type": "stream",
     "text": [
      "Training:  62%|██████▏   | 62103/100000 [55:20<34:28, 18.32it/s]"
     ]
    },
    {
     "name": "stdout",
     "output_type": "stream",
     "text": [
      "\n",
      "Episode 62100:\n",
      "Epsilon: 0.100\n",
      "Memory sizes: [20000, 20000, 20000, 20000]\n",
      "Recent rewards: [-0.1593230650887867, -0.13338614043299205, -0.43796484285918397, -0.20820962543285426]\n"
     ]
    },
    {
     "name": "stderr",
     "output_type": "stream",
     "text": [
      "Training:  62%|██████▏   | 62203/100000 [55:26<33:14, 18.95it/s]"
     ]
    },
    {
     "name": "stdout",
     "output_type": "stream",
     "text": [
      "\n",
      "Episode 62200:\n",
      "Epsilon: 0.100\n",
      "Memory sizes: [20000, 20000, 20000, 20000]\n",
      "Recent rewards: [-0.1443874388769412, -0.09360396435545383, -0.4647315605280409, -0.19931158340719807]\n"
     ]
    },
    {
     "name": "stderr",
     "output_type": "stream",
     "text": [
      "Training:  62%|██████▏   | 62303/100000 [55:31<33:42, 18.64it/s]"
     ]
    },
    {
     "name": "stdout",
     "output_type": "stream",
     "text": [
      "\n",
      "Episode 62300:\n",
      "Epsilon: 0.100\n",
      "Memory sizes: [20000, 20000, 20000, 20000]\n",
      "Recent rewards: [-0.1382249808485862, -0.15876652515644982, -0.4061953714552679, -0.22800012544926207]\n"
     ]
    },
    {
     "name": "stderr",
     "output_type": "stream",
     "text": [
      "Training:  62%|██████▏   | 62403/100000 [55:36<32:10, 19.47it/s]"
     ]
    },
    {
     "name": "stdout",
     "output_type": "stream",
     "text": [
      "\n",
      "Episode 62400:\n",
      "Epsilon: 0.100\n",
      "Memory sizes: [20000, 20000, 20000, 20000]\n",
      "Recent rewards: [-0.021733774029570208, -0.15393842633800292, -0.4027256381341702, -0.13530669701278059]\n"
     ]
    },
    {
     "name": "stderr",
     "output_type": "stream",
     "text": [
      "Training:  63%|██████▎   | 62505/100000 [55:42<32:48, 19.05it/s]"
     ]
    },
    {
     "name": "stdout",
     "output_type": "stream",
     "text": [
      "\n",
      "Episode 62500:\n",
      "Epsilon: 0.100\n",
      "Memory sizes: [20000, 20000, 20000, 20000]\n",
      "Recent rewards: [-0.07415996352920033, -0.1857348096632364, -0.4337159907996193, -0.16825426640888652]\n"
     ]
    },
    {
     "name": "stderr",
     "output_type": "stream",
     "text": [
      "Training:  63%|██████▎   | 62603/100000 [55:47<33:52, 18.40it/s]"
     ]
    },
    {
     "name": "stdout",
     "output_type": "stream",
     "text": [
      "\n",
      "Episode 62600:\n",
      "Epsilon: 0.100\n",
      "Memory sizes: [20000, 20000, 20000, 20000]\n",
      "Recent rewards: [-0.16191392061278292, -0.21624376779560223, -0.4298667745160209, -0.15727694160287123]\n"
     ]
    },
    {
     "name": "stderr",
     "output_type": "stream",
     "text": [
      "Training:  63%|██████▎   | 62703/100000 [55:53<34:20, 18.10it/s]"
     ]
    },
    {
     "name": "stdout",
     "output_type": "stream",
     "text": [
      "\n",
      "Episode 62700:\n",
      "Epsilon: 0.100\n",
      "Memory sizes: [20000, 20000, 20000, 20000]\n",
      "Recent rewards: [-0.1283306407716488, -0.23285402839478964, -0.5206668552731505, -0.09491081025447723]\n"
     ]
    },
    {
     "name": "stderr",
     "output_type": "stream",
     "text": [
      "Training:  63%|██████▎   | 62803/100000 [55:58<34:37, 17.90it/s]"
     ]
    },
    {
     "name": "stdout",
     "output_type": "stream",
     "text": [
      "\n",
      "Episode 62800:\n",
      "Epsilon: 0.100\n",
      "Memory sizes: [20000, 20000, 20000, 20000]\n",
      "Recent rewards: [-0.034646667487678987, -0.23049698836447058, -0.31295552663280873, -0.12717975071356233]\n"
     ]
    },
    {
     "name": "stderr",
     "output_type": "stream",
     "text": [
      "Training:  63%|██████▎   | 62903/100000 [56:04<35:15, 17.54it/s]"
     ]
    },
    {
     "name": "stdout",
     "output_type": "stream",
     "text": [
      "\n",
      "Episode 62900:\n",
      "Epsilon: 0.100\n",
      "Memory sizes: [20000, 20000, 20000, 20000]\n",
      "Recent rewards: [-0.08588747425434576, -0.28447789545784435, -0.2918721604097157, -0.09579679664480803]\n"
     ]
    },
    {
     "name": "stderr",
     "output_type": "stream",
     "text": [
      "Training:  63%|██████▎   | 63003/100000 [56:10<35:35, 17.33it/s]"
     ]
    },
    {
     "name": "stdout",
     "output_type": "stream",
     "text": [
      "\n",
      "Episode 63000:\n",
      "Epsilon: 0.100\n",
      "Memory sizes: [20000, 20000, 20000, 20000]\n",
      "Recent rewards: [-0.22940476906285753, -0.33202553648277244, -0.4699844029602729, -0.15452951204181015]\n"
     ]
    },
    {
     "name": "stderr",
     "output_type": "stream",
     "text": [
      "Training:  63%|██████▎   | 63103/100000 [56:16<34:30, 17.82it/s]"
     ]
    },
    {
     "name": "stdout",
     "output_type": "stream",
     "text": [
      "\n",
      "Episode 63100:\n",
      "Epsilon: 0.100\n",
      "Memory sizes: [20000, 20000, 20000, 20000]\n",
      "Recent rewards: [-0.11766291893440352, -0.26846642311651686, -0.32104195790151024, -0.09616675629494845]\n"
     ]
    },
    {
     "name": "stderr",
     "output_type": "stream",
     "text": [
      "Training:  63%|██████▎   | 63203/100000 [56:21<34:56, 17.55it/s]"
     ]
    },
    {
     "name": "stdout",
     "output_type": "stream",
     "text": [
      "\n",
      "Episode 63200:\n",
      "Epsilon: 0.100\n",
      "Memory sizes: [20000, 20000, 20000, 20000]\n",
      "Recent rewards: [-0.09613985303602421, -0.15659093214313147, -0.40802584406326425, -0.13178124304631134]\n"
     ]
    },
    {
     "name": "stderr",
     "output_type": "stream",
     "text": [
      "Training:  63%|██████▎   | 63303/100000 [56:27<35:59, 17.00it/s]"
     ]
    },
    {
     "name": "stdout",
     "output_type": "stream",
     "text": [
      "\n",
      "Episode 63300:\n",
      "Epsilon: 0.100\n",
      "Memory sizes: [20000, 20000, 20000, 20000]\n",
      "Recent rewards: [-0.0370733946739863, -0.23623297486770437, -0.384464631878421, -0.20187573859257363]\n"
     ]
    },
    {
     "name": "stderr",
     "output_type": "stream",
     "text": [
      "Training:  63%|██████▎   | 63403/100000 [56:33<40:06, 15.21it/s]"
     ]
    },
    {
     "name": "stdout",
     "output_type": "stream",
     "text": [
      "\n",
      "Episode 63400:\n",
      "Epsilon: 0.100\n",
      "Memory sizes: [20000, 20000, 20000, 20000]\n",
      "Recent rewards: [-0.148979022099273, -0.20137934431144242, -0.26703850157358056, -0.13445492104101509]\n"
     ]
    },
    {
     "name": "stderr",
     "output_type": "stream",
     "text": [
      "Training:  64%|██████▎   | 63503/100000 [56:39<34:55, 17.41it/s]"
     ]
    },
    {
     "name": "stdout",
     "output_type": "stream",
     "text": [
      "\n",
      "Episode 63500:\n",
      "Epsilon: 0.100\n",
      "Memory sizes: [20000, 20000, 20000, 20000]\n",
      "Recent rewards: [-0.1363188699669489, -0.1702166635409175, -0.47174780247002734, -0.2838639850737763]\n"
     ]
    },
    {
     "name": "stderr",
     "output_type": "stream",
     "text": [
      "Training:  64%|██████▎   | 63603/100000 [56:45<34:32, 17.56it/s]"
     ]
    },
    {
     "name": "stdout",
     "output_type": "stream",
     "text": [
      "\n",
      "Episode 63600:\n",
      "Epsilon: 0.100\n",
      "Memory sizes: [20000, 20000, 20000, 20000]\n",
      "Recent rewards: [-0.09485117017073406, -0.13376685785158637, -0.42021432573476764, -0.15365197869970834]\n"
     ]
    },
    {
     "name": "stderr",
     "output_type": "stream",
     "text": [
      "Training:  64%|██████▎   | 63703/100000 [56:50<33:31, 18.05it/s]"
     ]
    },
    {
     "name": "stdout",
     "output_type": "stream",
     "text": [
      "\n",
      "Episode 63700:\n",
      "Epsilon: 0.100\n",
      "Memory sizes: [20000, 20000, 20000, 20000]\n",
      "Recent rewards: [-0.21428383816868302, -0.2627149868327861, -0.3515880726258006, -0.15324018936871783]\n"
     ]
    },
    {
     "name": "stderr",
     "output_type": "stream",
     "text": [
      "Training:  64%|██████▍   | 63803/100000 [56:56<35:09, 17.16it/s]"
     ]
    },
    {
     "name": "stdout",
     "output_type": "stream",
     "text": [
      "\n",
      "Episode 63800:\n",
      "Epsilon: 0.100\n",
      "Memory sizes: [20000, 20000, 20000, 20000]\n",
      "Recent rewards: [-0.21432331437744995, -0.14080494691877474, -0.4951622829268847, -0.2187068349436845]\n"
     ]
    },
    {
     "name": "stderr",
     "output_type": "stream",
     "text": [
      "Training:  64%|██████▍   | 63903/100000 [57:02<34:59, 17.20it/s]"
     ]
    },
    {
     "name": "stdout",
     "output_type": "stream",
     "text": [
      "\n",
      "Episode 63900:\n",
      "Epsilon: 0.100\n",
      "Memory sizes: [20000, 20000, 20000, 20000]\n",
      "Recent rewards: [-0.05990595741104371, -0.27677607995669584, -0.4184398725709294, -0.18856686545325918]\n"
     ]
    },
    {
     "name": "stderr",
     "output_type": "stream",
     "text": [
      "Training:  64%|██████▍   | 64003/100000 [57:08<36:08, 16.60it/s]"
     ]
    },
    {
     "name": "stdout",
     "output_type": "stream",
     "text": [
      "\n",
      "Episode 64000:\n",
      "Epsilon: 0.100\n",
      "Memory sizes: [20000, 20000, 20000, 20000]\n",
      "Recent rewards: [-0.1275058739230206, -0.2283191756289781, -0.48254798096628426, -0.1457021733950874]\n"
     ]
    },
    {
     "name": "stderr",
     "output_type": "stream",
     "text": [
      "Training:  64%|██████▍   | 64103/100000 [57:14<35:49, 16.70it/s]"
     ]
    },
    {
     "name": "stdout",
     "output_type": "stream",
     "text": [
      "\n",
      "Episode 64100:\n",
      "Epsilon: 0.100\n",
      "Memory sizes: [20000, 20000, 20000, 20000]\n",
      "Recent rewards: [-0.13474902458572488, -0.2373866216415526, -0.38120928484861644, -0.08027739465593701]\n"
     ]
    },
    {
     "name": "stderr",
     "output_type": "stream",
     "text": [
      "Training:  64%|██████▍   | 64203/100000 [57:20<34:18, 17.39it/s]"
     ]
    },
    {
     "name": "stdout",
     "output_type": "stream",
     "text": [
      "\n",
      "Episode 64200:\n",
      "Epsilon: 0.100\n",
      "Memory sizes: [20000, 20000, 20000, 20000]\n",
      "Recent rewards: [-0.2732315624080444, -0.1004720861631629, -0.33153418328102563, -0.10233391721323494]\n"
     ]
    },
    {
     "name": "stderr",
     "output_type": "stream",
     "text": [
      "Training:  64%|██████▍   | 64303/100000 [57:25<36:02, 16.51it/s]"
     ]
    },
    {
     "name": "stdout",
     "output_type": "stream",
     "text": [
      "\n",
      "Episode 64300:\n",
      "Epsilon: 0.100\n",
      "Memory sizes: [20000, 20000, 20000, 20000]\n",
      "Recent rewards: [-0.2113773499054898, -0.17701274903380412, -0.5038165418823328, -0.09402546223369891]\n"
     ]
    },
    {
     "name": "stderr",
     "output_type": "stream",
     "text": [
      "Training:  64%|██████▍   | 64403/100000 [57:31<34:16, 17.31it/s]"
     ]
    },
    {
     "name": "stdout",
     "output_type": "stream",
     "text": [
      "\n",
      "Episode 64400:\n",
      "Epsilon: 0.100\n",
      "Memory sizes: [20000, 20000, 20000, 20000]\n",
      "Recent rewards: [-0.031714442917248765, -0.22584095407713783, -0.40235756683579665, -0.18297506552172643]\n"
     ]
    },
    {
     "name": "stderr",
     "output_type": "stream",
     "text": [
      "Training:  65%|██████▍   | 64503/100000 [57:37<33:11, 17.82it/s]"
     ]
    },
    {
     "name": "stdout",
     "output_type": "stream",
     "text": [
      "\n",
      "Episode 64500:\n",
      "Epsilon: 0.100\n",
      "Memory sizes: [20000, 20000, 20000, 20000]\n",
      "Recent rewards: [-0.084857862125497, -0.24377848925466264, -0.3602021450510292, -0.26895084004059167]\n"
     ]
    },
    {
     "name": "stderr",
     "output_type": "stream",
     "text": [
      "Training:  65%|██████▍   | 64603/100000 [57:43<35:45, 16.50it/s]"
     ]
    },
    {
     "name": "stdout",
     "output_type": "stream",
     "text": [
      "\n",
      "Episode 64600:\n",
      "Epsilon: 0.100\n",
      "Memory sizes: [20000, 20000, 20000, 20000]\n",
      "Recent rewards: [-0.12700782300733557, -0.36105211044319674, -0.35413589955671704, -0.16755171943629446]\n"
     ]
    },
    {
     "name": "stderr",
     "output_type": "stream",
     "text": [
      "Training:  65%|██████▍   | 64703/100000 [57:48<33:03, 17.79it/s]"
     ]
    },
    {
     "name": "stdout",
     "output_type": "stream",
     "text": [
      "\n",
      "Episode 64700:\n",
      "Epsilon: 0.100\n",
      "Memory sizes: [20000, 20000, 20000, 20000]\n",
      "Recent rewards: [-0.3174514054089268, -0.3209161854434507, -0.4554843108114156, 0.009246684692596157]\n"
     ]
    },
    {
     "name": "stderr",
     "output_type": "stream",
     "text": [
      "Training:  65%|██████▍   | 64803/100000 [57:54<32:45, 17.91it/s]"
     ]
    },
    {
     "name": "stdout",
     "output_type": "stream",
     "text": [
      "\n",
      "Episode 64800:\n",
      "Epsilon: 0.100\n",
      "Memory sizes: [20000, 20000, 20000, 20000]\n",
      "Recent rewards: [-0.2942967410488293, -0.11503771831314342, -0.37259983825667753, -0.2961195117280613]\n"
     ]
    },
    {
     "name": "stderr",
     "output_type": "stream",
     "text": [
      "Training:  65%|██████▍   | 64903/100000 [58:00<32:27, 18.02it/s]"
     ]
    },
    {
     "name": "stdout",
     "output_type": "stream",
     "text": [
      "\n",
      "Episode 64900:\n",
      "Epsilon: 0.100\n",
      "Memory sizes: [20000, 20000, 20000, 20000]\n",
      "Recent rewards: [-0.16772779120345, -0.02331942762383521, -0.4366362241356224, -0.25354348599709253]\n"
     ]
    },
    {
     "name": "stderr",
     "output_type": "stream",
     "text": [
      "Training:  65%|██████▌   | 65003/100000 [58:06<32:58, 17.69it/s]"
     ]
    },
    {
     "name": "stdout",
     "output_type": "stream",
     "text": [
      "\n",
      "Episode 65000:\n",
      "Epsilon: 0.100\n",
      "Memory sizes: [20000, 20000, 20000, 20000]\n",
      "Recent rewards: [-0.1401989016812421, -0.0942834632800011, -0.5556254638355074, -0.2077412911709715]\n"
     ]
    },
    {
     "name": "stderr",
     "output_type": "stream",
     "text": [
      "Training:  65%|██████▌   | 65103/100000 [58:11<32:04, 18.13it/s]"
     ]
    },
    {
     "name": "stdout",
     "output_type": "stream",
     "text": [
      "\n",
      "Episode 65100:\n",
      "Epsilon: 0.100\n",
      "Memory sizes: [20000, 20000, 20000, 20000]\n",
      "Recent rewards: [-0.1759613700624654, -0.1658267535308605, -0.5528669030721768, -0.15819804613872482]\n"
     ]
    },
    {
     "name": "stderr",
     "output_type": "stream",
     "text": [
      "Training:  65%|██████▌   | 65203/100000 [58:17<33:36, 17.26it/s]"
     ]
    },
    {
     "name": "stdout",
     "output_type": "stream",
     "text": [
      "\n",
      "Episode 65200:\n",
      "Epsilon: 0.100\n",
      "Memory sizes: [20000, 20000, 20000, 20000]\n",
      "Recent rewards: [0.010326630934032615, -0.04900245949527619, -0.5109744978821772, -0.19030656601478008]\n"
     ]
    },
    {
     "name": "stderr",
     "output_type": "stream",
     "text": [
      "Training:  65%|██████▌   | 65303/100000 [58:23<34:08, 16.94it/s]"
     ]
    },
    {
     "name": "stdout",
     "output_type": "stream",
     "text": [
      "\n",
      "Episode 65300:\n",
      "Epsilon: 0.100\n",
      "Memory sizes: [20000, 20000, 20000, 20000]\n",
      "Recent rewards: [-0.2414502535368617, -0.17273173368407044, -0.26465976051512063, -0.1637229447650433]\n"
     ]
    },
    {
     "name": "stderr",
     "output_type": "stream",
     "text": [
      "Training:  65%|██████▌   | 65403/100000 [58:29<33:08, 17.40it/s]"
     ]
    },
    {
     "name": "stdout",
     "output_type": "stream",
     "text": [
      "\n",
      "Episode 65400:\n",
      "Epsilon: 0.100\n",
      "Memory sizes: [20000, 20000, 20000, 20000]\n",
      "Recent rewards: [-0.16925071681893505, -0.10563518247679342, -0.41740961094793055, -0.12118003001145496]\n"
     ]
    },
    {
     "name": "stderr",
     "output_type": "stream",
     "text": [
      "Training:  66%|██████▌   | 65503/100000 [58:34<32:18, 17.80it/s]"
     ]
    },
    {
     "name": "stdout",
     "output_type": "stream",
     "text": [
      "\n",
      "Episode 65500:\n",
      "Epsilon: 0.100\n",
      "Memory sizes: [20000, 20000, 20000, 20000]\n",
      "Recent rewards: [-0.2125202829499014, -0.20828646126692907, -0.3426040948797994, -0.07894509476338785]\n"
     ]
    },
    {
     "name": "stderr",
     "output_type": "stream",
     "text": [
      "Training:  66%|██████▌   | 65603/100000 [58:40<32:48, 17.48it/s]"
     ]
    },
    {
     "name": "stdout",
     "output_type": "stream",
     "text": [
      "\n",
      "Episode 65600:\n",
      "Epsilon: 0.100\n",
      "Memory sizes: [20000, 20000, 20000, 20000]\n",
      "Recent rewards: [-0.14963273943585592, -0.20948912361462668, -0.34810381231044724, -0.19248837632019658]\n"
     ]
    },
    {
     "name": "stderr",
     "output_type": "stream",
     "text": [
      "Training:  66%|██████▌   | 65703/100000 [58:46<34:46, 16.44it/s]"
     ]
    },
    {
     "name": "stdout",
     "output_type": "stream",
     "text": [
      "\n",
      "Episode 65700:\n",
      "Epsilon: 0.100\n",
      "Memory sizes: [20000, 20000, 20000, 20000]\n",
      "Recent rewards: [-0.19981889925228533, -0.18437032250140872, -0.32925643110957803, -0.21366628565777293]\n"
     ]
    },
    {
     "name": "stderr",
     "output_type": "stream",
     "text": [
      "Training:  66%|██████▌   | 65803/100000 [58:52<32:39, 17.45it/s]"
     ]
    },
    {
     "name": "stdout",
     "output_type": "stream",
     "text": [
      "\n",
      "Episode 65800:\n",
      "Epsilon: 0.100\n",
      "Memory sizes: [20000, 20000, 20000, 20000]\n",
      "Recent rewards: [-0.38514624987972157, -0.11706976693087916, -0.3450874899368289, -0.10528228916908794]\n"
     ]
    },
    {
     "name": "stderr",
     "output_type": "stream",
     "text": [
      "Training:  66%|██████▌   | 65903/100000 [58:58<33:00, 17.22it/s]"
     ]
    },
    {
     "name": "stdout",
     "output_type": "stream",
     "text": [
      "\n",
      "Episode 65900:\n",
      "Epsilon: 0.100\n",
      "Memory sizes: [20000, 20000, 20000, 20000]\n",
      "Recent rewards: [-0.2532838907082159, -0.14579187798838053, -0.2558319816062627, -0.20658007059544484]\n"
     ]
    },
    {
     "name": "stderr",
     "output_type": "stream",
     "text": [
      "Training:  66%|██████▌   | 66003/100000 [59:04<37:59, 14.92it/s]"
     ]
    },
    {
     "name": "stdout",
     "output_type": "stream",
     "text": [
      "\n",
      "Episode 66000:\n",
      "Epsilon: 0.100\n",
      "Memory sizes: [20000, 20000, 20000, 20000]\n",
      "Recent rewards: [-0.19930955191323374, -0.19932039503792975, -0.41342239700211836, -0.14178556403761214]\n"
     ]
    },
    {
     "name": "stderr",
     "output_type": "stream",
     "text": [
      "Training:  66%|██████▌   | 66103/100000 [59:10<33:24, 16.91it/s]"
     ]
    },
    {
     "name": "stdout",
     "output_type": "stream",
     "text": [
      "\n",
      "Episode 66100:\n",
      "Epsilon: 0.100\n",
      "Memory sizes: [20000, 20000, 20000, 20000]\n",
      "Recent rewards: [-0.32472140703110314, -0.19386087028392324, -0.4917168449373197, -0.13591857957416809]\n"
     ]
    },
    {
     "name": "stderr",
     "output_type": "stream",
     "text": [
      "Training:  66%|██████▌   | 66203/100000 [59:15<32:26, 17.36it/s]"
     ]
    },
    {
     "name": "stdout",
     "output_type": "stream",
     "text": [
      "\n",
      "Episode 66200:\n",
      "Epsilon: 0.100\n",
      "Memory sizes: [20000, 20000, 20000, 20000]\n",
      "Recent rewards: [-0.16307578350426133, -0.2792070085810537, -0.4017956415839123, -0.2639155508371605]\n"
     ]
    },
    {
     "name": "stderr",
     "output_type": "stream",
     "text": [
      "Training:  66%|██████▋   | 66303/100000 [59:21<32:11, 17.45it/s]"
     ]
    },
    {
     "name": "stdout",
     "output_type": "stream",
     "text": [
      "\n",
      "Episode 66300:\n",
      "Epsilon: 0.100\n",
      "Memory sizes: [20000, 20000, 20000, 20000]\n",
      "Recent rewards: [0.01890456950820047, -0.2599852525102355, -0.45529453873487424, -0.2701906742533758]\n"
     ]
    },
    {
     "name": "stderr",
     "output_type": "stream",
     "text": [
      "Training:  66%|██████▋   | 66403/100000 [59:27<31:44, 17.64it/s]"
     ]
    },
    {
     "name": "stdout",
     "output_type": "stream",
     "text": [
      "\n",
      "Episode 66400:\n",
      "Epsilon: 0.100\n",
      "Memory sizes: [20000, 20000, 20000, 20000]\n",
      "Recent rewards: [-0.1495478682032183, -0.2144481981800004, -0.4108359801076492, -0.18271927437926835]\n"
     ]
    },
    {
     "name": "stderr",
     "output_type": "stream",
     "text": [
      "Training:  67%|██████▋   | 66503/100000 [59:33<33:50, 16.49it/s]"
     ]
    },
    {
     "name": "stdout",
     "output_type": "stream",
     "text": [
      "\n",
      "Episode 66500:\n",
      "Epsilon: 0.100\n",
      "Memory sizes: [20000, 20000, 20000, 20000]\n",
      "Recent rewards: [-0.14092414925159513, -0.20300742834301888, -0.3831198441801253, -0.1957567042193734]\n"
     ]
    },
    {
     "name": "stderr",
     "output_type": "stream",
     "text": [
      "Training:  67%|██████▋   | 66603/100000 [59:39<32:01, 17.38it/s]"
     ]
    },
    {
     "name": "stdout",
     "output_type": "stream",
     "text": [
      "\n",
      "Episode 66600:\n",
      "Epsilon: 0.100\n",
      "Memory sizes: [20000, 20000, 20000, 20000]\n",
      "Recent rewards: [-0.3489069847804718, -0.15395164298038944, -0.2867760373413336, -0.17502048199854334]\n"
     ]
    },
    {
     "name": "stderr",
     "output_type": "stream",
     "text": [
      "Training:  67%|██████▋   | 66703/100000 [59:44<32:03, 17.31it/s]"
     ]
    },
    {
     "name": "stdout",
     "output_type": "stream",
     "text": [
      "\n",
      "Episode 66700:\n",
      "Epsilon: 0.100\n",
      "Memory sizes: [20000, 20000, 20000, 20000]\n",
      "Recent rewards: [-0.16243048376893124, -0.05705935392630639, -0.2538172299623352, -0.28841276924361875]\n"
     ]
    },
    {
     "name": "stderr",
     "output_type": "stream",
     "text": [
      "Training:  67%|██████▋   | 66803/100000 [59:50<33:00, 16.76it/s]"
     ]
    },
    {
     "name": "stdout",
     "output_type": "stream",
     "text": [
      "\n",
      "Episode 66800:\n",
      "Epsilon: 0.100\n",
      "Memory sizes: [20000, 20000, 20000, 20000]\n",
      "Recent rewards: [-0.1690376796547524, -0.16268392939160123, -0.4694543918671799, -0.31765851384631477]\n"
     ]
    },
    {
     "name": "stderr",
     "output_type": "stream",
     "text": [
      "Training:  67%|██████▋   | 66903/100000 [59:56<31:51, 17.31it/s]"
     ]
    },
    {
     "name": "stdout",
     "output_type": "stream",
     "text": [
      "\n",
      "Episode 66900:\n",
      "Epsilon: 0.100\n",
      "Memory sizes: [20000, 20000, 20000, 20000]\n",
      "Recent rewards: [-0.32812671149934763, -0.2436199172647973, -0.3640897942340326, -0.3098348548885346]\n"
     ]
    },
    {
     "name": "stderr",
     "output_type": "stream",
     "text": [
      "Training:  67%|██████▋   | 67003/100000 [1:00:02<32:12, 17.08it/s]"
     ]
    },
    {
     "name": "stdout",
     "output_type": "stream",
     "text": [
      "\n",
      "Episode 67000:\n",
      "Epsilon: 0.100\n",
      "Memory sizes: [20000, 20000, 20000, 20000]\n",
      "Recent rewards: [-0.12000405172374747, -0.13394025128570688, -0.3805618613526302, -0.3024344564868805]\n"
     ]
    },
    {
     "name": "stderr",
     "output_type": "stream",
     "text": [
      "Training:  67%|██████▋   | 67103/100000 [1:00:08<31:24, 17.46it/s]"
     ]
    },
    {
     "name": "stdout",
     "output_type": "stream",
     "text": [
      "\n",
      "Episode 67100:\n",
      "Epsilon: 0.100\n",
      "Memory sizes: [20000, 20000, 20000, 20000]\n",
      "Recent rewards: [-0.28292674705242293, -0.08845145660856288, -0.21994901342920578, -0.30580625761097513]\n"
     ]
    },
    {
     "name": "stderr",
     "output_type": "stream",
     "text": [
      "Training:  67%|██████▋   | 67203/100000 [1:00:14<32:26, 16.85it/s]"
     ]
    },
    {
     "name": "stdout",
     "output_type": "stream",
     "text": [
      "\n",
      "Episode 67200:\n",
      "Epsilon: 0.100\n",
      "Memory sizes: [20000, 20000, 20000, 20000]\n",
      "Recent rewards: [-0.18098024751123076, -0.12838579502582978, -0.24758895781231144, -0.32067889425487]\n"
     ]
    },
    {
     "name": "stderr",
     "output_type": "stream",
     "text": [
      "Training:  67%|██████▋   | 67303/100000 [1:00:20<31:07, 17.51it/s]"
     ]
    },
    {
     "name": "stdout",
     "output_type": "stream",
     "text": [
      "\n",
      "Episode 67300:\n",
      "Epsilon: 0.100\n",
      "Memory sizes: [20000, 20000, 20000, 20000]\n",
      "Recent rewards: [-0.33115855151301865, -0.24105500668681387, -0.3010663276164538, -0.25847274356175426]\n"
     ]
    },
    {
     "name": "stderr",
     "output_type": "stream",
     "text": [
      "Training:  67%|██████▋   | 67403/100000 [1:00:26<31:05, 17.48it/s]"
     ]
    },
    {
     "name": "stdout",
     "output_type": "stream",
     "text": [
      "\n",
      "Episode 67400:\n",
      "Epsilon: 0.100\n",
      "Memory sizes: [20000, 20000, 20000, 20000]\n",
      "Recent rewards: [-0.276781619661641, -0.21968183311083256, -0.42711124123946137, -0.2572045420153895]\n"
     ]
    },
    {
     "name": "stderr",
     "output_type": "stream",
     "text": [
      "Training:  68%|██████▊   | 67503/100000 [1:00:32<31:11, 17.37it/s]"
     ]
    },
    {
     "name": "stdout",
     "output_type": "stream",
     "text": [
      "\n",
      "Episode 67500:\n",
      "Epsilon: 0.100\n",
      "Memory sizes: [20000, 20000, 20000, 20000]\n",
      "Recent rewards: [-0.2359020907721544, -0.0846774858363318, -0.3194665443211455, -0.4153714914334509]\n"
     ]
    },
    {
     "name": "stderr",
     "output_type": "stream",
     "text": [
      "Training:  68%|██████▊   | 67603/100000 [1:00:37<33:03, 16.33it/s]"
     ]
    },
    {
     "name": "stdout",
     "output_type": "stream",
     "text": [
      "\n",
      "Episode 67600:\n",
      "Epsilon: 0.100\n",
      "Memory sizes: [20000, 20000, 20000, 20000]\n",
      "Recent rewards: [-0.23234074544152716, -0.19331014918447284, -0.018991428885368665, -0.3569891143606705]\n"
     ]
    },
    {
     "name": "stderr",
     "output_type": "stream",
     "text": [
      "Training:  68%|██████▊   | 67703/100000 [1:00:43<32:15, 16.68it/s]"
     ]
    },
    {
     "name": "stdout",
     "output_type": "stream",
     "text": [
      "\n",
      "Episode 67700:\n",
      "Epsilon: 0.100\n",
      "Memory sizes: [20000, 20000, 20000, 20000]\n",
      "Recent rewards: [-0.1590137444708144, -0.15837249028415998, -0.21510369430381948, -0.4144468525394753]\n"
     ]
    },
    {
     "name": "stderr",
     "output_type": "stream",
     "text": [
      "Training:  68%|██████▊   | 67803/100000 [1:00:49<31:07, 17.24it/s]"
     ]
    },
    {
     "name": "stdout",
     "output_type": "stream",
     "text": [
      "\n",
      "Episode 67800:\n",
      "Epsilon: 0.100\n",
      "Memory sizes: [20000, 20000, 20000, 20000]\n",
      "Recent rewards: [-0.23095153721755082, -0.20262478474081266, -0.26245489927886245, -0.3415610074004234]\n"
     ]
    },
    {
     "name": "stderr",
     "output_type": "stream",
     "text": [
      "Training:  68%|██████▊   | 67903/100000 [1:00:56<32:58, 16.22it/s]"
     ]
    },
    {
     "name": "stdout",
     "output_type": "stream",
     "text": [
      "\n",
      "Episode 67900:\n",
      "Epsilon: 0.100\n",
      "Memory sizes: [20000, 20000, 20000, 20000]\n",
      "Recent rewards: [-0.11601850992780735, -0.008959710642805242, -0.4141268740865578, -0.48113944523907265]\n"
     ]
    },
    {
     "name": "stderr",
     "output_type": "stream",
     "text": [
      "Training:  68%|██████▊   | 68003/100000 [1:01:02<31:45, 16.79it/s]"
     ]
    },
    {
     "name": "stdout",
     "output_type": "stream",
     "text": [
      "\n",
      "Episode 68000:\n",
      "Epsilon: 0.100\n",
      "Memory sizes: [20000, 20000, 20000, 20000]\n",
      "Recent rewards: [-0.2814208253947048, -0.20092026627123055, -0.25084453738188217, -0.25262115781750333]\n"
     ]
    },
    {
     "name": "stderr",
     "output_type": "stream",
     "text": [
      "Training:  68%|██████▊   | 68103/100000 [1:01:07<30:50, 17.23it/s]"
     ]
    },
    {
     "name": "stdout",
     "output_type": "stream",
     "text": [
      "\n",
      "Episode 68100:\n",
      "Epsilon: 0.100\n",
      "Memory sizes: [20000, 20000, 20000, 20000]\n",
      "Recent rewards: [-0.30146046903081564, -0.08367260310992272, -0.2732204992865942, -0.45626961585240744]\n"
     ]
    },
    {
     "name": "stderr",
     "output_type": "stream",
     "text": [
      "Training:  68%|██████▊   | 68203/100000 [1:01:13<31:16, 16.95it/s]"
     ]
    },
    {
     "name": "stdout",
     "output_type": "stream",
     "text": [
      "\n",
      "Episode 68200:\n",
      "Epsilon: 0.100\n",
      "Memory sizes: [20000, 20000, 20000, 20000]\n",
      "Recent rewards: [-0.32572963701842444, -0.04570581838145075, -0.21060912411912994, -0.3705458295275188]\n"
     ]
    },
    {
     "name": "stderr",
     "output_type": "stream",
     "text": [
      "Training:  68%|██████▊   | 68303/100000 [1:01:19<31:20, 16.85it/s]"
     ]
    },
    {
     "name": "stdout",
     "output_type": "stream",
     "text": [
      "\n",
      "Episode 68300:\n",
      "Epsilon: 0.100\n",
      "Memory sizes: [20000, 20000, 20000, 20000]\n",
      "Recent rewards: [-0.2334405550687908, -0.1383115636425456, -0.3389380720291898, -0.3445120174895321]\n"
     ]
    },
    {
     "name": "stderr",
     "output_type": "stream",
     "text": [
      "Training:  68%|██████▊   | 68403/100000 [1:01:25<30:51, 17.07it/s]"
     ]
    },
    {
     "name": "stdout",
     "output_type": "stream",
     "text": [
      "\n",
      "Episode 68400:\n",
      "Epsilon: 0.100\n",
      "Memory sizes: [20000, 20000, 20000, 20000]\n",
      "Recent rewards: [-0.12365175541975183, -0.060837446796479906, -0.38046736418734384, -0.5356550032425719]\n"
     ]
    },
    {
     "name": "stderr",
     "output_type": "stream",
     "text": [
      "Training:  69%|██████▊   | 68503/100000 [1:01:31<30:32, 17.19it/s]"
     ]
    },
    {
     "name": "stdout",
     "output_type": "stream",
     "text": [
      "\n",
      "Episode 68500:\n",
      "Epsilon: 0.100\n",
      "Memory sizes: [20000, 20000, 20000, 20000]\n",
      "Recent rewards: [-0.25014271866146276, -0.22336029752606545, -0.2489195273291839, -0.3899965289618518]\n"
     ]
    },
    {
     "name": "stderr",
     "output_type": "stream",
     "text": [
      "Training:  69%|██████▊   | 68603/100000 [1:01:37<30:32, 17.13it/s]"
     ]
    },
    {
     "name": "stdout",
     "output_type": "stream",
     "text": [
      "\n",
      "Episode 68600:\n",
      "Epsilon: 0.100\n",
      "Memory sizes: [20000, 20000, 20000, 20000]\n",
      "Recent rewards: [-0.33428833131194075, -0.18918601869611978, -0.34311022406369845, -0.45143463663687705]\n"
     ]
    },
    {
     "name": "stderr",
     "output_type": "stream",
     "text": [
      "Training:  69%|██████▊   | 68703/100000 [1:01:43<31:35, 16.52it/s]"
     ]
    },
    {
     "name": "stdout",
     "output_type": "stream",
     "text": [
      "\n",
      "Episode 68700:\n",
      "Epsilon: 0.100\n",
      "Memory sizes: [20000, 20000, 20000, 20000]\n",
      "Recent rewards: [-0.30037827965153663, -0.23592067542507336, -0.14929190099489648, -0.37512355595687163]\n"
     ]
    },
    {
     "name": "stderr",
     "output_type": "stream",
     "text": [
      "Training:  69%|██████▉   | 68803/100000 [1:01:49<30:18, 17.15it/s]"
     ]
    },
    {
     "name": "stdout",
     "output_type": "stream",
     "text": [
      "\n",
      "Episode 68800:\n",
      "Epsilon: 0.100\n",
      "Memory sizes: [20000, 20000, 20000, 20000]\n",
      "Recent rewards: [-0.27668406492384795, -0.08795218828012416, -0.1971591616755407, -0.45284333643984614]\n"
     ]
    },
    {
     "name": "stderr",
     "output_type": "stream",
     "text": [
      "Training:  69%|██████▉   | 68903/100000 [1:01:55<30:33, 16.96it/s]"
     ]
    },
    {
     "name": "stdout",
     "output_type": "stream",
     "text": [
      "\n",
      "Episode 68900:\n",
      "Epsilon: 0.100\n",
      "Memory sizes: [20000, 20000, 20000, 20000]\n",
      "Recent rewards: [-0.31796814287148967, -0.04339943619886585, -0.23999098065220598, -0.5012088224404663]\n"
     ]
    },
    {
     "name": "stderr",
     "output_type": "stream",
     "text": [
      "Training:  69%|██████▉   | 69003/100000 [1:02:01<29:59, 17.23it/s]"
     ]
    },
    {
     "name": "stdout",
     "output_type": "stream",
     "text": [
      "\n",
      "Episode 69000:\n",
      "Epsilon: 0.100\n",
      "Memory sizes: [20000, 20000, 20000, 20000]\n",
      "Recent rewards: [-0.37251879706116653, -0.10123306709283594, -0.24045223420680756, -0.3070131873760297]\n"
     ]
    },
    {
     "name": "stderr",
     "output_type": "stream",
     "text": [
      "Training:  69%|██████▉   | 69103/100000 [1:02:07<30:40, 16.79it/s]"
     ]
    },
    {
     "name": "stdout",
     "output_type": "stream",
     "text": [
      "\n",
      "Episode 69100:\n",
      "Epsilon: 0.100\n",
      "Memory sizes: [20000, 20000, 20000, 20000]\n",
      "Recent rewards: [-0.3426529845382742, -0.2156308779691319, -0.19692513990631, -0.3308367844030505]\n"
     ]
    },
    {
     "name": "stderr",
     "output_type": "stream",
     "text": [
      "Training:  69%|██████▉   | 69203/100000 [1:02:13<33:30, 15.32it/s]"
     ]
    },
    {
     "name": "stdout",
     "output_type": "stream",
     "text": [
      "\n",
      "Episode 69200:\n",
      "Epsilon: 0.100\n",
      "Memory sizes: [20000, 20000, 20000, 20000]\n",
      "Recent rewards: [-0.27706118248695083, -0.02362478107577924, -0.38180172490835884, -0.506676766703691]\n"
     ]
    },
    {
     "name": "stderr",
     "output_type": "stream",
     "text": [
      "Training:  69%|██████▉   | 69303/100000 [1:02:19<33:10, 15.42it/s]"
     ]
    },
    {
     "name": "stdout",
     "output_type": "stream",
     "text": [
      "\n",
      "Episode 69300:\n",
      "Epsilon: 0.100\n",
      "Memory sizes: [20000, 20000, 20000, 20000]\n",
      "Recent rewards: [-0.39155436361098445, -0.025449223142429887, -0.36306457634647515, -0.4701381069113337]\n"
     ]
    },
    {
     "name": "stderr",
     "output_type": "stream",
     "text": [
      "Training:  69%|██████▉   | 69403/100000 [1:02:25<30:17, 16.84it/s]"
     ]
    },
    {
     "name": "stdout",
     "output_type": "stream",
     "text": [
      "\n",
      "Episode 69400:\n",
      "Epsilon: 0.100\n",
      "Memory sizes: [20000, 20000, 20000, 20000]\n",
      "Recent rewards: [-0.32355183008946964, -0.13828417599166642, -0.18736152118009325, -0.45570349663978627]\n"
     ]
    },
    {
     "name": "stderr",
     "output_type": "stream",
     "text": [
      "Training:  70%|██████▉   | 69503/100000 [1:02:31<30:30, 16.66it/s]"
     ]
    },
    {
     "name": "stdout",
     "output_type": "stream",
     "text": [
      "\n",
      "Episode 69500:\n",
      "Epsilon: 0.100\n",
      "Memory sizes: [20000, 20000, 20000, 20000]\n",
      "Recent rewards: [-0.13011584038648139, -0.11413554972200857, -0.27428957835454193, -0.32671356591582684]\n"
     ]
    },
    {
     "name": "stderr",
     "output_type": "stream",
     "text": [
      "Training:  70%|██████▉   | 69603/100000 [1:02:37<30:00, 16.88it/s]"
     ]
    },
    {
     "name": "stdout",
     "output_type": "stream",
     "text": [
      "\n",
      "Episode 69600:\n",
      "Epsilon: 0.100\n",
      "Memory sizes: [20000, 20000, 20000, 20000]\n",
      "Recent rewards: [-0.3589578244952577, -0.08346092355513106, -0.1591623707894898, -0.5036696127862136]\n"
     ]
    },
    {
     "name": "stderr",
     "output_type": "stream",
     "text": [
      "Training:  70%|██████▉   | 69703/100000 [1:02:43<29:13, 17.28it/s]"
     ]
    },
    {
     "name": "stdout",
     "output_type": "stream",
     "text": [
      "\n",
      "Episode 69700:\n",
      "Epsilon: 0.100\n",
      "Memory sizes: [20000, 20000, 20000, 20000]\n",
      "Recent rewards: [-0.20477544343406712, -0.15825739574222272, -0.3386601548924791, -0.23403080300873896]\n"
     ]
    },
    {
     "name": "stderr",
     "output_type": "stream",
     "text": [
      "Training:  70%|██████▉   | 69803/100000 [1:02:49<29:04, 17.31it/s]"
     ]
    },
    {
     "name": "stdout",
     "output_type": "stream",
     "text": [
      "\n",
      "Episode 69800:\n",
      "Epsilon: 0.100\n",
      "Memory sizes: [20000, 20000, 20000, 20000]\n",
      "Recent rewards: [-0.38549034050208086, -0.1007293449764097, -0.3447266555761217, -0.4557583087159122]\n"
     ]
    },
    {
     "name": "stderr",
     "output_type": "stream",
     "text": [
      "Training:  70%|██████▉   | 69903/100000 [1:02:55<28:33, 17.57it/s]"
     ]
    },
    {
     "name": "stdout",
     "output_type": "stream",
     "text": [
      "\n",
      "Episode 69900:\n",
      "Epsilon: 0.100\n",
      "Memory sizes: [20000, 20000, 20000, 20000]\n",
      "Recent rewards: [-0.2944770256998922, -0.02628941460296411, -0.2309974685579405, -0.3505507425473088]\n"
     ]
    },
    {
     "name": "stderr",
     "output_type": "stream",
     "text": [
      "Training:  70%|███████   | 70003/100000 [1:03:01<30:57, 16.15it/s]"
     ]
    },
    {
     "name": "stdout",
     "output_type": "stream",
     "text": [
      "\n",
      "Episode 70000:\n",
      "Epsilon: 0.100\n",
      "Memory sizes: [20000, 20000, 20000, 20000]\n",
      "Recent rewards: [-0.2695856894849011, -0.16762072972160322, -0.13440375616025046, -0.5706358836336535]\n",
      "Checkpoint saved at episode 70000\n"
     ]
    },
    {
     "name": "stderr",
     "output_type": "stream",
     "text": [
      "Training:  70%|███████   | 70103/100000 [1:03:07<33:43, 14.78it/s]"
     ]
    },
    {
     "name": "stdout",
     "output_type": "stream",
     "text": [
      "\n",
      "Episode 70100:\n",
      "Epsilon: 0.100\n",
      "Memory sizes: [20000, 20000, 20000, 20000]\n",
      "Recent rewards: [-0.14799515040509464, -0.14564016233325033, -0.22168309166707245, -0.2747864228506177]\n"
     ]
    },
    {
     "name": "stderr",
     "output_type": "stream",
     "text": [
      "Training:  70%|███████   | 70203/100000 [1:03:13<29:09, 17.03it/s]"
     ]
    },
    {
     "name": "stdout",
     "output_type": "stream",
     "text": [
      "\n",
      "Episode 70200:\n",
      "Epsilon: 0.100\n",
      "Memory sizes: [20000, 20000, 20000, 20000]\n",
      "Recent rewards: [-0.2845450585230199, -0.2385213980958075, -0.19121295217832301, -0.38715420701263215]\n"
     ]
    },
    {
     "name": "stderr",
     "output_type": "stream",
     "text": [
      "Training:  70%|███████   | 70303/100000 [1:03:19<31:07, 15.90it/s]"
     ]
    },
    {
     "name": "stdout",
     "output_type": "stream",
     "text": [
      "\n",
      "Episode 70300:\n",
      "Epsilon: 0.100\n",
      "Memory sizes: [20000, 20000, 20000, 20000]\n",
      "Recent rewards: [-0.20815515421982742, -0.20342059409532887, -0.1769538926218042, -0.36335685254984285]\n"
     ]
    },
    {
     "name": "stderr",
     "output_type": "stream",
     "text": [
      "Training:  70%|███████   | 70403/100000 [1:03:25<29:47, 16.56it/s]"
     ]
    },
    {
     "name": "stdout",
     "output_type": "stream",
     "text": [
      "\n",
      "Episode 70400:\n",
      "Epsilon: 0.100\n",
      "Memory sizes: [20000, 20000, 20000, 20000]\n",
      "Recent rewards: [-0.27041895679771755, -0.11929265138003821, -0.3064712161115262, -0.2169928982096881]\n"
     ]
    },
    {
     "name": "stderr",
     "output_type": "stream",
     "text": [
      "Training:  71%|███████   | 70503/100000 [1:03:31<28:47, 17.08it/s]"
     ]
    },
    {
     "name": "stdout",
     "output_type": "stream",
     "text": [
      "\n",
      "Episode 70500:\n",
      "Epsilon: 0.100\n",
      "Memory sizes: [20000, 20000, 20000, 20000]\n",
      "Recent rewards: [-0.19530056769750623, -0.09822409797699942, -0.3098937103556511, -0.36729195721544355]\n"
     ]
    },
    {
     "name": "stderr",
     "output_type": "stream",
     "text": [
      "Training:  71%|███████   | 70603/100000 [1:03:37<30:01, 16.32it/s]"
     ]
    },
    {
     "name": "stdout",
     "output_type": "stream",
     "text": [
      "\n",
      "Episode 70600:\n",
      "Epsilon: 0.100\n",
      "Memory sizes: [20000, 20000, 20000, 20000]\n",
      "Recent rewards: [-0.24291613810565188, -0.15968763488265428, -0.22163287956377517, -0.30103064806603413]\n"
     ]
    },
    {
     "name": "stderr",
     "output_type": "stream",
     "text": [
      "Training:  71%|███████   | 70703/100000 [1:03:43<30:13, 16.16it/s]"
     ]
    },
    {
     "name": "stdout",
     "output_type": "stream",
     "text": [
      "\n",
      "Episode 70700:\n",
      "Epsilon: 0.100\n",
      "Memory sizes: [20000, 20000, 20000, 20000]\n",
      "Recent rewards: [-0.3086476757871601, -0.12792944456201574, -0.3072474726044505, -0.41564837678443467]\n"
     ]
    },
    {
     "name": "stderr",
     "output_type": "stream",
     "text": [
      "Training:  71%|███████   | 70803/100000 [1:03:49<28:52, 16.86it/s]"
     ]
    },
    {
     "name": "stdout",
     "output_type": "stream",
     "text": [
      "\n",
      "Episode 70800:\n",
      "Epsilon: 0.100\n",
      "Memory sizes: [20000, 20000, 20000, 20000]\n",
      "Recent rewards: [-0.44971088441271034, -0.11426781566824402, 0.011480633714619612, -0.33596820099864905]\n"
     ]
    },
    {
     "name": "stderr",
     "output_type": "stream",
     "text": [
      "Training:  71%|███████   | 70903/100000 [1:03:55<28:49, 16.82it/s]"
     ]
    },
    {
     "name": "stdout",
     "output_type": "stream",
     "text": [
      "\n",
      "Episode 70900:\n",
      "Epsilon: 0.100\n",
      "Memory sizes: [20000, 20000, 20000, 20000]\n",
      "Recent rewards: [-0.13467146143370345, -0.025514898141592822, -0.3716568235173168, -0.3223281204286056]\n"
     ]
    },
    {
     "name": "stderr",
     "output_type": "stream",
     "text": [
      "Training:  71%|███████   | 71003/100000 [1:04:01<29:45, 16.24it/s]"
     ]
    },
    {
     "name": "stdout",
     "output_type": "stream",
     "text": [
      "\n",
      "Episode 71000:\n",
      "Epsilon: 0.100\n",
      "Memory sizes: [20000, 20000, 20000, 20000]\n",
      "Recent rewards: [-0.30943987577249565, -0.180138454090943, -0.17570684691486385, -0.31735411469967584]\n"
     ]
    },
    {
     "name": "stderr",
     "output_type": "stream",
     "text": [
      "Training:  71%|███████   | 71103/100000 [1:04:07<28:57, 16.63it/s]"
     ]
    },
    {
     "name": "stdout",
     "output_type": "stream",
     "text": [
      "\n",
      "Episode 71100:\n",
      "Epsilon: 0.100\n",
      "Memory sizes: [20000, 20000, 20000, 20000]\n",
      "Recent rewards: [-0.12409321363712415, -0.11175997245212149, -0.24170324015198602, -0.3489863824542454]\n"
     ]
    },
    {
     "name": "stderr",
     "output_type": "stream",
     "text": [
      "Training:  71%|███████   | 71203/100000 [1:04:13<27:56, 17.17it/s]"
     ]
    },
    {
     "name": "stdout",
     "output_type": "stream",
     "text": [
      "\n",
      "Episode 71200:\n",
      "Epsilon: 0.100\n",
      "Memory sizes: [20000, 20000, 20000, 20000]\n",
      "Recent rewards: [-0.36722730573800605, -0.012535000426548, -0.16562132466975157, -0.49019280589593334]\n"
     ]
    },
    {
     "name": "stderr",
     "output_type": "stream",
     "text": [
      "Training:  71%|███████▏  | 71303/100000 [1:04:19<26:33, 18.01it/s]"
     ]
    },
    {
     "name": "stdout",
     "output_type": "stream",
     "text": [
      "\n",
      "Episode 71300:\n",
      "Epsilon: 0.100\n",
      "Memory sizes: [20000, 20000, 20000, 20000]\n",
      "Recent rewards: [-0.28610075955432485, -0.0810818793785144, -0.3381964744492075, -0.25578503120942364]\n"
     ]
    },
    {
     "name": "stderr",
     "output_type": "stream",
     "text": [
      "Training:  71%|███████▏  | 71403/100000 [1:04:25<29:20, 16.24it/s]"
     ]
    },
    {
     "name": "stdout",
     "output_type": "stream",
     "text": [
      "\n",
      "Episode 71400:\n",
      "Epsilon: 0.100\n",
      "Memory sizes: [20000, 20000, 20000, 20000]\n",
      "Recent rewards: [-0.36911182843003204, -0.05651719244008012, -0.33057668756064856, -0.22546929903540172]\n"
     ]
    },
    {
     "name": "stderr",
     "output_type": "stream",
     "text": [
      "Training:  72%|███████▏  | 71503/100000 [1:04:31<28:55, 16.42it/s]"
     ]
    },
    {
     "name": "stdout",
     "output_type": "stream",
     "text": [
      "\n",
      "Episode 71500:\n",
      "Epsilon: 0.100\n",
      "Memory sizes: [20000, 20000, 20000, 20000]\n",
      "Recent rewards: [-0.2861374440632869, -0.12357529150695307, -0.40904196792224523, -0.21321737342117297]\n"
     ]
    },
    {
     "name": "stderr",
     "output_type": "stream",
     "text": [
      "Training:  72%|███████▏  | 71603/100000 [1:04:37<29:45, 15.90it/s]"
     ]
    },
    {
     "name": "stdout",
     "output_type": "stream",
     "text": [
      "\n",
      "Episode 71600:\n",
      "Epsilon: 0.100\n",
      "Memory sizes: [20000, 20000, 20000, 20000]\n",
      "Recent rewards: [-0.2688867348328997, -0.16552595178717705, -0.4779174903889476, -0.21446581750043056]\n"
     ]
    },
    {
     "name": "stderr",
     "output_type": "stream",
     "text": [
      "Training:  72%|███████▏  | 71703/100000 [1:04:43<27:06, 17.40it/s]"
     ]
    },
    {
     "name": "stdout",
     "output_type": "stream",
     "text": [
      "\n",
      "Episode 71700:\n",
      "Epsilon: 0.100\n",
      "Memory sizes: [20000, 20000, 20000, 20000]\n",
      "Recent rewards: [-0.25640893375456175, -0.12711554688261614, -0.4863699771512156, -0.16474361164655413]\n"
     ]
    },
    {
     "name": "stderr",
     "output_type": "stream",
     "text": [
      "Training:  72%|███████▏  | 71803/100000 [1:04:49<27:35, 17.03it/s]"
     ]
    },
    {
     "name": "stdout",
     "output_type": "stream",
     "text": [
      "\n",
      "Episode 71800:\n",
      "Epsilon: 0.100\n",
      "Memory sizes: [20000, 20000, 20000, 20000]\n",
      "Recent rewards: [-0.24167194995469404, -0.15216170375706212, -0.31422245656662084, -0.1905405037688346]\n"
     ]
    },
    {
     "name": "stderr",
     "output_type": "stream",
     "text": [
      "Training:  72%|███████▏  | 71903/100000 [1:04:55<27:47, 16.85it/s]"
     ]
    },
    {
     "name": "stdout",
     "output_type": "stream",
     "text": [
      "\n",
      "Episode 71900:\n",
      "Epsilon: 0.100\n",
      "Memory sizes: [20000, 20000, 20000, 20000]\n",
      "Recent rewards: [-0.09267181621416158, 0.059486436540151094, -0.4473639965621247, -0.39131894169783543]\n"
     ]
    },
    {
     "name": "stderr",
     "output_type": "stream",
     "text": [
      "Training:  72%|███████▏  | 72003/100000 [1:05:01<26:48, 17.40it/s]"
     ]
    },
    {
     "name": "stdout",
     "output_type": "stream",
     "text": [
      "\n",
      "Episode 72000:\n",
      "Epsilon: 0.100\n",
      "Memory sizes: [20000, 20000, 20000, 20000]\n",
      "Recent rewards: [-0.3077722085535125, -0.02127465147315609, -0.2876670164015176, -0.3453591433592046]\n"
     ]
    },
    {
     "name": "stderr",
     "output_type": "stream",
     "text": [
      "Training:  72%|███████▏  | 72103/100000 [1:05:07<27:59, 16.61it/s]"
     ]
    },
    {
     "name": "stdout",
     "output_type": "stream",
     "text": [
      "\n",
      "Episode 72100:\n",
      "Epsilon: 0.100\n",
      "Memory sizes: [20000, 20000, 20000, 20000]\n",
      "Recent rewards: [-0.34396625849763723, -0.1560753415405872, -0.3912754317950978, -0.20016536982966618]\n"
     ]
    },
    {
     "name": "stderr",
     "output_type": "stream",
     "text": [
      "Training:  72%|███████▏  | 72203/100000 [1:05:13<31:39, 14.64it/s]"
     ]
    },
    {
     "name": "stdout",
     "output_type": "stream",
     "text": [
      "\n",
      "Episode 72200:\n",
      "Epsilon: 0.100\n",
      "Memory sizes: [20000, 20000, 20000, 20000]\n",
      "Recent rewards: [-0.17083895039690447, -0.1426581649977571, -0.23600782816416022, -0.36331961305042326]\n"
     ]
    },
    {
     "name": "stderr",
     "output_type": "stream",
     "text": [
      "Training:  72%|███████▏  | 72303/100000 [1:05:19<28:02, 16.46it/s]"
     ]
    },
    {
     "name": "stdout",
     "output_type": "stream",
     "text": [
      "\n",
      "Episode 72300:\n",
      "Epsilon: 0.100\n",
      "Memory sizes: [20000, 20000, 20000, 20000]\n",
      "Recent rewards: [-0.3548402481192593, -0.10551737810510872, -0.22730503712853903, -0.3585544940003417]\n"
     ]
    },
    {
     "name": "stderr",
     "output_type": "stream",
     "text": [
      "Training:  72%|███████▏  | 72403/100000 [1:05:25<27:38, 16.64it/s]"
     ]
    },
    {
     "name": "stdout",
     "output_type": "stream",
     "text": [
      "\n",
      "Episode 72400:\n",
      "Epsilon: 0.100\n",
      "Memory sizes: [20000, 20000, 20000, 20000]\n",
      "Recent rewards: [-0.38989904015768895, -0.09270625514110435, -0.15260594333116, -0.32845020280711607]\n"
     ]
    },
    {
     "name": "stderr",
     "output_type": "stream",
     "text": [
      "Training:  73%|███████▎  | 72503/100000 [1:05:31<26:59, 16.98it/s]"
     ]
    },
    {
     "name": "stdout",
     "output_type": "stream",
     "text": [
      "\n",
      "Episode 72500:\n",
      "Epsilon: 0.100\n",
      "Memory sizes: [20000, 20000, 20000, 20000]\n",
      "Recent rewards: [-0.11448736542021429, -0.11989525439779855, -0.35541023262127763, -0.42439003181283497]\n"
     ]
    },
    {
     "name": "stderr",
     "output_type": "stream",
     "text": [
      "Training:  73%|███████▎  | 72603/100000 [1:05:37<27:18, 16.72it/s]"
     ]
    },
    {
     "name": "stdout",
     "output_type": "stream",
     "text": [
      "\n",
      "Episode 72600:\n",
      "Epsilon: 0.100\n",
      "Memory sizes: [20000, 20000, 20000, 20000]\n",
      "Recent rewards: [-0.11071579555912692, -0.11347793390885123, -0.20167878426012045, -0.418694714237943]\n"
     ]
    },
    {
     "name": "stderr",
     "output_type": "stream",
     "text": [
      "Training:  73%|███████▎  | 72703/100000 [1:05:43<27:24, 16.60it/s]"
     ]
    },
    {
     "name": "stdout",
     "output_type": "stream",
     "text": [
      "\n",
      "Episode 72700:\n",
      "Epsilon: 0.100\n",
      "Memory sizes: [20000, 20000, 20000, 20000]\n",
      "Recent rewards: [-0.14844314820170892, -0.11933687516890154, -0.2015991200292692, -0.3585307663666308]\n"
     ]
    },
    {
     "name": "stderr",
     "output_type": "stream",
     "text": [
      "Training:  73%|███████▎  | 72803/100000 [1:05:49<25:51, 17.53it/s]"
     ]
    },
    {
     "name": "stdout",
     "output_type": "stream",
     "text": [
      "\n",
      "Episode 72800:\n",
      "Epsilon: 0.100\n",
      "Memory sizes: [20000, 20000, 20000, 20000]\n",
      "Recent rewards: [-0.14959534531801424, -0.1095366047596244, -0.28570635823252266, -0.3718219743150547]\n"
     ]
    },
    {
     "name": "stderr",
     "output_type": "stream",
     "text": [
      "Training:  73%|███████▎  | 72903/100000 [1:05:55<25:09, 17.95it/s]"
     ]
    },
    {
     "name": "stdout",
     "output_type": "stream",
     "text": [
      "\n",
      "Episode 72900:\n",
      "Epsilon: 0.100\n",
      "Memory sizes: [20000, 20000, 20000, 20000]\n",
      "Recent rewards: [-0.3110042996140582, 0.029900861248127356, -0.2137690935587605, -0.38030275378295686]\n"
     ]
    },
    {
     "name": "stderr",
     "output_type": "stream",
     "text": [
      "Training:  73%|███████▎  | 73003/100000 [1:06:01<27:28, 16.38it/s]"
     ]
    },
    {
     "name": "stdout",
     "output_type": "stream",
     "text": [
      "\n",
      "Episode 73000:\n",
      "Epsilon: 0.100\n",
      "Memory sizes: [20000, 20000, 20000, 20000]\n",
      "Recent rewards: [-0.040159992652809666, -0.1953386203589114, -0.38524199193037256, -0.25873382232050873]\n"
     ]
    },
    {
     "name": "stderr",
     "output_type": "stream",
     "text": [
      "Training:  73%|███████▎  | 73103/100000 [1:06:07<24:48, 18.07it/s]"
     ]
    },
    {
     "name": "stdout",
     "output_type": "stream",
     "text": [
      "\n",
      "Episode 73100:\n",
      "Epsilon: 0.100\n",
      "Memory sizes: [20000, 20000, 20000, 20000]\n",
      "Recent rewards: [-0.2540185675595134, -0.06030621036961824, -0.16403901915571217, -0.2657899923855586]\n"
     ]
    },
    {
     "name": "stderr",
     "output_type": "stream",
     "text": [
      "Training:  73%|███████▎  | 73203/100000 [1:06:13<25:19, 17.64it/s]"
     ]
    },
    {
     "name": "stdout",
     "output_type": "stream",
     "text": [
      "\n",
      "Episode 73200:\n",
      "Epsilon: 0.100\n",
      "Memory sizes: [20000, 20000, 20000, 20000]\n",
      "Recent rewards: [-0.2533084227809647, -0.12498919554101579, -0.09753298603480037, -0.3772054937490605]\n"
     ]
    },
    {
     "name": "stderr",
     "output_type": "stream",
     "text": [
      "Training:  73%|███████▎  | 73303/100000 [1:06:18<25:37, 17.37it/s]"
     ]
    },
    {
     "name": "stdout",
     "output_type": "stream",
     "text": [
      "\n",
      "Episode 73300:\n",
      "Epsilon: 0.100\n",
      "Memory sizes: [20000, 20000, 20000, 20000]\n",
      "Recent rewards: [-0.11509161938382795, -0.08135628755047282, -0.30988732754819337, -0.3193105421878192]\n"
     ]
    },
    {
     "name": "stderr",
     "output_type": "stream",
     "text": [
      "Training:  73%|███████▎  | 73403/100000 [1:06:25<26:06, 16.98it/s]"
     ]
    },
    {
     "name": "stdout",
     "output_type": "stream",
     "text": [
      "\n",
      "Episode 73400:\n",
      "Epsilon: 0.100\n",
      "Memory sizes: [20000, 20000, 20000, 20000]\n",
      "Recent rewards: [-0.08858890198121726, -0.011610630024546325, -0.2913040981468467, -0.45767659917175074]\n"
     ]
    },
    {
     "name": "stderr",
     "output_type": "stream",
     "text": [
      "Training:  74%|███████▎  | 73503/100000 [1:06:31<28:01, 15.75it/s]"
     ]
    },
    {
     "name": "stdout",
     "output_type": "stream",
     "text": [
      "\n",
      "Episode 73500:\n",
      "Epsilon: 0.100\n",
      "Memory sizes: [20000, 20000, 20000, 20000]\n",
      "Recent rewards: [-0.1731885654851031, -0.09249750240825723, -0.1934146453011919, -0.44681711019553755]\n"
     ]
    },
    {
     "name": "stderr",
     "output_type": "stream",
     "text": [
      "Training:  74%|███████▎  | 73603/100000 [1:06:37<27:32, 15.97it/s]"
     ]
    },
    {
     "name": "stdout",
     "output_type": "stream",
     "text": [
      "\n",
      "Episode 73600:\n",
      "Epsilon: 0.100\n",
      "Memory sizes: [20000, 20000, 20000, 20000]\n",
      "Recent rewards: [-0.18659874156508643, -0.12679654675216195, -0.2579497861472441, -0.20932196787265325]\n"
     ]
    },
    {
     "name": "stderr",
     "output_type": "stream",
     "text": [
      "Training:  74%|███████▎  | 73703/100000 [1:06:42<24:56, 17.57it/s]"
     ]
    },
    {
     "name": "stdout",
     "output_type": "stream",
     "text": [
      "\n",
      "Episode 73700:\n",
      "Epsilon: 0.100\n",
      "Memory sizes: [20000, 20000, 20000, 20000]\n",
      "Recent rewards: [-0.06595114005693653, -0.054492128602302244, -0.3361683337751468, -0.40435999158060015]\n"
     ]
    },
    {
     "name": "stderr",
     "output_type": "stream",
     "text": [
      "Training:  74%|███████▍  | 73803/100000 [1:06:48<25:36, 17.05it/s]"
     ]
    },
    {
     "name": "stdout",
     "output_type": "stream",
     "text": [
      "\n",
      "Episode 73800:\n",
      "Epsilon: 0.100\n",
      "Memory sizes: [20000, 20000, 20000, 20000]\n",
      "Recent rewards: [-0.23665826389435754, -0.047760045881611105, -0.2258291002225314, -0.42877053501875667]\n"
     ]
    },
    {
     "name": "stderr",
     "output_type": "stream",
     "text": [
      "Training:  74%|███████▍  | 73903/100000 [1:06:54<25:26, 17.10it/s]"
     ]
    },
    {
     "name": "stdout",
     "output_type": "stream",
     "text": [
      "\n",
      "Episode 73900:\n",
      "Epsilon: 0.100\n",
      "Memory sizes: [20000, 20000, 20000, 20000]\n",
      "Recent rewards: [-0.02407715736916038, -0.0753664885252622, -0.5439348963993321, -0.40920416040692237]\n"
     ]
    },
    {
     "name": "stderr",
     "output_type": "stream",
     "text": [
      "Training:  74%|███████▍  | 74003/100000 [1:07:00<25:15, 17.16it/s]"
     ]
    },
    {
     "name": "stdout",
     "output_type": "stream",
     "text": [
      "\n",
      "Episode 74000:\n",
      "Epsilon: 0.100\n",
      "Memory sizes: [20000, 20000, 20000, 20000]\n",
      "Recent rewards: [-0.2106578718722378, -0.0743092855555034, -0.3780353681305075, -0.32079410127893554]\n"
     ]
    },
    {
     "name": "stderr",
     "output_type": "stream",
     "text": [
      "Training:  74%|███████▍  | 74103/100000 [1:07:06<24:21, 17.72it/s]"
     ]
    },
    {
     "name": "stdout",
     "output_type": "stream",
     "text": [
      "\n",
      "Episode 74100:\n",
      "Epsilon: 0.100\n",
      "Memory sizes: [20000, 20000, 20000, 20000]\n",
      "Recent rewards: [-0.2817771680416752, 0.0217742267651053, -0.1874655108129623, -0.4789910075417197]\n"
     ]
    },
    {
     "name": "stderr",
     "output_type": "stream",
     "text": [
      "Training:  74%|███████▍  | 74203/100000 [1:07:12<26:04, 16.48it/s]"
     ]
    },
    {
     "name": "stdout",
     "output_type": "stream",
     "text": [
      "\n",
      "Episode 74200:\n",
      "Epsilon: 0.100\n",
      "Memory sizes: [20000, 20000, 20000, 20000]\n",
      "Recent rewards: [-0.33272505567646193, -0.02788433009552184, -0.18566183591463528, -0.25694501820950344]\n"
     ]
    },
    {
     "name": "stderr",
     "output_type": "stream",
     "text": [
      "Training:  74%|███████▍  | 74303/100000 [1:07:18<27:17, 15.69it/s]"
     ]
    },
    {
     "name": "stdout",
     "output_type": "stream",
     "text": [
      "\n",
      "Episode 74300:\n",
      "Epsilon: 0.100\n",
      "Memory sizes: [20000, 20000, 20000, 20000]\n",
      "Recent rewards: [-0.02393075341304558, -0.09751454709908687, -0.26782936228406673, -0.39438208419448645]\n"
     ]
    },
    {
     "name": "stderr",
     "output_type": "stream",
     "text": [
      "Training:  74%|███████▍  | 74403/100000 [1:07:24<24:41, 17.27it/s]"
     ]
    },
    {
     "name": "stdout",
     "output_type": "stream",
     "text": [
      "\n",
      "Episode 74400:\n",
      "Epsilon: 0.100\n",
      "Memory sizes: [20000, 20000, 20000, 20000]\n",
      "Recent rewards: [0.017319287926399696, -0.08229380791216752, -0.3247325895648465, -0.5261352332356775]\n"
     ]
    },
    {
     "name": "stderr",
     "output_type": "stream",
     "text": [
      "Training:  75%|███████▍  | 74503/100000 [1:07:30<25:38, 16.57it/s]"
     ]
    },
    {
     "name": "stdout",
     "output_type": "stream",
     "text": [
      "\n",
      "Episode 74500:\n",
      "Epsilon: 0.100\n",
      "Memory sizes: [20000, 20000, 20000, 20000]\n",
      "Recent rewards: [-0.15667123369481412, -0.10428711866920161, -0.2269632421763725, -0.36685211247376837]\n"
     ]
    },
    {
     "name": "stderr",
     "output_type": "stream",
     "text": [
      "Training:  75%|███████▍  | 74603/100000 [1:07:36<27:30, 15.39it/s]"
     ]
    },
    {
     "name": "stdout",
     "output_type": "stream",
     "text": [
      "\n",
      "Episode 74600:\n",
      "Epsilon: 0.100\n",
      "Memory sizes: [20000, 20000, 20000, 20000]\n",
      "Recent rewards: [-0.14047905660171076, 0.055706174321796906, -0.31674413367481546, -0.46825392379897307]\n"
     ]
    },
    {
     "name": "stderr",
     "output_type": "stream",
     "text": [
      "Training:  75%|███████▍  | 74703/100000 [1:07:42<25:01, 16.85it/s]"
     ]
    },
    {
     "name": "stdout",
     "output_type": "stream",
     "text": [
      "\n",
      "Episode 74700:\n",
      "Epsilon: 0.100\n",
      "Memory sizes: [20000, 20000, 20000, 20000]\n",
      "Recent rewards: [-0.2420994123172801, -0.06591870279814864, -0.286411229503588, -0.2924829270228059]\n"
     ]
    },
    {
     "name": "stderr",
     "output_type": "stream",
     "text": [
      "Training:  75%|███████▍  | 74803/100000 [1:07:48<24:49, 16.92it/s]"
     ]
    },
    {
     "name": "stdout",
     "output_type": "stream",
     "text": [
      "\n",
      "Episode 74800:\n",
      "Epsilon: 0.100\n",
      "Memory sizes: [20000, 20000, 20000, 20000]\n",
      "Recent rewards: [-0.2545099334388754, -0.05098670924265031, -0.43895578940793895, -0.4057898994088931]\n"
     ]
    },
    {
     "name": "stderr",
     "output_type": "stream",
     "text": [
      "Training:  75%|███████▍  | 74903/100000 [1:07:55<25:36, 16.34it/s]"
     ]
    },
    {
     "name": "stdout",
     "output_type": "stream",
     "text": [
      "\n",
      "Episode 74900:\n",
      "Epsilon: 0.100\n",
      "Memory sizes: [20000, 20000, 20000, 20000]\n",
      "Recent rewards: [-0.230309390817914, -0.09306373764886773, -0.19695698787873106, -0.5727558676529735]\n"
     ]
    },
    {
     "name": "stderr",
     "output_type": "stream",
     "text": [
      "Training:  75%|███████▌  | 75003/100000 [1:08:00<24:34, 16.95it/s]"
     ]
    },
    {
     "name": "stdout",
     "output_type": "stream",
     "text": [
      "\n",
      "Episode 75000:\n",
      "Epsilon: 0.100\n",
      "Memory sizes: [20000, 20000, 20000, 20000]\n",
      "Recent rewards: [-0.10272070245232463, -0.11274277907240171, -0.33174863940527843, -0.36635811942467755]\n"
     ]
    },
    {
     "name": "stderr",
     "output_type": "stream",
     "text": [
      "Training:  75%|███████▌  | 75103/100000 [1:08:06<27:45, 14.94it/s]"
     ]
    },
    {
     "name": "stdout",
     "output_type": "stream",
     "text": [
      "\n",
      "Episode 75100:\n",
      "Epsilon: 0.100\n",
      "Memory sizes: [20000, 20000, 20000, 20000]\n",
      "Recent rewards: [-0.16114748033703644, -0.08776774309090944, -0.2819600385348386, -0.23771428354557178]\n"
     ]
    },
    {
     "name": "stderr",
     "output_type": "stream",
     "text": [
      "Training:  75%|███████▌  | 75203/100000 [1:08:12<23:20, 17.70it/s]"
     ]
    },
    {
     "name": "stdout",
     "output_type": "stream",
     "text": [
      "\n",
      "Episode 75200:\n",
      "Epsilon: 0.100\n",
      "Memory sizes: [20000, 20000, 20000, 20000]\n",
      "Recent rewards: [-0.15555011683360814, 0.024151415338316395, -0.31318666123660527, -0.5012585290813858]\n"
     ]
    },
    {
     "name": "stderr",
     "output_type": "stream",
     "text": [
      "Training:  75%|███████▌  | 75303/100000 [1:08:18<23:58, 17.17it/s]"
     ]
    },
    {
     "name": "stdout",
     "output_type": "stream",
     "text": [
      "\n",
      "Episode 75300:\n",
      "Epsilon: 0.100\n",
      "Memory sizes: [20000, 20000, 20000, 20000]\n",
      "Recent rewards: [-0.15030011481373137, -0.14110113216760709, -0.2597578151946784, -0.32210513305515603]\n"
     ]
    },
    {
     "name": "stderr",
     "output_type": "stream",
     "text": [
      "Training:  75%|███████▌  | 75403/100000 [1:08:24<25:19, 16.19it/s]"
     ]
    },
    {
     "name": "stdout",
     "output_type": "stream",
     "text": [
      "\n",
      "Episode 75400:\n",
      "Epsilon: 0.100\n",
      "Memory sizes: [20000, 20000, 20000, 20000]\n",
      "Recent rewards: [-0.03952636837642026, -0.0270510131659311, -0.34371334720404206, -0.5606510969908459]\n"
     ]
    },
    {
     "name": "stderr",
     "output_type": "stream",
     "text": [
      "Training:  76%|███████▌  | 75503/100000 [1:08:30<25:01, 16.32it/s]"
     ]
    },
    {
     "name": "stdout",
     "output_type": "stream",
     "text": [
      "\n",
      "Episode 75500:\n",
      "Epsilon: 0.100\n",
      "Memory sizes: [20000, 20000, 20000, 20000]\n",
      "Recent rewards: [-0.17151517074572584, -0.010006276278233285, -0.4374448247150729, -0.500180166382243]\n"
     ]
    },
    {
     "name": "stderr",
     "output_type": "stream",
     "text": [
      "Training:  76%|███████▌  | 75603/100000 [1:08:36<24:44, 16.44it/s]"
     ]
    },
    {
     "name": "stdout",
     "output_type": "stream",
     "text": [
      "\n",
      "Episode 75600:\n",
      "Epsilon: 0.100\n",
      "Memory sizes: [20000, 20000, 20000, 20000]\n",
      "Recent rewards: [-0.34212053411312965, -0.13969152302304613, -0.2193785393997554, -0.5712747290365134]\n"
     ]
    },
    {
     "name": "stderr",
     "output_type": "stream",
     "text": [
      "Training:  76%|███████▌  | 75703/100000 [1:08:43<24:22, 16.62it/s]"
     ]
    },
    {
     "name": "stdout",
     "output_type": "stream",
     "text": [
      "\n",
      "Episode 75700:\n",
      "Epsilon: 0.100\n",
      "Memory sizes: [20000, 20000, 20000, 20000]\n",
      "Recent rewards: [-0.2885040971954004, -0.06518141280298702, -0.16878164843839616, -0.44751330536896744]\n"
     ]
    },
    {
     "name": "stderr",
     "output_type": "stream",
     "text": [
      "Training:  76%|███████▌  | 75803/100000 [1:08:49<24:05, 16.74it/s]"
     ]
    },
    {
     "name": "stdout",
     "output_type": "stream",
     "text": [
      "\n",
      "Episode 75800:\n",
      "Epsilon: 0.100\n",
      "Memory sizes: [20000, 20000, 20000, 20000]\n",
      "Recent rewards: [-0.2129171307252485, -0.03672124048963982, -0.22631959503891333, -0.4226661827240423]\n"
     ]
    },
    {
     "name": "stderr",
     "output_type": "stream",
     "text": [
      "Training:  76%|███████▌  | 75903/100000 [1:08:55<24:49, 16.18it/s]"
     ]
    },
    {
     "name": "stdout",
     "output_type": "stream",
     "text": [
      "\n",
      "Episode 75900:\n",
      "Epsilon: 0.100\n",
      "Memory sizes: [20000, 20000, 20000, 20000]\n",
      "Recent rewards: [-0.15368733686565367, -0.08969143889905766, -0.29228913609686513, -0.5046850613731914]\n"
     ]
    },
    {
     "name": "stderr",
     "output_type": "stream",
     "text": [
      "Training:  76%|███████▌  | 76003/100000 [1:09:01<23:19, 17.15it/s]"
     ]
    },
    {
     "name": "stdout",
     "output_type": "stream",
     "text": [
      "\n",
      "Episode 76000:\n",
      "Epsilon: 0.100\n",
      "Memory sizes: [20000, 20000, 20000, 20000]\n",
      "Recent rewards: [-0.386510126512772, -0.10891416150716517, -0.24541339452992447, -0.3872937058629901]\n"
     ]
    },
    {
     "name": "stderr",
     "output_type": "stream",
     "text": [
      "Training:  76%|███████▌  | 76103/100000 [1:09:07<24:47, 16.07it/s]"
     ]
    },
    {
     "name": "stdout",
     "output_type": "stream",
     "text": [
      "\n",
      "Episode 76100:\n",
      "Epsilon: 0.100\n",
      "Memory sizes: [20000, 20000, 20000, 20000]\n",
      "Recent rewards: [-0.24924439867705558, -0.12843268458408408, -0.4549807392907006, -0.41420150194983973]\n"
     ]
    },
    {
     "name": "stderr",
     "output_type": "stream",
     "text": [
      "Training:  76%|███████▌  | 76203/100000 [1:09:13<22:12, 17.86it/s]"
     ]
    },
    {
     "name": "stdout",
     "output_type": "stream",
     "text": [
      "\n",
      "Episode 76200:\n",
      "Epsilon: 0.100\n",
      "Memory sizes: [20000, 20000, 20000, 20000]\n",
      "Recent rewards: [-0.02144764538322603, -0.014918825681643776, -0.3408994496373886, -0.5055239371724665]\n"
     ]
    },
    {
     "name": "stderr",
     "output_type": "stream",
     "text": [
      "Training:  76%|███████▋  | 76303/100000 [1:09:19<22:27, 17.58it/s]"
     ]
    },
    {
     "name": "stdout",
     "output_type": "stream",
     "text": [
      "\n",
      "Episode 76300:\n",
      "Epsilon: 0.100\n",
      "Memory sizes: [20000, 20000, 20000, 20000]\n",
      "Recent rewards: [-0.07064417303667281, -0.20396912980345774, -0.3733341515757371, -0.4135906511358523]\n"
     ]
    },
    {
     "name": "stderr",
     "output_type": "stream",
     "text": [
      "Training:  76%|███████▋  | 76403/100000 [1:09:24<21:58, 17.90it/s]"
     ]
    },
    {
     "name": "stdout",
     "output_type": "stream",
     "text": [
      "\n",
      "Episode 76400:\n",
      "Epsilon: 0.100\n",
      "Memory sizes: [20000, 20000, 20000, 20000]\n",
      "Recent rewards: [-0.07194635171813574, -0.04024227433681064, -0.29881433995649553, -0.5061743521636309]\n"
     ]
    },
    {
     "name": "stderr",
     "output_type": "stream",
     "text": [
      "Training:  77%|███████▋  | 76503/100000 [1:09:30<22:01, 17.79it/s]"
     ]
    },
    {
     "name": "stdout",
     "output_type": "stream",
     "text": [
      "\n",
      "Episode 76500:\n",
      "Epsilon: 0.100\n",
      "Memory sizes: [20000, 20000, 20000, 20000]\n",
      "Recent rewards: [-0.2672718800147189, -0.021635071145134743, -0.25336545345790784, -0.42395704068165846]\n"
     ]
    },
    {
     "name": "stderr",
     "output_type": "stream",
     "text": [
      "Training:  77%|███████▋  | 76603/100000 [1:09:36<22:35, 17.26it/s]"
     ]
    },
    {
     "name": "stdout",
     "output_type": "stream",
     "text": [
      "\n",
      "Episode 76600:\n",
      "Epsilon: 0.100\n",
      "Memory sizes: [20000, 20000, 20000, 20000]\n",
      "Recent rewards: [-0.3489043373516744, -0.1285321092772718, -0.2903594869416717, -0.4598584723524267]\n"
     ]
    },
    {
     "name": "stderr",
     "output_type": "stream",
     "text": [
      "Training:  77%|███████▋  | 76703/100000 [1:09:42<23:08, 16.78it/s]"
     ]
    },
    {
     "name": "stdout",
     "output_type": "stream",
     "text": [
      "\n",
      "Episode 76700:\n",
      "Epsilon: 0.100\n",
      "Memory sizes: [20000, 20000, 20000, 20000]\n",
      "Recent rewards: [-0.2324488662222462, -0.030683666423824273, -0.34579261974442843, -0.42518469158429995]\n"
     ]
    },
    {
     "name": "stderr",
     "output_type": "stream",
     "text": [
      "Training:  77%|███████▋  | 76803/100000 [1:09:47<22:09, 17.45it/s]"
     ]
    },
    {
     "name": "stdout",
     "output_type": "stream",
     "text": [
      "\n",
      "Episode 76800:\n",
      "Epsilon: 0.100\n",
      "Memory sizes: [20000, 20000, 20000, 20000]\n",
      "Recent rewards: [-0.0458906310667928, -0.06396862416763283, -0.404746054951446, -0.41797884723336887]\n"
     ]
    },
    {
     "name": "stderr",
     "output_type": "stream",
     "text": [
      "Training:  77%|███████▋  | 76903/100000 [1:09:53<23:14, 16.57it/s]"
     ]
    },
    {
     "name": "stdout",
     "output_type": "stream",
     "text": [
      "\n",
      "Episode 76900:\n",
      "Epsilon: 0.100\n",
      "Memory sizes: [20000, 20000, 20000, 20000]\n",
      "Recent rewards: [-0.13952311896904007, -0.0781105451693868, -0.3539732215096724, -0.4630157410364156]\n"
     ]
    },
    {
     "name": "stderr",
     "output_type": "stream",
     "text": [
      "Training:  77%|███████▋  | 77003/100000 [1:09:59<24:45, 15.48it/s]"
     ]
    },
    {
     "name": "stdout",
     "output_type": "stream",
     "text": [
      "\n",
      "Episode 77000:\n",
      "Epsilon: 0.100\n",
      "Memory sizes: [20000, 20000, 20000, 20000]\n",
      "Recent rewards: [-0.11627143891039743, -0.060293336133273534, -0.21085893182844578, -0.5575606835564337]\n"
     ]
    },
    {
     "name": "stderr",
     "output_type": "stream",
     "text": [
      "Training:  77%|███████▋  | 77103/100000 [1:10:06<24:53, 15.33it/s]"
     ]
    },
    {
     "name": "stdout",
     "output_type": "stream",
     "text": [
      "\n",
      "Episode 77100:\n",
      "Epsilon: 0.100\n",
      "Memory sizes: [20000, 20000, 20000, 20000]\n",
      "Recent rewards: [-0.07605950151684385, -0.13096650714058466, -0.22636603974450634, -0.5682606574726147]\n"
     ]
    },
    {
     "name": "stderr",
     "output_type": "stream",
     "text": [
      "Training:  77%|███████▋  | 77203/100000 [1:10:12<23:34, 16.12it/s]"
     ]
    },
    {
     "name": "stdout",
     "output_type": "stream",
     "text": [
      "\n",
      "Episode 77200:\n",
      "Epsilon: 0.100\n",
      "Memory sizes: [20000, 20000, 20000, 20000]\n",
      "Recent rewards: [0.07074507106606946, -0.06826413389974638, -0.31329741991874344, -0.27082664444883237]\n"
     ]
    },
    {
     "name": "stderr",
     "output_type": "stream",
     "text": [
      "Training:  77%|███████▋  | 77303/100000 [1:10:18<22:34, 16.75it/s]"
     ]
    },
    {
     "name": "stdout",
     "output_type": "stream",
     "text": [
      "\n",
      "Episode 77300:\n",
      "Epsilon: 0.100\n",
      "Memory sizes: [20000, 20000, 20000, 20000]\n",
      "Recent rewards: [0.0835936180688725, -0.0827474246678554, -0.34754872166734957, -0.4276720868250448]\n"
     ]
    },
    {
     "name": "stderr",
     "output_type": "stream",
     "text": [
      "Training:  77%|███████▋  | 77403/100000 [1:10:24<23:37, 15.95it/s]"
     ]
    },
    {
     "name": "stdout",
     "output_type": "stream",
     "text": [
      "\n",
      "Episode 77400:\n",
      "Epsilon: 0.100\n",
      "Memory sizes: [20000, 20000, 20000, 20000]\n",
      "Recent rewards: [-0.1204664879875721, -0.0988661619666076, -0.2402310919240515, -0.5361352728192672]\n"
     ]
    },
    {
     "name": "stderr",
     "output_type": "stream",
     "text": [
      "Training:  78%|███████▊  | 77503/100000 [1:10:30<22:37, 16.57it/s]"
     ]
    },
    {
     "name": "stdout",
     "output_type": "stream",
     "text": [
      "\n",
      "Episode 77500:\n",
      "Epsilon: 0.100\n",
      "Memory sizes: [20000, 20000, 20000, 20000]\n",
      "Recent rewards: [-0.15375934919134, -0.11513154523296762, -0.17622389485162004, -0.3628832396144871]\n"
     ]
    },
    {
     "name": "stderr",
     "output_type": "stream",
     "text": [
      "Training:  78%|███████▊  | 77603/100000 [1:10:36<22:00, 16.97it/s]"
     ]
    },
    {
     "name": "stdout",
     "output_type": "stream",
     "text": [
      "\n",
      "Episode 77600:\n",
      "Epsilon: 0.100\n",
      "Memory sizes: [20000, 20000, 20000, 20000]\n",
      "Recent rewards: [-0.16814228688801464, -0.07524309643171645, -0.30587467604334606, -0.5494163841897202]\n"
     ]
    },
    {
     "name": "stderr",
     "output_type": "stream",
     "text": [
      "Training:  78%|███████▊  | 77703/100000 [1:10:42<22:14, 16.71it/s]"
     ]
    },
    {
     "name": "stdout",
     "output_type": "stream",
     "text": [
      "\n",
      "Episode 77700:\n",
      "Epsilon: 0.100\n",
      "Memory sizes: [20000, 20000, 20000, 20000]\n",
      "Recent rewards: [-0.15111653817541423, -0.07561091200659023, -0.11346416778371614, -0.5329728293516109]\n"
     ]
    },
    {
     "name": "stderr",
     "output_type": "stream",
     "text": [
      "Training:  78%|███████▊  | 77803/100000 [1:10:48<22:00, 16.81it/s]"
     ]
    },
    {
     "name": "stdout",
     "output_type": "stream",
     "text": [
      "\n",
      "Episode 77800:\n",
      "Epsilon: 0.100\n",
      "Memory sizes: [20000, 20000, 20000, 20000]\n",
      "Recent rewards: [-0.16526290811323271, -0.14674050855824153, -0.15116063923160059, -0.5768938108575152]\n"
     ]
    },
    {
     "name": "stderr",
     "output_type": "stream",
     "text": [
      "Training:  78%|███████▊  | 77903/100000 [1:10:54<22:01, 16.72it/s]"
     ]
    },
    {
     "name": "stdout",
     "output_type": "stream",
     "text": [
      "\n",
      "Episode 77900:\n",
      "Epsilon: 0.100\n",
      "Memory sizes: [20000, 20000, 20000, 20000]\n",
      "Recent rewards: [-0.21688979261995806, -0.10340005306867686, -0.3058240283014142, -0.25656694975487077]\n"
     ]
    },
    {
     "name": "stderr",
     "output_type": "stream",
     "text": [
      "Training:  78%|███████▊  | 78003/100000 [1:11:00<23:45, 15.44it/s]"
     ]
    },
    {
     "name": "stdout",
     "output_type": "stream",
     "text": [
      "\n",
      "Episode 78000:\n",
      "Epsilon: 0.100\n",
      "Memory sizes: [20000, 20000, 20000, 20000]\n",
      "Recent rewards: [-0.025858834000018937, -0.07639566536856768, -0.3400687949291036, -0.5226147992174542]\n"
     ]
    },
    {
     "name": "stderr",
     "output_type": "stream",
     "text": [
      "Training:  78%|███████▊  | 78103/100000 [1:11:07<22:27, 16.25it/s]"
     ]
    },
    {
     "name": "stdout",
     "output_type": "stream",
     "text": [
      "\n",
      "Episode 78100:\n",
      "Epsilon: 0.100\n",
      "Memory sizes: [20000, 20000, 20000, 20000]\n",
      "Recent rewards: [-0.03339065402879992, -0.12488414139908287, -0.01925812381969789, -0.5486321524967663]\n"
     ]
    },
    {
     "name": "stderr",
     "output_type": "stream",
     "text": [
      "Training:  78%|███████▊  | 78203/100000 [1:11:13<23:03, 15.75it/s]"
     ]
    },
    {
     "name": "stdout",
     "output_type": "stream",
     "text": [
      "\n",
      "Episode 78200:\n",
      "Epsilon: 0.100\n",
      "Memory sizes: [20000, 20000, 20000, 20000]\n",
      "Recent rewards: [0.0061457414879832915, -0.03307953538586111, -0.3427849862338438, -0.4141186885752772]\n"
     ]
    },
    {
     "name": "stderr",
     "output_type": "stream",
     "text": [
      "Training:  78%|███████▊  | 78303/100000 [1:11:19<23:07, 15.64it/s]"
     ]
    },
    {
     "name": "stdout",
     "output_type": "stream",
     "text": [
      "\n",
      "Episode 78300:\n",
      "Epsilon: 0.100\n",
      "Memory sizes: [20000, 20000, 20000, 20000]\n",
      "Recent rewards: [-0.1706138278550929, -0.10942433380962868, -0.2463966592468332, -0.29562437785352086]\n"
     ]
    },
    {
     "name": "stderr",
     "output_type": "stream",
     "text": [
      "Training:  78%|███████▊  | 78403/100000 [1:11:25<21:31, 16.72it/s]"
     ]
    },
    {
     "name": "stdout",
     "output_type": "stream",
     "text": [
      "\n",
      "Episode 78400:\n",
      "Epsilon: 0.100\n",
      "Memory sizes: [20000, 20000, 20000, 20000]\n",
      "Recent rewards: [-0.10994350559128956, -0.10596265105794309, -0.5033907927666812, -0.35100339992513774]\n"
     ]
    },
    {
     "name": "stderr",
     "output_type": "stream",
     "text": [
      "Training:  79%|███████▊  | 78503/100000 [1:11:31<21:30, 16.65it/s]"
     ]
    },
    {
     "name": "stdout",
     "output_type": "stream",
     "text": [
      "\n",
      "Episode 78500:\n",
      "Epsilon: 0.100\n",
      "Memory sizes: [20000, 20000, 20000, 20000]\n",
      "Recent rewards: [-0.07562014016889233, -0.08806942209507626, -0.32325464710492324, -0.338853459878718]\n"
     ]
    },
    {
     "name": "stderr",
     "output_type": "stream",
     "text": [
      "Training:  79%|███████▊  | 78603/100000 [1:11:38<22:21, 15.95it/s]"
     ]
    },
    {
     "name": "stdout",
     "output_type": "stream",
     "text": [
      "\n",
      "Episode 78600:\n",
      "Epsilon: 0.100\n",
      "Memory sizes: [20000, 20000, 20000, 20000]\n",
      "Recent rewards: [-0.1088623283186811, -0.09589547760054618, -0.39957028784880544, -0.30513917775917127]\n"
     ]
    },
    {
     "name": "stderr",
     "output_type": "stream",
     "text": [
      "Training:  79%|███████▊  | 78703/100000 [1:11:44<21:52, 16.22it/s]"
     ]
    },
    {
     "name": "stdout",
     "output_type": "stream",
     "text": [
      "\n",
      "Episode 78700:\n",
      "Epsilon: 0.100\n",
      "Memory sizes: [20000, 20000, 20000, 20000]\n",
      "Recent rewards: [0.054114450916195676, -0.0037177359137910383, -0.38951856731246987, -0.36762542635455203]\n"
     ]
    },
    {
     "name": "stderr",
     "output_type": "stream",
     "text": [
      "Training:  79%|███████▉  | 78803/100000 [1:11:50<21:03, 16.78it/s]"
     ]
    },
    {
     "name": "stdout",
     "output_type": "stream",
     "text": [
      "\n",
      "Episode 78800:\n",
      "Epsilon: 0.100\n",
      "Memory sizes: [20000, 20000, 20000, 20000]\n",
      "Recent rewards: [-0.14547725832460892, -0.14376655731277466, -0.22540946699780467, -0.3633891766893244]\n"
     ]
    },
    {
     "name": "stderr",
     "output_type": "stream",
     "text": [
      "Training:  79%|███████▉  | 78903/100000 [1:11:56<20:02, 17.55it/s]"
     ]
    },
    {
     "name": "stdout",
     "output_type": "stream",
     "text": [
      "\n",
      "Episode 78900:\n",
      "Epsilon: 0.100\n",
      "Memory sizes: [20000, 20000, 20000, 20000]\n",
      "Recent rewards: [-0.10016157802940966, -0.12324047802744664, -0.20943086970660174, -0.31299277154984095]\n"
     ]
    },
    {
     "name": "stderr",
     "output_type": "stream",
     "text": [
      "Training:  79%|███████▉  | 79003/100000 [1:12:02<20:25, 17.13it/s]"
     ]
    },
    {
     "name": "stdout",
     "output_type": "stream",
     "text": [
      "\n",
      "Episode 79000:\n",
      "Epsilon: 0.100\n",
      "Memory sizes: [20000, 20000, 20000, 20000]\n",
      "Recent rewards: [-0.16667324647178325, -0.05649234321316444, -0.2223948351413502, -0.3619077585004647]\n"
     ]
    },
    {
     "name": "stderr",
     "output_type": "stream",
     "text": [
      "Training:  79%|███████▉  | 79103/100000 [1:12:08<20:43, 16.80it/s]"
     ]
    },
    {
     "name": "stdout",
     "output_type": "stream",
     "text": [
      "\n",
      "Episode 79100:\n",
      "Epsilon: 0.100\n",
      "Memory sizes: [20000, 20000, 20000, 20000]\n",
      "Recent rewards: [-0.018401488148269737, -0.04755348131232986, -0.275098773378756, -0.39293481059128843]\n"
     ]
    },
    {
     "name": "stderr",
     "output_type": "stream",
     "text": [
      "Training:  79%|███████▉  | 79203/100000 [1:12:14<20:42, 16.73it/s]"
     ]
    },
    {
     "name": "stdout",
     "output_type": "stream",
     "text": [
      "\n",
      "Episode 79200:\n",
      "Epsilon: 0.100\n",
      "Memory sizes: [20000, 20000, 20000, 20000]\n",
      "Recent rewards: [0.09385395459802334, -0.0912383477790246, -0.28230303719547006, -0.4479942798980818]\n"
     ]
    },
    {
     "name": "stderr",
     "output_type": "stream",
     "text": [
      "Training:  79%|███████▉  | 79303/100000 [1:12:20<19:47, 17.42it/s]"
     ]
    },
    {
     "name": "stdout",
     "output_type": "stream",
     "text": [
      "\n",
      "Episode 79300:\n",
      "Epsilon: 0.100\n",
      "Memory sizes: [20000, 20000, 20000, 20000]\n",
      "Recent rewards: [-0.14533043412377214, -0.1048642581374357, -0.2703013018137825, -0.20515823468612682]\n"
     ]
    },
    {
     "name": "stderr",
     "output_type": "stream",
     "text": [
      "Training:  79%|███████▉  | 79403/100000 [1:12:26<21:35, 15.90it/s]"
     ]
    },
    {
     "name": "stdout",
     "output_type": "stream",
     "text": [
      "\n",
      "Episode 79400:\n",
      "Epsilon: 0.100\n",
      "Memory sizes: [20000, 20000, 20000, 20000]\n",
      "Recent rewards: [-0.12793649344727576, -0.07383359449993104, -0.37357999034135486, -0.1946949950100751]\n"
     ]
    },
    {
     "name": "stderr",
     "output_type": "stream",
     "text": [
      "Training:  80%|███████▉  | 79503/100000 [1:12:33<22:25, 15.24it/s]"
     ]
    },
    {
     "name": "stdout",
     "output_type": "stream",
     "text": [
      "\n",
      "Episode 79500:\n",
      "Epsilon: 0.100\n",
      "Memory sizes: [20000, 20000, 20000, 20000]\n",
      "Recent rewards: [-0.07453420082334336, -0.04998851471780028, -0.19450732564984535, -0.36380604720544674]\n"
     ]
    },
    {
     "name": "stderr",
     "output_type": "stream",
     "text": [
      "Training:  80%|███████▉  | 79603/100000 [1:12:39<20:50, 16.32it/s]"
     ]
    },
    {
     "name": "stdout",
     "output_type": "stream",
     "text": [
      "\n",
      "Episode 79600:\n",
      "Epsilon: 0.100\n",
      "Memory sizes: [20000, 20000, 20000, 20000]\n",
      "Recent rewards: [0.015622639638413559, -0.1328771914410124, -0.34780727189452354, -0.4876855617340252]\n"
     ]
    },
    {
     "name": "stderr",
     "output_type": "stream",
     "text": [
      "Training:  80%|███████▉  | 79703/100000 [1:12:45<19:34, 17.28it/s]"
     ]
    },
    {
     "name": "stdout",
     "output_type": "stream",
     "text": [
      "\n",
      "Episode 79700:\n",
      "Epsilon: 0.100\n",
      "Memory sizes: [20000, 20000, 20000, 20000]\n",
      "Recent rewards: [-0.18192132258821128, -0.0302346862893676, -0.15973862969648234, -0.3980596710599575]\n"
     ]
    },
    {
     "name": "stderr",
     "output_type": "stream",
     "text": [
      "Training:  80%|███████▉  | 79803/100000 [1:12:51<20:08, 16.71it/s]"
     ]
    },
    {
     "name": "stdout",
     "output_type": "stream",
     "text": [
      "\n",
      "Episode 79800:\n",
      "Epsilon: 0.100\n",
      "Memory sizes: [20000, 20000, 20000, 20000]\n",
      "Recent rewards: [0.15905288572152876, -0.037418825681926456, -0.3664955063389025, -0.4862212247749554]\n"
     ]
    },
    {
     "name": "stderr",
     "output_type": "stream",
     "text": [
      "Training:  80%|███████▉  | 79903/100000 [1:12:57<19:35, 17.10it/s]"
     ]
    },
    {
     "name": "stdout",
     "output_type": "stream",
     "text": [
      "\n",
      "Episode 79900:\n",
      "Epsilon: 0.100\n",
      "Memory sizes: [20000, 20000, 20000, 20000]\n",
      "Recent rewards: [0.07886251435832034, -0.0393438218669785, -0.4238603711735719, -0.3764832005578218]\n"
     ]
    },
    {
     "name": "stderr",
     "output_type": "stream",
     "text": [
      "Training:  80%|████████  | 80003/100000 [1:13:03<19:59, 16.67it/s]"
     ]
    },
    {
     "name": "stdout",
     "output_type": "stream",
     "text": [
      "\n",
      "Episode 80000:\n",
      "Epsilon: 0.100\n",
      "Memory sizes: [20000, 20000, 20000, 20000]\n",
      "Recent rewards: [-0.07487170888337075, -0.06460201280476227, -0.24989529788520254, -0.2725113943835363]\n",
      "Checkpoint saved at episode 80000\n"
     ]
    },
    {
     "name": "stderr",
     "output_type": "stream",
     "text": [
      "Training:  80%|████████  | 80103/100000 [1:13:08<19:45, 16.79it/s]"
     ]
    },
    {
     "name": "stdout",
     "output_type": "stream",
     "text": [
      "\n",
      "Episode 80100:\n",
      "Epsilon: 0.100\n",
      "Memory sizes: [20000, 20000, 20000, 20000]\n",
      "Recent rewards: [0.0511765984978242, -0.0392461715726001, -0.3781947293953273, -0.3767583945709195]\n"
     ]
    },
    {
     "name": "stderr",
     "output_type": "stream",
     "text": [
      "Training:  80%|████████  | 80203/100000 [1:13:15<19:39, 16.78it/s]"
     ]
    },
    {
     "name": "stdout",
     "output_type": "stream",
     "text": [
      "\n",
      "Episode 80200:\n",
      "Epsilon: 0.100\n",
      "Memory sizes: [20000, 20000, 20000, 20000]\n",
      "Recent rewards: [-0.0323368971660351, -0.07223668306137218, -0.4283757206100347, -0.2206611859952153]\n"
     ]
    },
    {
     "name": "stderr",
     "output_type": "stream",
     "text": [
      "Training:  80%|████████  | 80303/100000 [1:13:20<18:30, 17.74it/s]"
     ]
    },
    {
     "name": "stdout",
     "output_type": "stream",
     "text": [
      "\n",
      "Episode 80300:\n",
      "Epsilon: 0.100\n",
      "Memory sizes: [20000, 20000, 20000, 20000]\n",
      "Recent rewards: [-0.08351526668493203, 0.03170652563780995, -0.30692891055997146, -0.33975735857973804]\n"
     ]
    },
    {
     "name": "stderr",
     "output_type": "stream",
     "text": [
      "Training:  80%|████████  | 80403/100000 [1:13:27<23:02, 14.18it/s]"
     ]
    },
    {
     "name": "stdout",
     "output_type": "stream",
     "text": [
      "\n",
      "Episode 80400:\n",
      "Epsilon: 0.100\n",
      "Memory sizes: [20000, 20000, 20000, 20000]\n",
      "Recent rewards: [-0.22882474660438276, -0.08572646087561911, -0.26951095536215997, -0.3410593303316346]\n"
     ]
    },
    {
     "name": "stderr",
     "output_type": "stream",
     "text": [
      "Training:  81%|████████  | 80503/100000 [1:13:32<18:31, 17.55it/s]"
     ]
    },
    {
     "name": "stdout",
     "output_type": "stream",
     "text": [
      "\n",
      "Episode 80500:\n",
      "Epsilon: 0.100\n",
      "Memory sizes: [20000, 20000, 20000, 20000]\n",
      "Recent rewards: [-0.13899672767776874, -0.07805728556765892, -0.2930942386709267, -0.43666776845150634]\n"
     ]
    },
    {
     "name": "stderr",
     "output_type": "stream",
     "text": [
      "Training:  81%|████████  | 80603/100000 [1:13:38<18:11, 17.77it/s]"
     ]
    },
    {
     "name": "stdout",
     "output_type": "stream",
     "text": [
      "\n",
      "Episode 80600:\n",
      "Epsilon: 0.100\n",
      "Memory sizes: [20000, 20000, 20000, 20000]\n",
      "Recent rewards: [-0.04743114430531384, -0.11373466963483678, -0.23329867748045163, -0.49653108138841007]\n"
     ]
    },
    {
     "name": "stderr",
     "output_type": "stream",
     "text": [
      "Training:  81%|████████  | 80703/100000 [1:13:44<20:14, 15.88it/s]"
     ]
    },
    {
     "name": "stdout",
     "output_type": "stream",
     "text": [
      "\n",
      "Episode 80700:\n",
      "Epsilon: 0.100\n",
      "Memory sizes: [20000, 20000, 20000, 20000]\n",
      "Recent rewards: [-0.20423226115467416, -0.08554035473457365, -0.2753532660196198, -0.3129644841712304]\n"
     ]
    },
    {
     "name": "stderr",
     "output_type": "stream",
     "text": [
      "Training:  81%|████████  | 80803/100000 [1:13:50<19:09, 16.70it/s]"
     ]
    },
    {
     "name": "stdout",
     "output_type": "stream",
     "text": [
      "\n",
      "Episode 80800:\n",
      "Epsilon: 0.100\n",
      "Memory sizes: [20000, 20000, 20000, 20000]\n",
      "Recent rewards: [-0.02519489249353918, -0.01662534092951888, -0.18167521546937324, -0.3707044129071224]\n"
     ]
    },
    {
     "name": "stderr",
     "output_type": "stream",
     "text": [
      "Training:  81%|████████  | 80903/100000 [1:13:56<19:18, 16.49it/s]"
     ]
    },
    {
     "name": "stdout",
     "output_type": "stream",
     "text": [
      "\n",
      "Episode 80900:\n",
      "Epsilon: 0.100\n",
      "Memory sizes: [20000, 20000, 20000, 20000]\n",
      "Recent rewards: [-0.26090894350897303, -0.02417916141477029, -0.04354733739202434, -0.3106673252347679]\n"
     ]
    },
    {
     "name": "stderr",
     "output_type": "stream",
     "text": [
      "Training:  81%|████████  | 81003/100000 [1:14:03<18:44, 16.90it/s]"
     ]
    },
    {
     "name": "stdout",
     "output_type": "stream",
     "text": [
      "\n",
      "Episode 81000:\n",
      "Epsilon: 0.100\n",
      "Memory sizes: [20000, 20000, 20000, 20000]\n",
      "Recent rewards: [-0.055046560211964767, -0.04894421030882861, -0.2733695000127075, -0.3714788132612384]\n"
     ]
    },
    {
     "name": "stderr",
     "output_type": "stream",
     "text": [
      "Training:  81%|████████  | 81103/100000 [1:14:09<19:23, 16.24it/s]"
     ]
    },
    {
     "name": "stdout",
     "output_type": "stream",
     "text": [
      "\n",
      "Episode 81100:\n",
      "Epsilon: 0.100\n",
      "Memory sizes: [20000, 20000, 20000, 20000]\n",
      "Recent rewards: [-0.05170474310713869, -0.12533391289853385, -0.26996486215841475, -0.4980660233769101]\n"
     ]
    },
    {
     "name": "stderr",
     "output_type": "stream",
     "text": [
      "Training:  81%|████████  | 81203/100000 [1:14:15<19:40, 15.92it/s]"
     ]
    },
    {
     "name": "stdout",
     "output_type": "stream",
     "text": [
      "\n",
      "Episode 81200:\n",
      "Epsilon: 0.100\n",
      "Memory sizes: [20000, 20000, 20000, 20000]\n",
      "Recent rewards: [-0.16560444587395004, -0.07552952118289098, -0.34421201706080745, -0.28326525946339987]\n"
     ]
    },
    {
     "name": "stderr",
     "output_type": "stream",
     "text": [
      "Training:  81%|████████▏ | 81303/100000 [1:14:21<18:24, 16.92it/s]"
     ]
    },
    {
     "name": "stdout",
     "output_type": "stream",
     "text": [
      "\n",
      "Episode 81300:\n",
      "Epsilon: 0.100\n",
      "Memory sizes: [20000, 20000, 20000, 20000]\n",
      "Recent rewards: [-0.10601702035983093, -0.16312651034761372, -0.23658856441303247, -0.5634603725095775]\n"
     ]
    },
    {
     "name": "stderr",
     "output_type": "stream",
     "text": [
      "Training:  81%|████████▏ | 81403/100000 [1:14:27<17:25, 17.79it/s]"
     ]
    },
    {
     "name": "stdout",
     "output_type": "stream",
     "text": [
      "\n",
      "Episode 81400:\n",
      "Epsilon: 0.100\n",
      "Memory sizes: [20000, 20000, 20000, 20000]\n",
      "Recent rewards: [-0.21266321112538825, -0.04152860012781183, -0.48933546313108783, -0.21906601785473007]\n"
     ]
    },
    {
     "name": "stderr",
     "output_type": "stream",
     "text": [
      "Training:  82%|████████▏ | 81503/100000 [1:14:33<18:13, 16.91it/s]"
     ]
    },
    {
     "name": "stdout",
     "output_type": "stream",
     "text": [
      "\n",
      "Episode 81500:\n",
      "Epsilon: 0.100\n",
      "Memory sizes: [20000, 20000, 20000, 20000]\n",
      "Recent rewards: [0.001501972583858694, -0.12820085942329223, -0.2761622558204352, -0.3957592596231582]\n"
     ]
    },
    {
     "name": "stderr",
     "output_type": "stream",
     "text": [
      "Training:  82%|████████▏ | 81603/100000 [1:14:39<18:08, 16.91it/s]"
     ]
    },
    {
     "name": "stdout",
     "output_type": "stream",
     "text": [
      "\n",
      "Episode 81600:\n",
      "Epsilon: 0.100\n",
      "Memory sizes: [20000, 20000, 20000, 20000]\n",
      "Recent rewards: [-0.016325463930414248, -0.01366499113544939, -0.3265385800431778, -0.38980951286673604]\n"
     ]
    },
    {
     "name": "stderr",
     "output_type": "stream",
     "text": [
      "Training:  82%|████████▏ | 81703/100000 [1:14:45<18:15, 16.71it/s]"
     ]
    },
    {
     "name": "stdout",
     "output_type": "stream",
     "text": [
      "\n",
      "Episode 81700:\n",
      "Epsilon: 0.100\n",
      "Memory sizes: [20000, 20000, 20000, 20000]\n",
      "Recent rewards: [-0.1644646440403549, -0.04514677623036094, -0.32609037646552713, -0.35686114066506247]\n"
     ]
    },
    {
     "name": "stderr",
     "output_type": "stream",
     "text": [
      "Training:  82%|████████▏ | 81803/100000 [1:14:51<17:18, 17.52it/s]"
     ]
    },
    {
     "name": "stdout",
     "output_type": "stream",
     "text": [
      "\n",
      "Episode 81800:\n",
      "Epsilon: 0.100\n",
      "Memory sizes: [20000, 20000, 20000, 20000]\n",
      "Recent rewards: [-0.15789365663462548, -0.08384984942441338, -0.3045868316191401, -0.22947260387939006]\n"
     ]
    },
    {
     "name": "stderr",
     "output_type": "stream",
     "text": [
      "Training:  82%|████████▏ | 81903/100000 [1:14:57<17:51, 16.89it/s]"
     ]
    },
    {
     "name": "stdout",
     "output_type": "stream",
     "text": [
      "\n",
      "Episode 81900:\n",
      "Epsilon: 0.100\n",
      "Memory sizes: [20000, 20000, 20000, 20000]\n",
      "Recent rewards: [0.09990931579546458, 0.01926148528222251, -0.29593008647891705, -0.36615582348821846]\n"
     ]
    },
    {
     "name": "stderr",
     "output_type": "stream",
     "text": [
      "Training:  82%|████████▏ | 82003/100000 [1:15:03<17:57, 16.71it/s]"
     ]
    },
    {
     "name": "stdout",
     "output_type": "stream",
     "text": [
      "\n",
      "Episode 82000:\n",
      "Epsilon: 0.100\n",
      "Memory sizes: [20000, 20000, 20000, 20000]\n",
      "Recent rewards: [-0.07123161012559354, -0.054220291546313894, -0.27507100259866235, -0.3250790850809527]\n"
     ]
    },
    {
     "name": "stderr",
     "output_type": "stream",
     "text": [
      "Training:  82%|████████▏ | 82103/100000 [1:15:09<17:30, 17.03it/s]"
     ]
    },
    {
     "name": "stdout",
     "output_type": "stream",
     "text": [
      "\n",
      "Episode 82100:\n",
      "Epsilon: 0.100\n",
      "Memory sizes: [20000, 20000, 20000, 20000]\n",
      "Recent rewards: [-0.08127160168323481, -0.13895013365650968, -0.28534526368203894, -0.4257913365180309]\n"
     ]
    },
    {
     "name": "stderr",
     "output_type": "stream",
     "text": [
      "Training:  82%|████████▏ | 82203/100000 [1:15:16<18:26, 16.08it/s]"
     ]
    },
    {
     "name": "stdout",
     "output_type": "stream",
     "text": [
      "\n",
      "Episode 82200:\n",
      "Epsilon: 0.100\n",
      "Memory sizes: [20000, 20000, 20000, 20000]\n",
      "Recent rewards: [-0.17882924146550924, -0.2494186592902121, -0.2055725452683469, -0.38459745810837453]\n"
     ]
    },
    {
     "name": "stderr",
     "output_type": "stream",
     "text": [
      "Training:  82%|████████▏ | 82303/100000 [1:15:22<17:29, 16.86it/s]"
     ]
    },
    {
     "name": "stdout",
     "output_type": "stream",
     "text": [
      "\n",
      "Episode 82300:\n",
      "Epsilon: 0.100\n",
      "Memory sizes: [20000, 20000, 20000, 20000]\n",
      "Recent rewards: [0.035305836074489436, -0.11921016894759275, -0.2866047725604233, -0.39180471258774086]\n"
     ]
    },
    {
     "name": "stderr",
     "output_type": "stream",
     "text": [
      "Training:  82%|████████▏ | 82403/100000 [1:15:28<16:56, 17.30it/s]"
     ]
    },
    {
     "name": "stdout",
     "output_type": "stream",
     "text": [
      "\n",
      "Episode 82400:\n",
      "Epsilon: 0.100\n",
      "Memory sizes: [20000, 20000, 20000, 20000]\n",
      "Recent rewards: [-0.04906699211060511, -0.014138573594968397, -0.42747293775610484, -0.40955715299134554]\n"
     ]
    },
    {
     "name": "stderr",
     "output_type": "stream",
     "text": [
      "Training:  83%|████████▎ | 82503/100000 [1:15:34<17:00, 17.14it/s]"
     ]
    },
    {
     "name": "stdout",
     "output_type": "stream",
     "text": [
      "\n",
      "Episode 82500:\n",
      "Epsilon: 0.100\n",
      "Memory sizes: [20000, 20000, 20000, 20000]\n",
      "Recent rewards: [0.01973496797342813, -0.12416643834648841, -0.27451922375331317, -0.2018227225439518]\n"
     ]
    },
    {
     "name": "stderr",
     "output_type": "stream",
     "text": [
      "Training:  83%|████████▎ | 82603/100000 [1:15:40<17:03, 16.99it/s]"
     ]
    },
    {
     "name": "stdout",
     "output_type": "stream",
     "text": [
      "\n",
      "Episode 82600:\n",
      "Epsilon: 0.100\n",
      "Memory sizes: [20000, 20000, 20000, 20000]\n",
      "Recent rewards: [-0.15885433959938355, -0.02749233299367047, -0.3428682554962238, -0.323434239245695]\n"
     ]
    },
    {
     "name": "stderr",
     "output_type": "stream",
     "text": [
      "Training:  83%|████████▎ | 82703/100000 [1:15:45<16:26, 17.54it/s]"
     ]
    },
    {
     "name": "stdout",
     "output_type": "stream",
     "text": [
      "\n",
      "Episode 82700:\n",
      "Epsilon: 0.100\n",
      "Memory sizes: [20000, 20000, 20000, 20000]\n",
      "Recent rewards: [-0.11912509430235244, -0.05647413664566548, -0.3104007121749719, -0.5057473188455062]\n"
     ]
    },
    {
     "name": "stderr",
     "output_type": "stream",
     "text": [
      "Training:  83%|████████▎ | 82803/100000 [1:15:51<16:47, 17.07it/s]"
     ]
    },
    {
     "name": "stdout",
     "output_type": "stream",
     "text": [
      "\n",
      "Episode 82800:\n",
      "Epsilon: 0.100\n",
      "Memory sizes: [20000, 20000, 20000, 20000]\n",
      "Recent rewards: [-0.05127085689416949, -0.04539538656912146, -0.3168750392575954, -0.3718890072602957]\n"
     ]
    },
    {
     "name": "stderr",
     "output_type": "stream",
     "text": [
      "Training:  83%|████████▎ | 82903/100000 [1:15:57<17:05, 16.66it/s]"
     ]
    },
    {
     "name": "stdout",
     "output_type": "stream",
     "text": [
      "\n",
      "Episode 82900:\n",
      "Epsilon: 0.100\n",
      "Memory sizes: [20000, 20000, 20000, 20000]\n",
      "Recent rewards: [-0.09317798055146632, -0.09801276721149811, -0.3976714256563455, -0.4523492378356932]\n"
     ]
    },
    {
     "name": "stderr",
     "output_type": "stream",
     "text": [
      "Training:  83%|████████▎ | 83003/100000 [1:16:03<17:36, 16.10it/s]"
     ]
    },
    {
     "name": "stdout",
     "output_type": "stream",
     "text": [
      "\n",
      "Episode 83000:\n",
      "Epsilon: 0.100\n",
      "Memory sizes: [20000, 20000, 20000, 20000]\n",
      "Recent rewards: [0.039652619528566684, -0.1044605461331052, -0.3964787541059133, -0.36559227672806976]\n"
     ]
    },
    {
     "name": "stderr",
     "output_type": "stream",
     "text": [
      "Training:  83%|████████▎ | 83103/100000 [1:16:10<16:56, 16.63it/s]"
     ]
    },
    {
     "name": "stdout",
     "output_type": "stream",
     "text": [
      "\n",
      "Episode 83100:\n",
      "Epsilon: 0.100\n",
      "Memory sizes: [20000, 20000, 20000, 20000]\n",
      "Recent rewards: [-0.3070609812473089, 0.01876436386089698, -0.3283534814222744, -0.3713204652676548]\n"
     ]
    },
    {
     "name": "stderr",
     "output_type": "stream",
     "text": [
      "Training:  83%|████████▎ | 83203/100000 [1:16:16<16:29, 16.97it/s]"
     ]
    },
    {
     "name": "stdout",
     "output_type": "stream",
     "text": [
      "\n",
      "Episode 83200:\n",
      "Epsilon: 0.100\n",
      "Memory sizes: [20000, 20000, 20000, 20000]\n",
      "Recent rewards: [-0.106142384883557, -0.06106224724799203, -0.26612354429591056, -0.39572154435449813]\n"
     ]
    },
    {
     "name": "stderr",
     "output_type": "stream",
     "text": [
      "Training:  83%|████████▎ | 83303/100000 [1:16:23<17:44, 15.69it/s]"
     ]
    },
    {
     "name": "stdout",
     "output_type": "stream",
     "text": [
      "\n",
      "Episode 83300:\n",
      "Epsilon: 0.100\n",
      "Memory sizes: [20000, 20000, 20000, 20000]\n",
      "Recent rewards: [-0.13958434338955394, -0.12007065878715036, -0.34664339759068824, -0.412401411680865]\n"
     ]
    },
    {
     "name": "stderr",
     "output_type": "stream",
     "text": [
      "Training:  83%|████████▎ | 83403/100000 [1:16:29<16:16, 16.99it/s]"
     ]
    },
    {
     "name": "stdout",
     "output_type": "stream",
     "text": [
      "\n",
      "Episode 83400:\n",
      "Epsilon: 0.100\n",
      "Memory sizes: [20000, 20000, 20000, 20000]\n",
      "Recent rewards: [0.022546661545329715, -0.052118292997390674, -0.32662472747119486, -0.4631138177416577]\n"
     ]
    },
    {
     "name": "stderr",
     "output_type": "stream",
     "text": [
      "Training:  84%|████████▎ | 83503/100000 [1:16:35<18:50, 14.59it/s]"
     ]
    },
    {
     "name": "stdout",
     "output_type": "stream",
     "text": [
      "\n",
      "Episode 83500:\n",
      "Epsilon: 0.100\n",
      "Memory sizes: [20000, 20000, 20000, 20000]\n",
      "Recent rewards: [-0.1183314849770626, -0.1268996835418281, -0.21976514515566892, -0.4513302179887551]\n"
     ]
    },
    {
     "name": "stderr",
     "output_type": "stream",
     "text": [
      "Training:  84%|████████▎ | 83603/100000 [1:16:41<16:06, 16.97it/s]"
     ]
    },
    {
     "name": "stdout",
     "output_type": "stream",
     "text": [
      "\n",
      "Episode 83600:\n",
      "Epsilon: 0.100\n",
      "Memory sizes: [20000, 20000, 20000, 20000]\n",
      "Recent rewards: [-0.14676762915437047, -0.039692969524522045, -0.275395882769734, -0.43157093995265194]\n"
     ]
    },
    {
     "name": "stderr",
     "output_type": "stream",
     "text": [
      "Training:  84%|████████▎ | 83703/100000 [1:16:47<15:37, 17.39it/s]"
     ]
    },
    {
     "name": "stdout",
     "output_type": "stream",
     "text": [
      "\n",
      "Episode 83700:\n",
      "Epsilon: 0.100\n",
      "Memory sizes: [20000, 20000, 20000, 20000]\n",
      "Recent rewards: [-0.1283746544286806, -0.021734686290400384, -0.1675397052497629, -0.42285046433163215]\n"
     ]
    },
    {
     "name": "stderr",
     "output_type": "stream",
     "text": [
      "Training:  84%|████████▍ | 83803/100000 [1:16:52<15:20, 17.59it/s]"
     ]
    },
    {
     "name": "stdout",
     "output_type": "stream",
     "text": [
      "\n",
      "Episode 83800:\n",
      "Epsilon: 0.100\n",
      "Memory sizes: [20000, 20000, 20000, 20000]\n",
      "Recent rewards: [-0.018605500761289032, -0.08354964325482843, -0.434049377319954, -0.3640499806220233]\n"
     ]
    },
    {
     "name": "stderr",
     "output_type": "stream",
     "text": [
      "Training:  84%|████████▍ | 83904/100000 [1:17:00<15:26, 17.36it/s]"
     ]
    },
    {
     "name": "stdout",
     "output_type": "stream",
     "text": [
      "\n",
      "Episode 83900:\n",
      "Epsilon: 0.100\n",
      "Memory sizes: [20000, 20000, 20000, 20000]\n",
      "Recent rewards: [-0.12016283308584193, -0.09266279810805841, -0.29176256417594365, -0.43390877569493846]\n"
     ]
    },
    {
     "name": "stderr",
     "output_type": "stream",
     "text": [
      "Training:  84%|████████▍ | 84004/100000 [1:17:06<15:02, 17.72it/s]"
     ]
    },
    {
     "name": "stdout",
     "output_type": "stream",
     "text": [
      "\n",
      "Episode 84000:\n",
      "Epsilon: 0.100\n",
      "Memory sizes: [20000, 20000, 20000, 20000]\n",
      "Recent rewards: [-0.1353046514673442, 0.01879359727064754, -0.24490499141251462, -0.40415921061783033]\n"
     ]
    },
    {
     "name": "stderr",
     "output_type": "stream",
     "text": [
      "Training:  84%|████████▍ | 84104/100000 [1:17:11<14:07, 18.76it/s]"
     ]
    },
    {
     "name": "stdout",
     "output_type": "stream",
     "text": [
      "\n",
      "Episode 84100:\n",
      "Epsilon: 0.100\n",
      "Memory sizes: [20000, 20000, 20000, 20000]\n",
      "Recent rewards: [-0.06914240159622333, -0.17570060361544942, -0.029444890430220173, -0.44446168649351514]\n"
     ]
    },
    {
     "name": "stderr",
     "output_type": "stream",
     "text": [
      "Training:  84%|████████▍ | 84204/100000 [1:17:17<15:08, 17.39it/s]"
     ]
    },
    {
     "name": "stdout",
     "output_type": "stream",
     "text": [
      "\n",
      "Episode 84200:\n",
      "Epsilon: 0.100\n",
      "Memory sizes: [20000, 20000, 20000, 20000]\n",
      "Recent rewards: [-0.07419900319157745, -0.09988692692380735, -0.13238086259314685, -0.3983614250403945]\n"
     ]
    },
    {
     "name": "stderr",
     "output_type": "stream",
     "text": [
      "Training:  84%|████████▍ | 84304/100000 [1:17:23<14:23, 18.17it/s]"
     ]
    },
    {
     "name": "stdout",
     "output_type": "stream",
     "text": [
      "\n",
      "Episode 84300:\n",
      "Epsilon: 0.100\n",
      "Memory sizes: [20000, 20000, 20000, 20000]\n",
      "Recent rewards: [-0.2270830282753803, -0.10551766986250552, -0.04396835787717128, -0.4269639555764484]\n"
     ]
    },
    {
     "name": "stderr",
     "output_type": "stream",
     "text": [
      "Training:  84%|████████▍ | 84404/100000 [1:17:28<14:37, 17.78it/s]"
     ]
    },
    {
     "name": "stdout",
     "output_type": "stream",
     "text": [
      "\n",
      "Episode 84400:\n",
      "Epsilon: 0.100\n",
      "Memory sizes: [20000, 20000, 20000, 20000]\n",
      "Recent rewards: [-0.19239288437624083, -0.062357971765799054, -0.1821374891936216, -0.43190553701817636]\n"
     ]
    },
    {
     "name": "stderr",
     "output_type": "stream",
     "text": [
      "Training:  85%|████████▍ | 84504/100000 [1:17:34<15:05, 17.12it/s]"
     ]
    },
    {
     "name": "stdout",
     "output_type": "stream",
     "text": [
      "\n",
      "Episode 84500:\n",
      "Epsilon: 0.100\n",
      "Memory sizes: [20000, 20000, 20000, 20000]\n",
      "Recent rewards: [-0.11227744676649212, -0.013407111963482375, -0.3290100853011337, -0.39587998348972425]\n"
     ]
    },
    {
     "name": "stderr",
     "output_type": "stream",
     "text": [
      "Training:  85%|████████▍ | 84604/100000 [1:17:40<15:12, 16.87it/s]"
     ]
    },
    {
     "name": "stdout",
     "output_type": "stream",
     "text": [
      "\n",
      "Episode 84600:\n",
      "Epsilon: 0.100\n",
      "Memory sizes: [20000, 20000, 20000, 20000]\n",
      "Recent rewards: [-0.22691448965421857, -0.06536733940941511, -0.2703202996257843, -0.3670594197636602]\n"
     ]
    },
    {
     "name": "stderr",
     "output_type": "stream",
     "text": [
      "Training:  85%|████████▍ | 84704/100000 [1:17:46<15:05, 16.90it/s]"
     ]
    },
    {
     "name": "stdout",
     "output_type": "stream",
     "text": [
      "\n",
      "Episode 84700:\n",
      "Epsilon: 0.100\n",
      "Memory sizes: [20000, 20000, 20000, 20000]\n",
      "Recent rewards: [-0.191752661326288, -0.0886309165609984, -0.1983789101014975, -0.3698615757738504]\n"
     ]
    },
    {
     "name": "stderr",
     "output_type": "stream",
     "text": [
      "Training:  85%|████████▍ | 84804/100000 [1:17:52<14:22, 17.62it/s]"
     ]
    },
    {
     "name": "stdout",
     "output_type": "stream",
     "text": [
      "\n",
      "Episode 84800:\n",
      "Epsilon: 0.100\n",
      "Memory sizes: [20000, 20000, 20000, 20000]\n",
      "Recent rewards: [-0.09815221539057127, -0.05525220305757389, -0.23036310006267338, -0.46655276067473034]\n"
     ]
    },
    {
     "name": "stderr",
     "output_type": "stream",
     "text": [
      "Training:  85%|████████▍ | 84904/100000 [1:17:58<15:18, 16.44it/s]"
     ]
    },
    {
     "name": "stdout",
     "output_type": "stream",
     "text": [
      "\n",
      "Episode 84900:\n",
      "Epsilon: 0.100\n",
      "Memory sizes: [20000, 20000, 20000, 20000]\n",
      "Recent rewards: [-0.2351861381278126, -0.11430062563164366, -0.20904264602166386, -0.3214595474486199]\n"
     ]
    },
    {
     "name": "stderr",
     "output_type": "stream",
     "text": [
      "Training:  85%|████████▌ | 85004/100000 [1:18:04<15:18, 16.32it/s]"
     ]
    },
    {
     "name": "stdout",
     "output_type": "stream",
     "text": [
      "\n",
      "Episode 85000:\n",
      "Epsilon: 0.100\n",
      "Memory sizes: [20000, 20000, 20000, 20000]\n",
      "Recent rewards: [-0.021292419672173726, -0.08043544596628235, -0.31169840680965205, -0.5239313719243991]\n"
     ]
    },
    {
     "name": "stderr",
     "output_type": "stream",
     "text": [
      "Training:  85%|████████▌ | 85104/100000 [1:18:10<15:54, 15.61it/s]"
     ]
    },
    {
     "name": "stdout",
     "output_type": "stream",
     "text": [
      "\n",
      "Episode 85100:\n",
      "Epsilon: 0.100\n",
      "Memory sizes: [20000, 20000, 20000, 20000]\n",
      "Recent rewards: [-0.2150593969650493, -0.06599593146044035, -0.12179219996106934, -0.4018511827961539]\n"
     ]
    },
    {
     "name": "stderr",
     "output_type": "stream",
     "text": [
      "Training:  85%|████████▌ | 85204/100000 [1:18:16<13:46, 17.90it/s]"
     ]
    },
    {
     "name": "stdout",
     "output_type": "stream",
     "text": [
      "\n",
      "Episode 85200:\n",
      "Epsilon: 0.100\n",
      "Memory sizes: [20000, 20000, 20000, 20000]\n",
      "Recent rewards: [-0.07939971787391693, -0.07116473090944073, -0.275119718669828, -0.46933789880009597]\n"
     ]
    },
    {
     "name": "stderr",
     "output_type": "stream",
     "text": [
      "Training:  85%|████████▌ | 85304/100000 [1:18:22<13:59, 17.51it/s]"
     ]
    },
    {
     "name": "stdout",
     "output_type": "stream",
     "text": [
      "\n",
      "Episode 85300:\n",
      "Epsilon: 0.100\n",
      "Memory sizes: [20000, 20000, 20000, 20000]\n",
      "Recent rewards: [-0.32986395554944037, -0.010035940390882275, -0.003558003791999287, -0.4781503769523316]\n"
     ]
    },
    {
     "name": "stderr",
     "output_type": "stream",
     "text": [
      "Training:  85%|████████▌ | 85404/100000 [1:18:28<15:06, 16.09it/s]"
     ]
    },
    {
     "name": "stdout",
     "output_type": "stream",
     "text": [
      "\n",
      "Episode 85400:\n",
      "Epsilon: 0.100\n",
      "Memory sizes: [20000, 20000, 20000, 20000]\n",
      "Recent rewards: [-0.20638351059724758, 0.01979126881517324, -0.08827224364998978, -0.4378997134644104]\n"
     ]
    },
    {
     "name": "stderr",
     "output_type": "stream",
     "text": [
      "Training:  86%|████████▌ | 85504/100000 [1:18:34<14:05, 17.15it/s]"
     ]
    },
    {
     "name": "stdout",
     "output_type": "stream",
     "text": [
      "\n",
      "Episode 85500:\n",
      "Epsilon: 0.100\n",
      "Memory sizes: [20000, 20000, 20000, 20000]\n",
      "Recent rewards: [0.03589031439446812, -0.1356061987512825, -0.19464028781410928, -0.28473705754973777]\n"
     ]
    },
    {
     "name": "stderr",
     "output_type": "stream",
     "text": [
      "Training:  86%|████████▌ | 85604/100000 [1:18:40<14:19, 16.74it/s]"
     ]
    },
    {
     "name": "stdout",
     "output_type": "stream",
     "text": [
      "\n",
      "Episode 85600:\n",
      "Epsilon: 0.100\n",
      "Memory sizes: [20000, 20000, 20000, 20000]\n",
      "Recent rewards: [-0.26883602297328174, -0.09062306034946072, -0.06406219930678399, -0.48916764070579755]\n"
     ]
    },
    {
     "name": "stderr",
     "output_type": "stream",
     "text": [
      "Training:  86%|████████▌ | 85704/100000 [1:18:46<14:36, 16.31it/s]"
     ]
    },
    {
     "name": "stdout",
     "output_type": "stream",
     "text": [
      "\n",
      "Episode 85700:\n",
      "Epsilon: 0.100\n",
      "Memory sizes: [20000, 20000, 20000, 20000]\n",
      "Recent rewards: [-0.08250238190412924, -0.07852034954867736, -0.06559111619332952, -0.477599541117516]\n"
     ]
    },
    {
     "name": "stderr",
     "output_type": "stream",
     "text": [
      "Training:  86%|████████▌ | 85804/100000 [1:18:52<13:28, 17.55it/s]"
     ]
    },
    {
     "name": "stdout",
     "output_type": "stream",
     "text": [
      "\n",
      "Episode 85800:\n",
      "Epsilon: 0.100\n",
      "Memory sizes: [20000, 20000, 20000, 20000]\n",
      "Recent rewards: [-0.13440409127810476, -0.12254891010530923, -0.17582046226968606, -0.314902838665976]\n"
     ]
    },
    {
     "name": "stderr",
     "output_type": "stream",
     "text": [
      "Training:  86%|████████▌ | 85902/100000 [1:18:58<13:53, 16.92it/s]"
     ]
    },
    {
     "name": "stdout",
     "output_type": "stream",
     "text": [
      "\n",
      "Episode 85900:\n",
      "Epsilon: 0.100\n",
      "Memory sizes: [20000, 20000, 20000, 20000]\n",
      "Recent rewards: [-0.16182745643334312, -0.1196671643882696, -0.14556565602635724, -0.5284402461965677]\n"
     ]
    },
    {
     "name": "stderr",
     "output_type": "stream",
     "text": [
      "Training:  86%|████████▌ | 86004/100000 [1:19:04<13:25, 17.37it/s]"
     ]
    },
    {
     "name": "stdout",
     "output_type": "stream",
     "text": [
      "\n",
      "Episode 86000:\n",
      "Epsilon: 0.100\n",
      "Memory sizes: [20000, 20000, 20000, 20000]\n",
      "Recent rewards: [-0.19377378520853142, -0.10300913768829918, 0.042009548740244845, -0.42801606749913823]\n"
     ]
    },
    {
     "name": "stderr",
     "output_type": "stream",
     "text": [
      "Training:  86%|████████▌ | 86104/100000 [1:19:10<13:44, 16.85it/s]"
     ]
    },
    {
     "name": "stdout",
     "output_type": "stream",
     "text": [
      "\n",
      "Episode 86100:\n",
      "Epsilon: 0.100\n",
      "Memory sizes: [20000, 20000, 20000, 20000]\n",
      "Recent rewards: [-0.07543610989672278, -0.11417124927098041, -0.29997462499106997, -0.3507047337390156]\n"
     ]
    },
    {
     "name": "stderr",
     "output_type": "stream",
     "text": [
      "Training:  86%|████████▌ | 86204/100000 [1:19:16<13:09, 17.49it/s]"
     ]
    },
    {
     "name": "stdout",
     "output_type": "stream",
     "text": [
      "\n",
      "Episode 86200:\n",
      "Epsilon: 0.100\n",
      "Memory sizes: [20000, 20000, 20000, 20000]\n",
      "Recent rewards: [-0.14264878563169592, -0.10571769338115417, -0.08428426035643484, -0.43800337228731456]\n"
     ]
    },
    {
     "name": "stderr",
     "output_type": "stream",
     "text": [
      "Training:  86%|████████▋ | 86304/100000 [1:19:22<13:15, 17.23it/s]"
     ]
    },
    {
     "name": "stdout",
     "output_type": "stream",
     "text": [
      "\n",
      "Episode 86300:\n",
      "Epsilon: 0.100\n",
      "Memory sizes: [20000, 20000, 20000, 20000]\n",
      "Recent rewards: [-0.13265495379178277, -0.07785427038421916, -0.23597209164639538, -0.5303453133392041]\n"
     ]
    },
    {
     "name": "stderr",
     "output_type": "stream",
     "text": [
      "Training:  86%|████████▋ | 86404/100000 [1:19:28<13:01, 17.40it/s]"
     ]
    },
    {
     "name": "stdout",
     "output_type": "stream",
     "text": [
      "\n",
      "Episode 86400:\n",
      "Epsilon: 0.100\n",
      "Memory sizes: [20000, 20000, 20000, 20000]\n",
      "Recent rewards: [-0.2053610277529329, -0.14599422851790553, -0.28329913621073055, -0.40730960518982295]\n"
     ]
    },
    {
     "name": "stderr",
     "output_type": "stream",
     "text": [
      "Training:  87%|████████▋ | 86504/100000 [1:19:34<12:45, 17.62it/s]"
     ]
    },
    {
     "name": "stdout",
     "output_type": "stream",
     "text": [
      "\n",
      "Episode 86500:\n",
      "Epsilon: 0.100\n",
      "Memory sizes: [20000, 20000, 20000, 20000]\n",
      "Recent rewards: [-0.0583431743573181, -0.0846206871861636, -0.38772027048183844, -0.41837782273365753]\n"
     ]
    },
    {
     "name": "stderr",
     "output_type": "stream",
     "text": [
      "Training:  87%|████████▋ | 86604/100000 [1:19:39<12:47, 17.45it/s]"
     ]
    },
    {
     "name": "stdout",
     "output_type": "stream",
     "text": [
      "\n",
      "Episode 86600:\n",
      "Epsilon: 0.100\n",
      "Memory sizes: [20000, 20000, 20000, 20000]\n",
      "Recent rewards: [-0.18633603479331498, -0.04192232008061179, -0.12481238066978818, -0.41615579814655596]\n"
     ]
    },
    {
     "name": "stderr",
     "output_type": "stream",
     "text": [
      "Training:  87%|████████▋ | 86704/100000 [1:19:45<12:32, 17.67it/s]"
     ]
    },
    {
     "name": "stdout",
     "output_type": "stream",
     "text": [
      "\n",
      "Episode 86700:\n",
      "Epsilon: 0.100\n",
      "Memory sizes: [20000, 20000, 20000, 20000]\n",
      "Recent rewards: [-0.2110309688292306, -0.1756212668157141, -0.0642106532047924, -0.4294446796827122]\n"
     ]
    },
    {
     "name": "stderr",
     "output_type": "stream",
     "text": [
      "Training:  87%|████████▋ | 86804/100000 [1:19:51<13:08, 16.74it/s]"
     ]
    },
    {
     "name": "stdout",
     "output_type": "stream",
     "text": [
      "\n",
      "Episode 86800:\n",
      "Epsilon: 0.100\n",
      "Memory sizes: [20000, 20000, 20000, 20000]\n",
      "Recent rewards: [-0.22386680293967712, -0.12465734039944916, -0.2417590344458052, -0.46034483964338974]\n"
     ]
    },
    {
     "name": "stderr",
     "output_type": "stream",
     "text": [
      "Training:  87%|████████▋ | 86904/100000 [1:19:56<12:28, 17.49it/s]"
     ]
    },
    {
     "name": "stdout",
     "output_type": "stream",
     "text": [
      "\n",
      "Episode 86900:\n",
      "Epsilon: 0.100\n",
      "Memory sizes: [20000, 20000, 20000, 20000]\n",
      "Recent rewards: [-0.18126634862591595, -0.10228573779106251, -0.14249458487592814, -0.25371723626228265]\n"
     ]
    },
    {
     "name": "stderr",
     "output_type": "stream",
     "text": [
      "Training:  87%|████████▋ | 87004/100000 [1:20:02<12:35, 17.19it/s]"
     ]
    },
    {
     "name": "stdout",
     "output_type": "stream",
     "text": [
      "\n",
      "Episode 87000:\n",
      "Epsilon: 0.100\n",
      "Memory sizes: [20000, 20000, 20000, 20000]\n",
      "Recent rewards: [-0.18379811578929706, -0.038298580630739855, -0.23131055783751797, -0.36340338525798443]\n"
     ]
    },
    {
     "name": "stderr",
     "output_type": "stream",
     "text": [
      "Training:  87%|████████▋ | 87104/100000 [1:20:08<12:24, 17.33it/s]"
     ]
    },
    {
     "name": "stdout",
     "output_type": "stream",
     "text": [
      "\n",
      "Episode 87100:\n",
      "Epsilon: 0.100\n",
      "Memory sizes: [20000, 20000, 20000, 20000]\n",
      "Recent rewards: [-0.17087989755181088, -0.1140904696206152, -0.21917527797947362, -0.43840046528637316]\n"
     ]
    },
    {
     "name": "stderr",
     "output_type": "stream",
     "text": [
      "Training:  87%|████████▋ | 87204/100000 [1:20:14<13:00, 16.40it/s]"
     ]
    },
    {
     "name": "stdout",
     "output_type": "stream",
     "text": [
      "\n",
      "Episode 87200:\n",
      "Epsilon: 0.100\n",
      "Memory sizes: [20000, 20000, 20000, 20000]\n",
      "Recent rewards: [-0.16138895179083637, -0.07964805352304002, -0.3625800970999969, -0.5202288321571837]\n"
     ]
    },
    {
     "name": "stderr",
     "output_type": "stream",
     "text": [
      "Training:  87%|████████▋ | 87302/100000 [1:20:20<14:35, 14.51it/s]"
     ]
    },
    {
     "name": "stdout",
     "output_type": "stream",
     "text": [
      "\n",
      "Episode 87300:\n",
      "Epsilon: 0.100\n",
      "Memory sizes: [20000, 20000, 20000, 20000]\n",
      "Recent rewards: [-0.1337842192733565, -0.07061061616976826, -0.17362491916316583, -0.3839711968723044]\n"
     ]
    },
    {
     "name": "stderr",
     "output_type": "stream",
     "text": [
      "Training:  87%|████████▋ | 87402/100000 [1:20:28<13:32, 15.51it/s]"
     ]
    },
    {
     "name": "stdout",
     "output_type": "stream",
     "text": [
      "\n",
      "Episode 87400:\n",
      "Epsilon: 0.100\n",
      "Memory sizes: [20000, 20000, 20000, 20000]\n",
      "Recent rewards: [-0.0940789916473986, -0.08198377833302634, -0.2648226402007035, -0.5164802434071938]\n"
     ]
    },
    {
     "name": "stderr",
     "output_type": "stream",
     "text": [
      "Training:  88%|████████▊ | 87504/100000 [1:20:34<12:56, 16.09it/s]"
     ]
    },
    {
     "name": "stdout",
     "output_type": "stream",
     "text": [
      "\n",
      "Episode 87500:\n",
      "Epsilon: 0.100\n",
      "Memory sizes: [20000, 20000, 20000, 20000]\n",
      "Recent rewards: [-0.15784891193327025, -0.09190688194451861, -0.21741414927729177, -0.3887883085728634]\n"
     ]
    },
    {
     "name": "stderr",
     "output_type": "stream",
     "text": [
      "Training:  88%|████████▊ | 87604/100000 [1:20:41<12:36, 16.38it/s]"
     ]
    },
    {
     "name": "stdout",
     "output_type": "stream",
     "text": [
      "\n",
      "Episode 87600:\n",
      "Epsilon: 0.100\n",
      "Memory sizes: [20000, 20000, 20000, 20000]\n",
      "Recent rewards: [-0.14777042308619892, -0.04166093902576169, -0.2984098787600816, -0.43439641438330945]\n"
     ]
    },
    {
     "name": "stderr",
     "output_type": "stream",
     "text": [
      "Training:  88%|████████▊ | 87704/100000 [1:20:47<12:17, 16.67it/s]"
     ]
    },
    {
     "name": "stdout",
     "output_type": "stream",
     "text": [
      "\n",
      "Episode 87700:\n",
      "Epsilon: 0.100\n",
      "Memory sizes: [20000, 20000, 20000, 20000]\n",
      "Recent rewards: [-0.15489539806800712, -0.03598827460563909, -0.179088886865761, -0.423603844392043]\n"
     ]
    },
    {
     "name": "stderr",
     "output_type": "stream",
     "text": [
      "Training:  88%|████████▊ | 87804/100000 [1:20:53<12:16, 16.57it/s]"
     ]
    },
    {
     "name": "stdout",
     "output_type": "stream",
     "text": [
      "\n",
      "Episode 87800:\n",
      "Epsilon: 0.100\n",
      "Memory sizes: [20000, 20000, 20000, 20000]\n",
      "Recent rewards: [-0.0649645833611278, -0.08324084539266248, -0.1624857396169454, -0.3102486930129804]\n"
     ]
    },
    {
     "name": "stderr",
     "output_type": "stream",
     "text": [
      "Training:  88%|████████▊ | 87904/100000 [1:20:59<11:28, 17.56it/s]"
     ]
    },
    {
     "name": "stdout",
     "output_type": "stream",
     "text": [
      "\n",
      "Episode 87900:\n",
      "Epsilon: 0.100\n",
      "Memory sizes: [20000, 20000, 20000, 20000]\n",
      "Recent rewards: [-0.227149757856785, -0.08007116451721054, -0.28462967598878225, -0.29588205048510163]\n"
     ]
    },
    {
     "name": "stderr",
     "output_type": "stream",
     "text": [
      "Training:  88%|████████▊ | 88004/100000 [1:21:05<11:19, 17.66it/s]"
     ]
    },
    {
     "name": "stdout",
     "output_type": "stream",
     "text": [
      "\n",
      "Episode 88000:\n",
      "Epsilon: 0.100\n",
      "Memory sizes: [20000, 20000, 20000, 20000]\n",
      "Recent rewards: [-0.07466935387145957, -0.08224228785176607, -0.2438173762928077, -0.44823436330039057]\n"
     ]
    },
    {
     "name": "stderr",
     "output_type": "stream",
     "text": [
      "Training:  88%|████████▊ | 88104/100000 [1:21:11<12:00, 16.51it/s]"
     ]
    },
    {
     "name": "stdout",
     "output_type": "stream",
     "text": [
      "\n",
      "Episode 88100:\n",
      "Epsilon: 0.100\n",
      "Memory sizes: [20000, 20000, 20000, 20000]\n",
      "Recent rewards: [-0.19903027713087762, -0.026470733116680956, -0.19609727951665967, -0.5235985232059011]\n"
     ]
    },
    {
     "name": "stderr",
     "output_type": "stream",
     "text": [
      "Training:  88%|████████▊ | 88204/100000 [1:21:16<11:34, 16.99it/s]"
     ]
    },
    {
     "name": "stdout",
     "output_type": "stream",
     "text": [
      "\n",
      "Episode 88200:\n",
      "Epsilon: 0.100\n",
      "Memory sizes: [20000, 20000, 20000, 20000]\n",
      "Recent rewards: [-0.14490825547758485, -0.12491488395950963, -0.21619058607526054, -0.23820363297378008]\n"
     ]
    },
    {
     "name": "stderr",
     "output_type": "stream",
     "text": [
      "Training:  88%|████████▊ | 88304/100000 [1:21:22<11:52, 16.42it/s]"
     ]
    },
    {
     "name": "stdout",
     "output_type": "stream",
     "text": [
      "\n",
      "Episode 88300:\n",
      "Epsilon: 0.100\n",
      "Memory sizes: [20000, 20000, 20000, 20000]\n",
      "Recent rewards: [-0.0956967708145994, -0.09478336005773517, -0.2981156687688023, -0.3288836796592138]\n"
     ]
    },
    {
     "name": "stderr",
     "output_type": "stream",
     "text": [
      "Training:  88%|████████▊ | 88404/100000 [1:21:28<11:29, 16.83it/s]"
     ]
    },
    {
     "name": "stdout",
     "output_type": "stream",
     "text": [
      "\n",
      "Episode 88400:\n",
      "Epsilon: 0.100\n",
      "Memory sizes: [20000, 20000, 20000, 20000]\n",
      "Recent rewards: [-0.20899116653011174, -0.04941346685588255, -0.1166064843169144, -0.4616700373751628]\n"
     ]
    },
    {
     "name": "stderr",
     "output_type": "stream",
     "text": [
      "Training:  89%|████████▊ | 88504/100000 [1:21:34<11:17, 16.96it/s]"
     ]
    },
    {
     "name": "stdout",
     "output_type": "stream",
     "text": [
      "\n",
      "Episode 88500:\n",
      "Epsilon: 0.100\n",
      "Memory sizes: [20000, 20000, 20000, 20000]\n",
      "Recent rewards: [-0.1513137527625863, -0.11025997360894266, -0.4502213984944802, -0.2285180018302458]\n"
     ]
    },
    {
     "name": "stderr",
     "output_type": "stream",
     "text": [
      "Training:  89%|████████▊ | 88604/100000 [1:21:40<11:13, 16.92it/s]"
     ]
    },
    {
     "name": "stdout",
     "output_type": "stream",
     "text": [
      "\n",
      "Episode 88600:\n",
      "Epsilon: 0.100\n",
      "Memory sizes: [20000, 20000, 20000, 20000]\n",
      "Recent rewards: [-0.21557657659384688, -0.07440382640769297, -0.07749498543797921, -0.38272350565387675]\n"
     ]
    },
    {
     "name": "stderr",
     "output_type": "stream",
     "text": [
      "Training:  89%|████████▊ | 88704/100000 [1:21:46<11:20, 16.61it/s]"
     ]
    },
    {
     "name": "stdout",
     "output_type": "stream",
     "text": [
      "\n",
      "Episode 88700:\n",
      "Epsilon: 0.100\n",
      "Memory sizes: [20000, 20000, 20000, 20000]\n",
      "Recent rewards: [-0.2517742790215492, -0.08518934893566604, -0.28318883561528296, -0.4464997632483038]\n"
     ]
    },
    {
     "name": "stderr",
     "output_type": "stream",
     "text": [
      "Training:  89%|████████▉ | 88804/100000 [1:21:52<10:38, 17.54it/s]"
     ]
    },
    {
     "name": "stdout",
     "output_type": "stream",
     "text": [
      "\n",
      "Episode 88800:\n",
      "Epsilon: 0.100\n",
      "Memory sizes: [20000, 20000, 20000, 20000]\n",
      "Recent rewards: [-0.19956366500195546, -0.09817089059224784, -0.23446506361869482, -0.30839966641050764]\n"
     ]
    },
    {
     "name": "stderr",
     "output_type": "stream",
     "text": [
      "Training:  89%|████████▉ | 88904/100000 [1:21:58<11:00, 16.81it/s]"
     ]
    },
    {
     "name": "stdout",
     "output_type": "stream",
     "text": [
      "\n",
      "Episode 88900:\n",
      "Epsilon: 0.100\n",
      "Memory sizes: [20000, 20000, 20000, 20000]\n",
      "Recent rewards: [-0.2501135443036441, -0.08920859449993103, -0.14088555463863695, -0.39424233718277263]\n"
     ]
    },
    {
     "name": "stderr",
     "output_type": "stream",
     "text": [
      "Training:  89%|████████▉ | 89004/100000 [1:22:04<10:55, 16.79it/s]"
     ]
    },
    {
     "name": "stdout",
     "output_type": "stream",
     "text": [
      "\n",
      "Episode 89000:\n",
      "Epsilon: 0.100\n",
      "Memory sizes: [20000, 20000, 20000, 20000]\n",
      "Recent rewards: [0.0704899768576772, -0.10197447328183262, -0.28546817189466656, -0.42139325492392193]\n"
     ]
    },
    {
     "name": "stderr",
     "output_type": "stream",
     "text": [
      "Training:  89%|████████▉ | 89104/100000 [1:22:09<10:29, 17.31it/s]"
     ]
    },
    {
     "name": "stdout",
     "output_type": "stream",
     "text": [
      "\n",
      "Episode 89100:\n",
      "Epsilon: 0.100\n",
      "Memory sizes: [20000, 20000, 20000, 20000]\n",
      "Recent rewards: [-0.3238834788408868, -0.10498468629040036, -0.18176182140766067, -0.39488087183585235]\n"
     ]
    },
    {
     "name": "stderr",
     "output_type": "stream",
     "text": [
      "Training:  89%|████████▉ | 89204/100000 [1:22:15<10:44, 16.76it/s]"
     ]
    },
    {
     "name": "stdout",
     "output_type": "stream",
     "text": [
      "\n",
      "Episode 89200:\n",
      "Epsilon: 0.100\n",
      "Memory sizes: [20000, 20000, 20000, 20000]\n",
      "Recent rewards: [-0.1906675791720547, -0.04424000939164726, -0.1949653105799204, -0.4832069982139131]\n"
     ]
    },
    {
     "name": "stderr",
     "output_type": "stream",
     "text": [
      "Training:  89%|████████▉ | 89304/100000 [1:22:21<10:01, 17.79it/s]"
     ]
    },
    {
     "name": "stdout",
     "output_type": "stream",
     "text": [
      "\n",
      "Episode 89300:\n",
      "Epsilon: 0.100\n",
      "Memory sizes: [20000, 20000, 20000, 20000]\n",
      "Recent rewards: [-0.1295720212872216, -0.01400930507107442, -0.27780973219970595, -0.32779466785418615]\n"
     ]
    },
    {
     "name": "stderr",
     "output_type": "stream",
     "text": [
      "Training:  89%|████████▉ | 89404/100000 [1:22:27<10:17, 17.16it/s]"
     ]
    },
    {
     "name": "stdout",
     "output_type": "stream",
     "text": [
      "\n",
      "Episode 89400:\n",
      "Epsilon: 0.100\n",
      "Memory sizes: [20000, 20000, 20000, 20000]\n",
      "Recent rewards: [0.027648308407266845, -0.05188857360054734, -0.2827314789511408, -0.2966963023032834]\n"
     ]
    },
    {
     "name": "stderr",
     "output_type": "stream",
     "text": [
      "Training:  90%|████████▉ | 89504/100000 [1:22:33<10:08, 17.24it/s]"
     ]
    },
    {
     "name": "stdout",
     "output_type": "stream",
     "text": [
      "\n",
      "Episode 89500:\n",
      "Epsilon: 0.100\n",
      "Memory sizes: [20000, 20000, 20000, 20000]\n",
      "Recent rewards: [-0.2714398999411634, -0.020358867294459623, -0.2405984204439532, -0.37899806778909956]\n"
     ]
    },
    {
     "name": "stderr",
     "output_type": "stream",
     "text": [
      "Training:  90%|████████▉ | 89604/100000 [1:22:38<09:52, 17.54it/s]"
     ]
    },
    {
     "name": "stdout",
     "output_type": "stream",
     "text": [
      "\n",
      "Episode 89600:\n",
      "Epsilon: 0.100\n",
      "Memory sizes: [20000, 20000, 20000, 20000]\n",
      "Recent rewards: [-0.16095970011839225, -0.10149579963532154, -0.274591932381828, -0.3439563666914898]\n"
     ]
    },
    {
     "name": "stderr",
     "output_type": "stream",
     "text": [
      "Training:  90%|████████▉ | 89704/100000 [1:22:44<09:59, 17.16it/s]"
     ]
    },
    {
     "name": "stdout",
     "output_type": "stream",
     "text": [
      "\n",
      "Episode 89700:\n",
      "Epsilon: 0.100\n",
      "Memory sizes: [20000, 20000, 20000, 20000]\n",
      "Recent rewards: [-0.09175496276227242, -0.05066499725424896, -0.28113715820522345, -0.5045523620489464]\n"
     ]
    },
    {
     "name": "stderr",
     "output_type": "stream",
     "text": [
      "Training:  90%|████████▉ | 89804/100000 [1:22:50<10:22, 16.39it/s]"
     ]
    },
    {
     "name": "stdout",
     "output_type": "stream",
     "text": [
      "\n",
      "Episode 89800:\n",
      "Epsilon: 0.100\n",
      "Memory sizes: [20000, 20000, 20000, 20000]\n",
      "Recent rewards: [-0.11455207983743985, 0.01866640550006897, -0.31174114276361964, -0.40997577867210366]\n"
     ]
    },
    {
     "name": "stderr",
     "output_type": "stream",
     "text": [
      "Training:  90%|████████▉ | 89904/100000 [1:22:56<09:53, 17.00it/s]"
     ]
    },
    {
     "name": "stdout",
     "output_type": "stream",
     "text": [
      "\n",
      "Episode 89900:\n",
      "Epsilon: 0.100\n",
      "Memory sizes: [20000, 20000, 20000, 20000]\n",
      "Recent rewards: [-0.10403164475577692, -0.07429334175965302, -0.32784558786441637, -0.4156613956733331]\n"
     ]
    },
    {
     "name": "stderr",
     "output_type": "stream",
     "text": [
      "Training:  90%|█████████ | 90004/100000 [1:23:02<10:23, 16.03it/s]"
     ]
    },
    {
     "name": "stdout",
     "output_type": "stream",
     "text": [
      "\n",
      "Episode 90000:\n",
      "Epsilon: 0.100\n",
      "Memory sizes: [20000, 20000, 20000, 20000]\n",
      "Recent rewards: [-0.025300029909164183, -0.04663178479861685, -0.31747224940964053, -0.44594726015589503]\n",
      "Checkpoint saved at episode 90000\n"
     ]
    },
    {
     "name": "stderr",
     "output_type": "stream",
     "text": [
      "Training:  90%|█████████ | 90104/100000 [1:23:08<09:54, 16.63it/s]"
     ]
    },
    {
     "name": "stdout",
     "output_type": "stream",
     "text": [
      "\n",
      "Episode 90100:\n",
      "Epsilon: 0.100\n",
      "Memory sizes: [20000, 20000, 20000, 20000]\n",
      "Recent rewards: [-0.18857541089720023, -0.13733351992592227, -0.039713313562151825, -0.4332195711527337]\n"
     ]
    },
    {
     "name": "stderr",
     "output_type": "stream",
     "text": [
      "Training:  90%|█████████ | 90204/100000 [1:23:14<09:13, 17.70it/s]"
     ]
    },
    {
     "name": "stdout",
     "output_type": "stream",
     "text": [
      "\n",
      "Episode 90200:\n",
      "Epsilon: 0.100\n",
      "Memory sizes: [20000, 20000, 20000, 20000]\n",
      "Recent rewards: [-0.15899444729072013, -0.07361536456740247, -0.2719413413793961, -0.44052809927065356]\n"
     ]
    },
    {
     "name": "stderr",
     "output_type": "stream",
     "text": [
      "Training:  90%|█████████ | 90304/100000 [1:23:20<09:07, 17.71it/s]"
     ]
    },
    {
     "name": "stdout",
     "output_type": "stream",
     "text": [
      "\n",
      "Episode 90300:\n",
      "Epsilon: 0.100\n",
      "Memory sizes: [20000, 20000, 20000, 20000]\n",
      "Recent rewards: [-0.11537875276731249, -0.08424453488956848, -0.2285889681980576, -0.3646974708960053]\n"
     ]
    },
    {
     "name": "stderr",
     "output_type": "stream",
     "text": [
      "Training:  90%|█████████ | 90404/100000 [1:23:26<09:00, 17.75it/s]"
     ]
    },
    {
     "name": "stdout",
     "output_type": "stream",
     "text": [
      "\n",
      "Episode 90400:\n",
      "Epsilon: 0.100\n",
      "Memory sizes: [20000, 20000, 20000, 20000]\n",
      "Recent rewards: [0.07103259664517038, -0.07060238461227614, -0.2583398747707535, -0.4707313970099955]\n"
     ]
    },
    {
     "name": "stderr",
     "output_type": "stream",
     "text": [
      "Training:  91%|█████████ | 90504/100000 [1:23:31<09:14, 17.11it/s]"
     ]
    },
    {
     "name": "stdout",
     "output_type": "stream",
     "text": [
      "\n",
      "Episode 90500:\n",
      "Epsilon: 0.100\n",
      "Memory sizes: [20000, 20000, 20000, 20000]\n",
      "Recent rewards: [-0.06002033885438443, -0.11406794676189445, -0.10842568448854271, -0.5199528301973906]\n"
     ]
    },
    {
     "name": "stderr",
     "output_type": "stream",
     "text": [
      "Training:  91%|█████████ | 90604/100000 [1:23:37<09:11, 17.05it/s]"
     ]
    },
    {
     "name": "stdout",
     "output_type": "stream",
     "text": [
      "\n",
      "Episode 90600:\n",
      "Epsilon: 0.100\n",
      "Memory sizes: [20000, 20000, 20000, 20000]\n",
      "Recent rewards: [-0.09122962679938527, -0.12256059651638747, -0.2363721979679498, -0.3320978278577528]\n"
     ]
    },
    {
     "name": "stderr",
     "output_type": "stream",
     "text": [
      "Training:  91%|█████████ | 90704/100000 [1:23:43<08:59, 17.22it/s]"
     ]
    },
    {
     "name": "stdout",
     "output_type": "stream",
     "text": [
      "\n",
      "Episode 90700:\n",
      "Epsilon: 0.100\n",
      "Memory sizes: [20000, 20000, 20000, 20000]\n",
      "Recent rewards: [-0.00540386035139544, -0.09560202943354822, -0.25949360342398514, -0.42285728445109044]\n"
     ]
    },
    {
     "name": "stderr",
     "output_type": "stream",
     "text": [
      "Training:  91%|█████████ | 90804/100000 [1:23:49<09:38, 15.91it/s]"
     ]
    },
    {
     "name": "stdout",
     "output_type": "stream",
     "text": [
      "\n",
      "Episode 90800:\n",
      "Epsilon: 0.100\n",
      "Memory sizes: [20000, 20000, 20000, 20000]\n",
      "Recent rewards: [-0.2721839429226277, -0.0429961715726001, -0.20061641837127697, -0.4446796240164381]\n"
     ]
    },
    {
     "name": "stderr",
     "output_type": "stream",
     "text": [
      "Training:  91%|█████████ | 90904/100000 [1:23:55<09:01, 16.79it/s]"
     ]
    },
    {
     "name": "stdout",
     "output_type": "stream",
     "text": [
      "\n",
      "Episode 90900:\n",
      "Epsilon: 0.100\n",
      "Memory sizes: [20000, 20000, 20000, 20000]\n",
      "Recent rewards: [-0.38546622673035935, -0.06875181088113765, -0.029910175324531833, -0.36707420818951336]\n"
     ]
    },
    {
     "name": "stderr",
     "output_type": "stream",
     "text": [
      "Training:  91%|█████████ | 91004/100000 [1:24:01<09:20, 16.05it/s]"
     ]
    },
    {
     "name": "stdout",
     "output_type": "stream",
     "text": [
      "\n",
      "Episode 91000:\n",
      "Epsilon: 0.100\n",
      "Memory sizes: [20000, 20000, 20000, 20000]\n",
      "Recent rewards: [-0.1038933917391847, -0.04336351464983493, -0.255778616392253, -0.4801131114129897]\n"
     ]
    },
    {
     "name": "stderr",
     "output_type": "stream",
     "text": [
      "Training:  91%|█████████ | 91104/100000 [1:24:07<08:41, 17.06it/s]"
     ]
    },
    {
     "name": "stdout",
     "output_type": "stream",
     "text": [
      "\n",
      "Episode 91100:\n",
      "Epsilon: 0.100\n",
      "Memory sizes: [20000, 20000, 20000, 20000]\n",
      "Recent rewards: [-0.19372764888494262, -0.08723849808723973, -0.2259214242053065, -0.29581208140316984]\n"
     ]
    },
    {
     "name": "stderr",
     "output_type": "stream",
     "text": [
      "Training:  91%|█████████ | 91204/100000 [1:24:13<08:22, 17.52it/s]"
     ]
    },
    {
     "name": "stdout",
     "output_type": "stream",
     "text": [
      "\n",
      "Episode 91200:\n",
      "Epsilon: 0.100\n",
      "Memory sizes: [20000, 20000, 20000, 20000]\n",
      "Recent rewards: [-0.15009583940417148, -0.0691652352033783, -0.22174987848893565, -0.34320719198281113]\n"
     ]
    },
    {
     "name": "stderr",
     "output_type": "stream",
     "text": [
      "Training:  91%|█████████▏| 91304/100000 [1:24:19<08:24, 17.25it/s]"
     ]
    },
    {
     "name": "stdout",
     "output_type": "stream",
     "text": [
      "\n",
      "Episode 91300:\n",
      "Epsilon: 0.100\n",
      "Memory sizes: [20000, 20000, 20000, 20000]\n",
      "Recent rewards: [-0.14517681724785184, -0.08948725420663792, -0.20395514504012768, -0.42408132245576474]\n"
     ]
    },
    {
     "name": "stderr",
     "output_type": "stream",
     "text": [
      "Training:  91%|█████████▏| 91404/100000 [1:24:25<08:29, 16.86it/s]"
     ]
    },
    {
     "name": "stdout",
     "output_type": "stream",
     "text": [
      "\n",
      "Episode 91400:\n",
      "Epsilon: 0.100\n",
      "Memory sizes: [20000, 20000, 20000, 20000]\n",
      "Recent rewards: [-0.26638400657790356, -0.098857746340096, -0.18521416770792254, -0.4399028306450592]\n"
     ]
    },
    {
     "name": "stderr",
     "output_type": "stream",
     "text": [
      "Training:  92%|█████████▏| 91504/100000 [1:24:30<08:10, 17.33it/s]"
     ]
    },
    {
     "name": "stdout",
     "output_type": "stream",
     "text": [
      "\n",
      "Episode 91500:\n",
      "Epsilon: 0.100\n",
      "Memory sizes: [20000, 20000, 20000, 20000]\n",
      "Recent rewards: [-0.25671906652966386, -0.09525773981344039, -0.10508900161182404, -0.18170269710074663]\n"
     ]
    },
    {
     "name": "stderr",
     "output_type": "stream",
     "text": [
      "Training:  92%|█████████▏| 91604/100000 [1:24:36<08:09, 17.17it/s]"
     ]
    },
    {
     "name": "stdout",
     "output_type": "stream",
     "text": [
      "\n",
      "Episode 91600:\n",
      "Epsilon: 0.100\n",
      "Memory sizes: [20000, 20000, 20000, 20000]\n",
      "Recent rewards: [-0.08727757158871993, -0.07629382568164886, -0.2517269177613483, -0.5116838146391648]\n"
     ]
    },
    {
     "name": "stderr",
     "output_type": "stream",
     "text": [
      "Training:  92%|█████████▏| 91704/100000 [1:24:42<08:05, 17.09it/s]"
     ]
    },
    {
     "name": "stdout",
     "output_type": "stream",
     "text": [
      "\n",
      "Episode 91700:\n",
      "Epsilon: 0.100\n",
      "Memory sizes: [20000, 20000, 20000, 20000]\n",
      "Recent rewards: [-0.14199715535520696, -0.05972195563802884, -0.02425522086996993, -0.44639847525571275]\n"
     ]
    },
    {
     "name": "stderr",
     "output_type": "stream",
     "text": [
      "Training:  92%|█████████▏| 91804/100000 [1:24:48<07:45, 17.60it/s]"
     ]
    },
    {
     "name": "stdout",
     "output_type": "stream",
     "text": [
      "\n",
      "Episode 91800:\n",
      "Epsilon: 0.100\n",
      "Memory sizes: [20000, 20000, 20000, 20000]\n",
      "Recent rewards: [-0.2483437524994978, -0.09310547828982839, -0.2011809789352294, -0.3431902637015329]\n"
     ]
    },
    {
     "name": "stderr",
     "output_type": "stream",
     "text": [
      "Training:  92%|█████████▏| 91904/100000 [1:24:54<08:00, 16.85it/s]"
     ]
    },
    {
     "name": "stdout",
     "output_type": "stream",
     "text": [
      "\n",
      "Episode 91900:\n",
      "Epsilon: 0.100\n",
      "Memory sizes: [20000, 20000, 20000, 20000]\n",
      "Recent rewards: [-0.22235960531211799, -0.06153476724110432, -0.14866643064908644, -0.4727218471791403]\n"
     ]
    },
    {
     "name": "stderr",
     "output_type": "stream",
     "text": [
      "Training:  92%|█████████▏| 92004/100000 [1:24:59<07:53, 16.89it/s]"
     ]
    },
    {
     "name": "stdout",
     "output_type": "stream",
     "text": [
      "\n",
      "Episode 92000:\n",
      "Epsilon: 0.100\n",
      "Memory sizes: [20000, 20000, 20000, 20000]\n",
      "Recent rewards: [-0.0617558182045026, -0.047484352261963424, -0.3349538151343849, -0.3978988727560821]\n"
     ]
    },
    {
     "name": "stderr",
     "output_type": "stream",
     "text": [
      "Training:  92%|█████████▏| 92104/100000 [1:25:05<07:45, 16.98it/s]"
     ]
    },
    {
     "name": "stdout",
     "output_type": "stream",
     "text": [
      "\n",
      "Episode 92100:\n",
      "Epsilon: 0.100\n",
      "Memory sizes: [20000, 20000, 20000, 20000]\n",
      "Recent rewards: [-0.2082576963322835, -0.08376679825342481, -0.1664610597416289, -0.30536802637861876]\n"
     ]
    },
    {
     "name": "stderr",
     "output_type": "stream",
     "text": [
      "Training:  92%|█████████▏| 92204/100000 [1:25:11<07:45, 16.76it/s]"
     ]
    },
    {
     "name": "stdout",
     "output_type": "stream",
     "text": [
      "\n",
      "Episode 92200:\n",
      "Epsilon: 0.100\n",
      "Memory sizes: [20000, 20000, 20000, 20000]\n",
      "Recent rewards: [-0.1206901959931014, -0.09033705098926566, -0.19601738387130346, -0.3244450746078909]\n"
     ]
    },
    {
     "name": "stderr",
     "output_type": "stream",
     "text": [
      "Training:  92%|█████████▏| 92304/100000 [1:25:17<07:34, 16.94it/s]"
     ]
    },
    {
     "name": "stdout",
     "output_type": "stream",
     "text": [
      "\n",
      "Episode 92300:\n",
      "Epsilon: 0.100\n",
      "Memory sizes: [20000, 20000, 20000, 20000]\n",
      "Recent rewards: [-0.14437916226965683, -0.054284325290531295, -0.05586019970008909, -0.4603201268369863]\n"
     ]
    },
    {
     "name": "stderr",
     "output_type": "stream",
     "text": [
      "Training:  92%|█████████▏| 92404/100000 [1:25:23<07:32, 16.77it/s]"
     ]
    },
    {
     "name": "stdout",
     "output_type": "stream",
     "text": [
      "\n",
      "Episode 92400:\n",
      "Epsilon: 0.100\n",
      "Memory sizes: [20000, 20000, 20000, 20000]\n",
      "Recent rewards: [-0.18149219350001808, -0.13546693497757933, -0.13022939762954003, -0.38913292429534463]\n"
     ]
    },
    {
     "name": "stderr",
     "output_type": "stream",
     "text": [
      "Training:  93%|█████████▎| 92502/100000 [1:25:29<08:00, 15.60it/s]"
     ]
    },
    {
     "name": "stdout",
     "output_type": "stream",
     "text": [
      "\n",
      "Episode 92500:\n",
      "Epsilon: 0.100\n",
      "Memory sizes: [20000, 20000, 20000, 20000]\n",
      "Recent rewards: [-0.10802979346945137, -0.10590700637101218, -0.21027384840219251, -0.35266642651701585]\n"
     ]
    },
    {
     "name": "stderr",
     "output_type": "stream",
     "text": [
      "Training:  93%|█████████▎| 92604/100000 [1:25:36<07:23, 16.69it/s]"
     ]
    },
    {
     "name": "stdout",
     "output_type": "stream",
     "text": [
      "\n",
      "Episode 92600:\n",
      "Epsilon: 0.100\n",
      "Memory sizes: [20000, 20000, 20000, 20000]\n",
      "Recent rewards: [-0.3248776819100185, -0.08073085786300048, -0.013980254119883035, -0.4418025511533104]\n"
     ]
    },
    {
     "name": "stderr",
     "output_type": "stream",
     "text": [
      "Training:  93%|█████████▎| 92704/100000 [1:25:41<07:29, 16.23it/s]"
     ]
    },
    {
     "name": "stdout",
     "output_type": "stream",
     "text": [
      "\n",
      "Episode 92700:\n",
      "Epsilon: 0.100\n",
      "Memory sizes: [20000, 20000, 20000, 20000]\n",
      "Recent rewards: [-0.15979446263278946, -0.07136733305825203, -0.28968061909543197, -0.3922724266184532]\n"
     ]
    },
    {
     "name": "stderr",
     "output_type": "stream",
     "text": [
      "Training:  93%|█████████▎| 92804/100000 [1:25:47<06:42, 17.86it/s]"
     ]
    },
    {
     "name": "stdout",
     "output_type": "stream",
     "text": [
      "\n",
      "Episode 92800:\n",
      "Epsilon: 0.100\n",
      "Memory sizes: [20000, 20000, 20000, 20000]\n",
      "Recent rewards: [-0.13249309703702294, -0.051447208085685876, -0.1508296564560797, -0.3463665581635088]\n"
     ]
    },
    {
     "name": "stderr",
     "output_type": "stream",
     "text": [
      "Training:  93%|█████████▎| 92904/100000 [1:25:53<06:36, 17.90it/s]"
     ]
    },
    {
     "name": "stdout",
     "output_type": "stream",
     "text": [
      "\n",
      "Episode 92900:\n",
      "Epsilon: 0.100\n",
      "Memory sizes: [20000, 20000, 20000, 20000]\n",
      "Recent rewards: [-0.11572373651057559, -0.04598468629040038, -0.18521266914117032, -0.5205556203101337]\n"
     ]
    },
    {
     "name": "stderr",
     "output_type": "stream",
     "text": [
      "Training:  93%|█████████▎| 93004/100000 [1:25:59<06:59, 16.69it/s]"
     ]
    },
    {
     "name": "stdout",
     "output_type": "stream",
     "text": [
      "\n",
      "Episode 93000:\n",
      "Epsilon: 0.100\n",
      "Memory sizes: [20000, 20000, 20000, 20000]\n",
      "Recent rewards: [-0.10707443786444135, -0.06577828353591399, -0.2059756615318501, -0.42120475280394376]\n"
     ]
    },
    {
     "name": "stderr",
     "output_type": "stream",
     "text": [
      "Training:  93%|█████████▎| 93104/100000 [1:26:05<06:39, 17.24it/s]"
     ]
    },
    {
     "name": "stdout",
     "output_type": "stream",
     "text": [
      "\n",
      "Episode 93100:\n",
      "Epsilon: 0.100\n",
      "Memory sizes: [20000, 20000, 20000, 20000]\n",
      "Recent rewards: [-0.26089071223452537, -0.028160940390882273, -0.0856850030356018, -0.4021711543729898]\n"
     ]
    },
    {
     "name": "stderr",
     "output_type": "stream",
     "text": [
      "Training:  93%|█████████▎| 93204/100000 [1:26:11<06:20, 17.85it/s]"
     ]
    },
    {
     "name": "stdout",
     "output_type": "stream",
     "text": [
      "\n",
      "Episode 93200:\n",
      "Epsilon: 0.100\n",
      "Memory sizes: [20000, 20000, 20000, 20000]\n",
      "Recent rewards: [-0.12239310538071954, -0.05786336565222893, -0.1631154788430633, -0.4786098170357231]\n"
     ]
    },
    {
     "name": "stderr",
     "output_type": "stream",
     "text": [
      "Training:  93%|█████████▎| 93304/100000 [1:26:17<06:33, 17.02it/s]"
     ]
    },
    {
     "name": "stdout",
     "output_type": "stream",
     "text": [
      "\n",
      "Episode 93300:\n",
      "Epsilon: 0.100\n",
      "Memory sizes: [20000, 20000, 20000, 20000]\n",
      "Recent rewards: [-0.14310627017667477, -0.022864714881944134, -0.08325571348125298, -0.3438179482581583]\n"
     ]
    },
    {
     "name": "stderr",
     "output_type": "stream",
     "text": [
      "Training:  93%|█████████▎| 93404/100000 [1:26:22<06:26, 17.05it/s]"
     ]
    },
    {
     "name": "stdout",
     "output_type": "stream",
     "text": [
      "\n",
      "Episode 93400:\n",
      "Epsilon: 0.100\n",
      "Memory sizes: [20000, 20000, 20000, 20000]\n",
      "Recent rewards: [-0.07418814578337071, 0.0072538284273999, -0.25198199987915193, -0.3945293613455594]\n"
     ]
    },
    {
     "name": "stderr",
     "output_type": "stream",
     "text": [
      "Training:  94%|█████████▎| 93504/100000 [1:26:28<06:28, 16.71it/s]"
     ]
    },
    {
     "name": "stdout",
     "output_type": "stream",
     "text": [
      "\n",
      "Episode 93500:\n",
      "Epsilon: 0.100\n",
      "Memory sizes: [20000, 20000, 20000, 20000]\n",
      "Recent rewards: [-0.19290469435639124, -0.029931202800048174, -0.157493101434299, -0.3850758696218117]\n"
     ]
    },
    {
     "name": "stderr",
     "output_type": "stream",
     "text": [
      "Training:  94%|█████████▎| 93604/100000 [1:26:34<06:14, 17.09it/s]"
     ]
    },
    {
     "name": "stdout",
     "output_type": "stream",
     "text": [
      "\n",
      "Episode 93600:\n",
      "Epsilon: 0.100\n",
      "Memory sizes: [20000, 20000, 20000, 20000]\n",
      "Recent rewards: [-0.22594623102912448, -0.05624617157260011, -0.04467226120211272, -0.30803779853209157]\n"
     ]
    },
    {
     "name": "stderr",
     "output_type": "stream",
     "text": [
      "Training:  94%|█████████▎| 93704/100000 [1:26:40<06:25, 16.32it/s]"
     ]
    },
    {
     "name": "stdout",
     "output_type": "stream",
     "text": [
      "\n",
      "Episode 93700:\n",
      "Epsilon: 0.100\n",
      "Memory sizes: [20000, 20000, 20000, 20000]\n",
      "Recent rewards: [-0.20010323981552933, -0.02990754299926877, -0.1439894908791434, -0.46042039717540867]\n"
     ]
    },
    {
     "name": "stderr",
     "output_type": "stream",
     "text": [
      "Training:  94%|█████████▍| 93804/100000 [1:26:46<06:32, 15.77it/s]"
     ]
    },
    {
     "name": "stdout",
     "output_type": "stream",
     "text": [
      "\n",
      "Episode 93800:\n",
      "Epsilon: 0.100\n",
      "Memory sizes: [20000, 20000, 20000, 20000]\n",
      "Recent rewards: [-0.24987272745843533, -0.04845514857502575, -0.34597706650942756, -0.3704133889861113]\n"
     ]
    },
    {
     "name": "stderr",
     "output_type": "stream",
     "text": [
      "Training:  94%|█████████▍| 93904/100000 [1:26:52<06:09, 16.51it/s]"
     ]
    },
    {
     "name": "stdout",
     "output_type": "stream",
     "text": [
      "\n",
      "Episode 93900:\n",
      "Epsilon: 0.100\n",
      "Memory sizes: [20000, 20000, 20000, 20000]\n",
      "Recent rewards: [-0.2799007334698551, -0.17361613617287153, -0.11183684844272636, -0.35413462226290904]\n"
     ]
    },
    {
     "name": "stderr",
     "output_type": "stream",
     "text": [
      "Training:  94%|█████████▍| 94004/100000 [1:26:58<05:47, 17.25it/s]"
     ]
    },
    {
     "name": "stdout",
     "output_type": "stream",
     "text": [
      "\n",
      "Episode 94000:\n",
      "Epsilon: 0.100\n",
      "Memory sizes: [20000, 20000, 20000, 20000]\n",
      "Recent rewards: [-0.20974179173336935, -0.05079382568164772, -0.23157844679454695, -0.45453274701668916]\n"
     ]
    },
    {
     "name": "stderr",
     "output_type": "stream",
     "text": [
      "Training:  94%|█████████▍| 94104/100000 [1:27:04<05:44, 17.14it/s]"
     ]
    },
    {
     "name": "stdout",
     "output_type": "stream",
     "text": [
      "\n",
      "Episode 94100:\n",
      "Epsilon: 0.100\n",
      "Memory sizes: [20000, 20000, 20000, 20000]\n",
      "Recent rewards: [-0.2012497649364004, -0.035363514718076916, -0.18321178416268513, -0.519453848296979]\n"
     ]
    },
    {
     "name": "stderr",
     "output_type": "stream",
     "text": [
      "Training:  94%|█████████▍| 94204/100000 [1:27:10<05:37, 17.18it/s]"
     ]
    },
    {
     "name": "stdout",
     "output_type": "stream",
     "text": [
      "\n",
      "Episode 94200:\n",
      "Epsilon: 0.100\n",
      "Memory sizes: [20000, 20000, 20000, 20000]\n",
      "Recent rewards: [-0.1865649103545729, -0.05308390244274186, -0.457272508381905, -0.3245080549866573]\n"
     ]
    },
    {
     "name": "stderr",
     "output_type": "stream",
     "text": [
      "Training:  94%|█████████▍| 94304/100000 [1:27:16<05:24, 17.56it/s]"
     ]
    },
    {
     "name": "stdout",
     "output_type": "stream",
     "text": [
      "\n",
      "Episode 94300:\n",
      "Epsilon: 0.100\n",
      "Memory sizes: [20000, 20000, 20000, 20000]\n",
      "Recent rewards: [-0.20149169582861415, -0.09223085783799742, -0.16208377451302058, -0.26745065363342785]\n"
     ]
    },
    {
     "name": "stderr",
     "output_type": "stream",
     "text": [
      "Training:  94%|█████████▍| 94404/100000 [1:27:22<05:26, 17.15it/s]"
     ]
    },
    {
     "name": "stdout",
     "output_type": "stream",
     "text": [
      "\n",
      "Episode 94400:\n",
      "Epsilon: 0.100\n",
      "Memory sizes: [20000, 20000, 20000, 20000]\n",
      "Recent rewards: [-0.26577271680953274, -0.03583731950006545, -0.10014423680345923, -0.32111424313446607]\n"
     ]
    },
    {
     "name": "stderr",
     "output_type": "stream",
     "text": [
      "Training:  95%|█████████▍| 94504/100000 [1:27:27<05:09, 17.74it/s]"
     ]
    },
    {
     "name": "stdout",
     "output_type": "stream",
     "text": [
      "\n",
      "Episode 94500:\n",
      "Epsilon: 0.100\n",
      "Memory sizes: [20000, 20000, 20000, 20000]\n",
      "Recent rewards: [-0.1900871246841244, -0.09453211196348237, -0.09669828739368669, -0.3435194670872805]\n"
     ]
    },
    {
     "name": "stderr",
     "output_type": "stream",
     "text": [
      "Training:  95%|█████████▍| 94604/100000 [1:27:33<05:31, 16.30it/s]"
     ]
    },
    {
     "name": "stdout",
     "output_type": "stream",
     "text": [
      "\n",
      "Episode 94600:\n",
      "Epsilon: 0.100\n",
      "Memory sizes: [20000, 20000, 20000, 20000]\n",
      "Recent rewards: [-0.29466396098226366, -0.07170404224064061, -0.25810037820829335, -0.370042078595762]\n"
     ]
    },
    {
     "name": "stderr",
     "output_type": "stream",
     "text": [
      "Training:  95%|█████████▍| 94704/100000 [1:27:39<05:16, 16.75it/s]"
     ]
    },
    {
     "name": "stdout",
     "output_type": "stream",
     "text": [
      "\n",
      "Episode 94700:\n",
      "Epsilon: 0.100\n",
      "Memory sizes: [20000, 20000, 20000, 20000]\n",
      "Recent rewards: [-0.1766011535322568, -0.024613514717814117, -0.25820261584862186, -0.4079106877744901]\n"
     ]
    },
    {
     "name": "stderr",
     "output_type": "stream",
     "text": [
      "Training:  95%|█████████▍| 94804/100000 [1:27:45<04:55, 17.60it/s]"
     ]
    },
    {
     "name": "stdout",
     "output_type": "stream",
     "text": [
      "\n",
      "Episode 94800:\n",
      "Epsilon: 0.100\n",
      "Memory sizes: [20000, 20000, 20000, 20000]\n",
      "Recent rewards: [-0.1305054457633564, -0.03948468629040039, -0.2526702298285866, -0.42441895930748935]\n"
     ]
    },
    {
     "name": "stderr",
     "output_type": "stream",
     "text": [
      "Training:  95%|█████████▍| 94904/100000 [1:27:51<05:08, 16.53it/s]"
     ]
    },
    {
     "name": "stdout",
     "output_type": "stream",
     "text": [
      "\n",
      "Episode 94900:\n",
      "Epsilon: 0.100\n",
      "Memory sizes: [20000, 20000, 20000, 20000]\n",
      "Recent rewards: [-0.47220540980395254, -0.04873085786224544, -0.08393295321350068, -0.35416207503038666]\n"
     ]
    },
    {
     "name": "stderr",
     "output_type": "stream",
     "text": [
      "Training:  95%|█████████▌| 95004/100000 [1:27:57<05:07, 16.26it/s]"
     ]
    },
    {
     "name": "stdout",
     "output_type": "stream",
     "text": [
      "\n",
      "Episode 95000:\n",
      "Epsilon: 0.100\n",
      "Memory sizes: [20000, 20000, 20000, 20000]\n",
      "Recent rewards: [-0.23206902610267266, -0.06148468629040039, -0.09053715346041027, -0.3831115042176056]\n"
     ]
    },
    {
     "name": "stderr",
     "output_type": "stream",
     "text": [
      "Training:  95%|█████████▌| 95104/100000 [1:28:03<04:49, 16.89it/s]"
     ]
    },
    {
     "name": "stdout",
     "output_type": "stream",
     "text": [
      "\n",
      "Episode 95100:\n",
      "Epsilon: 0.100\n",
      "Memory sizes: [20000, 20000, 20000, 20000]\n",
      "Recent rewards: [-0.24720124960628032, -0.0619674296428881, -0.055894047750012624, -0.5250851735669708]\n"
     ]
    },
    {
     "name": "stderr",
     "output_type": "stream",
     "text": [
      "Training:  95%|█████████▌| 95204/100000 [1:28:09<04:47, 16.69it/s]"
     ]
    },
    {
     "name": "stdout",
     "output_type": "stream",
     "text": [
      "\n",
      "Episode 95200:\n",
      "Epsilon: 0.100\n",
      "Memory sizes: [20000, 20000, 20000, 20000]\n",
      "Recent rewards: [-0.2849069010987426, -0.040887025193927416, -0.17320250372247717, -0.29071567152657546]\n"
     ]
    },
    {
     "name": "stderr",
     "output_type": "stream",
     "text": [
      "Training:  95%|█████████▌| 95304/100000 [1:28:15<04:30, 17.38it/s]"
     ]
    },
    {
     "name": "stdout",
     "output_type": "stream",
     "text": [
      "\n",
      "Episode 95300:\n",
      "Epsilon: 0.100\n",
      "Memory sizes: [20000, 20000, 20000, 20000]\n",
      "Recent rewards: [-0.2157446040583152, -0.08372320100820069, -0.0954080741931199, -0.45988893674210646]\n"
     ]
    },
    {
     "name": "stderr",
     "output_type": "stream",
     "text": [
      "Training:  95%|█████████▌| 95404/100000 [1:28:20<04:24, 17.37it/s]"
     ]
    },
    {
     "name": "stdout",
     "output_type": "stream",
     "text": [
      "\n",
      "Episode 95400:\n",
      "Epsilon: 0.100\n",
      "Memory sizes: [20000, 20000, 20000, 20000]\n",
      "Recent rewards: [-0.2628178580995244, -0.09071647979069762, -0.2275060397818657, -0.2576029408806778]\n"
     ]
    },
    {
     "name": "stderr",
     "output_type": "stream",
     "text": [
      "Training:  96%|█████████▌| 95504/100000 [1:28:26<04:11, 17.85it/s]"
     ]
    },
    {
     "name": "stdout",
     "output_type": "stream",
     "text": [
      "\n",
      "Episode 95500:\n",
      "Epsilon: 0.100\n",
      "Memory sizes: [20000, 20000, 20000, 20000]\n",
      "Recent rewards: [-0.23832382407555167, -0.0838599751123514, -0.06432528699849982, -0.37224744544660615]\n"
     ]
    },
    {
     "name": "stderr",
     "output_type": "stream",
     "text": [
      "Training:  96%|█████████▌| 95604/100000 [1:28:32<04:06, 17.84it/s]"
     ]
    },
    {
     "name": "stdout",
     "output_type": "stream",
     "text": [
      "\n",
      "Episode 95600:\n",
      "Epsilon: 0.100\n",
      "Memory sizes: [20000, 20000, 20000, 20000]\n",
      "Recent rewards: [-0.16994659683946703, -0.1031020294356006, -0.24119939613398342, -0.3201080740036682]\n"
     ]
    },
    {
     "name": "stderr",
     "output_type": "stream",
     "text": [
      "Training:  96%|█████████▌| 95704/100000 [1:28:38<04:16, 16.73it/s]"
     ]
    },
    {
     "name": "stdout",
     "output_type": "stream",
     "text": [
      "\n",
      "Episode 95700:\n",
      "Epsilon: 0.100\n",
      "Memory sizes: [20000, 20000, 20000, 20000]\n",
      "Recent rewards: [-0.13791905739719676, -0.0919003988428285, -0.21311130491806765, -0.3120794067114127]\n"
     ]
    },
    {
     "name": "stderr",
     "output_type": "stream",
     "text": [
      "Training:  96%|█████████▌| 95804/100000 [1:28:43<04:06, 17.04it/s]"
     ]
    },
    {
     "name": "stdout",
     "output_type": "stream",
     "text": [
      "\n",
      "Episode 95800:\n",
      "Epsilon: 0.100\n",
      "Memory sizes: [20000, 20000, 20000, 20000]\n",
      "Recent rewards: [-0.1322978080217466, -0.01288833517302497, -0.27917760535577174, -0.40995235281314024]\n"
     ]
    },
    {
     "name": "stderr",
     "output_type": "stream",
     "text": [
      "Training:  96%|█████████▌| 95904/100000 [1:28:49<04:00, 17.01it/s]"
     ]
    },
    {
     "name": "stdout",
     "output_type": "stream",
     "text": [
      "\n",
      "Episode 95900:\n",
      "Epsilon: 0.100\n",
      "Memory sizes: [20000, 20000, 20000, 20000]\n",
      "Recent rewards: [-0.04430326140635547, -0.08778616882684906, -0.12323741967558353, -0.435424774341258]\n"
     ]
    },
    {
     "name": "stderr",
     "output_type": "stream",
     "text": [
      "Training:  96%|█████████▌| 96004/100000 [1:28:55<03:51, 17.29it/s]"
     ]
    },
    {
     "name": "stdout",
     "output_type": "stream",
     "text": [
      "\n",
      "Episode 96000:\n",
      "Epsilon: 0.100\n",
      "Memory sizes: [20000, 20000, 20000, 20000]\n",
      "Recent rewards: [-0.17990297478285108, -0.0899923423151603, -0.1779773950217285, -0.3948302693030423]\n"
     ]
    },
    {
     "name": "stderr",
     "output_type": "stream",
     "text": [
      "Training:  96%|█████████▌| 96104/100000 [1:29:01<03:51, 16.84it/s]"
     ]
    },
    {
     "name": "stdout",
     "output_type": "stream",
     "text": [
      "\n",
      "Episode 96100:\n",
      "Epsilon: 0.100\n",
      "Memory sizes: [20000, 20000, 20000, 20000]\n",
      "Recent rewards: [-0.16430693626053966, -0.023242343145200194, -0.19343884064031933, -0.4381317023623057]\n"
     ]
    },
    {
     "name": "stderr",
     "output_type": "stream",
     "text": [
      "Training:  96%|█████████▌| 96204/100000 [1:29:07<03:41, 17.13it/s]"
     ]
    },
    {
     "name": "stdout",
     "output_type": "stream",
     "text": [
      "\n",
      "Episode 96200:\n",
      "Epsilon: 0.100\n",
      "Memory sizes: [20000, 20000, 20000, 20000]\n",
      "Recent rewards: [-0.19748675246728264, -0.07909915086039115, -0.15846070208198193, -0.2377366396388245]\n"
     ]
    },
    {
     "name": "stderr",
     "output_type": "stream",
     "text": [
      "Training:  96%|█████████▋| 96304/100000 [1:29:13<03:34, 17.19it/s]"
     ]
    },
    {
     "name": "stdout",
     "output_type": "stream",
     "text": [
      "\n",
      "Episode 96300:\n",
      "Epsilon: 0.100\n",
      "Memory sizes: [20000, 20000, 20000, 20000]\n",
      "Recent rewards: [-0.17668451571185842, 0.021882656854737826, -0.31367828367155065, -0.3804781084222524]\n"
     ]
    },
    {
     "name": "stderr",
     "output_type": "stream",
     "text": [
      "Training:  96%|█████████▋| 96404/100000 [1:29:19<03:42, 16.15it/s]"
     ]
    },
    {
     "name": "stdout",
     "output_type": "stream",
     "text": [
      "\n",
      "Episode 96400:\n",
      "Epsilon: 0.100\n",
      "Memory sizes: [20000, 20000, 20000, 20000]\n",
      "Recent rewards: [-0.24536126109614742, -0.06846649400559135, -0.3323539324702445, -0.4384994649364882]\n"
     ]
    },
    {
     "name": "stderr",
     "output_type": "stream",
     "text": [
      "Training:  97%|█████████▋| 96504/100000 [1:29:25<03:25, 17.02it/s]"
     ]
    },
    {
     "name": "stdout",
     "output_type": "stream",
     "text": [
      "\n",
      "Episode 96500:\n",
      "Epsilon: 0.100\n",
      "Memory sizes: [20000, 20000, 20000, 20000]\n",
      "Recent rewards: [-0.11077918208986404, -0.010996171572600098, -0.14898055197463966, -0.5873355985647393]\n"
     ]
    },
    {
     "name": "stderr",
     "output_type": "stream",
     "text": [
      "Training:  97%|█████████▋| 96604/100000 [1:29:30<03:10, 17.80it/s]"
     ]
    },
    {
     "name": "stdout",
     "output_type": "stream",
     "text": [
      "\n",
      "Episode 96600:\n",
      "Epsilon: 0.100\n",
      "Memory sizes: [20000, 20000, 20000, 20000]\n",
      "Recent rewards: [-0.0672170818878389, -0.034107218398880666, -0.08850587328266975, -0.5570050433764705]\n"
     ]
    },
    {
     "name": "stderr",
     "output_type": "stream",
     "text": [
      "Training:  97%|█████████▋| 96704/100000 [1:29:36<03:04, 17.84it/s]"
     ]
    },
    {
     "name": "stdout",
     "output_type": "stream",
     "text": [
      "\n",
      "Episode 96700:\n",
      "Epsilon: 0.100\n",
      "Memory sizes: [20000, 20000, 20000, 20000]\n",
      "Recent rewards: [-0.161893886428186, -0.03178748415624327, -0.20256860341594268, -0.4456008508404106]\n"
     ]
    },
    {
     "name": "stderr",
     "output_type": "stream",
     "text": [
      "Training:  97%|█████████▋| 96803/100000 [1:29:42<03:08, 16.93it/s]"
     ]
    },
    {
     "name": "stdout",
     "output_type": "stream",
     "text": [
      "\n",
      "Episode 96800:\n",
      "Epsilon: 0.100\n",
      "Memory sizes: [20000, 20000, 20000, 20000]\n",
      "Recent rewards: [-0.15159182773402224, -0.04204765410904877, -0.10000995168927906, -0.5829603064669162]\n"
     ]
    },
    {
     "name": "stderr",
     "output_type": "stream",
     "text": [
      "Training:  97%|█████████▋| 96903/100000 [1:29:47<02:50, 18.14it/s]"
     ]
    },
    {
     "name": "stdout",
     "output_type": "stream",
     "text": [
      "\n",
      "Episode 96900:\n",
      "Epsilon: 0.100\n",
      "Memory sizes: [20000, 20000, 20000, 20000]\n",
      "Recent rewards: [-0.16735534952323916, -0.049093329681522885, -0.06395755401867745, -0.4241701859784813]\n"
     ]
    },
    {
     "name": "stderr",
     "output_type": "stream",
     "text": [
      "Training:  97%|█████████▋| 97003/100000 [1:29:53<02:48, 17.81it/s]"
     ]
    },
    {
     "name": "stdout",
     "output_type": "stream",
     "text": [
      "\n",
      "Episode 97000:\n",
      "Epsilon: 0.100\n",
      "Memory sizes: [20000, 20000, 20000, 20000]\n",
      "Recent rewards: [-0.11686365276150112, -0.09119326027390824, -0.22382352819239673, -0.3859220907513856]\n"
     ]
    },
    {
     "name": "stderr",
     "output_type": "stream",
     "text": [
      "Training:  97%|█████████▋| 97103/100000 [1:29:59<02:50, 16.97it/s]"
     ]
    },
    {
     "name": "stdout",
     "output_type": "stream",
     "text": [
      "\n",
      "Episode 97100:\n",
      "Epsilon: 0.100\n",
      "Memory sizes: [20000, 20000, 20000, 20000]\n",
      "Recent rewards: [-0.11224504426578882, -0.060977029435600585, -0.3060479546068153, -0.4538124759677896]\n"
     ]
    },
    {
     "name": "stderr",
     "output_type": "stream",
     "text": [
      "Training:  97%|█████████▋| 97203/100000 [1:30:04<02:37, 17.74it/s]"
     ]
    },
    {
     "name": "stdout",
     "output_type": "stream",
     "text": [
      "\n",
      "Episode 97200:\n",
      "Epsilon: 0.100\n",
      "Memory sizes: [20000, 20000, 20000, 20000]\n",
      "Recent rewards: [-0.10113225043326153, -0.08248085649787992, -0.09253346887378329, -0.43743151137974967]\n"
     ]
    },
    {
     "name": "stderr",
     "output_type": "stream",
     "text": [
      "Training:  97%|█████████▋| 97303/100000 [1:30:10<02:31, 17.75it/s]"
     ]
    },
    {
     "name": "stdout",
     "output_type": "stream",
     "text": [
      "\n",
      "Episode 97300:\n",
      "Epsilon: 0.100\n",
      "Memory sizes: [20000, 20000, 20000, 20000]\n",
      "Recent rewards: [0.011580830537001983, -0.09948114780344397, -0.14994924075913502, -0.48383139314046647]\n"
     ]
    },
    {
     "name": "stderr",
     "output_type": "stream",
     "text": [
      "Training:  97%|█████████▋| 97403/100000 [1:30:16<02:31, 17.16it/s]"
     ]
    },
    {
     "name": "stdout",
     "output_type": "stream",
     "text": [
      "\n",
      "Episode 97400:\n",
      "Epsilon: 0.100\n",
      "Memory sizes: [20000, 20000, 20000, 20000]\n",
      "Recent rewards: [-0.1675997747941684, -0.0983701286733222, -0.0016877287905731563, -0.4175912447405776]\n"
     ]
    },
    {
     "name": "stderr",
     "output_type": "stream",
     "text": [
      "Training:  98%|█████████▊| 97503/100000 [1:30:22<02:24, 17.26it/s]"
     ]
    },
    {
     "name": "stdout",
     "output_type": "stream",
     "text": [
      "\n",
      "Episode 97500:\n",
      "Epsilon: 0.100\n",
      "Memory sizes: [20000, 20000, 20000, 20000]\n",
      "Recent rewards: [-0.012298437769255082, -0.08801265835072193, -0.28356206407318835, -0.5176386838659638]\n"
     ]
    },
    {
     "name": "stderr",
     "output_type": "stream",
     "text": [
      "Training:  98%|█████████▊| 97603/100000 [1:30:28<02:29, 16.00it/s]"
     ]
    },
    {
     "name": "stdout",
     "output_type": "stream",
     "text": [
      "\n",
      "Episode 97600:\n",
      "Epsilon: 0.100\n",
      "Memory sizes: [20000, 20000, 20000, 20000]\n",
      "Recent rewards: [-0.17981297312067768, -0.061367343145200204, -0.25741130146604135, -0.5292176961465533]\n"
     ]
    },
    {
     "name": "stderr",
     "output_type": "stream",
     "text": [
      "Training:  98%|█████████▊| 97703/100000 [1:30:34<02:16, 16.80it/s]"
     ]
    },
    {
     "name": "stdout",
     "output_type": "stream",
     "text": [
      "\n",
      "Episode 97700:\n",
      "Epsilon: 0.100\n",
      "Memory sizes: [20000, 20000, 20000, 20000]\n",
      "Recent rewards: [-0.11535440472859085, -0.07722702795842407, -0.18299032708983062, -0.4869662558110573]\n"
     ]
    },
    {
     "name": "stderr",
     "output_type": "stream",
     "text": [
      "Training:  98%|█████████▊| 97803/100000 [1:30:40<02:07, 17.27it/s]"
     ]
    },
    {
     "name": "stdout",
     "output_type": "stream",
     "text": [
      "\n",
      "Episode 97800:\n",
      "Epsilon: 0.100\n",
      "Memory sizes: [20000, 20000, 20000, 20000]\n",
      "Recent rewards: [-0.05001984305187602, -0.021605857863000462, -0.15697185060356744, -0.4462251475590734]\n"
     ]
    },
    {
     "name": "stderr",
     "output_type": "stream",
     "text": [
      "Training:  98%|█████████▊| 97903/100000 [1:30:46<02:00, 17.41it/s]"
     ]
    },
    {
     "name": "stdout",
     "output_type": "stream",
     "text": [
      "\n",
      "Episode 97900:\n",
      "Epsilon: 0.100\n",
      "Memory sizes: [20000, 20000, 20000, 20000]\n",
      "Recent rewards: [-0.1530318945594719, -0.0347423431452002, -0.27399638128825066, -0.5580460113261525]\n"
     ]
    },
    {
     "name": "stderr",
     "output_type": "stream",
     "text": [
      "Training:  98%|█████████▊| 98003/100000 [1:30:52<01:52, 17.79it/s]"
     ]
    },
    {
     "name": "stdout",
     "output_type": "stream",
     "text": [
      "\n",
      "Episode 98000:\n",
      "Epsilon: 0.100\n",
      "Memory sizes: [20000, 20000, 20000, 20000]\n",
      "Recent rewards: [-0.29316543890452773, -0.03129268928830804, -0.00277062775043353, -0.5670775401019537]\n"
     ]
    },
    {
     "name": "stderr",
     "output_type": "stream",
     "text": [
      "Training:  98%|█████████▊| 98103/100000 [1:30:57<01:46, 17.85it/s]"
     ]
    },
    {
     "name": "stdout",
     "output_type": "stream",
     "text": [
      "\n",
      "Episode 98100:\n",
      "Epsilon: 0.100\n",
      "Memory sizes: [20000, 20000, 20000, 20000]\n",
      "Recent rewards: [-0.20567957986739768, -0.07516094039088228, -0.1996019359102911, -0.33048840209383307]\n"
     ]
    },
    {
     "name": "stderr",
     "output_type": "stream",
     "text": [
      "Training:  98%|█████████▊| 98203/100000 [1:31:03<01:47, 16.74it/s]"
     ]
    },
    {
     "name": "stdout",
     "output_type": "stream",
     "text": [
      "\n",
      "Episode 98200:\n",
      "Epsilon: 0.100\n",
      "Memory sizes: [20000, 20000, 20000, 20000]\n",
      "Recent rewards: [-0.13198971328807071, -0.06979378784077275, -0.20012020017100668, -0.42407407483917636]\n"
     ]
    },
    {
     "name": "stderr",
     "output_type": "stream",
     "text": [
      "Training:  98%|█████████▊| 98303/100000 [1:31:09<01:39, 16.99it/s]"
     ]
    },
    {
     "name": "stdout",
     "output_type": "stream",
     "text": [
      "\n",
      "Episode 98300:\n",
      "Epsilon: 0.100\n",
      "Memory sizes: [20000, 20000, 20000, 20000]\n",
      "Recent rewards: [-0.1480920387691549, -0.07503998062341065, -0.17817528645251643, -0.4760256106354211]\n"
     ]
    },
    {
     "name": "stderr",
     "output_type": "stream",
     "text": [
      "Training:  98%|█████████▊| 98403/100000 [1:31:15<01:35, 16.76it/s]"
     ]
    },
    {
     "name": "stdout",
     "output_type": "stream",
     "text": [
      "\n",
      "Episode 98400:\n",
      "Epsilon: 0.100\n",
      "Memory sizes: [20000, 20000, 20000, 20000]\n",
      "Recent rewards: [0.017986286498008056, -0.10485190705430837, -0.24369744355194917, -0.47018644110755836]\n"
     ]
    },
    {
     "name": "stderr",
     "output_type": "stream",
     "text": [
      "Training:  99%|█████████▊| 98503/100000 [1:31:20<01:27, 17.15it/s]"
     ]
    },
    {
     "name": "stdout",
     "output_type": "stream",
     "text": [
      "\n",
      "Episode 98500:\n",
      "Epsilon: 0.100\n",
      "Memory sizes: [20000, 20000, 20000, 20000]\n",
      "Recent rewards: [-0.07929776533642846, -0.11127828270809487, -0.14158080521871438, -0.497967220139945]\n"
     ]
    },
    {
     "name": "stderr",
     "output_type": "stream",
     "text": [
      "Training:  99%|█████████▊| 98603/100000 [1:31:26<01:26, 16.10it/s]"
     ]
    },
    {
     "name": "stdout",
     "output_type": "stream",
     "text": [
      "\n",
      "Episode 98600:\n",
      "Epsilon: 0.100\n",
      "Memory sizes: [20000, 20000, 20000, 20000]\n",
      "Recent rewards: [0.1153972407684864, -0.08386351471780029, -0.14435408144723827, -0.48775296933347856]\n"
     ]
    },
    {
     "name": "stderr",
     "output_type": "stream",
     "text": [
      "Training:  99%|█████████▊| 98703/100000 [1:31:32<01:12, 17.78it/s]"
     ]
    },
    {
     "name": "stdout",
     "output_type": "stream",
     "text": [
      "\n",
      "Episode 98700:\n",
      "Epsilon: 0.100\n",
      "Memory sizes: [20000, 20000, 20000, 20000]\n",
      "Recent rewards: [-0.03453864604380325, -0.040840544153400875, -0.34494743534609795, -0.49493483332950206]\n"
     ]
    },
    {
     "name": "stderr",
     "output_type": "stream",
     "text": [
      "Training:  99%|█████████▉| 98803/100000 [1:31:38<01:09, 17.18it/s]"
     ]
    },
    {
     "name": "stdout",
     "output_type": "stream",
     "text": [
      "\n",
      "Episode 98800:\n",
      "Epsilon: 0.100\n",
      "Memory sizes: [20000, 20000, 20000, 20000]\n",
      "Recent rewards: [-0.0002819528298704488, -0.0707796440715047, -0.28047120426629457, -0.33437811872896006]\n"
     ]
    },
    {
     "name": "stderr",
     "output_type": "stream",
     "text": [
      "Training:  99%|█████████▉| 98903/100000 [1:31:44<01:01, 17.83it/s]"
     ]
    },
    {
     "name": "stdout",
     "output_type": "stream",
     "text": [
      "\n",
      "Episode 98900:\n",
      "Epsilon: 0.100\n",
      "Memory sizes: [20000, 20000, 20000, 20000]\n",
      "Recent rewards: [-0.06609545325704289, -0.12001994711865231, -0.035423656384053634, -0.5024900830427458]\n"
     ]
    },
    {
     "name": "stderr",
     "output_type": "stream",
     "text": [
      "Training:  99%|█████████▉| 99003/100000 [1:31:50<01:02, 16.01it/s]"
     ]
    },
    {
     "name": "stdout",
     "output_type": "stream",
     "text": [
      "\n",
      "Episode 99000:\n",
      "Epsilon: 0.100\n",
      "Memory sizes: [20000, 20000, 20000, 20000]\n",
      "Recent rewards: [-0.254760506705278, -0.05292810396676204, -0.01996318135595384, -0.3044062259752192]\n"
     ]
    },
    {
     "name": "stderr",
     "output_type": "stream",
     "text": [
      "Training:  99%|█████████▉| 99103/100000 [1:31:55<00:51, 17.46it/s]"
     ]
    },
    {
     "name": "stdout",
     "output_type": "stream",
     "text": [
      "\n",
      "Episode 99100:\n",
      "Epsilon: 0.100\n",
      "Memory sizes: [20000, 20000, 20000, 20000]\n",
      "Recent rewards: [-0.21946693688414862, -0.04272241681207573, -0.11921994884985697, -0.2640729011059404]\n"
     ]
    },
    {
     "name": "stderr",
     "output_type": "stream",
     "text": [
      "Training:  99%|█████████▉| 99203/100000 [1:32:01<00:44, 17.88it/s]"
     ]
    },
    {
     "name": "stdout",
     "output_type": "stream",
     "text": [
      "\n",
      "Episode 99200:\n",
      "Epsilon: 0.100\n",
      "Memory sizes: [20000, 20000, 20000, 20000]\n",
      "Recent rewards: [-0.19780316244374035, -0.07199449579342238, -0.10807191560301818, -0.46816790202275543]\n"
     ]
    },
    {
     "name": "stderr",
     "output_type": "stream",
     "text": [
      "Training:  99%|█████████▉| 99303/100000 [1:32:07<00:38, 18.18it/s]"
     ]
    },
    {
     "name": "stdout",
     "output_type": "stream",
     "text": [
      "\n",
      "Episode 99300:\n",
      "Epsilon: 0.100\n",
      "Memory sizes: [20000, 20000, 20000, 20000]\n",
      "Recent rewards: [-0.06524906766190963, -0.08807748456721785, -0.22748608969032838, -0.3231434070742887]\n"
     ]
    },
    {
     "name": "stderr",
     "output_type": "stream",
     "text": [
      "Training:  99%|█████████▉| 99405/100000 [1:32:12<00:32, 18.43it/s]"
     ]
    },
    {
     "name": "stdout",
     "output_type": "stream",
     "text": [
      "\n",
      "Episode 99400:\n",
      "Epsilon: 0.100\n",
      "Memory sizes: [20000, 20000, 20000, 20000]\n",
      "Recent rewards: [-0.19982565936970353, -0.08584913664549744, -0.001239644890622209, -0.37781845312748397]\n"
     ]
    },
    {
     "name": "stderr",
     "output_type": "stream",
     "text": [
      "Training: 100%|█████████▉| 99503/100000 [1:32:18<00:27, 18.07it/s]"
     ]
    },
    {
     "name": "stdout",
     "output_type": "stream",
     "text": [
      "\n",
      "Episode 99500:\n",
      "Epsilon: 0.100\n",
      "Memory sizes: [20000, 20000, 20000, 20000]\n",
      "Recent rewards: [-0.17380328405817536, -0.04667146866019749, -0.16158716145266822, -0.3543125432933415]\n"
     ]
    },
    {
     "name": "stderr",
     "output_type": "stream",
     "text": [
      "Training: 100%|█████████▉| 99603/100000 [1:32:23<00:22, 17.98it/s]"
     ]
    },
    {
     "name": "stdout",
     "output_type": "stream",
     "text": [
      "\n",
      "Episode 99600:\n",
      "Epsilon: 0.100\n",
      "Memory sizes: [20000, 20000, 20000, 20000]\n",
      "Recent rewards: [-0.09116909575141462, -0.06808671572938478, -0.15276924691441984, -0.45403791600007304]\n"
     ]
    },
    {
     "name": "stderr",
     "output_type": "stream",
     "text": [
      "Training: 100%|█████████▉| 99703/100000 [1:32:29<00:16, 17.64it/s]"
     ]
    },
    {
     "name": "stdout",
     "output_type": "stream",
     "text": [
      "\n",
      "Episode 99700:\n",
      "Epsilon: 0.100\n",
      "Memory sizes: [20000, 20000, 20000, 20000]\n",
      "Recent rewards: [0.052997811953153375, -0.11719731701022348, -0.28680001001846195, -0.3164505586019776]\n"
     ]
    },
    {
     "name": "stderr",
     "output_type": "stream",
     "text": [
      "Training: 100%|█████████▉| 99803/100000 [1:32:35<00:11, 17.62it/s]"
     ]
    },
    {
     "name": "stdout",
     "output_type": "stream",
     "text": [
      "\n",
      "Episode 99800:\n",
      "Epsilon: 0.100\n",
      "Memory sizes: [20000, 20000, 20000, 20000]\n",
      "Recent rewards: [-0.2880533981108595, -0.08648468629040039, 0.03318980923903317, -0.3985646739361004]\n"
     ]
    },
    {
     "name": "stderr",
     "output_type": "stream",
     "text": [
      "Training: 100%|█████████▉| 99903/100000 [1:32:40<00:05, 17.70it/s]"
     ]
    },
    {
     "name": "stdout",
     "output_type": "stream",
     "text": [
      "\n",
      "Episode 99900:\n",
      "Epsilon: 0.100\n",
      "Memory sizes: [20000, 20000, 20000, 20000]\n",
      "Recent rewards: [-0.1725301004373633, -0.0808524820128619, -0.21587236004783628, -0.33015810442719173]\n"
     ]
    },
    {
     "name": "stderr",
     "output_type": "stream",
     "text": [
      "Training: 100%|██████████| 100000/100000 [1:32:46<00:00, 17.96it/s]\n"
     ]
    },
    {
     "data": {
      "image/png": "[encoded data removed]",
      "text/plain": [
       "<Figure size 1500x1000 with 4 Axes>"
      ]
     },
     "metadata": {},
     "output_type": "display_data"
    },
    {
     "ename": "RuntimeError",
     "evalue": "Parent directory ABSOLUTEFINALsaved_agents does not exist.",
     "output_type": "error",
     "traceback": [
      "\u001b[1;31m---------------------------------------------------------------------------\u001b[0m",
      "\u001b[1;31mRuntimeError\u001b[0m                              Traceback (most recent call last)",
      "Cell \u001b[1;32mIn[37], line 679\u001b[0m\n\u001b[0;32m    677\u001b[0m timestamp \u001b[38;5;241m=\u001b[39m datetime\u001b[38;5;241m.\u001b[39mdatetime\u001b[38;5;241m.\u001b[39mnow()\u001b[38;5;241m.\u001b[39mstrftime(\u001b[38;5;124m\"\u001b[39m\u001b[38;5;124m%\u001b[39m\u001b[38;5;124mY\u001b[39m\u001b[38;5;124m%\u001b[39m\u001b[38;5;124mm\u001b[39m\u001b[38;5;132;01m%d\u001b[39;00m\u001b[38;5;124m_\u001b[39m\u001b[38;5;124m%\u001b[39m\u001b[38;5;124mH\u001b[39m\u001b[38;5;124m%\u001b[39m\u001b[38;5;124mM\u001b[39m\u001b[38;5;124m%\u001b[39m\u001b[38;5;124mS\u001b[39m\u001b[38;5;124m\"\u001b[39m)\n\u001b[0;32m    678\u001b[0m \u001b[38;5;28;01mfor\u001b[39;00m i, agent \u001b[38;5;129;01min\u001b[39;00m \u001b[38;5;28menumerate\u001b[39m(trained_agents):\n\u001b[1;32m--> 679\u001b[0m     torch\u001b[38;5;241m.\u001b[39msave(agent\u001b[38;5;241m.\u001b[39mmodel\u001b[38;5;241m.\u001b[39mstate_dict(), \u001b[38;5;124mf\u001b[39m\u001b[38;5;124m\"\u001b[39m\u001b[38;5;124mABSOLUTEFINALsaved_agents/agent_\u001b[39m\u001b[38;5;132;01m{\u001b[39;00mi\u001b[38;5;132;01m}\u001b[39;00m\u001b[38;5;124m_\u001b[39m\u001b[38;5;132;01m{\u001b[39;00mtimestamp\u001b[38;5;132;01m}\u001b[39;00m\u001b[38;5;124m.pt\u001b[39m\u001b[38;5;124m\"\u001b[39m)\n\u001b[0;32m    680\u001b[0m \u001b[38;5;28mprint\u001b[39m(\u001b[38;5;124m\"\u001b[39m\u001b[38;5;124mAgents saved!\u001b[39m\u001b[38;5;124m\"\u001b[39m)\n\u001b[0;32m    682\u001b[0m \u001b[38;5;66;03m# Run simulation\u001b[39;00m\n",
      "File \u001b[1;32mD:\\Program_Files\\Anaconda\\Lib\\site-packages\\torch\\serialization.py:943\u001b[0m, in \u001b[0;36msave\u001b[1;34m(obj, f, pickle_module, pickle_protocol, _use_new_zipfile_serialization, _disable_byteorder_record)\u001b[0m\n\u001b[0;32m    940\u001b[0m _check_save_filelike(f)\n\u001b[0;32m    942\u001b[0m \u001b[38;5;28;01mif\u001b[39;00m _use_new_zipfile_serialization:\n\u001b[1;32m--> 943\u001b[0m     \u001b[38;5;28;01mwith\u001b[39;00m _open_zipfile_writer(f) \u001b[38;5;28;01mas\u001b[39;00m opened_zipfile:\n\u001b[0;32m    944\u001b[0m         _save(\n\u001b[0;32m    945\u001b[0m             obj,\n\u001b[0;32m    946\u001b[0m             opened_zipfile,\n\u001b[1;32m   (...)\u001b[0m\n\u001b[0;32m    949\u001b[0m             _disable_byteorder_record,\n\u001b[0;32m    950\u001b[0m         )\n\u001b[0;32m    951\u001b[0m         \u001b[38;5;28;01mreturn\u001b[39;00m\n",
      "File \u001b[1;32mD:\\Program_Files\\Anaconda\\Lib\\site-packages\\torch\\serialization.py:810\u001b[0m, in \u001b[0;36m_open_zipfile_writer\u001b[1;34m(name_or_buffer)\u001b[0m\n\u001b[0;32m    808\u001b[0m \u001b[38;5;28;01melse\u001b[39;00m:\n\u001b[0;32m    809\u001b[0m     container \u001b[38;5;241m=\u001b[39m _open_zipfile_writer_buffer\n\u001b[1;32m--> 810\u001b[0m \u001b[38;5;28;01mreturn\u001b[39;00m container(name_or_buffer)\n",
      "File \u001b[1;32mD:\\Program_Files\\Anaconda\\Lib\\site-packages\\torch\\serialization.py:781\u001b[0m, in \u001b[0;36m_open_zipfile_writer_file.__init__\u001b[1;34m(self, name)\u001b[0m\n\u001b[0;32m    777\u001b[0m     \u001b[38;5;28msuper\u001b[39m()\u001b[38;5;241m.\u001b[39m\u001b[38;5;21m__init__\u001b[39m(\n\u001b[0;32m    778\u001b[0m         torch\u001b[38;5;241m.\u001b[39m_C\u001b[38;5;241m.\u001b[39mPyTorchFileWriter(\u001b[38;5;28mself\u001b[39m\u001b[38;5;241m.\u001b[39mfile_stream, _compute_crc32)\n\u001b[0;32m    779\u001b[0m     )\n\u001b[0;32m    780\u001b[0m \u001b[38;5;28;01melse\u001b[39;00m:\n\u001b[1;32m--> 781\u001b[0m     \u001b[38;5;28msuper\u001b[39m()\u001b[38;5;241m.\u001b[39m\u001b[38;5;21m__init__\u001b[39m(torch\u001b[38;5;241m.\u001b[39m_C\u001b[38;5;241m.\u001b[39mPyTorchFileWriter(\u001b[38;5;28mself\u001b[39m\u001b[38;5;241m.\u001b[39mname, _compute_crc32))\n",
      "\u001b[1;31mRuntimeError\u001b[0m: Parent directory ABSOLUTEFINALsaved_agents does not exist."
     ]
    }
   ],
   "source": [
    "class Card:\n",
    "    def __init__(self, rank, suit):\n",
    "        self.rank = rank\n",
    "        self.suit = suit\n",
    "\n",
    "    def __repr__(self):\n",
    "        return f\"{self.rank}{self.suit}\"\n",
    "\n",
    "    def get_value(self):\n",
    "        return {'2': 2, '3': 3, '4': 4, '5': 5, '6': 6, '7': 7,\n",
    "                '8': 8, '9': 9, 'T': 10, 'J': 11, 'Q': 12, 'K': 13, 'A': 14}[self.rank]\n",
    "\n",
    "class Deck:\n",
    "    def __init__(self):\n",
    "        ranks = '23456789TJQKA'\n",
    "        suits = 'hdcs'\n",
    "        self.cards = [Card(r, s) for r in ranks for s in suits]\n",
    "        self.shuffle()\n",
    "\n",
    "    def shuffle(self):\n",
    "        random.shuffle(self.cards)\n",
    "\n",
    "    def deal(self):\n",
    "        return self.cards.pop() if self.cards else None\n",
    "\n",
    "def evaluate_hand(cards):\n",
    "    if len(cards) < 5:\n",
    "        return (0, [])\n",
    "    \n",
    "    best_rank, best_tiebreakers = -1, []\n",
    "    for combo in itertools.combinations(cards, 5):\n",
    "        vals = sorted([c.get_value() for c in combo], reverse=True)\n",
    "        suits = [c.suit for c in combo]\n",
    "        \n",
    "        flush = len(set(suits)) == 1\n",
    "        uniq = sorted(set(vals), reverse=True)\n",
    "        straight = False\n",
    "        \n",
    "        for i in range(len(uniq) - 4):\n",
    "            if uniq[i] - uniq[i+4] == 4:\n",
    "                straight = True\n",
    "                high_card = uniq[i]\n",
    "                break\n",
    "                \n",
    "        if set([14, 5, 4, 3, 2]).issubset(set(vals)):\n",
    "            straight, high_card = True, 5\n",
    "            \n",
    "        counts = defaultdict(int)\n",
    "        for v in vals: counts[v] += 1\n",
    "        count_vals = sorted(counts.items(), key=lambda x: (-x[1], -x[0]))\n",
    "        \n",
    "        if flush and straight:\n",
    "            current_rank, current_tiebreakers = 8, [high_card]\n",
    "        elif count_vals[0][1] == 4:\n",
    "            current_rank, current_tiebreakers = 7, [count_vals[0][0], count_vals[1][0]]\n",
    "        elif count_vals[0][1] == 3 and count_vals[1][1] == 2:\n",
    "            current_rank, current_tiebreakers = 6, [count_vals[0][0], count_vals[1][0]]\n",
    "        elif flush:\n",
    "            current_rank, current_tiebreakers = 5, vals[:5]\n",
    "        elif straight:\n",
    "            current_rank, current_tiebreakers = 4, [high_card]\n",
    "        elif count_vals[0][1] == 3:\n",
    "            current_rank, current_tiebreakers = 3, [count_vals[0][0]] + sorted(set(vals)-{count_vals[0][0]}, reverse=True)[:2]\n",
    "        elif count_vals[0][1] == 2 and count_vals[1][1] == 2:\n",
    "            pairs = sorted([count_vals[0][0], count_vals[1][0]], reverse=True)\n",
    "            current_rank, current_tiebreakers = 2, pairs + [max(set(vals)-set(pairs))]\n",
    "        elif count_vals[0][1] == 2:\n",
    "            current_rank, current_tiebreakers = 1, [count_vals[0][0]] + sorted(set(vals)-{count_vals[0][0]}, reverse=True)[:3]\n",
    "        else:\n",
    "            current_rank, current_tiebreakers = 0, vals[:5]\n",
    "            \n",
    "        if current_rank > best_rank or (current_rank == best_rank and current_tiebreakers > best_tiebreakers):\n",
    "            best_rank, best_tiebreakers = current_rank, current_tiebreakers\n",
    "            \n",
    "    return best_rank, best_tiebreakers\n",
    "\n",
    "def estimate_hand_strength(cards):\n",
    "    \"\"\"Estimates hand strength between 0-1 based on card values\"\"\"\n",
    "    if len(cards) < 2:\n",
    "        return 0.0\n",
    "    \n",
    "    high_card = max(c.get_value() for c in cards)\n",
    "    suited = cards[0].suit == cards[1].suit\n",
    "    paired = cards[0].rank == cards[1].rank\n",
    "    \n",
    "    # Simple estimation - can be enhanced\n",
    "    strength = 0.0\n",
    "    if paired:\n",
    "        strength = (high_card - 2) / 13 * 0.8 + 0.2\n",
    "    elif suited:\n",
    "        strength = (high_card - 2) / 13 * 0.6\n",
    "    else:\n",
    "        strength = (high_card - 2) / 13 * 0.5\n",
    "    \n",
    "    return min(max(strength, 0.0), 1.0)\n",
    "\n",
    "class PokerGameState:\n",
    "    def __init__(self, num_players=4, initial_chips=1000):\n",
    "        self.num_players = num_players\n",
    "        self.initial_chips = initial_chips\n",
    "        self.players_chips = [initial_chips] * num_players  # Initialize here\n",
    "        self.small_blind = 10\n",
    "        self.big_blind = 20\n",
    "        self.debug = True\n",
    "        self.dealer_position = 0  # Initialize dealer position\n",
    "        self.reset()\n",
    "\n",
    "    def reset(self):\n",
    "        \"\"\"Full reset for a new hand while preserving chip counts\"\"\"\n",
    "        self.current_bets = [0] * self.num_players\n",
    "        self.pot = 0\n",
    "        self.deck = Deck()\n",
    "        self.community_cards = []\n",
    "        self.player_hands = []\n",
    "        self.folded = [False] * self.num_players\n",
    "        self.round = 0\n",
    "        self.actions = []\n",
    "        self.last_raise = self.big_blind\n",
    "        self.action_counter = 0\n",
    "        self.max_actions_per_hand = 200\n",
    "        self.players_acted_this_round = [False] * self.num_players\n",
    "        self.num_checks = 0\n",
    "        \n",
    "        # Deal cards\n",
    "        for _ in range(self.num_players):\n",
    "            card1, card2 = self.deck.deal(), self.deck.deal()\n",
    "            if None in (card1, card2):\n",
    "                self.deck = Deck()\n",
    "                card1, card2 = self.deck.deal(), self.deck.deal()\n",
    "            self.player_hands.append([card1, card2])\n",
    "        \n",
    "        # Rotate dealer\n",
    "        self.dealer_position = (self.dealer_position + 1) % self.num_players\n",
    "        self.current_player = (self.dealer_position + 3) % self.num_players  # UTG first\n",
    "        \n",
    "        # Post blinds\n",
    "        sb_pos = (self.dealer_position + 1) % self.num_players\n",
    "        bb_pos = (self.dealer_position + 2) % self.num_players\n",
    "        \n",
    "        sb_post = min(self.small_blind, self.players_chips[sb_pos])\n",
    "        bb_post = min(self.big_blind, self.players_chips[bb_pos])\n",
    "        \n",
    "        self.players_chips[sb_pos] -= sb_post\n",
    "        self.players_chips[bb_pos] -= bb_post\n",
    "        self.current_bets[sb_pos] = sb_post\n",
    "        self.current_bets[bb_pos] = bb_post\n",
    "        self.pot = sb_post + bb_post\n",
    "        \n",
    "        self.players_acted_this_round = [False] * self.num_players\n",
    "        self.num_checks = 0\n",
    "\n",
    "    def get_legal_actions(self, player):\n",
    "        if self.folded[player] or self.players_chips[player] <= 0:\n",
    "            return []\n",
    "            \n",
    "        actions = [('fold', 0)]\n",
    "        call_amt = max(self.current_bets) - self.current_bets[player]\n",
    "        \n",
    "        if call_amt == 0:\n",
    "            actions.append(('check', 0))\n",
    "        else:\n",
    "            actions.append(('call', call_amt))\n",
    "        \n",
    "        min_raise = max(self.big_blind, (max(self.current_bets) - self.current_bets[player]) + self.last_raise)\n",
    "        max_raise = self.players_chips[player]\n",
    "        if max_raise > min_raise:\n",
    "            actions.append(('raise', min_raise))\n",
    "        \n",
    "        if self.players_chips[player] > 0:\n",
    "            actions.append(('all-in', self.players_chips[player]))\n",
    "            \n",
    "        return actions\n",
    "\n",
    "    def apply_action(self, player, action, amount=0):\n",
    "        self.action_counter += 1\n",
    "        if self.action_counter > self.max_actions_per_hand:\n",
    "            print(\"Action limit reached, forcing hand end\")\n",
    "            self.advance_round()\n",
    "            return\n",
    "            \n",
    "        self.players_acted_this_round[player] = True\n",
    "        \n",
    "        if action == 'fold':\n",
    "            self.folded[player] = True\n",
    "            self.num_checks = 0\n",
    "        elif action == 'call':\n",
    "            amt = min(amount, self.players_chips[player])\n",
    "            self.players_chips[player] -= amt\n",
    "            self.current_bets[player] += amt\n",
    "            self.pot += amt\n",
    "            self.num_checks = 0\n",
    "        elif action == 'raise':\n",
    "            total = amount + max(0, max(self.current_bets) - self.current_bets[player])\n",
    "            actual = min(total, self.players_chips[player])\n",
    "            self.players_chips[player] -= actual\n",
    "            self.current_bets[player] += actual\n",
    "            self.pot += actual\n",
    "            self.last_raise = amount\n",
    "            self.num_checks = 0\n",
    "        elif action == 'check':\n",
    "            self.num_checks += 1\n",
    "        elif action == 'all-in':\n",
    "            amt = self.players_chips[player]\n",
    "            self.players_chips[player] = 0\n",
    "            self.current_bets[player] += amt\n",
    "            self.pot += amt\n",
    "            self.num_checks = 0\n",
    "            \n",
    "        self.actions.append((player, action, amount))\n",
    "        \n",
    "        active_players = [i for i in range(self.num_players) if not self.folded[i] and self.players_chips[i] > 0]\n",
    "        round_complete = all(self.current_bets[p] == max(self.current_bets) for p in active_players)\n",
    "        \n",
    "        if round_complete or len(active_players) == 1:\n",
    "            self.advance_round()\n",
    "            \n",
    "        self.move_to_next_player()\n",
    "\n",
    "    def advance_round(self):\n",
    "        self.round += 1\n",
    "        self.current_bets = [0] * self.num_players\n",
    "        self.players_acted_this_round = [False] * self.num_players\n",
    "        self.num_checks = 0\n",
    "        self.last_raise = self.big_blind\n",
    "        \n",
    "        if self.round == 1:  # Flop\n",
    "            for _ in range(3):\n",
    "                card = self.deck.deal()\n",
    "                if card: self.community_cards.append(card)\n",
    "        elif self.round in [2, 3]:  # Turn/River\n",
    "            card = self.deck.deal()\n",
    "            if card: self.community_cards.append(card)\n",
    "            \n",
    "        self.move_to_first_active_player()\n",
    "\n",
    "    def move_to_next_player(self):\n",
    "        start = self.current_player\n",
    "        iterations = 0\n",
    "        while iterations < self.num_players * 2:  # Safety limit\n",
    "            iterations += 1\n",
    "            self.current_player = (self.current_player + 1) % self.num_players\n",
    "            if not self.folded[self.current_player] and self.players_chips[self.current_player] > 0:\n",
    "                break\n",
    "            if self.current_player == start:\n",
    "                break\n",
    "        else:\n",
    "            print(\"Warning: Player rotation stuck!\")\n",
    "            self.advance_round()\n",
    "\n",
    "    def move_to_first_active_player(self):\n",
    "        self.current_player = (self.dealer_position + 1) % self.num_players\n",
    "        while self.folded[self.current_player] or self.players_chips[self.current_player] <= 0:\n",
    "            self.current_player = (self.current_player + 1) % self.num_players\n",
    "\n",
    "    def is_hand_over(self):\n",
    "        active_players = [i for i in range(self.num_players) if not self.folded[i] and self.players_chips[i] > 0]\n",
    "        return len(active_players) <= 1 or self.round >= 4\n",
    "\n",
    "    def conclude_hand(self):\n",
    "        active_players = [i for i in range(self.num_players) if not self.folded[i]]\n",
    "        if len(active_players) == 1:\n",
    "            winner = active_players[0]\n",
    "            self.players_chips[winner] += self.pot\n",
    "            return [winner]\n",
    "        \n",
    "        hand_ranks = []\n",
    "        for i in active_players:\n",
    "            all_cards = self.player_hands[i] + self.community_cards\n",
    "            rank, tiebreakers = evaluate_hand(all_cards)\n",
    "            hand_ranks.append((i, rank, tiebreakers))\n",
    "        \n",
    "        hand_ranks.sort(key=lambda x: (-x[1], -sum(x[2])))\n",
    "        \n",
    "        winners = []\n",
    "        best_rank = hand_ranks[0][1]\n",
    "        best_tiebreakers = hand_ranks[0][2]\n",
    "        \n",
    "        for i, rank, tiebreakers in hand_ranks:\n",
    "            if rank == best_rank and tiebreakers == best_tiebreakers:\n",
    "                winners.append(i)\n",
    "        \n",
    "        win_amount = self.pot // len(winners)\n",
    "        for winner in winners:\n",
    "            self.players_chips[winner] += win_amount\n",
    "        \n",
    "        return winners\n",
    "\n",
    "class PokerAgent:\n",
    "    def __init__(self, input_shape, action_size, device):\n",
    "        self.device = device\n",
    "        self.action_size = action_size\n",
    "        self.model = self.build_model(input_shape, action_size).to(device)\n",
    "        self.target_model = self.build_model(input_shape, action_size).to(device)\n",
    "        self.target_model.load_state_dict(self.model.state_dict())\n",
    "        self.optimizer = optim.Adam(self.model.parameters(), lr=0.0001)\n",
    "        self.memory = deque(maxlen=20000)\n",
    "        self.batch_size = 64\n",
    "        self.min_memory_size = 2000\n",
    "        self.gamma = 0.95\n",
    "        self.epsilon = 1.0\n",
    "        self.epsilon_min = 0.1\n",
    "        self.epsilon_decay = 0.9995\n",
    "        self.update_target_every = 100\n",
    "        self.steps = 0\n",
    "        self.debug = True  # Added debug flag initialization\n",
    "\n",
    "    def build_model(self, input_shape, output_size):\n",
    "        model = nn.Sequential(\n",
    "            nn.Conv2d(input_shape[0], 32, 3, padding=1),\n",
    "            nn.ReLU(),\n",
    "            nn.Conv2d(32, 64, 3, padding=1),\n",
    "            nn.ReLU(),\n",
    "            nn.MaxPool2d(2),\n",
    "            nn.Flatten(),\n",
    "            nn.Linear(64 * (input_shape[1]//2) * (input_shape[2]//2), 256),\n",
    "            nn.ReLU(),\n",
    "            nn.Linear(256, output_size)\n",
    "        )\n",
    "        return model\n",
    "\n",
    "    def remember(self, state, action, reward, next_state, done):\n",
    "        self.memory.append((state, action, reward, next_state, done))\n",
    "\n",
    "    def act(self, state):\n",
    "        if np.random.rand() <= self.epsilon:\n",
    "            return random.randrange(self.action_size)\n",
    "        state = torch.FloatTensor(state).unsqueeze(0).to(self.device)\n",
    "        with torch.no_grad():\n",
    "            q_values = self.model(state)\n",
    "        return torch.argmax(q_values).item()\n",
    "\n",
    "    def replay(self):\n",
    "        if len(self.memory) < self.min_memory_size:\n",
    "            if hasattr(self, 'debug') and self.debug and len(self.memory) % 500 == 0:\n",
    "                print(f\"Memory: {len(self.memory)}/{self.min_memory_size}\")\n",
    "            return None\n",
    "            \n",
    "        batch = random.sample(self.memory, min(len(self.memory), self.batch_size))\n",
    "        states, actions, rewards, next_states, dones = zip(*batch)\n",
    "        \n",
    "        states = torch.FloatTensor(np.array(states)).to(self.device)\n",
    "        next_states = torch.FloatTensor(np.array(next_states)).to(self.device)\n",
    "        actions = torch.LongTensor(actions).to(self.device)\n",
    "        rewards = torch.FloatTensor(rewards).to(self.device)\n",
    "        dones = torch.FloatTensor(dones).to(self.device)\n",
    "\n",
    "        current_q = self.model(states).gather(1, actions.unsqueeze(1))\n",
    "        next_q = self.target_model(next_states).max(1)[0].detach()\n",
    "        target_q = rewards + (1 - dones) * self.gamma * next_q\n",
    "        \n",
    "        loss = nn.MSELoss()(current_q.squeeze(), target_q)\n",
    "        \n",
    "        self.optimizer.zero_grad()\n",
    "        loss.backward()\n",
    "        torch.nn.utils.clip_grad_norm_(self.model.parameters(), 1.0)\n",
    "        self.optimizer.step()\n",
    "        \n",
    "        self.steps += 1\n",
    "        if self.steps % self.update_target_every == 0:\n",
    "            self.target_model.load_state_dict(self.model.state_dict())\n",
    "            \n",
    "        if self.epsilon > self.epsilon_min:\n",
    "            self.epsilon *= self.epsilon_decay\n",
    "            \n",
    "        return loss.item()\n",
    "\n",
    "def generate_state_tensor(game_state, player_idx):\n",
    "    state = np.zeros((8, 13, 13), dtype=np.float32)  # Now 8 channels\n",
    "    \n",
    "    # Channel 0: Private cards\n",
    "    for i, card in enumerate(game_state.player_hands[player_idx]):\n",
    "        if card:\n",
    "            val = card.get_value() - 2\n",
    "            suit = {'h':0, 'd':1, 'c':2, 's':3}[card.suit]\n",
    "            state[0, suit, val] = 1.0\n",
    "    \n",
    "    # Channel 1: Community cards\n",
    "    for i, card in enumerate(game_state.community_cards):\n",
    "        if card:\n",
    "            val = card.get_value() - 2\n",
    "            suit = {'h':0, 'd':1, 'c':2, 's':3}[card.suit]\n",
    "            state[1, suit, val] = 1.0\n",
    "    \n",
    "    # Channel 2: Betting info\n",
    "    state[2, :, :] = min(1.0, sum(game_state.current_bets) / (game_state.big_blind * 20))\n",
    "    \n",
    "    # Channel 3: Player info\n",
    "    state[3, 0, player_idx] = 1.0\n",
    "    state[3, 1, 0] = game_state.players_chips[player_idx] / game_state.initial_chips\n",
    "    \n",
    "    # Channel 4: Position info\n",
    "    positions = ['UTG', 'HJ', 'CO', 'BTN', 'SB', 'BB']\n",
    "    pos_idx = (player_idx - game_state.dealer_position) % game_state.num_players\n",
    "    state[4, min(pos_idx, 5), :] = 1.0\n",
    "    \n",
    "    # New action history channels\n",
    "    action_types = {'fold':0, 'check':1, 'call':2, 'raise':3, 'all-in':4}\n",
    "    \n",
    "    # Channel 5: Pre-flop actions\n",
    "    # Channel 6: Flop actions\n",
    "    # Channel 7: Turn actions\n",
    "    for i, (p, action, amount) in enumerate(game_state.actions[-3:]):  # Last 3 actions\n",
    "       # Only log actions for pre-flop, flop, and turn (not river)\n",
    "        if game_state.round >= 3:\n",
    "            return state\n",
    "        street = game_state.round  # Now safe: 0 (pre), 1 (flop), 2 (turn)  # 0=preflop, 1=flop, 2=turn, 3=river\n",
    "        action_type = action_types[action]\n",
    "        norm_amount = min(int(amount/game_state.big_blind), 12)  # Normalized by BB\n",
    "        state[5+street, action_type, norm_amount] = 1.0\n",
    "    \n",
    "    return state\n",
    "\n",
    "def train_agents(episodes=100000, resume_from=None, save_every=10000):\n",
    "    device = torch.device(\"cuda\" if torch.cuda.is_available() else \"cpu\")\n",
    "    print(f\"Training on: {device}\")\n",
    "    \n",
    "    input_shape = (8, 13, 13)  # Updated input shape\n",
    "    action_size = 5\n",
    "    agents = [PokerAgent(input_shape, action_size, device) for _ in range(4)]\n",
    "    if resume_from:\n",
    "        for i, agent in enumerate(agents):\n",
    "            path = os.path.join(resume_from, f\"agent_{i}.pt\")\n",
    "            if os.path.exists(path):\n",
    "                agent.model.load_state_dict(torch.load(path))\n",
    "                agent.target_model.load_state_dict(agent.model.state_dict())\n",
    "                print(f\"Loaded agent {i} from {path}\")\n",
    "    stats = {\n",
    "        'rewards': [[] for _ in range(4)],\n",
    "        'losses': [[] for _ in range(4)],\n",
    "        'epsilons': [],\n",
    "        'memory_sizes': []\n",
    "    }\n",
    "    \n",
    "    action_mapping = {0: 'fold', 1: 'check', 2: 'call', 3: 'raise', 4: 'all-in'}\n",
    "    \n",
    "    for episode in tqdm(range(episodes), desc=\"Training\"):\n",
    "        game = PokerGameState(num_players=4)\n",
    "        initial_chips = game.players_chips.copy()\n",
    "        \n",
    "        while not game.is_hand_over():\n",
    "            p = game.current_player\n",
    "            if game.folded[p] or game.players_chips[p] <= 0:\n",
    "                game.move_to_next_player()\n",
    "                continue\n",
    "                \n",
    "            state = generate_state_tensor(game, p)\n",
    "            legal_actions = game.get_legal_actions(p)\n",
    "            \n",
    "            action_idx = agents[p].act(state)\n",
    "            \n",
    "            # Map to legal action\n",
    "            legal_action_names = [a[0] for a in legal_actions]\n",
    "            action_name = action_mapping[action_idx]\n",
    "            \n",
    "            if action_name not in legal_action_names:\n",
    "                action_idx = random.choice([i for i in range(5) if action_mapping[i] in legal_action_names])\n",
    "                action_name = action_mapping[action_idx]\n",
    "                \n",
    "            _, amount = legal_actions[legal_action_names.index(action_name)]\n",
    "            game.apply_action(p, action_name, amount)\n",
    "            \n",
    "            next_state = generate_state_tensor(game, p)\n",
    "            \n",
    "            # Enhanced reward calculation\n",
    "            reward = 0\n",
    "            if game.is_hand_over():\n",
    "                chip_change = game.players_chips[p] - initial_chips[p]\n",
    "                reward = np.tanh(chip_change / (game.big_blind * 2))\n",
    "                \n",
    "                if p in game.conclude_hand():\n",
    "                    all_cards = game.player_hands[p] + game.community_cards\n",
    "                    hand_rank, _ = evaluate_hand(all_cards)\n",
    "                    reward += (hand_rank / 8.0) * 0.5\n",
    "                    \n",
    "                if game.players_chips[p] <= 0:\n",
    "                    reward = -1.0\n",
    "            else:\n",
    "                # Immediate action quality rewards\n",
    "                if action_name == 'raise':\n",
    "                    if 2 <= (amount/game.big_blind) <= 4:\n",
    "                        reward += 0.1\n",
    "                elif action_name == 'fold':\n",
    "                    hand_strength = estimate_hand_strength(game.player_hands[p])\n",
    "                    if hand_strength > 0.5:\n",
    "                        reward -= 0.2\n",
    "            \n",
    "            agents[p].remember(state, action_idx, reward, next_state, game.is_hand_over())\n",
    "        \n",
    "        # Conclude hand and update stats\n",
    "        winners = game.conclude_hand()\n",
    "        for i in range(4):\n",
    "            if agents[i].memory:\n",
    "                # Update final reward if not already set\n",
    "                if agents[i].memory[-1][2] == 0:  # If reward wasn't set\n",
    "                    chip_change = game.players_chips[i] - initial_chips[i]\n",
    "                    reward = np.tanh(chip_change / (game.big_blind * 2))\n",
    "                    if i in winners:\n",
    "                        all_cards = game.player_hands[i] + game.community_cards\n",
    "                        hand_rank, _ = evaluate_hand(all_cards)\n",
    "                        reward += (hand_rank / 8.0) * 0.5\n",
    "                    if game.players_chips[i] <= 0:\n",
    "                        reward = -1.0\n",
    "                    \n",
    "                    # Update the memory\n",
    "                    s, a, _, ns, d = agents[i].memory[-1]\n",
    "                    agents[i].memory[-1] = (s, a, reward, ns, d)\n",
    "                \n",
    "                stats['rewards'][i].append(agents[i].memory[-1][2])\n",
    "            \n",
    "            loss = agents[i].replay()\n",
    "            if loss is not None:\n",
    "                stats['losses'][i].append(loss)\n",
    "        \n",
    "        stats['epsilons'].append(agents[0].epsilon)\n",
    "        stats['memory_sizes'].append(min(len(a.memory) for a in agents))\n",
    "        \n",
    "        if episode % 100 == 0:\n",
    "            print(f\"\\nEpisode {episode}:\")\n",
    "            print(f\"Epsilon: {agents[0].epsilon:.3f}\")\n",
    "            print(f\"Memory sizes: {[len(a.memory) for a in agents]}\")\n",
    "            print(f\"Recent rewards: {[np.mean(s[-100:]) if s else 0 for s in stats['rewards']]}\")\n",
    "        if episode % save_every == 0 and episode > 0:\n",
    "            save_dir = f\"saved_agents/checkpoint_ep{episode}\"\n",
    "            os.makedirs(save_dir, exist_ok=True)\n",
    "            for i, agent in enumerate(agents):\n",
    "                torch.save(agent.model.state_dict(), os.path.join(save_dir, f\"agent_{i}.pt\"))\n",
    "            print(f\"Checkpoint saved at episode {episode}\")\n",
    "    return agents, stats\n",
    "\n",
    "def plot_training(stats):\n",
    "    plt.figure(figsize=(15, 10))\n",
    "    \n",
    "    plt.subplot(221)\n",
    "    for i in range(4):\n",
    "        plt.plot(np.convolve(stats['rewards'][i], np.ones(100)/100, mode='valid'), label=f'Player {i}')\n",
    "    plt.title('Smoothed Rewards (100-episode window)')\n",
    "    plt.legend()\n",
    "    \n",
    "    plt.subplot(222)\n",
    "    for i in range(4):\n",
    "        plt.plot(stats['losses'][i], label=f'Player {i}', alpha=0.7)\n",
    "    plt.title('Training Losses')\n",
    "    plt.legend()\n",
    "    \n",
    "    plt.subplot(223)\n",
    "    plt.plot(stats['epsilons'])\n",
    "    plt.title('Epsilon Decay')\n",
    "    \n",
    "    plt.subplot(224)\n",
    "    plt.plot(stats['memory_sizes'])\n",
    "    plt.title('Minimum Memory Size Across Agents')\n",
    "    \n",
    "    plt.tight_layout()\n",
    "    plt.show()\n",
    "\n",
    "def simulate_game(agents, num_hands=3):\n",
    "    action_mapping = {0: 'fold', 1: 'check', 2: 'call', 3: 'raise', 4: 'all-in'}\n",
    "    game = PokerGameState(num_players=4)\n",
    "    \n",
    "    for hand in range(num_hands):\n",
    "        game.reset()\n",
    "        print(f\"\\n{'='*40}\")\n",
    "        print(f\"Hand {hand+1}:\")\n",
    "        print(f\"Dealer: {game.dealer_position}\")\n",
    "        print(\"Starting chips:\", game.players_chips)\n",
    "        print(\"Player positions:\")\n",
    "        positions = ['UTG', 'HJ', 'CO', 'BTN', 'SB', 'BB']\n",
    "        for i in range(4):\n",
    "            pos_idx = (i - game.dealer_position) % game.num_players\n",
    "            print(f\"  Player {i}: {positions[min(pos_idx, 5)]}\")\n",
    "        \n",
    "        # Show initial hands\n",
    "        print(\"\\nStarting hands:\")\n",
    "        for i in range(4):\n",
    "            print(f\"  Player {i}: {game.player_hands[i]}\")\n",
    "        \n",
    "        round_names = [\"Pre-flop\", \"Flop\", \"Turn\", \"River\"]\n",
    "        current_round = -1\n",
    "        \n",
    "        while not game.is_hand_over():\n",
    "            if game.round != current_round:\n",
    "                current_round = game.round\n",
    "                print(f\"\\n{'='*20}\")\n",
    "                print(f\"{round_names[current_round]}\")\n",
    "                if current_round > 0:  # After pre-flop\n",
    "                    print(\"Community cards:\", game.community_cards)\n",
    "                print(f\"Pot: {game.pot}\")\n",
    "                print(\"Current bets:\", game.current_bets)\n",
    "            \n",
    "            p = game.current_player\n",
    "            if game.folded[p] or game.players_chips[p] <= 0:\n",
    "                game.move_to_next_player()\n",
    "                continue\n",
    "                \n",
    "            state = generate_state_tensor(game, p)\n",
    "            legal_actions = game.get_legal_actions(p)\n",
    "            \n",
    "            # Get agent's Q-values for insight\n",
    "            with torch.no_grad():\n",
    "                state_tensor = torch.FloatTensor(state).unsqueeze(0).to(agents[p].device)\n",
    "                q_values = agents[p].model(state_tensor).cpu().numpy()[0]\n",
    "            \n",
    "            action_idx = agents[p].act(state)\n",
    "            action_name = action_mapping[action_idx]\n",
    "            \n",
    "            # Ensure legal action\n",
    "            legal_action_names = [a[0] for a in legal_actions]\n",
    "            if action_name not in legal_action_names:\n",
    "                action_idx = random.choice([i for i in range(5) if action_mapping[i] in legal_action_names])\n",
    "                action_name = action_mapping[action_idx]\n",
    "                \n",
    "            _, amount = legal_actions[legal_action_names.index(action_name)]\n",
    "            \n",
    "            # Display decision information\n",
    "            print(f\"\\nPlayer {p}'s turn:\")\n",
    "            print(f\"  Hand: {game.player_hands[p]}\")\n",
    "            print(f\"  Chips: {game.players_chips[p]}\")\n",
    "            print(f\"  To call: {max(game.current_bets) - game.current_bets[p]}\")\n",
    "            print(\"  Possible actions:\")\n",
    "            for i, (act, amt) in enumerate(legal_actions):\n",
    "                print(f\"    {i}. {act.upper()} {amt if amt else ''} (Q-value: {q_values[i]:.2f})\")\n",
    "            \n",
    "            print(f\"  Chose: {action_name.upper()} {amount if amount else ''}\")\n",
    "            if action_name == 'raise':\n",
    "                print(f\"  Raise amount: {amount} (min raise was {max(game.big_blind, (max(game.current_bets) - game.current_bets[p]) + game.last_raise)}\")\n",
    "            \n",
    "            game.apply_action(p, action_name, amount)\n",
    "        \n",
    "        # Showdown information\n",
    "        winners = game.conclude_hand()\n",
    "        print(\"\\n\" + \"=\"*40)\n",
    "        print(\"Showdown:\")\n",
    "        print(\"Community cards:\", game.community_cards)\n",
    "        for i in range(4):\n",
    "            hand_desc = f\"{game.player_hands[i]}\"\n",
    "            if game.folded[i]:\n",
    "                hand_desc += \" (FOLDED)\"\n",
    "            else:\n",
    "                all_cards = game.player_hands[i] + game.community_cards\n",
    "                rank, _ = evaluate_hand(all_cards)\n",
    "                rank_names = [\n",
    "                    \"High Card\", \"Pair\", \"Two Pair\", \"Three of a Kind\",\n",
    "                    \"Straight\", \"Flush\", \"Full House\", \"Four of a Kind\",\n",
    "                    \"Straight Flush\"\n",
    "                ]\n",
    "                hand_desc += f\" → {rank_names[rank]}\"\n",
    "            print(f\"Player {i}: {hand_desc}\")\n",
    "        \n",
    "        print(\"\\nFinal chips:\", game.players_chips)\n",
    "        print(f\"Winners: Players {winners}\")\n",
    "        print(f\"Pot distributed: {game.pot} chips\")\n",
    "        \n",
    "        # Calculate hand strength for each player\n",
    "        print(\"\\nHand strength analysis:\")\n",
    "        for i in range(4):\n",
    "            if not game.folded[i]:\n",
    "                all_cards = game.player_hands[i] + game.community_cards\n",
    "                rank, tiebreakers = evaluate_hand(all_cards)\n",
    "                print(f\"  Player {i}: {rank_names[rank]} with kickers {tiebreakers}\")\n",
    "if __name__ == \"__main__\":\n",
    "    # Verify basic functionality\n",
    "    print(\"Running verification test...\")\n",
    "    test_game = PokerGameState()\n",
    "    while not test_game.is_hand_over():\n",
    "        p = test_game.current_player\n",
    "        legal_actions = test_game.get_legal_actions(p)\n",
    "        action = random.choice(legal_actions)\n",
    "        test_game.apply_action(p, *action)\n",
    "    print(\"Verification test passed!\\n\")\n",
    "    \n",
    "    # Start training\n",
    "    trained_agents, stats = train_agents(episodes=100000, resume_from=None, save_every=10000)\n",
    "    plot_training(stats)\n",
    "    \n",
    "    # Save models\n",
    "    os.makedirs(\"saved_agents\", exist_ok=True)\n",
    "    timestamp = datetime.datetime.now().strftime(\"%Y%m%d_%H%M%S\")\n",
    "    for i, agent in enumerate(trained_agents):\n",
    "        torch.save(agent.model.state_dict(), f\"saved_agents/agent_{i}_{timestamp}.pt\")\n",
    "    print(\"Agents saved!\")\n",
    "    \n",
    "    # Run simulation\n",
    "    print(\"\\nRunning simulation with trained agents...\")\n",
    "    simulate_game(trained_agents, num_hands=3)"
   ]
  },
  {
   "cell_type": "code",
   "execution_count": 39,
   "id": "6c639723",
   "metadata": {},
   "outputs": [
    {
     "name": "stdout",
     "output_type": "stream",
     "text": [
      "\n",
      "========================================\n",
      "Hand 1:\n",
      "Dealer: 2\n",
      "Starting chips: [980, 1000, 990, 970]\n",
      "Player positions:\n",
      "  Player 0: CO\n",
      "  Player 1: BTN\n",
      "  Player 2: UTG\n",
      "  Player 3: HJ\n",
      "\n",
      "Starting hands:\n",
      "  Player 0: [4d, 6c]\n",
      "  Player 1: [Ac, Tc]\n",
      "  Player 2: [Qs, Js]\n",
      "  Player 3: [7s, Kd]\n",
      "\n",
      "====================\n",
      "Pre-flop\n",
      "Pot: 30\n",
      "Current bets: [20, 0, 0, 10]\n",
      "\n",
      "Player 1's turn:\n",
      "  Hand: [Ac, Tc]\n",
      "  Chips: 1000\n",
      "  To call: 20\n",
      "  Possible actions:\n",
      "    0. FOLD  (Q-value: 721.98)\n",
      "    1. CALL 20 (Q-value: 334.80)\n",
      "    2. RAISE 40 (Q-value: 691.63)\n",
      "    3. ALL-IN 1000 (Q-value: 522.43)\n",
      "  Chose: FOLD \n",
      "\n",
      "Player 2's turn:\n",
      "  Hand: [Qs, Js]\n",
      "  Chips: 990\n",
      "  To call: 20\n",
      "  Possible actions:\n",
      "    0. FOLD  (Q-value: 2007353.00)\n",
      "    1. CALL 20 (Q-value: 6993162.00)\n",
      "    2. RAISE 40 (Q-value: 11288010.00)\n",
      "    3. ALL-IN 990 (Q-value: 52923044.00)\n",
      "  Chose: RAISE 40\n",
      "  Raise amount: 40 (min raise was 40\n",
      "\n",
      "Player 3's turn:\n",
      "  Hand: [7s, Kd]\n",
      "  Chips: 970\n",
      "  To call: 50\n",
      "  Possible actions:\n",
      "    0. FOLD  (Q-value: 1.06)\n",
      "    1. CALL 50 (Q-value: 0.78)\n",
      "    2. RAISE 90 (Q-value: 0.82)\n",
      "    3. ALL-IN 970 (Q-value: 0.85)\n",
      "  Chose: FOLD \n",
      "\n",
      "Player 0's turn:\n",
      "  Hand: [4d, 6c]\n",
      "  Chips: 980\n",
      "  To call: 40\n",
      "  Possible actions:\n",
      "    0. FOLD  (Q-value: 0.24)\n",
      "    1. CALL 40 (Q-value: -0.10)\n",
      "    2. RAISE 80 (Q-value: 0.10)\n",
      "    3. ALL-IN 980 (Q-value: 0.08)\n",
      "  Chose: FOLD \n",
      "\n",
      "========================================\n",
      "Showdown:\n",
      "Community cards: [Jd, 8s, Td]\n",
      "Player 0: [4d, 6c] (FOLDED)\n",
      "Player 1: [Ac, Tc] (FOLDED)\n",
      "Player 2: [Qs, Js] → Pair\n",
      "Player 3: [7s, Kd] (FOLDED)\n",
      "\n",
      "Final chips: [980, 1000, 1020, 970]\n",
      "Winners: Players [2]\n",
      "Pot distributed: 90 chips\n",
      "\n",
      "Hand strength analysis:\n",
      "  Player 2: Pair with kickers [11, 12, 10, 8]\n",
      "\n",
      "========================================\n",
      "Hand 2:\n",
      "Dealer: 3\n",
      "Starting chips: [970, 980, 1020, 970]\n",
      "Player positions:\n",
      "  Player 0: HJ\n",
      "  Player 1: CO\n",
      "  Player 2: BTN\n",
      "  Player 3: UTG\n",
      "\n",
      "Starting hands:\n",
      "  Player 0: [3d, 7c]\n",
      "  Player 1: [3c, 9d]\n",
      "  Player 2: [Jh, 6c]\n",
      "  Player 3: [4c, Ts]\n",
      "\n",
      "====================\n",
      "Pre-flop\n",
      "Pot: 30\n",
      "Current bets: [10, 20, 0, 0]\n",
      "\n",
      "Player 2's turn:\n",
      "  Hand: [Jh, 6c]\n",
      "  Chips: 1020\n",
      "  To call: 20\n",
      "  Possible actions:\n",
      "    0. FOLD  (Q-value: 9256202.00)\n",
      "    1. CALL 20 (Q-value: 5282744.00)\n",
      "    2. RAISE 40 (Q-value: 17378316.00)\n",
      "    3. ALL-IN 1020 (Q-value: 16690518.00)\n",
      "  Chose: CALL 20\n",
      "\n",
      "Player 3's turn:\n",
      "  Hand: [4c, Ts]\n",
      "  Chips: 970\n",
      "  To call: 20\n",
      "  Possible actions:\n",
      "    0. FOLD  (Q-value: 0.68)\n",
      "    1. CALL 20 (Q-value: 0.49)\n",
      "    2. RAISE 40 (Q-value: 0.37)\n",
      "    3. ALL-IN 970 (Q-value: 0.78)\n",
      "  Chose: RAISE 40\n",
      "  Raise amount: 40 (min raise was 40\n",
      "\n",
      "Player 0's turn:\n",
      "  Hand: [3d, 7c]\n",
      "  Chips: 970\n",
      "  To call: 50\n",
      "  Possible actions:\n",
      "    0. FOLD  (Q-value: 0.14)\n",
      "    1. CALL 50 (Q-value: -0.48)\n",
      "    2. RAISE 90 (Q-value: -0.39)\n",
      "    3. ALL-IN 970 (Q-value: -0.48)\n",
      "  Chose: FOLD \n",
      "\n",
      "Player 1's turn:\n",
      "  Hand: [3c, 9d]\n",
      "  Chips: 980\n",
      "  To call: 40\n",
      "  Possible actions:\n",
      "    0. FOLD  (Q-value: 1424.37)\n",
      "    1. CALL 40 (Q-value: 529.59)\n",
      "    2. RAISE 80 (Q-value: 1020.84)\n",
      "    3. ALL-IN 980 (Q-value: 853.89)\n",
      "  Chose: FOLD \n",
      "\n",
      "Player 2's turn:\n",
      "  Hand: [Jh, 6c]\n",
      "  Chips: 1000\n",
      "  To call: 40\n",
      "  Possible actions:\n",
      "    0. FOLD  (Q-value: 80543360.00)\n",
      "    1. CALL 40 (Q-value: 11346368.00)\n",
      "    2. RAISE 80 (Q-value: 170332224.00)\n",
      "    3. ALL-IN 1000 (Q-value: 85326736.00)\n",
      "  Chose: CALL 40\n",
      "\n",
      "====================\n",
      "Flop\n",
      "Community cards: [Qd, Jd, 8s]\n",
      "Pot: 150\n",
      "Current bets: [0, 0, 0, 0]\n",
      "\n",
      "Player 3's turn:\n",
      "  Hand: [4c, Ts]\n",
      "  Chips: 910\n",
      "  To call: 0\n",
      "  Possible actions:\n",
      "    0. FOLD  (Q-value: 2.01)\n",
      "    1. CHECK  (Q-value: 2.79)\n",
      "    2. RAISE 20 (Q-value: 2.28)\n",
      "    3. ALL-IN 910 (Q-value: 2.51)\n",
      "  Chose: CHECK \n",
      "\n",
      "====================\n",
      "Turn\n",
      "Community cards: [Qd, Jd, 8s, Kc]\n",
      "Pot: 150\n",
      "Current bets: [0, 0, 0, 0]\n",
      "\n",
      "Player 3's turn:\n",
      "  Hand: [4c, Ts]\n",
      "  Chips: 910\n",
      "  To call: 0\n",
      "  Possible actions:\n",
      "    0. FOLD  (Q-value: 1.06)\n",
      "    1. CHECK  (Q-value: 2.11)\n",
      "    2. RAISE 20 (Q-value: 1.61)\n",
      "    3. ALL-IN 910 (Q-value: 1.99)\n",
      "  Chose: CHECK \n",
      "\n",
      "====================\n",
      "River\n",
      "Community cards: [Qd, Jd, 8s, Kc, Th]\n",
      "Pot: 150\n",
      "Current bets: [0, 0, 0, 0]\n",
      "\n",
      "Player 3's turn:\n",
      "  Hand: [4c, Ts]\n",
      "  Chips: 910\n",
      "  To call: 0\n",
      "  Possible actions:\n",
      "    0. FOLD  (Q-value: 0.19)\n",
      "    1. CHECK  (Q-value: -1.10)\n",
      "    2. RAISE 20 (Q-value: -0.35)\n",
      "    3. ALL-IN 910 (Q-value: 2.72)\n",
      "  Chose: RAISE 20\n",
      "  Raise amount: 20 (min raise was 20\n",
      "\n",
      "Player 2's turn:\n",
      "  Hand: [Jh, 6c]\n",
      "  Chips: 960\n",
      "  To call: 20\n",
      "  Possible actions:\n",
      "    0. FOLD  (Q-value: 6991870.00)\n",
      "    1. CALL 20 (Q-value: 4170961.00)\n",
      "    2. RAISE 40 (Q-value: 10939552.00)\n",
      "    3. ALL-IN 960 (Q-value: 5087676.00)\n",
      "  Chose: CALL 20\n",
      "\n",
      "========================================\n",
      "Showdown:\n",
      "Community cards: [Qd, Jd, 8s, Kc, Th]\n",
      "Player 0: [3d, 7c] (FOLDED)\n",
      "Player 1: [3c, 9d] (FOLDED)\n",
      "Player 2: [Jh, 6c] → Pair\n",
      "Player 3: [4c, Ts] → Pair\n",
      "\n",
      "Final chips: [970, 980, 1130, 890]\n",
      "Winners: Players [2]\n",
      "Pot distributed: 190 chips\n",
      "\n",
      "Hand strength analysis:\n",
      "  Player 2: Pair with kickers [11, 13, 12, 10]\n",
      "  Player 3: Pair with kickers [10, 13, 12, 11]\n",
      "\n",
      "========================================\n",
      "Hand 3:\n",
      "Dealer: 0\n",
      "Starting chips: [970, 970, 1110, 890]\n",
      "Player positions:\n",
      "  Player 0: UTG\n",
      "  Player 1: HJ\n",
      "  Player 2: CO\n",
      "  Player 3: BTN\n",
      "\n",
      "Starting hands:\n",
      "  Player 0: [Ts, 4h]\n",
      "  Player 1: [Td, 6c]\n",
      "  Player 2: [6h, 3h]\n",
      "  Player 3: [8d, Jc]\n",
      "\n",
      "====================\n",
      "Pre-flop\n",
      "Pot: 30\n",
      "Current bets: [0, 10, 20, 0]\n",
      "\n",
      "Player 3's turn:\n",
      "  Hand: [8d, Jc]\n",
      "  Chips: 890\n",
      "  To call: 20\n",
      "  Possible actions:\n",
      "    0. FOLD  (Q-value: 1.12)\n",
      "    1. CALL 20 (Q-value: 2.03)\n",
      "    2. RAISE 40 (Q-value: 1.89)\n",
      "    3. ALL-IN 890 (Q-value: 2.59)\n",
      "  Chose: RAISE 40\n",
      "  Raise amount: 40 (min raise was 40\n",
      "\n",
      "Player 0's turn:\n",
      "  Hand: [Ts, 4h]\n",
      "  Chips: 970\n",
      "  To call: 60\n",
      "  Possible actions:\n",
      "    0. FOLD  (Q-value: 0.34)\n",
      "    1. CALL 60 (Q-value: -0.13)\n",
      "    2. RAISE 100 (Q-value: 0.13)\n",
      "    3. ALL-IN 970 (Q-value: 0.08)\n",
      "  Chose: FOLD \n",
      "\n",
      "Player 1's turn:\n",
      "  Hand: [Td, 6c]\n",
      "  Chips: 970\n",
      "  To call: 50\n",
      "  Possible actions:\n",
      "    0. FOLD  (Q-value: 1258.19)\n",
      "    1. CALL 50 (Q-value: 458.31)\n",
      "    2. RAISE 90 (Q-value: 985.72)\n",
      "    3. ALL-IN 970 (Q-value: 655.60)\n",
      "  Chose: FOLD \n",
      "\n",
      "Player 2's turn:\n",
      "  Hand: [6h, 3h]\n",
      "  Chips: 1110\n",
      "  To call: 40\n",
      "  Possible actions:\n",
      "    0. FOLD  (Q-value: 89998432.00)\n",
      "    1. CALL 40 (Q-value: 12336365.00)\n",
      "    2. RAISE 80 (Q-value: 193774880.00)\n",
      "    3. ALL-IN 1110 (Q-value: 103881120.00)\n",
      "  Chose: CALL 40\n",
      "\n",
      "====================\n",
      "Flop\n",
      "Community cards: [Qs, 7s, Tc]\n",
      "Pot: 130\n",
      "Current bets: [0, 0, 0, 0]\n",
      "\n",
      "Player 3's turn:\n",
      "  Hand: [8d, Jc]\n",
      "  Chips: 830\n",
      "  To call: 0\n",
      "  Possible actions:\n",
      "    0. FOLD  (Q-value: 1.24)\n",
      "    1. CHECK  (Q-value: 2.34)\n",
      "    2. RAISE 20 (Q-value: 2.30)\n",
      "    3. ALL-IN 830 (Q-value: 2.89)\n",
      "  Chose: RAISE 20\n",
      "  Raise amount: 20 (min raise was 20\n",
      "\n",
      "Player 2's turn:\n",
      "  Hand: [6h, 3h]\n",
      "  Chips: 1070\n",
      "  To call: 20\n",
      "  Possible actions:\n",
      "    0. FOLD  (Q-value: 6305005.00)\n",
      "    1. CALL 20 (Q-value: 4010740.75)\n",
      "    2. RAISE 40 (Q-value: 10305822.00)\n",
      "    3. ALL-IN 1070 (Q-value: 5995908.50)\n",
      "  Chose: CALL 20\n",
      "\n",
      "====================\n",
      "Turn\n",
      "Community cards: [Qs, 7s, Tc, Qc]\n",
      "Pot: 170\n",
      "Current bets: [0, 0, 0, 0]\n",
      "\n",
      "Player 3's turn:\n",
      "  Hand: [8d, Jc]\n",
      "  Chips: 810\n",
      "  To call: 0\n",
      "  Possible actions:\n",
      "    0. FOLD  (Q-value: 4.41)\n",
      "    1. CHECK  (Q-value: 6.86)\n",
      "    2. RAISE 20 (Q-value: 7.12)\n",
      "    3. ALL-IN 810 (Q-value: 7.16)\n",
      "  Chose: RAISE 20\n",
      "  Raise amount: 20 (min raise was 20\n",
      "\n",
      "Player 2's turn:\n",
      "  Hand: [6h, 3h]\n",
      "  Chips: 1050\n",
      "  To call: 20\n",
      "  Possible actions:\n",
      "    0. FOLD  (Q-value: 10354698.00)\n",
      "    1. CALL 20 (Q-value: 4281429.50)\n",
      "    2. RAISE 40 (Q-value: 18647506.00)\n",
      "    3. ALL-IN 1050 (Q-value: 8635435.00)\n",
      "  Chose: CALL 20\n",
      "\n",
      "====================\n",
      "River\n",
      "Community cards: [Qs, 7s, Tc, Qc, 2s]\n",
      "Pot: 210\n",
      "Current bets: [0, 0, 0, 0]\n",
      "\n",
      "Player 3's turn:\n",
      "  Hand: [8d, Jc]\n",
      "  Chips: 790\n",
      "  To call: 0\n",
      "  Possible actions:\n",
      "    0. FOLD  (Q-value: 0.31)\n",
      "    1. CHECK  (Q-value: 1.76)\n",
      "    2. RAISE 20 (Q-value: 2.18)\n",
      "    3. ALL-IN 790 (Q-value: 4.95)\n",
      "  Chose: RAISE 20\n",
      "  Raise amount: 20 (min raise was 20\n",
      "\n",
      "Player 2's turn:\n",
      "  Hand: [6h, 3h]\n",
      "  Chips: 1030\n",
      "  To call: 20\n",
      "  Possible actions:\n",
      "    0. FOLD  (Q-value: 3299615.00)\n",
      "    1. CALL 20 (Q-value: 3857926.00)\n",
      "    2. RAISE 40 (Q-value: 4281601.50)\n",
      "    3. ALL-IN 1030 (Q-value: 6073660.00)\n",
      "  Chose: RAISE 40\n",
      "  Raise amount: 40 (min raise was 40\n",
      "\n",
      "Player 3's turn:\n",
      "  Hand: [8d, Jc]\n",
      "  Chips: 770\n",
      "  To call: 40\n",
      "  Possible actions:\n",
      "    0. FOLD  (Q-value: 0.44)\n",
      "    1. CALL 40 (Q-value: 1.32)\n",
      "    2. RAISE 80 (Q-value: 1.97)\n",
      "    3. ALL-IN 770 (Q-value: 4.73)\n",
      "  Chose: RAISE 80\n",
      "  Raise amount: 80 (min raise was 80\n",
      "\n",
      "Player 2's turn:\n",
      "  Hand: [6h, 3h]\n",
      "  Chips: 970\n",
      "  To call: 80\n",
      "  Possible actions:\n",
      "    0. FOLD  (Q-value: 7015573.00)\n",
      "    1. CALL 80 (Q-value: 5394039.50)\n",
      "    2. RAISE 160 (Q-value: 7511218.50)\n",
      "    3. ALL-IN 970 (Q-value: 9411509.00)\n",
      "  Chose: RAISE 160\n",
      "  Raise amount: 160 (min raise was 160\n",
      "\n",
      "Player 3's turn:\n",
      "  Hand: [8d, Jc]\n",
      "  Chips: 650\n",
      "  To call: 160\n",
      "  Possible actions:\n",
      "    0. FOLD  (Q-value: 0.53)\n",
      "    1. CALL 160 (Q-value: 1.72)\n",
      "    2. RAISE 320 (Q-value: 2.44)\n",
      "    3. ALL-IN 650 (Q-value: 6.19)\n",
      "  Chose: RAISE 320\n",
      "  Raise amount: 320 (min raise was 320\n",
      "\n",
      "Player 2's turn:\n",
      "  Hand: [6h, 3h]\n",
      "  Chips: 730\n",
      "  To call: 320\n",
      "  Possible actions:\n",
      "    0. FOLD  (Q-value: 9913227.00)\n",
      "    1. CALL 320 (Q-value: 9138653.00)\n",
      "    2. RAISE 640 (Q-value: 8599742.00)\n",
      "    3. ALL-IN 730 (Q-value: 14800966.00)\n",
      "  Chose: RAISE 640\n",
      "  Raise amount: 640 (min raise was 640\n",
      "\n",
      "========================================\n",
      "Showdown:\n",
      "Community cards: [Qs, 7s, Tc, Qc, 2s]\n",
      "Player 0: [Ts, 4h] (FOLDED)\n",
      "Player 1: [Td, 6c] (FOLDED)\n",
      "Player 2: [6h, 3h] → Pair\n",
      "Player 3: [8d, Jc] → Pair\n",
      "\n",
      "Final chips: [970, 970, 0, 2030]\n",
      "Winners: Players [3]\n",
      "Pot distributed: 1860 chips\n",
      "\n",
      "Hand strength analysis:\n",
      "  Player 2: Pair with kickers [12, 10, 7, 6]\n",
      "  Player 3: Pair with kickers [12, 11, 10, 8]\n",
      "\n",
      "========================================\n",
      "Hand 4:\n",
      "Dealer: 1\n",
      "Starting chips: [970, 970, 0, 2010]\n",
      "Player positions:\n",
      "  Player 0: BTN\n",
      "  Player 1: UTG\n",
      "  Player 2: HJ\n",
      "  Player 3: CO\n",
      "\n",
      "Starting hands:\n",
      "  Player 0: [6s, Qd]\n",
      "  Player 1: [7d, Js]\n",
      "  Player 2: [3s, 8h]\n",
      "  Player 3: [Jd, 2s]\n",
      "\n",
      "====================\n",
      "Pre-flop\n",
      "Pot: 20\n",
      "Current bets: [0, 0, 0, 20]\n",
      "\n",
      "Player 0's turn:\n",
      "  Hand: [6s, Qd]\n",
      "  Chips: 970\n",
      "  To call: 20\n",
      "  Possible actions:\n",
      "    0. FOLD  (Q-value: 0.61)\n",
      "    1. CALL 20 (Q-value: 0.30)\n",
      "    2. RAISE 40 (Q-value: 0.64)\n",
      "    3. ALL-IN 970 (Q-value: 0.62)\n",
      "  Chose: CALL 20\n",
      "\n",
      "Player 1's turn:\n",
      "  Hand: [7d, Js]\n",
      "  Chips: 970\n",
      "  To call: 20\n",
      "  Possible actions:\n",
      "    0. FOLD  (Q-value: 1597.84)\n",
      "    1. CALL 20 (Q-value: 750.00)\n",
      "    2. RAISE 40 (Q-value: 1460.21)\n",
      "    3. ALL-IN 970 (Q-value: 1487.39)\n",
      "  Chose: FOLD \n",
      "\n",
      "====================\n",
      "Flop\n",
      "Community cards: [2h, 7h, Kd]\n",
      "Pot: 40\n",
      "Current bets: [0, 0, 0, 0]\n",
      "\n",
      "Player 0's turn:\n",
      "  Hand: [6s, Qd]\n",
      "  Chips: 950\n",
      "  To call: 0\n",
      "  Possible actions:\n",
      "    0. FOLD  (Q-value: -0.56)\n",
      "    1. CHECK  (Q-value: 0.06)\n",
      "    2. RAISE 20 (Q-value: 0.19)\n",
      "    3. ALL-IN 950 (Q-value: 0.50)\n",
      "  Chose: RAISE 20\n",
      "  Raise amount: 20 (min raise was 20\n",
      "\n",
      "Player 3's turn:\n",
      "  Hand: [Jd, 2s]\n",
      "  Chips: 2010\n",
      "  To call: 20\n",
      "  Possible actions:\n",
      "    0. FOLD  (Q-value: 1.23)\n",
      "    1. CALL 20 (Q-value: 1.62)\n",
      "    2. RAISE 40 (Q-value: 1.54)\n",
      "    3. ALL-IN 2010 (Q-value: 1.61)\n",
      "  Chose: RAISE 40\n",
      "  Raise amount: 40 (min raise was 40\n",
      "\n",
      "Player 0's turn:\n",
      "  Hand: [6s, Qd]\n",
      "  Chips: 930\n",
      "  To call: 40\n",
      "  Possible actions:\n",
      "    0. FOLD  (Q-value: -0.88)\n",
      "    1. CALL 40 (Q-value: -0.03)\n",
      "    2. RAISE 80 (Q-value: 0.14)\n",
      "    3. ALL-IN 930 (Q-value: 0.37)\n",
      "  Chose: RAISE 80\n",
      "  Raise amount: 80 (min raise was 80\n",
      "\n",
      "Player 3's turn:\n",
      "  Hand: [Jd, 2s]\n",
      "  Chips: 1950\n",
      "  To call: 80\n",
      "  Possible actions:\n",
      "    0. FOLD  (Q-value: 1.60)\n",
      "    1. CALL 80 (Q-value: 1.54)\n",
      "    2. RAISE 160 (Q-value: 1.59)\n",
      "    3. ALL-IN 1950 (Q-value: 1.48)\n",
      "  Chose: FOLD \n",
      "\n",
      "========================================\n",
      "Showdown:\n",
      "Community cards: [2h, 7h, Kd, 3d]\n",
      "Player 0: [6s, Qd] → High Card\n",
      "Player 1: [7d, Js] (FOLDED)\n",
      "Player 2: [3s, 8h] → Pair\n",
      "Player 3: [Jd, 2s] (FOLDED)\n",
      "\n",
      "Final chips: [810, 970, 240, 1950]\n",
      "Winners: Players [2]\n",
      "Pot distributed: 240 chips\n",
      "\n",
      "Hand strength analysis:\n",
      "  Player 0: High Card with kickers [13, 12, 7, 6, 3]\n",
      "  Player 2: Pair with kickers [3, 13, 8, 7]\n",
      "\n",
      "========================================\n",
      "Hand 5:\n",
      "Dealer: 2\n",
      "Starting chips: [790, 970, 240, 1940]\n",
      "Player positions:\n",
      "  Player 0: CO\n",
      "  Player 1: BTN\n",
      "  Player 2: UTG\n",
      "  Player 3: HJ\n",
      "\n",
      "Starting hands:\n",
      "  Player 0: [Tc, 2s]\n",
      "  Player 1: [8h, Ts]\n",
      "  Player 2: [6c, Td]\n",
      "  Player 3: [Ah, 4d]\n",
      "\n",
      "====================\n",
      "Pre-flop\n",
      "Pot: 30\n",
      "Current bets: [20, 0, 0, 10]\n",
      "\n",
      "Player 1's turn:\n",
      "  Hand: [8h, Ts]\n",
      "  Chips: 970\n",
      "  To call: 20\n",
      "  Possible actions:\n",
      "    0. FOLD  (Q-value: 721.27)\n",
      "    1. CALL 20 (Q-value: 335.25)\n",
      "    2. RAISE 40 (Q-value: 694.22)\n",
      "    3. ALL-IN 970 (Q-value: 524.80)\n",
      "  Chose: FOLD \n",
      "\n",
      "Player 2's turn:\n",
      "  Hand: [6c, Td]\n",
      "  Chips: 240\n",
      "  To call: 20\n",
      "  Possible actions:\n",
      "    0. FOLD  (Q-value: 1473958.50)\n",
      "    1. CALL 20 (Q-value: 6914888.00)\n",
      "    2. RAISE 40 (Q-value: 10029442.00)\n",
      "    3. ALL-IN 240 (Q-value: 51902776.00)\n",
      "  Chose: FOLD \n",
      "\n",
      "Player 3's turn:\n",
      "  Hand: [Ah, 4d]\n",
      "  Chips: 1940\n",
      "  To call: 10\n",
      "  Possible actions:\n",
      "    0. FOLD  (Q-value: 0.19)\n",
      "    1. CALL 10 (Q-value: -0.13)\n",
      "    2. RAISE 30 (Q-value: 0.58)\n",
      "    3. ALL-IN 1940 (Q-value: 1.78)\n",
      "  Chose: CALL 10\n",
      "\n",
      "====================\n",
      "Flop\n",
      "Community cards: [3d, 7d, 9c]\n",
      "Pot: 40\n",
      "Current bets: [0, 0, 0, 0]\n",
      "\n",
      "Player 0's turn:\n",
      "  Hand: [Tc, 2s]\n",
      "  Chips: 790\n",
      "  To call: 0\n",
      "  Possible actions:\n",
      "    0. FOLD  (Q-value: -0.01)\n",
      "    1. CHECK  (Q-value: -0.26)\n",
      "    2. RAISE 20 (Q-value: -0.44)\n",
      "    3. ALL-IN 790 (Q-value: -0.21)\n",
      "  Chose: FOLD \n",
      "\n",
      "========================================\n",
      "Showdown:\n",
      "Community cards: [3d, 7d, 9c, 8c]\n",
      "Player 0: [Tc, 2s] (FOLDED)\n",
      "Player 1: [8h, Ts] (FOLDED)\n",
      "Player 2: [6c, Td] (FOLDED)\n",
      "Player 3: [Ah, 4d] → High Card\n",
      "\n",
      "Final chips: [790, 970, 240, 1970]\n",
      "Winners: Players [3]\n",
      "Pot distributed: 40 chips\n",
      "\n",
      "Hand strength analysis:\n",
      "  Player 3: High Card with kickers [14, 9, 8, 7, 4]\n",
      "\n",
      "========================================\n",
      "Hand 6:\n",
      "Dealer: 3\n",
      "Starting chips: [780, 950, 240, 1970]\n",
      "Player positions:\n",
      "  Player 0: HJ\n",
      "  Player 1: CO\n",
      "  Player 2: BTN\n",
      "  Player 3: UTG\n",
      "\n",
      "Starting hands:\n",
      "  Player 0: [5s, 4d]\n",
      "  Player 1: [Qh, Qd]\n",
      "  Player 2: [2d, Qs]\n",
      "  Player 3: [8c, 3h]\n",
      "\n",
      "====================\n",
      "Pre-flop\n",
      "Pot: 30\n",
      "Current bets: [10, 20, 0, 0]\n",
      "\n",
      "Player 2's turn:\n",
      "  Hand: [2d, Qs]\n",
      "  Chips: 240\n",
      "  To call: 20\n",
      "  Possible actions:\n",
      "    0. FOLD  (Q-value: 8308673.50)\n",
      "    1. CALL 20 (Q-value: 5221050.00)\n",
      "    2. RAISE 40 (Q-value: 15408833.00)\n",
      "    3. ALL-IN 240 (Q-value: 16235972.00)\n",
      "  Chose: RAISE 40\n",
      "  Raise amount: 40 (min raise was 40\n",
      "\n",
      "Player 3's turn:\n",
      "  Hand: [8c, 3h]\n",
      "  Chips: 1970\n",
      "  To call: 60\n",
      "  Possible actions:\n",
      "    0. FOLD  (Q-value: 1.41)\n",
      "    1. CALL 60 (Q-value: 0.75)\n",
      "    2. RAISE 100 (Q-value: 1.27)\n",
      "    3. ALL-IN 1970 (Q-value: 0.94)\n",
      "  Chose: FOLD \n",
      "\n",
      "Player 0's turn:\n",
      "  Hand: [5s, 4d]\n",
      "  Chips: 780\n",
      "  To call: 50\n",
      "  Possible actions:\n",
      "    0. FOLD  (Q-value: -0.35)\n",
      "    1. CALL 50 (Q-value: -0.39)\n",
      "    2. RAISE 90 (Q-value: -0.06)\n",
      "    3. ALL-IN 780 (Q-value: 0.06)\n",
      "  Chose: RAISE 90\n",
      "  Raise amount: 90 (min raise was 90\n",
      "\n",
      "Player 1's turn:\n",
      "  Hand: [Qh, Qd]\n",
      "  Chips: 950\n",
      "  To call: 130\n",
      "  Possible actions:\n",
      "    0. FOLD  (Q-value: 855.80)\n",
      "    1. CALL 130 (Q-value: 304.38)\n",
      "    2. RAISE 220 (Q-value: 599.75)\n",
      "    3. ALL-IN 950 (Q-value: 381.96)\n",
      "  Chose: ALL-IN 950\n",
      "\n",
      "Player 2's turn:\n",
      "  Hand: [2d, Qs]\n",
      "  Chips: 180\n",
      "  To call: 910\n",
      "  Possible actions:\n",
      "    0. FOLD  (Q-value: 10772374.00)\n",
      "    1. CALL 910 (Q-value: 9956977.00)\n",
      "    2. ALL-IN 180 (Q-value: 8294936.50)\n",
      "  Chose: ALL-IN 180\n",
      "\n",
      "========================================\n",
      "Showdown:\n",
      "Community cards: [2h, Qc, 6h]\n",
      "Player 0: [5s, 4d] → High Card\n",
      "Player 1: [Qh, Qd] → Three of a Kind\n",
      "Player 2: [2d, Qs] → Two Pair\n",
      "Player 3: [8c, 3h] (FOLDED)\n",
      "\n",
      "Final chips: [640, 1360, 0, 1970]\n",
      "Winners: Players [1]\n",
      "Pot distributed: 1360 chips\n",
      "\n",
      "Hand strength analysis:\n",
      "  Player 0: High Card with kickers [12, 6, 5, 4, 2]\n",
      "  Player 1: Three of a Kind with kickers [12, 6, 2]\n",
      "  Player 2: Two Pair with kickers [12, 2, 6]\n",
      "\n",
      "========================================\n",
      "Hand 7:\n",
      "Dealer: 0\n",
      "Starting chips: [640, 1350, 0, 1970]\n",
      "Player positions:\n",
      "  Player 0: UTG\n",
      "  Player 1: HJ\n",
      "  Player 2: CO\n",
      "  Player 3: BTN\n",
      "\n",
      "Starting hands:\n",
      "  Player 0: [7c, Ts]\n",
      "  Player 1: [4s, Ks]\n",
      "  Player 2: [6s, 3h]\n",
      "  Player 3: [Ah, 5h]\n",
      "\n",
      "====================\n",
      "Pre-flop\n",
      "Pot: 10\n",
      "Current bets: [0, 10, 0, 0]\n",
      "\n",
      "Player 3's turn:\n",
      "  Hand: [Ah, 5h]\n",
      "  Chips: 1970\n",
      "  To call: 10\n",
      "  Possible actions:\n",
      "    0. FOLD  (Q-value: 0.38)\n",
      "    1. CALL 10 (Q-value: 1.09)\n",
      "    2. RAISE 30 (Q-value: 1.86)\n",
      "    3. ALL-IN 1970 (Q-value: 2.12)\n",
      "  Chose: ALL-IN 1970\n",
      "\n",
      "Player 0's turn:\n",
      "  Hand: [7c, Ts]\n",
      "  Chips: 640\n",
      "  To call: 1970\n",
      "  Possible actions:\n",
      "    0. FOLD  (Q-value: -0.78)\n",
      "    1. CALL 1970 (Q-value: -0.97)\n",
      "    2. ALL-IN 640 (Q-value: -1.65)\n",
      "  Chose: ALL-IN 640\n",
      "\n",
      "========================================\n",
      "Showdown:\n",
      "Community cards: [Th, 3d, 8h]\n",
      "Player 0: [7c, Ts] → Pair\n",
      "Player 1: [4s, Ks] → High Card\n",
      "Player 2: [6s, 3h] → Pair\n",
      "Player 3: [Ah, 5h] → High Card\n",
      "\n",
      "Final chips: [2620, 1350, 0, 0]\n",
      "Winners: Players [0]\n",
      "Pot distributed: 2620 chips\n",
      "\n",
      "Hand strength analysis:\n",
      "  Player 0: Pair with kickers [10, 8, 7, 3]\n",
      "  Player 1: High Card with kickers [13, 10, 8, 4, 3]\n",
      "  Player 2: Pair with kickers [3, 10, 8, 6]\n",
      "  Player 3: High Card with kickers [14, 10, 8, 5, 3]\n",
      "\n",
      "========================================\n",
      "Hand 8:\n",
      "Dealer: 1\n",
      "Starting chips: [2620, 1350, 0, 0]\n",
      "Player positions:\n",
      "  Player 0: BTN\n",
      "  Player 1: UTG\n",
      "  Player 2: HJ\n",
      "  Player 3: CO\n",
      "\n",
      "Starting hands:\n",
      "  Player 0: [7h, 2d]\n",
      "  Player 1: [8d, 4d]\n",
      "  Player 2: [Th, Tc]\n",
      "  Player 3: [3d, Td]\n",
      "\n",
      "====================\n",
      "Pre-flop\n",
      "Pot: 0\n",
      "Current bets: [0, 0, 0, 0]\n",
      "\n",
      "Player 0's turn:\n",
      "  Hand: [7h, 2d]\n",
      "  Chips: 2620\n",
      "  To call: 0\n",
      "  Possible actions:\n",
      "    0. FOLD  (Q-value: 1.33)\n",
      "    1. CHECK  (Q-value: 2.20)\n",
      "    2. RAISE 20 (Q-value: 1.79)\n",
      "    3. ALL-IN 2620 (Q-value: 2.67)\n",
      "  Chose: RAISE 20\n",
      "  Raise amount: 20 (min raise was 20\n",
      "\n",
      "Player 1's turn:\n",
      "  Hand: [8d, 4d]\n",
      "  Chips: 1350\n",
      "  To call: 20\n",
      "  Possible actions:\n",
      "    0. FOLD  (Q-value: 447.66)\n",
      "    1. CALL 20 (Q-value: 347.63)\n",
      "    2. RAISE 40 (Q-value: 444.93)\n",
      "    3. ALL-IN 1350 (Q-value: 752.05)\n",
      "  Chose: RAISE 40\n",
      "  Raise amount: 40 (min raise was 40\n",
      "\n",
      "Player 0's turn:\n",
      "  Hand: [7h, 2d]\n",
      "  Chips: 2600\n",
      "  To call: 40\n",
      "  Possible actions:\n",
      "    0. FOLD  (Q-value: 1.85)\n",
      "    1. CALL 40 (Q-value: 2.12)\n",
      "    2. RAISE 80 (Q-value: 2.07)\n",
      "    3. ALL-IN 2600 (Q-value: 2.29)\n",
      "  Chose: RAISE 80\n",
      "  Raise amount: 80 (min raise was 80\n",
      "\n",
      "Player 1's turn:\n",
      "  Hand: [8d, 4d]\n",
      "  Chips: 1290\n",
      "  To call: 80\n",
      "  Possible actions:\n",
      "    0. FOLD  (Q-value: 770.42)\n",
      "    1. CALL 80 (Q-value: 263.57)\n",
      "    2. RAISE 160 (Q-value: 454.13)\n",
      "    3. ALL-IN 1290 (Q-value: 261.52)\n",
      "  Chose: FOLD \n",
      "\n",
      "========================================\n",
      "Showdown:\n",
      "Community cards: [6h, 5h, Kc]\n",
      "Player 0: [7h, 2d] → High Card\n",
      "Player 1: [8d, 4d] (FOLDED)\n",
      "Player 2: [Th, Tc] → Pair\n",
      "Player 3: [3d, Td] → High Card\n",
      "\n",
      "Final chips: [2480, 1290, 200, 0]\n",
      "Winners: Players [2]\n",
      "Pot distributed: 200 chips\n",
      "\n",
      "Hand strength analysis:\n",
      "  Player 0: High Card with kickers [13, 7, 6, 5, 2]\n",
      "  Player 2: Pair with kickers [10, 13, 6, 5]\n",
      "  Player 3: High Card with kickers [13, 10, 6, 5, 3]\n",
      "\n",
      "========================================\n",
      "Hand 9:\n",
      "Dealer: 2\n",
      "Starting chips: [2460, 1290, 200, 0]\n",
      "Player positions:\n",
      "  Player 0: CO\n",
      "  Player 1: BTN\n",
      "  Player 2: UTG\n",
      "  Player 3: HJ\n",
      "\n",
      "Starting hands:\n",
      "  Player 0: [Jh, Qd]\n",
      "  Player 1: [5d, Th]\n",
      "  Player 2: [3h, 4c]\n",
      "  Player 3: [8h, Jd]\n",
      "\n",
      "====================\n",
      "Pre-flop\n",
      "Pot: 20\n",
      "Current bets: [20, 0, 0, 0]\n",
      "\n",
      "Player 1's turn:\n",
      "  Hand: [5d, Th]\n",
      "  Chips: 1290\n",
      "  To call: 20\n",
      "  Possible actions:\n",
      "    0. FOLD  (Q-value: 658.25)\n",
      "    1. CALL 20 (Q-value: 310.49)\n",
      "    2. RAISE 40 (Q-value: 631.31)\n",
      "    3. ALL-IN 1290 (Q-value: 472.75)\n",
      "  Chose: FOLD \n",
      "\n",
      "Player 2's turn:\n",
      "  Hand: [3h, 4c]\n",
      "  Chips: 200\n",
      "  To call: 20\n",
      "  Possible actions:\n",
      "    0. FOLD  (Q-value: 76822.73)\n",
      "    1. CALL 20 (Q-value: 6924004.50)\n",
      "    2. RAISE 40 (Q-value: 7452837.00)\n",
      "    3. ALL-IN 200 (Q-value: 51386704.00)\n",
      "  Chose: RAISE 40\n",
      "  Raise amount: 40 (min raise was 40\n",
      "\n",
      "Player 0's turn:\n",
      "  Hand: [Jh, Qd]\n",
      "  Chips: 2460\n",
      "  To call: 40\n",
      "  Possible actions:\n",
      "    0. FOLD  (Q-value: 1.89)\n",
      "    1. CALL 40 (Q-value: 1.75)\n",
      "    2. RAISE 80 (Q-value: 1.97)\n",
      "    3. ALL-IN 2460 (Q-value: 1.48)\n",
      "  Chose: CALL 40\n",
      "\n",
      "====================\n",
      "Flop\n",
      "Community cards: [8c, 9d, 3d]\n",
      "Pot: 120\n",
      "Current bets: [0, 0, 0, 0]\n",
      "\n",
      "Player 2's turn:\n",
      "  Hand: [3h, 4c]\n",
      "  Chips: 140\n",
      "  To call: 0\n",
      "  Possible actions:\n",
      "    0. FOLD  (Q-value: -5266511.50)\n",
      "    1. CHECK  (Q-value: 3406909.50)\n",
      "    2. RAISE 20 (Q-value: -12526569.00)\n",
      "    3. ALL-IN 140 (Q-value: 543635.12)\n",
      "  Chose: CHECK \n",
      "\n",
      "====================\n",
      "Turn\n",
      "Community cards: [8c, 9d, 3d, 9s]\n",
      "Pot: 120\n",
      "Current bets: [0, 0, 0, 0]\n",
      "\n",
      "Player 2's turn:\n",
      "  Hand: [3h, 4c]\n",
      "  Chips: 140\n",
      "  To call: 0\n",
      "  Possible actions:\n",
      "    0. FOLD  (Q-value: -3866296.75)\n",
      "    1. CHECK  (Q-value: 3472912.50)\n",
      "    2. RAISE 20 (Q-value: -9666948.00)\n",
      "    3. ALL-IN 140 (Q-value: 1400710.62)\n",
      "  Chose: CHECK \n",
      "\n",
      "====================\n",
      "River\n",
      "Community cards: [8c, 9d, 3d, 9s, 3c]\n",
      "Pot: 120\n",
      "Current bets: [0, 0, 0, 0]\n",
      "\n",
      "Player 2's turn:\n",
      "  Hand: [3h, 4c]\n",
      "  Chips: 140\n",
      "  To call: 0\n",
      "  Possible actions:\n",
      "    0. FOLD  (Q-value: -6567513.50)\n",
      "    1. CHECK  (Q-value: 3166952.50)\n",
      "    2. RAISE 20 (Q-value: -15658963.00)\n",
      "    3. ALL-IN 140 (Q-value: -2285239.75)\n",
      "  Chose: CHECK \n",
      "\n",
      "========================================\n",
      "Showdown:\n",
      "Community cards: [8c, 9d, 3d, 9s, 3c]\n",
      "Player 0: [Jh, Qd] → Two Pair\n",
      "Player 1: [5d, Th] (FOLDED)\n",
      "Player 2: [3h, 4c] → Full House\n",
      "Player 3: [8h, Jd] → Two Pair\n",
      "\n",
      "Final chips: [2420, 1290, 260, 0]\n",
      "Winners: Players [2]\n",
      "Pot distributed: 120 chips\n",
      "\n",
      "Hand strength analysis:\n",
      "  Player 0: Two Pair with kickers [9, 3, 12]\n",
      "  Player 2: Full House with kickers [3, 9]\n",
      "  Player 3: Two Pair with kickers [9, 8, 11]\n",
      "\n",
      "========================================\n",
      "Hand 10:\n",
      "Dealer: 3\n",
      "Starting chips: [2410, 1270, 260, 0]\n",
      "Player positions:\n",
      "  Player 0: HJ\n",
      "  Player 1: CO\n",
      "  Player 2: BTN\n",
      "  Player 3: UTG\n",
      "\n",
      "Starting hands:\n",
      "  Player 0: [As, 6c]\n",
      "  Player 1: [4d, 2h]\n",
      "  Player 2: [2d, 3s]\n",
      "  Player 3: [Jh, 4c]\n",
      "\n",
      "====================\n",
      "Pre-flop\n",
      "Pot: 30\n",
      "Current bets: [10, 20, 0, 0]\n",
      "\n",
      "Player 2's turn:\n",
      "  Hand: [2d, 3s]\n",
      "  Chips: 260\n",
      "  To call: 20\n",
      "  Possible actions:\n",
      "    0. FOLD  (Q-value: 8408116.00)\n",
      "    1. CALL 20 (Q-value: 5228815.00)\n",
      "    2. RAISE 40 (Q-value: 15618674.00)\n",
      "    3. ALL-IN 260 (Q-value: 16311456.00)\n",
      "  Chose: RAISE 40\n",
      "  Raise amount: 40 (min raise was 40\n",
      "\n",
      "Player 0's turn:\n",
      "  Hand: [As, 6c]\n",
      "  Chips: 2410\n",
      "  To call: 50\n",
      "  Possible actions:\n",
      "    0. FOLD  (Q-value: 1.09)\n",
      "    1. CALL 50 (Q-value: 1.31)\n",
      "    2. RAISE 90 (Q-value: 1.08)\n",
      "    3. ALL-IN 2410 (Q-value: 1.31)\n",
      "  Chose: RAISE 90\n",
      "  Raise amount: 90 (min raise was 90\n",
      "\n",
      "Player 1's turn:\n",
      "  Hand: [4d, 2h]\n",
      "  Chips: 1270\n",
      "  To call: 130\n",
      "  Possible actions:\n",
      "    0. FOLD  (Q-value: 831.61)\n",
      "    1. CALL 130 (Q-value: 276.00)\n",
      "    2. RAISE 220 (Q-value: 553.77)\n",
      "    3. ALL-IN 1270 (Q-value: 300.74)\n",
      "  Chose: CALL 130\n",
      "\n",
      "Player 2's turn:\n",
      "  Hand: [2d, 3s]\n",
      "  Chips: 200\n",
      "  To call: 90\n",
      "  Possible actions:\n",
      "    0. FOLD  (Q-value: 35531704.00)\n",
      "    1. CALL 90 (Q-value: 11282772.00)\n",
      "    2. RAISE 180 (Q-value: 60766676.00)\n",
      "    3. ALL-IN 200 (Q-value: 29508596.00)\n",
      "  Chose: CALL 90\n",
      "\n",
      "====================\n",
      "Flop\n",
      "Community cards: [Ks, 8d, Th]\n",
      "Pot: 450\n",
      "Current bets: [0, 0, 0, 0]\n",
      "\n",
      "Player 1's turn:\n",
      "  Hand: [4d, 2h]\n",
      "  Chips: 1140\n",
      "  To call: 0\n",
      "  Possible actions:\n",
      "    0. FOLD  (Q-value: -19.62)\n",
      "    1. CHECK  (Q-value: 28.65)\n",
      "    2. RAISE 20 (Q-value: 50.44)\n",
      "    3. ALL-IN 1140 (Q-value: 19.77)\n",
      "  Chose: RAISE 20\n",
      "  Raise amount: 20 (min raise was 20\n",
      "\n",
      "Player 2's turn:\n",
      "  Hand: [2d, 3s]\n",
      "  Chips: 110\n",
      "  To call: 20\n",
      "  Possible actions:\n",
      "    0. FOLD  (Q-value: 4308466.00)\n",
      "    1. CALL 20 (Q-value: 4052724.00)\n",
      "    2. RAISE 40 (Q-value: 5029800.50)\n",
      "    3. ALL-IN 110 (Q-value: 2517646.25)\n",
      "  Chose: CALL 20\n",
      "\n",
      "Player 0's turn:\n",
      "  Hand: [As, 6c]\n",
      "  Chips: 2270\n",
      "  To call: 20\n",
      "  Possible actions:\n",
      "    0. FOLD  (Q-value: 1.53)\n",
      "    1. CALL 20 (Q-value: 1.58)\n",
      "    2. RAISE 40 (Q-value: 1.29)\n",
      "    3. ALL-IN 2270 (Q-value: 1.09)\n",
      "  Chose: CALL 20\n",
      "\n",
      "====================\n",
      "Turn\n",
      "Community cards: [Ks, 8d, Th, Qs]\n",
      "Pot: 510\n",
      "Current bets: [0, 0, 0, 0]\n",
      "\n",
      "Player 1's turn:\n",
      "  Hand: [4d, 2h]\n",
      "  Chips: 1120\n",
      "  To call: 0\n",
      "  Possible actions:\n",
      "    0. FOLD  (Q-value: -46.38)\n",
      "    1. CHECK  (Q-value: 13.53)\n",
      "    2. RAISE 20 (Q-value: 15.49)\n",
      "    3. ALL-IN 1120 (Q-value: 11.05)\n",
      "  Chose: ALL-IN 1120\n",
      "\n",
      "Player 2's turn:\n",
      "  Hand: [2d, 3s]\n",
      "  Chips: 90\n",
      "  To call: 1120\n",
      "  Possible actions:\n",
      "    0. FOLD  (Q-value: 10520330.00)\n",
      "    1. CALL 1120 (Q-value: 9307878.00)\n",
      "    2. ALL-IN 90 (Q-value: 9402106.00)\n",
      "  Chose: CALL 1120\n",
      "\n",
      "========================================\n",
      "Showdown:\n",
      "Community cards: [Ks, 8d, Th, Qs, Ac]\n",
      "Player 0: [As, 6c] → Pair\n",
      "Player 1: [4d, 2h] → High Card\n",
      "Player 2: [2d, 3s] → High Card\n",
      "Player 3: [Jh, 4c] → Straight\n",
      "\n",
      "Final chips: [2250, 0, 0, 1720]\n",
      "Winners: Players [3]\n",
      "Pot distributed: 1720 chips\n",
      "\n",
      "Hand strength analysis:\n",
      "  Player 0: Pair with kickers [14, 13, 12, 10]\n",
      "  Player 1: High Card with kickers [14, 13, 12, 10, 8]\n",
      "  Player 2: High Card with kickers [14, 13, 12, 10, 8]\n",
      "  Player 3: Straight with kickers [14]\n",
      "\n",
      "========================================\n",
      "Hand 11:\n",
      "Dealer: 0\n",
      "Starting chips: [2250, 0, 0, 1720]\n",
      "Player positions:\n",
      "  Player 0: UTG\n",
      "  Player 1: HJ\n",
      "  Player 2: CO\n",
      "  Player 3: BTN\n",
      "\n",
      "Starting hands:\n",
      "  Player 0: [Kd, 2s]\n",
      "  Player 1: [As, 9h]\n",
      "  Player 2: [Jc, Th]\n",
      "  Player 3: [8s, 2h]\n",
      "\n",
      "====================\n",
      "Pre-flop\n",
      "Pot: 0\n",
      "Current bets: [0, 0, 0, 0]\n",
      "\n",
      "Player 3's turn:\n",
      "  Hand: [8s, 2h]\n",
      "  Chips: 1720\n",
      "  To call: 0\n",
      "  Possible actions:\n",
      "    0. FOLD  (Q-value: 1.20)\n",
      "    1. CHECK  (Q-value: 1.01)\n",
      "    2. RAISE 20 (Q-value: 1.72)\n",
      "    3. ALL-IN 1720 (Q-value: 1.62)\n",
      "  Chose: CHECK \n",
      "\n",
      "====================\n",
      "Flop\n",
      "Community cards: [4c, Kc, 3s]\n",
      "Pot: 0\n",
      "Current bets: [0, 0, 0, 0]\n",
      "\n",
      "Player 0's turn:\n",
      "  Hand: [Kd, 2s]\n",
      "  Chips: 2250\n",
      "  To call: 0\n",
      "  Possible actions:\n",
      "    0. FOLD  (Q-value: 0.68)\n",
      "    1. CHECK  (Q-value: 1.15)\n",
      "    2. RAISE 20 (Q-value: 0.49)\n",
      "    3. ALL-IN 2250 (Q-value: 0.91)\n",
      "  Chose: CHECK \n",
      "\n",
      "====================\n",
      "Turn\n",
      "Community cards: [4c, Kc, 3s, 2c]\n",
      "Pot: 0\n",
      "Current bets: [0, 0, 0, 0]\n",
      "\n",
      "Player 0's turn:\n",
      "  Hand: [Kd, 2s]\n",
      "  Chips: 2250\n",
      "  To call: 0\n",
      "  Possible actions:\n",
      "    0. FOLD  (Q-value: 0.74)\n",
      "    1. CHECK  (Q-value: 1.02)\n",
      "    2. RAISE 20 (Q-value: 0.44)\n",
      "    3. ALL-IN 2250 (Q-value: 0.98)\n",
      "  Chose: CHECK \n",
      "\n",
      "====================\n",
      "River\n",
      "Community cards: [4c, Kc, 3s, 2c, 9c]\n",
      "Pot: 0\n",
      "Current bets: [0, 0, 0, 0]\n",
      "\n",
      "Player 0's turn:\n",
      "  Hand: [Kd, 2s]\n",
      "  Chips: 2250\n",
      "  To call: 0\n",
      "  Possible actions:\n",
      "    0. FOLD  (Q-value: 0.86)\n",
      "    1. CHECK  (Q-value: 0.85)\n",
      "    2. RAISE 20 (Q-value: 0.16)\n",
      "    3. ALL-IN 2250 (Q-value: 0.35)\n",
      "  Chose: FOLD \n",
      "\n",
      "========================================\n",
      "Showdown:\n",
      "Community cards: [4c, Kc, 3s, 2c, 9c]\n",
      "Player 0: [Kd, 2s] (FOLDED)\n",
      "Player 1: [As, 9h] → Pair\n",
      "Player 2: [Jc, Th] → Flush\n",
      "Player 3: [8s, 2h] → Pair\n",
      "\n",
      "Final chips: [2250, 0, 0, 1720]\n",
      "Winners: Players [2]\n",
      "Pot distributed: 0 chips\n",
      "\n",
      "Hand strength analysis:\n",
      "  Player 1: Pair with kickers [9, 14, 13, 4]\n",
      "  Player 2: Flush with kickers [13, 11, 9, 4, 2]\n",
      "  Player 3: Pair with kickers [2, 13, 9, 8]\n",
      "\n",
      "========================================\n",
      "Hand 12:\n",
      "Dealer: 1\n",
      "Starting chips: [2250, 0, 0, 1700]\n",
      "Player positions:\n",
      "  Player 0: BTN\n",
      "  Player 1: UTG\n",
      "  Player 2: HJ\n",
      "  Player 3: CO\n",
      "\n",
      "Starting hands:\n",
      "  Player 0: [2c, 6d]\n",
      "  Player 1: [8d, Ad]\n",
      "  Player 2: [7c, Ks]\n",
      "  Player 3: [3s, 9s]\n",
      "\n",
      "====================\n",
      "Pre-flop\n",
      "Pot: 20\n",
      "Current bets: [0, 0, 0, 20]\n",
      "\n",
      "Player 0's turn:\n",
      "  Hand: [2c, 6d]\n",
      "  Chips: 2250\n",
      "  To call: 20\n",
      "  Possible actions:\n",
      "    0. FOLD  (Q-value: 1.70)\n",
      "    1. CALL 20 (Q-value: 2.05)\n",
      "    2. RAISE 40 (Q-value: 2.29)\n",
      "    3. ALL-IN 2250 (Q-value: 2.27)\n",
      "  Chose: CALL 20\n",
      "\n",
      "====================\n",
      "Flop\n",
      "Community cards: [Kd, 7h, 4d]\n",
      "Pot: 40\n",
      "Current bets: [0, 0, 0, 0]\n",
      "\n",
      "Player 0's turn:\n",
      "  Hand: [2c, 6d]\n",
      "  Chips: 2230\n",
      "  To call: 0\n",
      "  Possible actions:\n",
      "    0. FOLD  (Q-value: 1.64)\n",
      "    1. CHECK  (Q-value: 2.41)\n",
      "    2. RAISE 20 (Q-value: 2.26)\n",
      "    3. ALL-IN 2230 (Q-value: 2.64)\n",
      "  Chose: RAISE 20\n",
      "  Raise amount: 20 (min raise was 20\n",
      "\n",
      "Player 3's turn:\n",
      "  Hand: [3s, 9s]\n",
      "  Chips: 1700\n",
      "  To call: 20\n",
      "  Possible actions:\n",
      "    0. FOLD  (Q-value: 1.37)\n",
      "    1. CALL 20 (Q-value: 0.70)\n",
      "    2. RAISE 40 (Q-value: 0.74)\n",
      "    3. ALL-IN 1700 (Q-value: 0.57)\n",
      "  Chose: FOLD \n",
      "\n",
      "========================================\n",
      "Showdown:\n",
      "Community cards: [Kd, 7h, 4d, 8c]\n",
      "Player 0: [2c, 6d] → High Card\n",
      "Player 1: [8d, Ad] → Pair\n",
      "Player 2: [7c, Ks] → Two Pair\n",
      "Player 3: [3s, 9s] (FOLDED)\n",
      "\n",
      "Final chips: [2210, 0, 60, 1700]\n",
      "Winners: Players [2]\n",
      "Pot distributed: 60 chips\n",
      "\n",
      "Hand strength analysis:\n",
      "  Player 0: High Card with kickers [13, 8, 7, 6, 4]\n",
      "  Player 1: Pair with kickers [8, 14, 13, 7]\n",
      "  Player 2: Two Pair with kickers [13, 7, 8]\n",
      "\n",
      "========================================\n",
      "Hand 13:\n",
      "Dealer: 2\n",
      "Starting chips: [2190, 0, 60, 1690]\n",
      "Player positions:\n",
      "  Player 0: CO\n",
      "  Player 1: BTN\n",
      "  Player 2: UTG\n",
      "  Player 3: HJ\n",
      "\n",
      "Starting hands:\n",
      "  Player 0: [Jh, Ac]\n",
      "  Player 1: [8s, Qh]\n",
      "  Player 2: [Qd, 4s]\n",
      "  Player 3: [4d, 7h]\n",
      "\n",
      "====================\n",
      "Pre-flop\n",
      "Pot: 30\n",
      "Current bets: [20, 0, 0, 10]\n",
      "\n",
      "Player 2's turn:\n",
      "  Hand: [Qd, 4s]\n",
      "  Chips: 60\n",
      "  To call: 20\n",
      "  Possible actions:\n",
      "    0. FOLD  (Q-value: 4417323.00)\n",
      "    1. CALL 20 (Q-value: 5888385.50)\n",
      "    2. RAISE 40 (Q-value: 12288892.00)\n",
      "    3. ALL-IN 60 (Q-value: 33951864.00)\n",
      "  Chose: RAISE 40\n",
      "  Raise amount: 40 (min raise was 40\n",
      "\n",
      "Player 3's turn:\n",
      "  Hand: [4d, 7h]\n",
      "  Chips: 1690\n",
      "  To call: 50\n",
      "  Possible actions:\n",
      "    0. FOLD  (Q-value: 1.01)\n",
      "    1. CALL 50 (Q-value: 0.30)\n",
      "    2. RAISE 90 (Q-value: 0.60)\n",
      "    3. ALL-IN 1690 (Q-value: 0.76)\n",
      "  Chose: FOLD \n",
      "\n",
      "========================================\n",
      "Showdown:\n",
      "Community cards: [6h, Th, 8d]\n",
      "Player 0: [Jh, Ac] → High Card\n",
      "Player 1: [8s, Qh] → Pair\n",
      "Player 2: [Qd, 4s] → High Card\n",
      "Player 3: [4d, 7h] (FOLDED)\n",
      "\n",
      "Final chips: [2190, 90, 0, 1690]\n",
      "Winners: Players [1]\n",
      "Pot distributed: 90 chips\n",
      "\n",
      "Hand strength analysis:\n",
      "  Player 0: High Card with kickers [14, 11, 10, 8, 6]\n",
      "  Player 1: Pair with kickers [8, 12, 10, 6]\n",
      "  Player 2: High Card with kickers [12, 10, 8, 6, 4]\n",
      "\n",
      "========================================\n",
      "Hand 14:\n",
      "Dealer: 3\n",
      "Starting chips: [2180, 70, 0, 1690]\n",
      "Player positions:\n",
      "  Player 0: HJ\n",
      "  Player 1: CO\n",
      "  Player 2: BTN\n",
      "  Player 3: UTG\n",
      "\n",
      "Starting hands:\n",
      "  Player 0: [2h, 3s]\n",
      "  Player 1: [4h, 6h]\n",
      "  Player 2: [Kh, Th]\n",
      "  Player 3: [9d, Ah]\n",
      "\n",
      "====================\n",
      "Pre-flop\n",
      "Pot: 30\n",
      "Current bets: [10, 20, 0, 0]\n",
      "\n",
      "Player 3's turn:\n",
      "  Hand: [9d, Ah]\n",
      "  Chips: 1690\n",
      "  To call: 20\n",
      "  Possible actions:\n",
      "    0. FOLD  (Q-value: 1.41)\n",
      "    1. CALL 20 (Q-value: 0.45)\n",
      "    2. RAISE 40 (Q-value: 1.27)\n",
      "    3. ALL-IN 1690 (Q-value: 4.22)\n",
      "  Chose: RAISE 40\n",
      "  Raise amount: 40 (min raise was 40\n",
      "\n",
      "Player 0's turn:\n",
      "  Hand: [2h, 3s]\n",
      "  Chips: 2180\n",
      "  To call: 50\n",
      "  Possible actions:\n",
      "    0. FOLD  (Q-value: 1.47)\n",
      "    1. CALL 50 (Q-value: 1.09)\n",
      "    2. RAISE 90 (Q-value: 1.10)\n",
      "    3. ALL-IN 2180 (Q-value: 1.34)\n",
      "  Chose: RAISE 90\n",
      "  Raise amount: 90 (min raise was 90\n",
      "\n",
      "Player 1's turn:\n",
      "  Hand: [4h, 6h]\n",
      "  Chips: 70\n",
      "  To call: 130\n",
      "  Possible actions:\n",
      "    0. FOLD  (Q-value: 800.51)\n",
      "    1. CALL 130 (Q-value: 266.19)\n",
      "    2. ALL-IN 70 (Q-value: 541.29)\n",
      "  Chose: FOLD \n",
      "\n",
      "Player 3's turn:\n",
      "  Hand: [9d, Ah]\n",
      "  Chips: 1630\n",
      "  To call: 90\n",
      "  Possible actions:\n",
      "    0. FOLD  (Q-value: 2.91)\n",
      "    1. CALL 90 (Q-value: 2.39)\n",
      "    2. RAISE 180 (Q-value: 2.89)\n",
      "    3. ALL-IN 1630 (Q-value: 1.76)\n",
      "  Chose: FOLD \n",
      "\n",
      "========================================\n",
      "Showdown:\n",
      "Community cards: [4d, Js, 3c]\n",
      "Player 0: [2h, 3s] → Pair\n",
      "Player 1: [4h, 6h] (FOLDED)\n",
      "Player 2: [Kh, Th] → High Card\n",
      "Player 3: [9d, Ah] (FOLDED)\n",
      "\n",
      "Final chips: [2270, 70, 0, 1630]\n",
      "Winners: Players [0]\n",
      "Pot distributed: 230 chips\n",
      "\n",
      "Hand strength analysis:\n",
      "  Player 0: Pair with kickers [3, 11, 4, 2]\n",
      "  Player 2: High Card with kickers [13, 11, 10, 4, 3]\n",
      "\n",
      "========================================\n",
      "Hand 15:\n",
      "Dealer: 0\n",
      "Starting chips: [2270, 60, 0, 1630]\n",
      "Player positions:\n",
      "  Player 0: UTG\n",
      "  Player 1: HJ\n",
      "  Player 2: CO\n",
      "  Player 3: BTN\n",
      "\n",
      "Starting hands:\n",
      "  Player 0: [7d, Jd]\n",
      "  Player 1: [4c, Jc]\n",
      "  Player 2: [Qd, 3h]\n",
      "  Player 3: [Kc, Th]\n",
      "\n",
      "====================\n",
      "Pre-flop\n",
      "Pot: 10\n",
      "Current bets: [0, 10, 0, 0]\n",
      "\n",
      "Player 3's turn:\n",
      "  Hand: [Kc, Th]\n",
      "  Chips: 1630\n",
      "  To call: 10\n",
      "  Possible actions:\n",
      "    0. FOLD  (Q-value: 1.39)\n",
      "    1. CALL 10 (Q-value: 2.21)\n",
      "    2. RAISE 30 (Q-value: 2.36)\n",
      "    3. ALL-IN 1630 (Q-value: 3.15)\n",
      "  Chose: RAISE 30\n",
      "  Raise amount: 30 (min raise was 30\n",
      "\n",
      "Player 0's turn:\n",
      "  Hand: [7d, Jd]\n",
      "  Chips: 2270\n",
      "  To call: 40\n",
      "  Possible actions:\n",
      "    0. FOLD  (Q-value: 1.40)\n",
      "    1. CALL 40 (Q-value: 1.51)\n",
      "    2. RAISE 70 (Q-value: 1.57)\n",
      "    3. ALL-IN 2270 (Q-value: 1.42)\n",
      "  Chose: CALL 40\n",
      "\n",
      "Player 1's turn:\n",
      "  Hand: [4c, Jc]\n",
      "  Chips: 60\n",
      "  To call: 30\n",
      "  Possible actions:\n",
      "    0. FOLD  (Q-value: -15.14)\n",
      "    1. CALL 30 (Q-value: 162.93)\n",
      "    2. ALL-IN 60 (Q-value: 34.22)\n",
      "  Chose: FOLD \n",
      "\n",
      "====================\n",
      "Flop\n",
      "Community cards: [Ad, Kd, 9s]\n",
      "Pot: 90\n",
      "Current bets: [0, 0, 0, 0]\n",
      "\n",
      "Player 0's turn:\n",
      "  Hand: [7d, Jd]\n",
      "  Chips: 2230\n",
      "  To call: 0\n",
      "  Possible actions:\n",
      "    0. FOLD  (Q-value: 1.03)\n",
      "    1. CHECK  (Q-value: 1.53)\n",
      "    2. RAISE 20 (Q-value: 1.01)\n",
      "    3. ALL-IN 2230 (Q-value: 0.81)\n",
      "  Chose: CHECK \n",
      "\n",
      "====================\n",
      "Turn\n",
      "Community cards: [Ad, Kd, 9s, 3d]\n",
      "Pot: 90\n",
      "Current bets: [0, 0, 0, 0]\n",
      "\n",
      "Player 0's turn:\n",
      "  Hand: [7d, Jd]\n",
      "  Chips: 2230\n",
      "  To call: 0\n",
      "  Possible actions:\n",
      "    0. FOLD  (Q-value: 0.98)\n",
      "    1. CHECK  (Q-value: 0.83)\n",
      "    2. RAISE 20 (Q-value: 0.37)\n",
      "    3. ALL-IN 2230 (Q-value: 0.52)\n",
      "  Chose: FOLD \n",
      "\n",
      "========================================\n",
      "Showdown:\n",
      "Community cards: [Ad, Kd, 9s, 3d, 5s]\n",
      "Player 0: [7d, Jd] (FOLDED)\n",
      "Player 1: [4c, Jc] (FOLDED)\n",
      "Player 2: [Qd, 3h] → Pair\n",
      "Player 3: [Kc, Th] → Pair\n",
      "\n",
      "Final chips: [2230, 60, 0, 1680]\n",
      "Winners: Players [3]\n",
      "Pot distributed: 90 chips\n",
      "\n",
      "Hand strength analysis:\n",
      "  Player 2: Pair with kickers [3, 14, 13, 12]\n",
      "  Player 3: Pair with kickers [13, 14, 10, 9]\n",
      "\n",
      "========================================\n",
      "Hand 16:\n",
      "Dealer: 1\n",
      "Starting chips: [2230, 60, 0, 1660]\n",
      "Player positions:\n",
      "  Player 0: BTN\n",
      "  Player 1: UTG\n",
      "  Player 2: HJ\n",
      "  Player 3: CO\n",
      "\n",
      "Starting hands:\n",
      "  Player 0: [Ts, 4c]\n",
      "  Player 1: [9c, 6c]\n",
      "  Player 2: [Td, Kd]\n",
      "  Player 3: [2d, 9s]\n",
      "\n",
      "====================\n",
      "Pre-flop\n",
      "Pot: 20\n",
      "Current bets: [0, 0, 0, 20]\n",
      "\n",
      "Player 0's turn:\n",
      "  Hand: [Ts, 4c]\n",
      "  Chips: 2230\n",
      "  To call: 20\n",
      "  Possible actions:\n",
      "    0. FOLD  (Q-value: 1.88)\n",
      "    1. CALL 20 (Q-value: 1.99)\n",
      "    2. RAISE 40 (Q-value: 2.30)\n",
      "    3. ALL-IN 2230 (Q-value: 2.05)\n",
      "  Chose: CALL 20\n",
      "\n",
      "Player 1's turn:\n",
      "  Hand: [9c, 6c]\n",
      "  Chips: 60\n",
      "  To call: 20\n",
      "  Possible actions:\n",
      "    0. FOLD  (Q-value: 1542.46)\n",
      "    1. CALL 20 (Q-value: 724.21)\n",
      "    2. RAISE 40 (Q-value: 1412.24)\n",
      "    3. ALL-IN 60 (Q-value: 1440.22)\n",
      "  Chose: FOLD \n",
      "\n",
      "====================\n",
      "Flop\n",
      "Community cards: [2s, Ks, 8c]\n",
      "Pot: 40\n",
      "Current bets: [0, 0, 0, 0]\n",
      "\n",
      "Player 0's turn:\n",
      "  Hand: [Ts, 4c]\n",
      "  Chips: 2210\n",
      "  To call: 0\n",
      "  Possible actions:\n",
      "    0. FOLD  (Q-value: 1.41)\n",
      "    1. CHECK  (Q-value: 2.17)\n",
      "    2. RAISE 20 (Q-value: 1.78)\n",
      "    3. ALL-IN 2210 (Q-value: 2.14)\n",
      "  Chose: FOLD \n",
      "\n",
      "========================================\n",
      "Showdown:\n",
      "Community cards: [2s, Ks, 8c, 5s]\n",
      "Player 0: [Ts, 4c] (FOLDED)\n",
      "Player 1: [9c, 6c] (FOLDED)\n",
      "Player 2: [Td, Kd] → Pair\n",
      "Player 3: [2d, 9s] → Pair\n",
      "\n",
      "Final chips: [2210, 60, 40, 1660]\n",
      "Winners: Players [2]\n",
      "Pot distributed: 40 chips\n",
      "\n",
      "Hand strength analysis:\n",
      "  Player 2: Pair with kickers [13, 10, 8, 5]\n",
      "  Player 3: Pair with kickers [2, 13, 9, 8]\n",
      "\n",
      "========================================\n",
      "Hand 17:\n",
      "Dealer: 2\n",
      "Starting chips: [2190, 60, 40, 1650]\n",
      "Player positions:\n",
      "  Player 0: CO\n",
      "  Player 1: BTN\n",
      "  Player 2: UTG\n",
      "  Player 3: HJ\n",
      "\n",
      "Starting hands:\n",
      "  Player 0: [3s, 7h]\n",
      "  Player 1: [9h, 2s]\n",
      "  Player 2: [As, 6c]\n",
      "  Player 3: [3c, 8s]\n",
      "\n",
      "====================\n",
      "Pre-flop\n",
      "Pot: 30\n",
      "Current bets: [20, 0, 0, 10]\n",
      "\n",
      "Player 1's turn:\n",
      "  Hand: [9h, 2s]\n",
      "  Chips: 60\n",
      "  To call: 20\n",
      "  Possible actions:\n",
      "    0. FOLD  (Q-value: 723.31)\n",
      "    1. CALL 20 (Q-value: 333.91)\n",
      "    2. RAISE 40 (Q-value: 691.10)\n",
      "    3. ALL-IN 60 (Q-value: 529.53)\n",
      "  Chose: FOLD \n",
      "\n",
      "Player 2's turn:\n",
      "  Hand: [As, 6c]\n",
      "  Chips: 40\n",
      "  To call: 20\n",
      "  Possible actions:\n",
      "    0. FOLD  (Q-value: 1317915.50)\n",
      "    1. CALL 20 (Q-value: 6892433.00)\n",
      "    2. ALL-IN 40 (Q-value: 9664191.00)\n",
      "  Chose: ALL-IN 40\n",
      "\n",
      "Player 3's turn:\n",
      "  Hand: [3c, 8s]\n",
      "  Chips: 1650\n",
      "  To call: 30\n",
      "  Possible actions:\n",
      "    0. FOLD  (Q-value: 0.64)\n",
      "    1. CALL 30 (Q-value: 0.20)\n",
      "    2. RAISE 50 (Q-value: 0.36)\n",
      "    3. ALL-IN 1650 (Q-value: 0.32)\n",
      "  Chose: FOLD \n",
      "\n",
      "========================================\n",
      "Showdown:\n",
      "Community cards: [5s, 6h, Jd]\n",
      "Player 0: [3s, 7h] → High Card\n",
      "Player 1: [9h, 2s] (FOLDED)\n",
      "Player 2: [As, 6c] → Pair\n",
      "Player 3: [3c, 8s] (FOLDED)\n",
      "\n",
      "Final chips: [2190, 60, 70, 1650]\n",
      "Winners: Players [2]\n",
      "Pot distributed: 70 chips\n",
      "\n",
      "Hand strength analysis:\n",
      "  Player 0: High Card with kickers [11, 7, 6, 5, 3]\n",
      "  Player 2: Pair with kickers [6, 14, 11, 5]\n",
      "\n",
      "========================================\n",
      "Hand 18:\n",
      "Dealer: 3\n",
      "Starting chips: [2180, 40, 70, 1650]\n",
      "Player positions:\n",
      "  Player 0: HJ\n",
      "  Player 1: CO\n",
      "  Player 2: BTN\n",
      "  Player 3: UTG\n",
      "\n",
      "Starting hands:\n",
      "  Player 0: [Ts, Qc]\n",
      "  Player 1: [Kd, Kh]\n",
      "  Player 2: [Kc, Jh]\n",
      "  Player 3: [3c, Ah]\n",
      "\n",
      "====================\n",
      "Pre-flop\n",
      "Pot: 30\n",
      "Current bets: [10, 20, 0, 0]\n",
      "\n",
      "Player 2's turn:\n",
      "  Hand: [Kc, Jh]\n",
      "  Chips: 70\n",
      "  To call: 20\n",
      "  Possible actions:\n",
      "    0. FOLD  (Q-value: 8087889.00)\n",
      "    1. CALL 20 (Q-value: 5210100.00)\n",
      "    2. RAISE 40 (Q-value: 14963558.00)\n",
      "    3. ALL-IN 70 (Q-value: 16205500.00)\n",
      "  Chose: CALL 20\n",
      "\n",
      "Player 3's turn:\n",
      "  Hand: [3c, Ah]\n",
      "  Chips: 1650\n",
      "  To call: 20\n",
      "  Possible actions:\n",
      "    0. FOLD  (Q-value: 0.95)\n",
      "    1. CALL 20 (Q-value: 0.65)\n",
      "    2. RAISE 40 (Q-value: 0.95)\n",
      "    3. ALL-IN 1650 (Q-value: 0.81)\n",
      "  Chose: FOLD \n",
      "\n",
      "Player 0's turn:\n",
      "  Hand: [Ts, Qc]\n",
      "  Chips: 2180\n",
      "  To call: 10\n",
      "  Possible actions:\n",
      "    0. FOLD  (Q-value: 1.49)\n",
      "    1. CALL 10 (Q-value: 1.33)\n",
      "    2. RAISE 30 (Q-value: 1.28)\n",
      "    3. ALL-IN 2180 (Q-value: 1.33)\n",
      "  Chose: FOLD \n",
      "\n",
      "====================\n",
      "Flop\n",
      "Community cards: [2h, 7d, 8d]\n",
      "Pot: 50\n",
      "Current bets: [0, 0, 0, 0]\n",
      "\n",
      "Player 2's turn:\n",
      "  Hand: [Kc, Jh]\n",
      "  Chips: 50\n",
      "  To call: 0\n",
      "  Possible actions:\n",
      "    0. FOLD  (Q-value: 3829981.00)\n",
      "    1. CHECK  (Q-value: 4328453.00)\n",
      "    2. RAISE 20 (Q-value: 4948596.50)\n",
      "    3. ALL-IN 50 (Q-value: 3580881.25)\n",
      "  Chose: FOLD \n",
      "\n",
      "========================================\n",
      "Showdown:\n",
      "Community cards: [2h, 7d, 8d, 7s]\n",
      "Player 0: [Ts, Qc] (FOLDED)\n",
      "Player 1: [Kd, Kh] → Two Pair\n",
      "Player 2: [Kc, Jh] (FOLDED)\n",
      "Player 3: [3c, Ah] (FOLDED)\n",
      "\n",
      "Final chips: [2180, 90, 50, 1650]\n",
      "Winners: Players [1]\n",
      "Pot distributed: 50 chips\n",
      "\n",
      "Hand strength analysis:\n",
      "  Player 1: Two Pair with kickers [13, 7, 8]\n",
      "\n",
      "========================================\n",
      "Hand 19:\n",
      "Dealer: 0\n",
      "Starting chips: [2180, 80, 30, 1650]\n",
      "Player positions:\n",
      "  Player 0: UTG\n",
      "  Player 1: HJ\n",
      "  Player 2: CO\n",
      "  Player 3: BTN\n",
      "\n",
      "Starting hands:\n",
      "  Player 0: [5d, 3c]\n",
      "  Player 1: [6h, 5h]\n",
      "  Player 2: [Ks, 9c]\n",
      "  Player 3: [Qh, 6s]\n",
      "\n",
      "====================\n",
      "Pre-flop\n",
      "Pot: 30\n",
      "Current bets: [0, 10, 20, 0]\n",
      "\n",
      "Player 3's turn:\n",
      "  Hand: [Qh, 6s]\n",
      "  Chips: 1650\n",
      "  To call: 20\n",
      "  Possible actions:\n",
      "    0. FOLD  (Q-value: 1.10)\n",
      "    1. CALL 20 (Q-value: 0.68)\n",
      "    2. RAISE 40 (Q-value: 0.74)\n",
      "    3. ALL-IN 1650 (Q-value: 0.76)\n",
      "  Chose: FOLD \n",
      "\n",
      "Player 0's turn:\n",
      "  Hand: [5d, 3c]\n",
      "  Chips: 2180\n",
      "  To call: 20\n",
      "  Possible actions:\n",
      "    0. FOLD  (Q-value: 1.20)\n",
      "    1. CALL 20 (Q-value: 1.28)\n",
      "    2. RAISE 40 (Q-value: 1.38)\n",
      "    3. ALL-IN 2180 (Q-value: 1.47)\n",
      "  Chose: RAISE 40\n",
      "  Raise amount: 40 (min raise was 40\n",
      "\n",
      "Player 1's turn:\n",
      "  Hand: [6h, 5h]\n",
      "  Chips: 80\n",
      "  To call: 50\n",
      "  Possible actions:\n",
      "    0. FOLD  (Q-value: 1251.81)\n",
      "    1. CALL 50 (Q-value: 449.72)\n",
      "    2. ALL-IN 80 (Q-value: 972.93)\n",
      "  Chose: FOLD \n",
      "\n",
      "Player 2's turn:\n",
      "  Hand: [Ks, 9c]\n",
      "  Chips: 30\n",
      "  To call: 40\n",
      "  Possible actions:\n",
      "    0. FOLD  (Q-value: 87600776.00)\n",
      "    1. CALL 40 (Q-value: 12106324.00)\n",
      "    2. ALL-IN 30 (Q-value: 188345664.00)\n",
      "  Chose: CALL 40\n",
      "\n",
      "========================================\n",
      "Showdown:\n",
      "Community cards: [9d, 4c, Kc]\n",
      "Player 0: [5d, 3c] → High Card\n",
      "Player 1: [6h, 5h] (FOLDED)\n",
      "Player 2: [Ks, 9c] → Two Pair\n",
      "Player 3: [Qh, 6s] (FOLDED)\n",
      "\n",
      "Final chips: [2120, 80, 120, 1650]\n",
      "Winners: Players [2]\n",
      "Pot distributed: 120 chips\n",
      "\n",
      "Hand strength analysis:\n",
      "  Player 0: High Card with kickers [13, 9, 5, 4, 3]\n",
      "  Player 2: Two Pair with kickers [13, 9, 4]\n",
      "\n",
      "========================================\n",
      "Hand 20:\n",
      "Dealer: 1\n",
      "Starting chips: [2120, 80, 110, 1630]\n",
      "Player positions:\n",
      "  Player 0: BTN\n",
      "  Player 1: UTG\n",
      "  Player 2: HJ\n",
      "  Player 3: CO\n",
      "\n",
      "Starting hands:\n",
      "  Player 0: [7d, Js]\n",
      "  Player 1: [Ad, 8d]\n",
      "  Player 2: [3c, 4d]\n",
      "  Player 3: [7c, 5s]\n",
      "\n",
      "====================\n",
      "Pre-flop\n",
      "Pot: 30\n",
      "Current bets: [0, 0, 10, 20]\n",
      "\n",
      "Player 0's turn:\n",
      "  Hand: [7d, Js]\n",
      "  Chips: 2120\n",
      "  To call: 20\n",
      "  Possible actions:\n",
      "    0. FOLD  (Q-value: 1.99)\n",
      "    1. CALL 20 (Q-value: 2.21)\n",
      "    2. RAISE 40 (Q-value: 2.46)\n",
      "    3. ALL-IN 2120 (Q-value: 2.77)\n",
      "  Chose: RAISE 40\n",
      "  Raise amount: 40 (min raise was 40\n",
      "\n",
      "Player 1's turn:\n",
      "  Hand: [Ad, 8d]\n",
      "  Chips: 80\n",
      "  To call: 60\n",
      "  Possible actions:\n",
      "    0. FOLD  (Q-value: 1356.66)\n",
      "    1. CALL 60 (Q-value: 488.01)\n",
      "    2. ALL-IN 80 (Q-value: 997.18)\n",
      "  Chose: FOLD \n",
      "\n",
      "Player 2's turn:\n",
      "  Hand: [3c, 4d]\n",
      "  Chips: 110\n",
      "  To call: 50\n",
      "  Possible actions:\n",
      "    0. FOLD  (Q-value: 92692176.00)\n",
      "    1. CALL 50 (Q-value: 12830146.00)\n",
      "    2. RAISE 90 (Q-value: 201304512.00)\n",
      "    3. ALL-IN 110 (Q-value: 113492224.00)\n",
      "  Chose: CALL 50\n",
      "\n",
      "Player 3's turn:\n",
      "  Hand: [7c, 5s]\n",
      "  Chips: 1630\n",
      "  To call: 40\n",
      "  Possible actions:\n",
      "    0. FOLD  (Q-value: 0.60)\n",
      "    1. CALL 40 (Q-value: 0.20)\n",
      "    2. RAISE 80 (Q-value: 0.47)\n",
      "    3. ALL-IN 1630 (Q-value: 0.30)\n",
      "  Chose: FOLD \n",
      "\n",
      "====================\n",
      "Flop\n",
      "Community cards: [6c, Tc, 6h]\n",
      "Pot: 140\n",
      "Current bets: [0, 0, 0, 0]\n",
      "\n",
      "Player 0's turn:\n",
      "  Hand: [7d, Js]\n",
      "  Chips: 2060\n",
      "  To call: 0\n",
      "  Possible actions:\n",
      "    0. FOLD  (Q-value: 1.51)\n",
      "    1. CHECK  (Q-value: 2.48)\n",
      "    2. RAISE 20 (Q-value: 2.22)\n",
      "    3. ALL-IN 2060 (Q-value: 2.14)\n",
      "  Chose: CHECK \n",
      "\n",
      "====================\n",
      "Turn\n",
      "Community cards: [6c, Tc, 6h, Ah]\n",
      "Pot: 140\n",
      "Current bets: [0, 0, 0, 0]\n",
      "\n",
      "Player 0's turn:\n",
      "  Hand: [7d, Js]\n",
      "  Chips: 2060\n",
      "  To call: 0\n",
      "  Possible actions:\n",
      "    0. FOLD  (Q-value: 1.71)\n",
      "    1. CHECK  (Q-value: 2.38)\n",
      "    2. RAISE 20 (Q-value: 2.06)\n",
      "    3. ALL-IN 2060 (Q-value: 2.30)\n",
      "  Chose: CHECK \n",
      "\n",
      "====================\n",
      "River\n",
      "Community cards: [6c, Tc, 6h, Ah, 7h]\n",
      "Pot: 140\n",
      "Current bets: [0, 0, 0, 0]\n",
      "\n",
      "Player 0's turn:\n",
      "  Hand: [7d, Js]\n",
      "  Chips: 2060\n",
      "  To call: 0\n",
      "  Possible actions:\n",
      "    0. FOLD  (Q-value: 1.46)\n",
      "    1. CHECK  (Q-value: 1.71)\n",
      "    2. RAISE 20 (Q-value: 1.49)\n",
      "    3. ALL-IN 2060 (Q-value: 2.60)\n",
      "  Chose: RAISE 20\n",
      "  Raise amount: 20 (min raise was 20\n",
      "\n",
      "Player 2's turn:\n",
      "  Hand: [3c, 4d]\n",
      "  Chips: 60\n",
      "  To call: 20\n",
      "  Possible actions:\n",
      "    0. FOLD  (Q-value: 718550.00)\n",
      "    1. CALL 20 (Q-value: 5012939.50)\n",
      "    2. RAISE 40 (Q-value: 2980079.50)\n",
      "    3. ALL-IN 60 (Q-value: 23875012.00)\n",
      "  Chose: RAISE 40\n",
      "  Raise amount: 40 (min raise was 40\n",
      "\n",
      "========================================\n",
      "Showdown:\n",
      "Community cards: [6c, Tc, 6h, Ah, 7h]\n",
      "Player 0: [7d, Js] → Two Pair\n",
      "Player 1: [Ad, 8d] (FOLDED)\n",
      "Player 2: [3c, 4d] → Pair\n",
      "Player 3: [7c, 5s] (FOLDED)\n",
      "\n",
      "Final chips: [2260, 80, 0, 1630]\n",
      "Winners: Players [0]\n",
      "Pot distributed: 220 chips\n",
      "\n",
      "Hand strength analysis:\n",
      "  Player 0: Two Pair with kickers [7, 6, 14]\n",
      "  Player 2: Pair with kickers [6, 14, 10, 7]\n"
     ]
    }
   ],
   "source": [
    "simulate_game(trained_agents, num_hands=20)"
   ]
  },
  {
   "cell_type": "code",
   "execution_count": 46,
   "id": "3ccfb0e7",
   "metadata": {},
   "outputs": [],
   "source": [
    "for i, agent in enumerate(trained_agents):\n",
    "        torch.save(agent.model.state_dict(), f\"saved_agents/agent_{i}_{timestamp}.pt\")"
   ]
  },
  {
   "cell_type": "code",
   "execution_count": 48,
   "id": "a6c0200a-cce6-4340-9007-0dce23419b54",
   "metadata": {},
   "outputs": [
    {
     "name": "stdout",
     "output_type": "stream",
     "text": [
      "Agents saved!\n"
     ]
    }
   ],
   "source": [
    "os.makedirs(\"saved_agents\", exist_ok=True)\n",
    "timestamp = datetime.datetime.now().strftime(\"%Y%m%d_%H%M%S\")\n",
    "for i, agent in enumerate(trained_agents):\n",
    "    torch.save(agent.model.state_dict(), f\"saved_agents/agent_{i}_{timestamp}.pt\")\n",
    "print(\"Agents saved!\")"
   ]
  },
  {
   "cell_type": "code",
   "execution_count": 52,
   "id": "82c97d56-9414-41f1-9dd8-ce0c7e85b496",
   "metadata": {},
   "outputs": [
    {
     "name": "stdout",
     "output_type": "stream",
     "text": [
      "Final models saved to saved_agents/final\n"
     ]
    }
   ],
   "source": [
    "final_save_dir = \"saved_agents/final\"\n",
    "os.makedirs(final_save_dir, exist_ok=True)\n",
    "for i, agent in enumerate(trained_agents):\n",
    "    torch.save(agent.model.state_dict(), os.path.join(final_save_dir, f\"agent_{i}.pt\"))\n",
    "print(f\"Final models saved to {final_save_dir}\")"
   ]
  },
  {
   "cell_type": "code",
   "execution_count": 60,
   "id": "3de10ba3-add1-4dc7-b076-34d6ebe315ca",
   "metadata": {},
   "outputs": [
    {
     "name": "stdout",
     "output_type": "stream",
     "text": [
      "Agent 0 loaded.\n",
      "Agent 1 loaded.\n",
      "Agent 2 loaded.\n",
      "Agent 3 loaded.\n"
     ]
    }
   ],
   "source": [
    "model_path = \"saved_agents/final\"\n",
    "for i, agent in enumerate(trained_agents):\n",
    "    agent.model.load_state_dict(torch.load(f\"{model_path}/agent_{i}.pt\", map_location=\"cpu\"))\n",
    "    agent.model.eval()\n",
    "    print(f\"Agent {i} loaded.\")"
   ]
  },
  {
   "cell_type": "code",
   "execution_count": 68,
   "id": "27728b22-d54b-4cdf-942a-27dc6bcba11a",
   "metadata": {},
   "outputs": [
    {
     "name": "stdout",
     "output_type": "stream",
     "text": [
      "\n",
      "========================================\n",
      "Hand 1:\n",
      "Dealer: 2\n",
      "Starting chips: [980, 1000, 990, 970]\n",
      "Player positions:\n",
      "  Player 0: CO\n",
      "  Player 1: BTN\n",
      "  Player 2: UTG\n",
      "  Player 3: HJ\n",
      "\n",
      "Starting hands:\n",
      "  Player 0: [Qd, Qh]\n",
      "  Player 1: [Tc, 7d]\n",
      "  Player 2: [3d, 6c]\n",
      "  Player 3: [8d, 4s]\n",
      "\n",
      "====================\n",
      "Pre-flop\n",
      "Pot: 30\n",
      "Current bets: [20, 0, 0, 10]\n",
      "\n",
      "Player 1's turn:\n",
      "  Hand: [Tc, 7d]\n",
      "  Chips: 1000\n",
      "  To call: 20\n",
      "  Possible actions:\n",
      "    0. FOLD  (Q-value: 735.02)\n",
      "    1. CALL 20 (Q-value: 340.06)\n",
      "    2. RAISE 40 (Q-value: 705.41)\n",
      "    3. ALL-IN 1000 (Q-value: 537.02)\n",
      "  Chose: FOLD \n",
      "\n",
      "Player 2's turn:\n",
      "  Hand: [3d, 6c]\n",
      "  Chips: 990\n",
      "  To call: 20\n",
      "  Possible actions:\n",
      "    0. FOLD  (Q-value: 2049784.50)\n",
      "    1. CALL 20 (Q-value: 7002081.00)\n",
      "    2. RAISE 40 (Q-value: 11399276.00)\n",
      "    3. ALL-IN 990 (Q-value: 53066400.00)\n",
      "  Chose: RAISE 40\n",
      "  Raise amount: 40 (min raise was 40\n",
      "\n",
      "Player 3's turn:\n",
      "  Hand: [8d, 4s]\n",
      "  Chips: 970\n",
      "  To call: 50\n",
      "  Possible actions:\n",
      "    0. FOLD  (Q-value: 0.66)\n",
      "    1. CALL 50 (Q-value: 0.18)\n",
      "    2. RAISE 90 (Q-value: 0.39)\n",
      "    3. ALL-IN 970 (Q-value: 0.27)\n",
      "  Chose: FOLD \n",
      "\n",
      "Player 0's turn:\n",
      "  Hand: [Qd, Qh]\n",
      "  Chips: 980\n",
      "  To call: 40\n",
      "  Possible actions:\n",
      "    0. FOLD  (Q-value: 0.90)\n",
      "    1. CALL 40 (Q-value: 0.59)\n",
      "    2. RAISE 80 (Q-value: 0.92)\n",
      "    3. ALL-IN 980 (Q-value: 0.74)\n",
      "  Chose: CALL 40\n",
      "\n",
      "====================\n",
      "Flop\n",
      "Community cards: [2h, Qc, Th]\n",
      "Pot: 130\n",
      "Current bets: [0, 0, 0, 0]\n",
      "\n",
      "Player 2's turn:\n",
      "  Hand: [3d, 6c]\n",
      "  Chips: 930\n",
      "  To call: 0\n",
      "  Possible actions:\n",
      "    0. FOLD  (Q-value: -4519988.00)\n",
      "    1. CHECK  (Q-value: 3782174.00)\n",
      "    2. RAISE 20 (Q-value: -10318208.00)\n",
      "    3. ALL-IN 930 (Q-value: 5071568.00)\n",
      "  Chose: RAISE 20\n",
      "  Raise amount: 20 (min raise was 20\n",
      "\n",
      "Player 0's turn:\n",
      "  Hand: [Qd, Qh]\n",
      "  Chips: 940\n",
      "  To call: 20\n",
      "  Possible actions:\n",
      "    0. FOLD  (Q-value: 0.63)\n",
      "    1. CALL 20 (Q-value: 0.94)\n",
      "    2. RAISE 40 (Q-value: 1.01)\n",
      "    3. ALL-IN 940 (Q-value: 0.82)\n",
      "  Chose: CALL 20\n",
      "\n",
      "====================\n",
      "Turn\n",
      "Community cards: [2h, Qc, Th, 8s]\n",
      "Pot: 170\n",
      "Current bets: [0, 0, 0, 0]\n",
      "\n",
      "Player 2's turn:\n",
      "  Hand: [3d, 6c]\n",
      "  Chips: 910\n",
      "  To call: 0\n",
      "  Possible actions:\n",
      "    0. FOLD  (Q-value: -881267.50)\n",
      "    1. CHECK  (Q-value: 3812044.50)\n",
      "    2. RAISE 20 (Q-value: -3085442.50)\n",
      "    3. ALL-IN 910 (Q-value: 5179932.00)\n",
      "  Chose: RAISE 20\n",
      "  Raise amount: 20 (min raise was 20\n",
      "\n",
      "Player 0's turn:\n",
      "  Hand: [Qd, Qh]\n",
      "  Chips: 920\n",
      "  To call: 20\n",
      "  Possible actions:\n",
      "    0. FOLD  (Q-value: 0.47)\n",
      "    1. CALL 20 (Q-value: 0.09)\n",
      "    2. RAISE 40 (Q-value: 0.22)\n",
      "    3. ALL-IN 920 (Q-value: 0.02)\n",
      "  Chose: FOLD \n",
      "\n",
      "========================================\n",
      "Showdown:\n",
      "Community cards: [2h, Qc, Th, 8s, 2d]\n",
      "Player 0: [Qd, Qh] (FOLDED)\n",
      "Player 1: [Tc, 7d] (FOLDED)\n",
      "Player 2: [3d, 6c] → Pair\n",
      "Player 3: [8d, 4s] (FOLDED)\n",
      "\n",
      "Final chips: [920, 1000, 1080, 970]\n",
      "Winners: Players [2]\n",
      "Pot distributed: 190 chips\n",
      "\n",
      "Hand strength analysis:\n",
      "  Player 2: Pair with kickers [2, 12, 10, 8]\n",
      "\n",
      "========================================\n",
      "Hand 2:\n",
      "Dealer: 3\n",
      "Starting chips: [910, 980, 1080, 970]\n",
      "Player positions:\n",
      "  Player 0: HJ\n",
      "  Player 1: CO\n",
      "  Player 2: BTN\n",
      "  Player 3: UTG\n",
      "\n",
      "Starting hands:\n",
      "  Player 0: [Ac, 7h]\n",
      "  Player 1: [Ts, Jh]\n",
      "  Player 2: [2d, 3s]\n",
      "  Player 3: [Jc, 9h]\n",
      "\n",
      "====================\n",
      "Pre-flop\n",
      "Pot: 30\n",
      "Current bets: [10, 20, 0, 0]\n",
      "\n",
      "Player 2's turn:\n",
      "  Hand: [2d, 3s]\n",
      "  Chips: 1080\n",
      "  To call: 20\n",
      "  Possible actions:\n",
      "    0. FOLD  (Q-value: 9409054.00)\n",
      "    1. CALL 20 (Q-value: 5300872.00)\n",
      "    2. RAISE 40 (Q-value: 17729158.00)\n",
      "    3. ALL-IN 1080 (Q-value: 16945212.00)\n",
      "  Chose: CALL 20\n",
      "\n",
      "Player 3's turn:\n",
      "  Hand: [Jc, 9h]\n",
      "  Chips: 970\n",
      "  To call: 20\n",
      "  Possible actions:\n",
      "    0. FOLD  (Q-value: 0.89)\n",
      "    1. CALL 20 (Q-value: 0.94)\n",
      "    2. RAISE 40 (Q-value: 0.55)\n",
      "    3. ALL-IN 970 (Q-value: 1.37)\n",
      "  Chose: RAISE 40\n",
      "  Raise amount: 40 (min raise was 40\n",
      "\n",
      "Player 0's turn:\n",
      "  Hand: [Ac, 7h]\n",
      "  Chips: 910\n",
      "  To call: 50\n",
      "  Possible actions:\n",
      "    0. FOLD  (Q-value: -0.01)\n",
      "    1. CALL 50 (Q-value: -0.35)\n",
      "    2. RAISE 90 (Q-value: -0.28)\n",
      "    3. ALL-IN 910 (Q-value: -0.30)\n",
      "  Chose: ALL-IN 910\n",
      "\n",
      "Player 1's turn:\n",
      "  Hand: [Ts, Jh]\n",
      "  Chips: 980\n",
      "  To call: 900\n",
      "  Possible actions:\n",
      "    0. FOLD  (Q-value: 525.30)\n",
      "    1. CALL 900 (Q-value: 234.21)\n",
      "    2. RAISE 940 (Q-value: 280.63)\n",
      "    3. ALL-IN 980 (Q-value: 539.02)\n",
      "  Chose: RAISE 940\n",
      "  Raise amount: 940 (min raise was 940\n",
      "\n",
      "Player 2's turn:\n",
      "  Hand: [2d, 3s]\n",
      "  Chips: 1060\n",
      "  To call: 980\n",
      "  Possible actions:\n",
      "    0. FOLD  (Q-value: 34509588.00)\n",
      "    1. CALL 980 (Q-value: 11617537.00)\n",
      "    2. ALL-IN 1060 (Q-value: 59433636.00)\n",
      "  Chose: CALL 980\n",
      "\n",
      "Player 3's turn:\n",
      "  Hand: [Jc, 9h]\n",
      "  Chips: 910\n",
      "  To call: 940\n",
      "  Possible actions:\n",
      "    0. FOLD  (Q-value: 0.36)\n",
      "    1. CALL 940 (Q-value: 0.44)\n",
      "    2. ALL-IN 910 (Q-value: -0.22)\n",
      "  Chose: CALL 940\n",
      "\n",
      "========================================\n",
      "Showdown:\n",
      "Community cards: [Qc, Qs, Ad]\n",
      "Player 0: [Ac, 7h] → Two Pair\n",
      "Player 1: [Ts, Jh] → Pair\n",
      "Player 2: [2d, 3s] → Pair\n",
      "Player 3: [Jc, 9h] → Pair\n",
      "\n",
      "Final chips: [3890, 0, 80, 0]\n",
      "Winners: Players [0]\n",
      "Pot distributed: 3890 chips\n",
      "\n",
      "Hand strength analysis:\n",
      "  Player 0: Two Pair with kickers [14, 12, 7]\n",
      "  Player 1: Pair with kickers [12, 14, 11, 10]\n",
      "  Player 2: Pair with kickers [12, 14, 3, 2]\n",
      "  Player 3: Pair with kickers [12, 14, 11, 9]\n",
      "\n",
      "========================================\n",
      "Hand 3:\n",
      "Dealer: 0\n",
      "Starting chips: [3890, 0, 60, 0]\n",
      "Player positions:\n",
      "  Player 0: UTG\n",
      "  Player 1: HJ\n",
      "  Player 2: CO\n",
      "  Player 3: BTN\n",
      "\n",
      "Starting hands:\n",
      "  Player 0: [4c, 7s]\n",
      "  Player 1: [Qd, As]\n",
      "  Player 2: [Jc, 9h]\n",
      "  Player 3: [8c, Jh]\n",
      "\n",
      "====================\n",
      "Pre-flop\n",
      "Pot: 20\n",
      "Current bets: [0, 0, 20, 0]\n",
      "\n",
      "Player 0's turn:\n",
      "  Hand: [4c, 7s]\n",
      "  Chips: 3890\n",
      "  To call: 20\n",
      "  Possible actions:\n",
      "    0. FOLD  (Q-value: 1.46)\n",
      "    1. CALL 20 (Q-value: 2.20)\n",
      "    2. RAISE 40 (Q-value: 1.85)\n",
      "    3. ALL-IN 3890 (Q-value: 2.71)\n",
      "  Chose: RAISE 40\n",
      "  Raise amount: 40 (min raise was 40\n",
      "\n",
      "Player 2's turn:\n",
      "  Hand: [Jc, 9h]\n",
      "  Chips: 60\n",
      "  To call: 40\n",
      "  Possible actions:\n",
      "    0. FOLD  (Q-value: 82465424.00)\n",
      "    1. CALL 40 (Q-value: 11359580.00)\n",
      "    2. ALL-IN 60 (Q-value: 176550560.00)\n",
      "  Chose: CALL 40\n",
      "\n",
      "====================\n",
      "Flop\n",
      "Community cards: [Ad, 7h, Qs]\n",
      "Pot: 120\n",
      "Current bets: [0, 0, 0, 0]\n",
      "\n",
      "Player 0's turn:\n",
      "  Hand: [4c, 7s]\n",
      "  Chips: 3830\n",
      "  To call: 0\n",
      "  Possible actions:\n",
      "    0. FOLD  (Q-value: 2.08)\n",
      "    1. CHECK  (Q-value: 3.14)\n",
      "    2. RAISE 20 (Q-value: 2.71)\n",
      "    3. ALL-IN 3830 (Q-value: 2.42)\n",
      "  Chose: CHECK \n",
      "\n",
      "====================\n",
      "Turn\n",
      "Community cards: [Ad, 7h, Qs, Tc]\n",
      "Pot: 120\n",
      "Current bets: [0, 0, 0, 0]\n",
      "\n",
      "Player 0's turn:\n",
      "  Hand: [4c, 7s]\n",
      "  Chips: 3830\n",
      "  To call: 0\n",
      "  Possible actions:\n",
      "    0. FOLD  (Q-value: 2.46)\n",
      "    1. CHECK  (Q-value: 3.00)\n",
      "    2. RAISE 20 (Q-value: 2.14)\n",
      "    3. ALL-IN 3830 (Q-value: 2.45)\n",
      "  Chose: CHECK \n",
      "\n",
      "====================\n",
      "River\n",
      "Community cards: [Ad, 7h, Qs, Tc, 7d]\n",
      "Pot: 120\n",
      "Current bets: [0, 0, 0, 0]\n",
      "\n",
      "Player 0's turn:\n",
      "  Hand: [4c, 7s]\n",
      "  Chips: 3830\n",
      "  To call: 0\n",
      "  Possible actions:\n",
      "    0. FOLD  (Q-value: 0.76)\n",
      "    1. CHECK  (Q-value: 1.72)\n",
      "    2. RAISE 20 (Q-value: 0.74)\n",
      "    3. ALL-IN 3830 (Q-value: 2.10)\n",
      "  Chose: RAISE 20\n",
      "  Raise amount: 20 (min raise was 20\n",
      "\n",
      "Player 2's turn:\n",
      "  Hand: [Jc, 9h]\n",
      "  Chips: 20\n",
      "  To call: 20\n",
      "  Possible actions:\n",
      "    0. FOLD  (Q-value: 4977257.00)\n",
      "    1. CALL 20 (Q-value: 4286394.50)\n",
      "    2. ALL-IN 20 (Q-value: 8164659.50)\n",
      "  Chose: ALL-IN 20\n",
      "\n",
      "========================================\n",
      "Showdown:\n",
      "Community cards: [Ad, 7h, Qs, Tc, 7d]\n",
      "Player 0: [4c, 7s] → Three of a Kind\n",
      "Player 1: [Qd, As] → Two Pair\n",
      "Player 2: [Jc, 9h] → Pair\n",
      "Player 3: [8c, Jh] → Pair\n",
      "\n",
      "Final chips: [3970, 0, 0, 0]\n",
      "Winners: Players [0]\n",
      "Pot distributed: 160 chips\n",
      "\n",
      "Hand strength analysis:\n",
      "  Player 0: Three of a Kind with kickers [7, 14, 12]\n",
      "  Player 1: Two Pair with kickers [14, 12, 10]\n",
      "  Player 2: Pair with kickers [7, 14, 12, 11]\n",
      "  Player 3: Pair with kickers [7, 14, 12, 11]\n",
      "\n",
      "========================================\n",
      "Hand 4:\n",
      "Dealer: 1\n",
      "Starting chips: [3970, 0, 0, 0]\n",
      "Player positions:\n",
      "  Player 0: BTN\n",
      "  Player 1: UTG\n",
      "  Player 2: HJ\n",
      "  Player 3: CO\n",
      "\n",
      "Starting hands:\n",
      "  Player 0: [5d, Ah]\n",
      "  Player 1: [2d, 5s]\n",
      "  Player 2: [Qd, 3s]\n",
      "  Player 3: [9c, Qh]\n",
      "\n",
      "========================================\n",
      "Showdown:\n",
      "Community cards: []\n",
      "Player 0: [5d, Ah] → High Card\n",
      "Player 1: [2d, 5s] → High Card\n",
      "Player 2: [Qd, 3s] → High Card\n",
      "Player 3: [9c, Qh] → High Card\n",
      "\n",
      "Final chips: [3970, 0, 0, 0]\n",
      "Winners: Players [0, 1, 2, 3]\n",
      "Pot distributed: 0 chips\n",
      "\n",
      "Hand strength analysis:\n",
      "  Player 0: High Card with kickers []\n",
      "  Player 1: High Card with kickers []\n",
      "  Player 2: High Card with kickers []\n",
      "  Player 3: High Card with kickers []\n",
      "\n",
      "========================================\n",
      "Hand 5:\n",
      "Dealer: 2\n",
      "Starting chips: [3950, 0, 0, 0]\n",
      "Player positions:\n",
      "  Player 0: CO\n",
      "  Player 1: BTN\n",
      "  Player 2: UTG\n",
      "  Player 3: HJ\n",
      "\n",
      "Starting hands:\n",
      "  Player 0: [Tc, Th]\n",
      "  Player 1: [8s, Qh]\n",
      "  Player 2: [4s, Td]\n",
      "  Player 3: [3c, 2s]\n",
      "\n",
      "========================================\n",
      "Showdown:\n",
      "Community cards: []\n",
      "Player 0: [Tc, Th] → High Card\n",
      "Player 1: [8s, Qh] → High Card\n",
      "Player 2: [4s, Td] → High Card\n",
      "Player 3: [3c, 2s] → High Card\n",
      "\n",
      "Final chips: [3955, 5, 5, 5]\n",
      "Winners: Players [0, 1, 2, 3]\n",
      "Pot distributed: 20 chips\n",
      "\n",
      "Hand strength analysis:\n",
      "  Player 0: High Card with kickers []\n",
      "  Player 1: High Card with kickers []\n",
      "  Player 2: High Card with kickers []\n",
      "  Player 3: High Card with kickers []\n",
      "\n",
      "========================================\n",
      "Hand 6:\n",
      "Dealer: 3\n",
      "Starting chips: [3945, 0, 5, 5]\n",
      "Player positions:\n",
      "  Player 0: HJ\n",
      "  Player 1: CO\n",
      "  Player 2: BTN\n",
      "  Player 3: UTG\n",
      "\n",
      "Starting hands:\n",
      "  Player 0: [8d, Qh]\n",
      "  Player 1: [4s, 7s]\n",
      "  Player 2: [3d, Qs]\n",
      "  Player 3: [Th, 2h]\n",
      "\n",
      "====================\n",
      "Pre-flop\n",
      "Pot: 15\n",
      "Current bets: [10, 5, 0, 0]\n",
      "\n",
      "Player 2's turn:\n",
      "  Hand: [3d, Qs]\n",
      "  Chips: 5\n",
      "  To call: 10\n",
      "  Possible actions:\n",
      "    0. FOLD  (Q-value: 6101224.00)\n",
      "    1. CALL 10 (Q-value: 5217308.00)\n",
      "    2. ALL-IN 5 (Q-value: 11375459.00)\n",
      "  Chose: CALL 10\n",
      "\n",
      "Player 3's turn:\n",
      "  Hand: [Th, 2h]\n",
      "  Chips: 5\n",
      "  To call: 10\n",
      "  Possible actions:\n",
      "    0. FOLD  (Q-value: 0.04)\n",
      "    1. CALL 10 (Q-value: -0.58)\n",
      "    2. ALL-IN 5 (Q-value: -0.95)\n",
      "  Chose: FOLD \n",
      "\n",
      "========================================\n",
      "Showdown:\n",
      "Community cards: [Kh, Qc, 6s]\n",
      "Player 0: [8d, Qh] → Pair\n",
      "Player 1: [4s, 7s] → High Card\n",
      "Player 2: [3d, Qs] → Pair\n",
      "Player 3: [Th, 2h] (FOLDED)\n",
      "\n",
      "Final chips: [3965, 0, 0, 5]\n",
      "Winners: Players [0]\n",
      "Pot distributed: 20 chips\n",
      "\n",
      "Hand strength analysis:\n",
      "  Player 0: Pair with kickers [12, 13, 8, 6]\n",
      "  Player 1: High Card with kickers [13, 12, 7, 6, 4]\n",
      "  Player 2: Pair with kickers [12, 13, 6, 3]\n",
      "\n",
      "========================================\n",
      "Hand 7:\n",
      "Dealer: 0\n",
      "Starting chips: [3965, 0, 0, 5]\n",
      "Player positions:\n",
      "  Player 0: UTG\n",
      "  Player 1: HJ\n",
      "  Player 2: CO\n",
      "  Player 3: BTN\n",
      "\n",
      "Starting hands:\n",
      "  Player 0: [Kh, Js]\n",
      "  Player 1: [Tc, Ts]\n",
      "  Player 2: [2h, 6h]\n",
      "  Player 3: [3c, 3s]\n",
      "\n",
      "====================\n",
      "Pre-flop\n",
      "Pot: 0\n",
      "Current bets: [0, 0, 0, 0]\n",
      "\n",
      "Player 3's turn:\n",
      "  Hand: [3c, 3s]\n",
      "  Chips: 5\n",
      "  To call: 0\n",
      "  Possible actions:\n",
      "    0. FOLD  (Q-value: -0.79)\n",
      "    1. CHECK  (Q-value: -0.28)\n",
      "    2. ALL-IN 5 (Q-value: -0.07)\n",
      "  Chose: ALL-IN 5\n",
      "\n",
      "========================================\n",
      "Showdown:\n",
      "Community cards: [6c, 7d, Kd]\n",
      "Player 0: [Kh, Js] → Pair\n",
      "Player 1: [Tc, Ts] → Pair\n",
      "Player 2: [2h, 6h] → Pair\n",
      "Player 3: [3c, 3s] → Pair\n",
      "\n",
      "Final chips: [3970, 0, 0, 0]\n",
      "Winners: Players [0]\n",
      "Pot distributed: 5 chips\n",
      "\n",
      "Hand strength analysis:\n",
      "  Player 0: Pair with kickers [13, 11, 7, 6]\n",
      "  Player 1: Pair with kickers [10, 13, 7, 6]\n",
      "  Player 2: Pair with kickers [6, 13, 7, 2]\n",
      "  Player 3: Pair with kickers [3, 13, 7, 6]\n",
      "\n",
      "========================================\n",
      "Hand 8:\n",
      "Dealer: 1\n",
      "Starting chips: [3970, 0, 0, 0]\n",
      "Player positions:\n",
      "  Player 0: BTN\n",
      "  Player 1: UTG\n",
      "  Player 2: HJ\n",
      "  Player 3: CO\n",
      "\n",
      "Starting hands:\n",
      "  Player 0: [5h, 5d]\n",
      "  Player 1: [Ks, 5c]\n",
      "  Player 2: [Kc, 4h]\n",
      "  Player 3: [6s, 7s]\n",
      "\n",
      "========================================\n",
      "Showdown:\n",
      "Community cards: []\n",
      "Player 0: [5h, 5d] → High Card\n",
      "Player 1: [Ks, 5c] → High Card\n",
      "Player 2: [Kc, 4h] → High Card\n",
      "Player 3: [6s, 7s] → High Card\n",
      "\n",
      "Final chips: [3970, 0, 0, 0]\n",
      "Winners: Players [0, 1, 2, 3]\n",
      "Pot distributed: 0 chips\n",
      "\n",
      "Hand strength analysis:\n",
      "  Player 0: High Card with kickers []\n",
      "  Player 1: High Card with kickers []\n",
      "  Player 2: High Card with kickers []\n",
      "  Player 3: High Card with kickers []\n",
      "\n",
      "========================================\n",
      "Hand 9:\n",
      "Dealer: 2\n",
      "Starting chips: [3950, 0, 0, 0]\n",
      "Player positions:\n",
      "  Player 0: CO\n",
      "  Player 1: BTN\n",
      "  Player 2: UTG\n",
      "  Player 3: HJ\n",
      "\n",
      "Starting hands:\n",
      "  Player 0: [3d, Kc]\n",
      "  Player 1: [6c, 6h]\n",
      "  Player 2: [9d, As]\n",
      "  Player 3: [Kh, 9c]\n",
      "\n",
      "========================================\n",
      "Showdown:\n",
      "Community cards: []\n",
      "Player 0: [3d, Kc] → High Card\n",
      "Player 1: [6c, 6h] → High Card\n",
      "Player 2: [9d, As] → High Card\n",
      "Player 3: [Kh, 9c] → High Card\n",
      "\n",
      "Final chips: [3955, 5, 5, 5]\n",
      "Winners: Players [0, 1, 2, 3]\n",
      "Pot distributed: 20 chips\n",
      "\n",
      "Hand strength analysis:\n",
      "  Player 0: High Card with kickers []\n",
      "  Player 1: High Card with kickers []\n",
      "  Player 2: High Card with kickers []\n",
      "  Player 3: High Card with kickers []\n",
      "\n",
      "========================================\n",
      "Hand 10:\n",
      "Dealer: 3\n",
      "Starting chips: [3945, 0, 5, 5]\n",
      "Player positions:\n",
      "  Player 0: HJ\n",
      "  Player 1: CO\n",
      "  Player 2: BTN\n",
      "  Player 3: UTG\n",
      "\n",
      "Starting hands:\n",
      "  Player 0: [Td, 4s]\n",
      "  Player 1: [3s, 8c]\n",
      "  Player 2: [3c, 9s]\n",
      "  Player 3: [Qd, 2c]\n",
      "\n",
      "====================\n",
      "Pre-flop\n",
      "Pot: 15\n",
      "Current bets: [10, 5, 0, 0]\n",
      "\n",
      "Player 2's turn:\n",
      "  Hand: [3c, 9s]\n",
      "  Chips: 5\n",
      "  To call: 10\n",
      "  Possible actions:\n",
      "    0. FOLD  (Q-value: 6126430.00)\n",
      "    1. CALL 10 (Q-value: 5220021.50)\n",
      "    2. ALL-IN 5 (Q-value: 11426214.00)\n",
      "  Chose: FOLD \n",
      "\n",
      "Player 3's turn:\n",
      "  Hand: [Qd, 2c]\n",
      "  Chips: 5\n",
      "  To call: 10\n",
      "  Possible actions:\n",
      "    0. FOLD  (Q-value: -0.77)\n",
      "    1. CALL 10 (Q-value: -0.12)\n",
      "    2. ALL-IN 5 (Q-value: -0.22)\n",
      "  Chose: FOLD \n",
      "\n",
      "========================================\n",
      "Showdown:\n",
      "Community cards: [6d, Ad, Ac]\n",
      "Player 0: [Td, 4s] → Pair\n",
      "Player 1: [3s, 8c] → Pair\n",
      "Player 2: [3c, 9s] (FOLDED)\n",
      "Player 3: [Qd, 2c] (FOLDED)\n",
      "\n",
      "Final chips: [3960, 0, 5, 5]\n",
      "Winners: Players [0]\n",
      "Pot distributed: 15 chips\n",
      "\n",
      "Hand strength analysis:\n",
      "  Player 0: Pair with kickers [14, 10, 6, 4]\n",
      "  Player 1: Pair with kickers [14, 8, 6, 3]\n",
      "\n",
      "========================================\n",
      "Hand 11:\n",
      "Dealer: 0\n",
      "Starting chips: [3960, 0, 0, 5]\n",
      "Player positions:\n",
      "  Player 0: UTG\n",
      "  Player 1: HJ\n",
      "  Player 2: CO\n",
      "  Player 3: BTN\n",
      "\n",
      "Starting hands:\n",
      "  Player 0: [Ad, Ts]\n",
      "  Player 1: [5h, 2d]\n",
      "  Player 2: [8s, 3c]\n",
      "  Player 3: [Ac, Kh]\n",
      "\n",
      "====================\n",
      "Pre-flop\n",
      "Pot: 5\n",
      "Current bets: [0, 0, 5, 0]\n",
      "\n",
      "Player 3's turn:\n",
      "  Hand: [Ac, Kh]\n",
      "  Chips: 5\n",
      "  To call: 5\n",
      "  Possible actions:\n",
      "    0. FOLD  (Q-value: 0.00)\n",
      "    1. CALL 5 (Q-value: 1.19)\n",
      "    2. ALL-IN 5 (Q-value: 1.33)\n",
      "  Chose: FOLD \n",
      "\n",
      "========================================\n",
      "Showdown:\n",
      "Community cards: [3s, Qh, As]\n",
      "Player 0: [Ad, Ts] → Pair\n",
      "Player 1: [5h, 2d] → High Card\n",
      "Player 2: [8s, 3c] → Pair\n",
      "Player 3: [Ac, Kh] (FOLDED)\n",
      "\n",
      "Final chips: [3965, 0, 0, 5]\n",
      "Winners: Players [0]\n",
      "Pot distributed: 5 chips\n",
      "\n",
      "Hand strength analysis:\n",
      "  Player 0: Pair with kickers [14, 12, 10, 3]\n",
      "  Player 1: High Card with kickers [14, 12, 5, 3, 2]\n",
      "  Player 2: Pair with kickers [3, 14, 12, 8]\n",
      "\n",
      "========================================\n",
      "Hand 12:\n",
      "Dealer: 1\n",
      "Starting chips: [3965, 0, 0, 0]\n",
      "Player positions:\n",
      "  Player 0: BTN\n",
      "  Player 1: UTG\n",
      "  Player 2: HJ\n",
      "  Player 3: CO\n",
      "\n",
      "Starting hands:\n",
      "  Player 0: [6s, Ah]\n",
      "  Player 1: [6h, Qd]\n",
      "  Player 2: [2s, 9d]\n",
      "  Player 3: [7h, As]\n",
      "\n",
      "========================================\n",
      "Showdown:\n",
      "Community cards: []\n",
      "Player 0: [6s, Ah] → High Card\n",
      "Player 1: [6h, Qd] → High Card\n",
      "Player 2: [2s, 9d] → High Card\n",
      "Player 3: [7h, As] → High Card\n",
      "\n",
      "Final chips: [3966, 1, 1, 1]\n",
      "Winners: Players [0, 1, 2, 3]\n",
      "Pot distributed: 5 chips\n",
      "\n",
      "Hand strength analysis:\n",
      "  Player 0: High Card with kickers []\n",
      "  Player 1: High Card with kickers []\n",
      "  Player 2: High Card with kickers []\n",
      "  Player 3: High Card with kickers []\n",
      "\n",
      "========================================\n",
      "Hand 13:\n",
      "Dealer: 2\n",
      "Starting chips: [3946, 1, 1, 0]\n",
      "Player positions:\n",
      "  Player 0: CO\n",
      "  Player 1: BTN\n",
      "  Player 2: UTG\n",
      "  Player 3: HJ\n",
      "\n",
      "Starting hands:\n",
      "  Player 0: [Ac, 7d]\n",
      "  Player 1: [9d, 5h]\n",
      "  Player 2: [8s, 7c]\n",
      "  Player 3: [Kd, 4s]\n",
      "\n",
      "====================\n",
      "Pre-flop\n",
      "Pot: 21\n",
      "Current bets: [20, 0, 0, 1]\n",
      "\n",
      "Player 1's turn:\n",
      "  Hand: [9d, 5h]\n",
      "  Chips: 1\n",
      "  To call: 20\n",
      "  Possible actions:\n",
      "    0. FOLD  (Q-value: 635.50)\n",
      "    1. CALL 20 (Q-value: 301.61)\n",
      "    2. ALL-IN 1 (Q-value: 614.17)\n",
      "  Chose: FOLD \n",
      "\n",
      "Player 2's turn:\n",
      "  Hand: [8s, 7c]\n",
      "  Chips: 1\n",
      "  To call: 20\n",
      "  Possible actions:\n",
      "    0. FOLD  (Q-value: -38901.64)\n",
      "    1. CALL 20 (Q-value: 6895236.00)\n",
      "    2. ALL-IN 1 (Q-value: 7127904.50)\n",
      "  Chose: FOLD \n",
      "\n",
      "========================================\n",
      "Showdown:\n",
      "Community cards: [6s, 8h, Qd]\n",
      "Player 0: [Ac, 7d] → High Card\n",
      "Player 1: [9d, 5h] (FOLDED)\n",
      "Player 2: [8s, 7c] (FOLDED)\n",
      "Player 3: [Kd, 4s] → High Card\n",
      "\n",
      "Final chips: [3967, 1, 1, 0]\n",
      "Winners: Players [0]\n",
      "Pot distributed: 21 chips\n",
      "\n",
      "Hand strength analysis:\n",
      "  Player 0: High Card with kickers [14, 12, 8, 7, 6]\n",
      "  Player 3: High Card with kickers [13, 12, 8, 6, 4]\n",
      "\n",
      "========================================\n",
      "Hand 14:\n",
      "Dealer: 3\n",
      "Starting chips: [3957, 0, 1, 0]\n",
      "Player positions:\n",
      "  Player 0: HJ\n",
      "  Player 1: CO\n",
      "  Player 2: BTN\n",
      "  Player 3: UTG\n",
      "\n",
      "Starting hands:\n",
      "  Player 0: [3d, 4s]\n",
      "  Player 1: [As, 5d]\n",
      "  Player 2: [Ah, 8c]\n",
      "  Player 3: [Ac, 4h]\n",
      "\n",
      "====================\n",
      "Pre-flop\n",
      "Pot: 11\n",
      "Current bets: [10, 1, 0, 0]\n",
      "\n",
      "Player 2's turn:\n",
      "  Hand: [Ah, 8c]\n",
      "  Chips: 1\n",
      "  To call: 10\n",
      "  Possible actions:\n",
      "    0. FOLD  (Q-value: 5589789.50)\n",
      "    1. CALL 10 (Q-value: 5217061.00)\n",
      "    2. ALL-IN 1 (Q-value: 10439422.00)\n",
      "  Chose: ALL-IN 1\n",
      "\n",
      "========================================\n",
      "Showdown:\n",
      "Community cards: [6s, Ks, Js]\n",
      "Player 0: [3d, 4s] → High Card\n",
      "Player 1: [As, 5d] → High Card\n",
      "Player 2: [Ah, 8c] → High Card\n",
      "Player 3: [Ac, 4h] → High Card\n",
      "\n",
      "Final chips: [3957, 0, 12, 0]\n",
      "Winners: Players [2]\n",
      "Pot distributed: 12 chips\n",
      "\n",
      "Hand strength analysis:\n",
      "  Player 0: High Card with kickers [13, 11, 6, 4, 3]\n",
      "  Player 1: High Card with kickers [14, 13, 11, 6, 5]\n",
      "  Player 2: High Card with kickers [14, 13, 11, 8, 6]\n",
      "  Player 3: High Card with kickers [14, 13, 11, 6, 4]\n",
      "\n",
      "========================================\n",
      "Hand 15:\n",
      "Dealer: 0\n",
      "Starting chips: [3957, 0, 0, 0]\n",
      "Player positions:\n",
      "  Player 0: UTG\n",
      "  Player 1: HJ\n",
      "  Player 2: CO\n",
      "  Player 3: BTN\n",
      "\n",
      "Starting hands:\n",
      "  Player 0: [Jh, 9s]\n",
      "  Player 1: [5s, 2c]\n",
      "  Player 2: [8h, Qs]\n",
      "  Player 3: [2d, 7d]\n",
      "\n",
      "========================================\n",
      "Showdown:\n",
      "Community cards: []\n",
      "Player 0: [Jh, 9s] → High Card\n",
      "Player 1: [5s, 2c] → High Card\n",
      "Player 2: [8h, Qs] → High Card\n",
      "Player 3: [2d, 7d] → High Card\n",
      "\n",
      "Final chips: [3960, 3, 3, 3]\n",
      "Winners: Players [0, 1, 2, 3]\n",
      "Pot distributed: 12 chips\n",
      "\n",
      "Hand strength analysis:\n",
      "  Player 0: High Card with kickers []\n",
      "  Player 1: High Card with kickers []\n",
      "  Player 2: High Card with kickers []\n",
      "  Player 3: High Card with kickers []\n",
      "\n",
      "========================================\n",
      "Hand 16:\n",
      "Dealer: 1\n",
      "Starting chips: [3960, 3, 0, 0]\n",
      "Player positions:\n",
      "  Player 0: BTN\n",
      "  Player 1: UTG\n",
      "  Player 2: HJ\n",
      "  Player 3: CO\n",
      "\n",
      "Starting hands:\n",
      "  Player 0: [Kd, Ah]\n",
      "  Player 1: [9s, 3h]\n",
      "  Player 2: [2s, 2h]\n",
      "  Player 3: [2d, 8s]\n",
      "\n",
      "====================\n",
      "Pre-flop\n",
      "Pot: 6\n",
      "Current bets: [0, 0, 3, 3]\n",
      "\n",
      "Player 0's turn:\n",
      "  Hand: [Kd, Ah]\n",
      "  Chips: 3960\n",
      "  To call: 3\n",
      "  Possible actions:\n",
      "    0. FOLD  (Q-value: 2.52)\n",
      "    1. CALL 3 (Q-value: 3.75)\n",
      "    2. RAISE 23 (Q-value: 3.45)\n",
      "    3. ALL-IN 3960 (Q-value: 5.60)\n",
      "  Chose: RAISE 23\n",
      "  Raise amount: 23 (min raise was 23\n",
      "\n",
      "Player 1's turn:\n",
      "  Hand: [9s, 3h]\n",
      "  Chips: 3\n",
      "  To call: 26\n",
      "  Possible actions:\n",
      "    0. FOLD  (Q-value: 483.43)\n",
      "    1. CALL 26 (Q-value: 356.25)\n",
      "    2. ALL-IN 3 (Q-value: 477.43)\n",
      "  Chose: FOLD \n",
      "\n",
      "========================================\n",
      "Showdown:\n",
      "Community cards: [9c, Js, Jc]\n",
      "Player 0: [Kd, Ah] → Pair\n",
      "Player 1: [9s, 3h] (FOLDED)\n",
      "Player 2: [2s, 2h] → Two Pair\n",
      "Player 3: [2d, 8s] → Pair\n",
      "\n",
      "Final chips: [3934, 3, 32, 0]\n",
      "Winners: Players [2]\n",
      "Pot distributed: 32 chips\n",
      "\n",
      "Hand strength analysis:\n",
      "  Player 0: Pair with kickers [11, 14, 13, 9]\n",
      "  Player 2: Two Pair with kickers [11, 2, 9]\n",
      "  Player 3: Pair with kickers [11, 9, 8, 2]\n",
      "\n",
      "========================================\n",
      "Hand 17:\n",
      "Dealer: 2\n",
      "Starting chips: [3914, 3, 32, 0]\n",
      "Player positions:\n",
      "  Player 0: CO\n",
      "  Player 1: BTN\n",
      "  Player 2: UTG\n",
      "  Player 3: HJ\n",
      "\n",
      "Starting hands:\n",
      "  Player 0: [7c, 3s]\n",
      "  Player 1: [4d, Qd]\n",
      "  Player 2: [5s, As]\n",
      "  Player 3: [Kh, Ad]\n",
      "\n",
      "====================\n",
      "Pre-flop\n",
      "Pot: 20\n",
      "Current bets: [20, 0, 0, 0]\n",
      "\n",
      "Player 1's turn:\n",
      "  Hand: [4d, Qd]\n",
      "  Chips: 3\n",
      "  To call: 20\n",
      "  Possible actions:\n",
      "    0. FOLD  (Q-value: 647.70)\n",
      "    1. CALL 20 (Q-value: 308.24)\n",
      "    2. ALL-IN 3 (Q-value: 628.00)\n",
      "  Chose: FOLD \n",
      "\n",
      "Player 2's turn:\n",
      "  Hand: [5s, As]\n",
      "  Chips: 32\n",
      "  To call: 20\n",
      "  Possible actions:\n",
      "    0. FOLD  (Q-value: -137911.52)\n",
      "    1. CALL 20 (Q-value: 6895902.00)\n",
      "    2. ALL-IN 32 (Q-value: 6951910.50)\n",
      "  Chose: CALL 20\n",
      "\n",
      "====================\n",
      "Flop\n",
      "Community cards: [5h, 8h, Jc]\n",
      "Pot: 40\n",
      "Current bets: [0, 0, 0, 0]\n",
      "\n",
      "Player 2's turn:\n",
      "  Hand: [5s, As]\n",
      "  Chips: 12\n",
      "  To call: 0\n",
      "  Possible actions:\n",
      "    0. FOLD  (Q-value: -4279570.50)\n",
      "    1. CHECK  (Q-value: 3764171.25)\n",
      "    2. ALL-IN 12 (Q-value: -9634199.00)\n",
      "  Chose: ALL-IN 12\n",
      "\n",
      "========================================\n",
      "Showdown:\n",
      "Community cards: [5h, 8h, Jc, 2c]\n",
      "Player 0: [7c, 3s] → High Card\n",
      "Player 1: [4d, Qd] (FOLDED)\n",
      "Player 2: [5s, As] → Pair\n",
      "Player 3: [Kh, Ad] → High Card\n",
      "\n",
      "Final chips: [3914, 3, 52, 0]\n",
      "Winners: Players [2]\n",
      "Pot distributed: 52 chips\n",
      "\n",
      "Hand strength analysis:\n",
      "  Player 0: High Card with kickers [11, 8, 7, 5, 3]\n",
      "  Player 2: Pair with kickers [5, 14, 11, 8]\n",
      "  Player 3: High Card with kickers [14, 13, 11, 8, 5]\n",
      "\n",
      "========================================\n",
      "Hand 18:\n",
      "Dealer: 3\n",
      "Starting chips: [3904, 0, 52, 0]\n",
      "Player positions:\n",
      "  Player 0: HJ\n",
      "  Player 1: CO\n",
      "  Player 2: BTN\n",
      "  Player 3: UTG\n",
      "\n",
      "Starting hands:\n",
      "  Player 0: [9s, 2s]\n",
      "  Player 1: [6h, Td]\n",
      "  Player 2: [3s, Tc]\n",
      "  Player 3: [Ks, Ah]\n",
      "\n",
      "====================\n",
      "Pre-flop\n",
      "Pot: 13\n",
      "Current bets: [10, 3, 0, 0]\n",
      "\n",
      "Player 2's turn:\n",
      "  Hand: [3s, Tc]\n",
      "  Chips: 52\n",
      "  To call: 10\n",
      "  Possible actions:\n",
      "    0. FOLD  (Q-value: 5978001.00)\n",
      "    1. CALL 10 (Q-value: 5225054.50)\n",
      "    2. RAISE 30 (Q-value: 11176585.00)\n",
      "    3. ALL-IN 52 (Q-value: 15727367.00)\n",
      "  Chose: RAISE 30\n",
      "  Raise amount: 30 (min raise was 30\n",
      "\n",
      "Player 0's turn:\n",
      "  Hand: [9s, 2s]\n",
      "  Chips: 3904\n",
      "  To call: 30\n",
      "  Possible actions:\n",
      "    0. FOLD  (Q-value: 1.90)\n",
      "    1. CALL 30 (Q-value: 2.14)\n",
      "    2. RAISE 60 (Q-value: 1.43)\n",
      "    3. ALL-IN 3904 (Q-value: 2.20)\n",
      "  Chose: RAISE 60\n",
      "  Raise amount: 60 (min raise was 60\n",
      "\n",
      "Player 2's turn:\n",
      "  Hand: [3s, Tc]\n",
      "  Chips: 12\n",
      "  To call: 60\n",
      "  Possible actions:\n",
      "    0. FOLD  (Q-value: 37044560.00)\n",
      "    1. CALL 60 (Q-value: 8163292.00)\n",
      "    2. ALL-IN 12 (Q-value: 69489048.00)\n",
      "  Chose: CALL 60\n",
      "\n",
      "========================================\n",
      "Showdown:\n",
      "Community cards: [4d, 2c, Jh]\n",
      "Player 0: [9s, 2s] → Pair\n",
      "Player 1: [6h, Td] → High Card\n",
      "Player 2: [3s, Tc] → High Card\n",
      "Player 3: [Ks, Ah] → High Card\n",
      "\n",
      "Final chips: [3969, 0, 0, 0]\n",
      "Winners: Players [0]\n",
      "Pot distributed: 155 chips\n",
      "\n",
      "Hand strength analysis:\n",
      "  Player 0: Pair with kickers [2, 11, 9, 4]\n",
      "  Player 1: High Card with kickers [11, 10, 6, 4, 2]\n",
      "  Player 2: High Card with kickers [11, 10, 4, 3, 2]\n",
      "  Player 3: High Card with kickers [14, 13, 11, 4, 2]\n",
      "\n",
      "========================================\n",
      "Hand 19:\n",
      "Dealer: 0\n",
      "Starting chips: [3969, 0, 0, 0]\n",
      "Player positions:\n",
      "  Player 0: UTG\n",
      "  Player 1: HJ\n",
      "  Player 2: CO\n",
      "  Player 3: BTN\n",
      "\n",
      "Starting hands:\n",
      "  Player 0: [As, 5c]\n",
      "  Player 1: [8s, 6d]\n",
      "  Player 2: [Kc, Kh]\n",
      "  Player 3: [Ad, 5h]\n",
      "\n",
      "========================================\n",
      "Showdown:\n",
      "Community cards: []\n",
      "Player 0: [As, 5c] → High Card\n",
      "Player 1: [8s, 6d] → High Card\n",
      "Player 2: [Kc, Kh] → High Card\n",
      "Player 3: [Ad, 5h] → High Card\n",
      "\n",
      "Final chips: [3969, 0, 0, 0]\n",
      "Winners: Players [0, 1, 2, 3]\n",
      "Pot distributed: 0 chips\n",
      "\n",
      "Hand strength analysis:\n",
      "  Player 0: High Card with kickers []\n",
      "  Player 1: High Card with kickers []\n",
      "  Player 2: High Card with kickers []\n",
      "  Player 3: High Card with kickers []\n",
      "\n",
      "========================================\n",
      "Hand 20:\n",
      "Dealer: 1\n",
      "Starting chips: [3969, 0, 0, 0]\n",
      "Player positions:\n",
      "  Player 0: BTN\n",
      "  Player 1: UTG\n",
      "  Player 2: HJ\n",
      "  Player 3: CO\n",
      "\n",
      "Starting hands:\n",
      "  Player 0: [8d, 3d]\n",
      "  Player 1: [Ts, 2d]\n",
      "  Player 2: [6s, Js]\n",
      "  Player 3: [3h, 3c]\n",
      "\n",
      "========================================\n",
      "Showdown:\n",
      "Community cards: []\n",
      "Player 0: [8d, 3d] → High Card\n",
      "Player 1: [Ts, 2d] → High Card\n",
      "Player 2: [6s, Js] → High Card\n",
      "Player 3: [3h, 3c] → High Card\n",
      "\n",
      "Final chips: [3969, 0, 0, 0]\n",
      "Winners: Players [0, 1, 2, 3]\n",
      "Pot distributed: 0 chips\n",
      "\n",
      "Hand strength analysis:\n",
      "  Player 0: High Card with kickers []\n",
      "  Player 1: High Card with kickers []\n",
      "  Player 2: High Card with kickers []\n",
      "  Player 3: High Card with kickers []\n"
     ]
    }
   ],
   "source": [
    "simulate_game(trained_agents, num_hands=20)"
   ]
  },
  {
   "cell_type": "code",
   "execution_count": null,
   "id": "76f7fb62-4c0e-41c2-a468-22218e450ba6",
   "metadata": {},
   "outputs": [],
   "source": []
  }
 ],
 "metadata": {
  "kernelspec": {
   "display_name": "Python 3 (ipykernel)",
   "language": "python",
   "name": "python3"
  },
  "language_info": {
   "codemirror_mode": {
    "name": "ipython",
    "version": 3
   },
   "file_extension": ".py",
   "mimetype": "text/x-python",
   "name": "python",
   "nbconvert_exporter": "python",
   "pygments_lexer": "ipython3",
   "version": "3.12.7"
  }
 },
 "nbformat": 4,
 "nbformat_minor": 5
}
